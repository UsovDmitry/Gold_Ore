{
 "cells": [
  {
   "cell_type": "markdown",
   "metadata": {
    "toc": true
   },
   "source": [
    "<h1>Содержание<span class=\"tocSkip\"></span></h1>\n",
    "<div class=\"toc\"><ul class=\"toc-item\"><li><span><a href=\"#Подготовка-данных\" data-toc-modified-id=\"Подготовка-данных-1\"><span class=\"toc-item-num\">1&nbsp;&nbsp;</span>Подготовка данных</a></span></li><li><span><a href=\"#Анализ-признаков,-недоступных-в-тестовой-выборке.\" data-toc-modified-id=\"Анализ-признаков,-недоступных-в-тестовой-выборке.-2\"><span class=\"toc-item-num\">2&nbsp;&nbsp;</span>Анализ признаков, недоступных в тестовой выборке.</a></span></li><li><span><a href=\"#Анализ-данных\" data-toc-modified-id=\"Анализ-данных-3\"><span class=\"toc-item-num\">3&nbsp;&nbsp;</span>Анализ данных</a></span><ul class=\"toc-item\"><li><span><a href=\"#Посмотрим-как-меняется-концентрация-металлов-(Au,-Ag,-Pb)-на-различных-этапах-очистки.\" data-toc-modified-id=\"Посмотрим-как-меняется-концентрация-металлов-(Au,-Ag,-Pb)-на-различных-этапах-очистки.-3.1\"><span class=\"toc-item-num\">3.1&nbsp;&nbsp;</span>Посмотрим как меняется концентрация металлов (Au, Ag, Pb) на различных этапах очистки.</a></span></li><li><span><a href=\"#Выводы-кас-но-концетрации-металлов\" data-toc-modified-id=\"Выводы-кас-но-концетрации-металлов-3.2\"><span class=\"toc-item-num\">3.2&nbsp;&nbsp;</span>Выводы кас-но концетрации металлов</a></span></li><li><span><a href=\"#Сравнение-распределения-размеров-гранул-сырья-на-обучающей-и-тестовой-выборках.\" data-toc-modified-id=\"Сравнение-распределения-размеров-гранул-сырья-на-обучающей-и-тестовой-выборках.-3.3\"><span class=\"toc-item-num\">3.3&nbsp;&nbsp;</span>Сравнение распределения размеров гранул сырья на обучающей и тестовой выборках.</a></span></li><li><span><a href=\"#Вывод,-кас-но-размеров-гранул-для-выборок\" data-toc-modified-id=\"Вывод,-кас-но-размеров-гранул-для-выборок-3.4\"><span class=\"toc-item-num\">3.4&nbsp;&nbsp;</span>Вывод, кас-но размеров гранул для выборок</a></span></li><li><span><a href=\"#Исследуем-суммарную-концентрацию-всех-веществ-на-разных-стадиях:-в-сырье,-в-черновом-и-финальном-концентратах.\" data-toc-modified-id=\"Исследуем-суммарную-концентрацию-всех-веществ-на-разных-стадиях:-в-сырье,-в-черновом-и-финальном-концентратах.-3.5\"><span class=\"toc-item-num\">3.5&nbsp;&nbsp;</span>Исследуем суммарную концентрацию всех веществ на разных стадиях: в сырье, в черновом и финальном концентратах.</a></span><ul class=\"toc-item\"><li><span><a href=\"#Тренировочкая-выборка,-поиск-аномалий.\" data-toc-modified-id=\"Тренировочкая-выборка,-поиск-аномалий.-3.5.1\"><span class=\"toc-item-num\">3.5.1&nbsp;&nbsp;</span>Тренировочкая выборка, поиск аномалий.</a></span></li><li><span><a href=\"#Тестовая-выборка,поиск-аномалий\" data-toc-modified-id=\"Тестовая-выборка,поиск-аномалий-3.5.2\"><span class=\"toc-item-num\">3.5.2&nbsp;&nbsp;</span><strong>Тестовая выборка,поиск аномалий</strong></a></span></li><li><span><a href=\"#Вывод-кас-но-данных-по-сум.-концентрации-веществ\" data-toc-modified-id=\"Вывод-кас-но-данных-по-сум.-концентрации-веществ-3.5.3\"><span class=\"toc-item-num\">3.5.3&nbsp;&nbsp;</span>Вывод кас-но данных по сум. концентрации веществ</a></span></li></ul></li></ul></li><li><span><a href=\"#Модель\" data-toc-modified-id=\"Модель-4\"><span class=\"toc-item-num\">4&nbsp;&nbsp;</span>Модель</a></span><ul class=\"toc-item\"><li><span><a href=\"#Функция-для-вычисления-итоговой-sMAPE\" data-toc-modified-id=\"Функция-для-вычисления-итоговой-sMAPE-4.1\"><span class=\"toc-item-num\">4.1&nbsp;&nbsp;</span>Функция для вычисления итоговой sMAPE</a></span></li><li><span><a href=\"#Проведем-прогноз-параметров-на-тестовой-выборке-и-сделаем-расчет-метрики-качества-sMAPE\" data-toc-modified-id=\"Проведем-прогноз-параметров-на-тестовой-выборке-и-сделаем-расчет-метрики-качества-sMAPE-4.2\"><span class=\"toc-item-num\">4.2&nbsp;&nbsp;</span><strong>Проведем прогноз параметров на тестовой выборке и сделаем расчет метрики качества sMAPE</strong></a></span></li></ul></li><li><span><a href=\"#Общий-вывод\" data-toc-modified-id=\"Общий-вывод-5\"><span class=\"toc-item-num\">5&nbsp;&nbsp;</span>Общий вывод</a></span></li><li><span><a href=\"#Чек-лист-готовности-проекта\" data-toc-modified-id=\"Чек-лист-готовности-проекта-6\"><span class=\"toc-item-num\">6&nbsp;&nbsp;</span>Чек-лист готовности проекта</a></span></li></ul></div>"
   ]
  },
  {
   "cell_type": "markdown",
   "metadata": {},
   "source": [
    "# Восстановление золота из руды"
   ]
  },
  {
   "cell_type": "markdown",
   "metadata": {},
   "source": [
    "Подготовьте прототип модели машинного обучения для «Цифры». Компания разрабатывает решения для эффективной работы промышленных предприятий.\n",
    "\n",
    "Модель должна предсказать коэффициент восстановления золота из золотосодержащей руды. Используйте данные с параметрами добычи и очистки. \n",
    "\n",
    "Модель поможет оптимизировать производство, чтобы не запускать предприятие с убыточными характеристиками.\n",
    "\n",
    "Вам нужно:\n",
    "\n",
    "1. Подготовить данные;\n",
    "2. Провести исследовательский анализ данных;\n",
    "3. Построить и обучить модель.\n",
    "\n",
    "Чтобы выполнить проект, обращайтесь к библиотекам *pandas*, *matplotlib* и *sklearn.* Вам поможет их документация."
   ]
  },
  {
   "cell_type": "markdown",
   "metadata": {},
   "source": [
    "## Подготовка данных"
   ]
  },
  {
   "cell_type": "code",
   "execution_count": 1,
   "metadata": {},
   "outputs": [],
   "source": [
    "import pandas as pd\n",
    "import numpy as np\n",
    "import seaborn as sns\n",
    "import matplotlib.pyplot as plt\n",
    "\n",
    "from sklearn.metrics import mean_absolute_error,accuracy_score,mean_absolute_error, make_scorer\n",
    "from sklearn.impute import KNNImputer\n",
    "from sklearn.linear_model import LinearRegression\n",
    "from sklearn.model_selection import train_test_split,cross_val_score,GridSearchCV\n",
    "from sklearn.ensemble import RandomForestRegressor,RandomForestClassifier\n",
    "from sklearn.tree import DecisionTreeRegressor,DecisionTreeClassifier\n",
    "from sklearn.svm import SVC\n",
    "from sklearn.neighbors import KNeighborsClassifier\n",
    "from sklearn.naive_bayes import GaussianNB"
   ]
  },
  {
   "cell_type": "code",
   "execution_count": 2,
   "metadata": {},
   "outputs": [],
   "source": [
    "df_train = pd.read_csv('/datasets/gold_recovery_train_new.csv')\n",
    "df_test = pd.read_csv('/datasets/gold_recovery_test_new.csv')\n",
    "df_full = pd.read_csv('/datasets/gold_recovery_full_new.csv')"
   ]
  },
  {
   "cell_type": "code",
   "execution_count": 3,
   "metadata": {
    "scrolled": false
   },
   "outputs": [
    {
     "name": "stdout",
     "output_type": "stream",
     "text": [
      "Размерность первоначальной выборки: (19439, 87) \n",
      "Размерность обучающей выборки: (14149, 87) \n",
      "Размерность тестовой выборки: (5290, 53)\n"
     ]
    },
    {
     "data": {
      "text/html": [
       "<div>\n",
       "<style scoped>\n",
       "    .dataframe tbody tr th:only-of-type {\n",
       "        vertical-align: middle;\n",
       "    }\n",
       "\n",
       "    .dataframe tbody tr th {\n",
       "        vertical-align: top;\n",
       "    }\n",
       "\n",
       "    .dataframe thead th {\n",
       "        text-align: right;\n",
       "    }\n",
       "</style>\n",
       "<table border=\"1\" class=\"dataframe\">\n",
       "  <thead>\n",
       "    <tr style=\"text-align: right;\">\n",
       "      <th></th>\n",
       "      <th>date</th>\n",
       "      <th>final.output.concentrate_ag</th>\n",
       "      <th>final.output.concentrate_pb</th>\n",
       "      <th>final.output.concentrate_sol</th>\n",
       "      <th>final.output.concentrate_au</th>\n",
       "      <th>final.output.recovery</th>\n",
       "      <th>final.output.tail_ag</th>\n",
       "      <th>final.output.tail_pb</th>\n",
       "      <th>final.output.tail_sol</th>\n",
       "      <th>final.output.tail_au</th>\n",
       "      <th>primary_cleaner.input.sulfate</th>\n",
       "      <th>primary_cleaner.input.depressant</th>\n",
       "      <th>primary_cleaner.input.feed_size</th>\n",
       "      <th>primary_cleaner.input.xanthate</th>\n",
       "      <th>primary_cleaner.output.concentrate_ag</th>\n",
       "      <th>primary_cleaner.output.concentrate_pb</th>\n",
       "      <th>primary_cleaner.output.concentrate_sol</th>\n",
       "      <th>primary_cleaner.output.concentrate_au</th>\n",
       "      <th>primary_cleaner.output.tail_ag</th>\n",
       "      <th>primary_cleaner.output.tail_pb</th>\n",
       "      <th>primary_cleaner.output.tail_sol</th>\n",
       "      <th>primary_cleaner.output.tail_au</th>\n",
       "      <th>primary_cleaner.state.floatbank8_a_air</th>\n",
       "      <th>primary_cleaner.state.floatbank8_a_level</th>\n",
       "      <th>primary_cleaner.state.floatbank8_b_air</th>\n",
       "      <th>primary_cleaner.state.floatbank8_b_level</th>\n",
       "      <th>primary_cleaner.state.floatbank8_c_air</th>\n",
       "      <th>primary_cleaner.state.floatbank8_c_level</th>\n",
       "      <th>primary_cleaner.state.floatbank8_d_air</th>\n",
       "      <th>primary_cleaner.state.floatbank8_d_level</th>\n",
       "      <th>rougher.calculation.sulfate_to_au_concentrate</th>\n",
       "      <th>rougher.calculation.floatbank10_sulfate_to_au_feed</th>\n",
       "      <th>rougher.calculation.floatbank11_sulfate_to_au_feed</th>\n",
       "      <th>rougher.calculation.au_pb_ratio</th>\n",
       "      <th>rougher.input.feed_ag</th>\n",
       "      <th>rougher.input.feed_pb</th>\n",
       "      <th>rougher.input.feed_rate</th>\n",
       "      <th>rougher.input.feed_size</th>\n",
       "      <th>rougher.input.feed_sol</th>\n",
       "      <th>rougher.input.feed_au</th>\n",
       "      <th>rougher.input.floatbank10_sulfate</th>\n",
       "      <th>rougher.input.floatbank10_xanthate</th>\n",
       "      <th>rougher.input.floatbank11_sulfate</th>\n",
       "      <th>rougher.input.floatbank11_xanthate</th>\n",
       "      <th>rougher.output.concentrate_ag</th>\n",
       "      <th>rougher.output.concentrate_pb</th>\n",
       "      <th>rougher.output.concentrate_sol</th>\n",
       "      <th>rougher.output.concentrate_au</th>\n",
       "      <th>rougher.output.recovery</th>\n",
       "      <th>rougher.output.tail_ag</th>\n",
       "      <th>rougher.output.tail_pb</th>\n",
       "      <th>rougher.output.tail_sol</th>\n",
       "      <th>rougher.output.tail_au</th>\n",
       "      <th>rougher.state.floatbank10_a_air</th>\n",
       "      <th>rougher.state.floatbank10_a_level</th>\n",
       "      <th>rougher.state.floatbank10_b_air</th>\n",
       "      <th>rougher.state.floatbank10_b_level</th>\n",
       "      <th>rougher.state.floatbank10_c_air</th>\n",
       "      <th>rougher.state.floatbank10_c_level</th>\n",
       "      <th>rougher.state.floatbank10_d_air</th>\n",
       "      <th>rougher.state.floatbank10_d_level</th>\n",
       "      <th>rougher.state.floatbank10_e_air</th>\n",
       "      <th>rougher.state.floatbank10_e_level</th>\n",
       "      <th>rougher.state.floatbank10_f_air</th>\n",
       "      <th>rougher.state.floatbank10_f_level</th>\n",
       "      <th>secondary_cleaner.output.tail_ag</th>\n",
       "      <th>secondary_cleaner.output.tail_pb</th>\n",
       "      <th>secondary_cleaner.output.tail_sol</th>\n",
       "      <th>secondary_cleaner.output.tail_au</th>\n",
       "      <th>secondary_cleaner.state.floatbank2_a_air</th>\n",
       "      <th>secondary_cleaner.state.floatbank2_a_level</th>\n",
       "      <th>secondary_cleaner.state.floatbank2_b_air</th>\n",
       "      <th>secondary_cleaner.state.floatbank2_b_level</th>\n",
       "      <th>secondary_cleaner.state.floatbank3_a_air</th>\n",
       "      <th>secondary_cleaner.state.floatbank3_a_level</th>\n",
       "      <th>secondary_cleaner.state.floatbank3_b_air</th>\n",
       "      <th>secondary_cleaner.state.floatbank3_b_level</th>\n",
       "      <th>secondary_cleaner.state.floatbank4_a_air</th>\n",
       "      <th>secondary_cleaner.state.floatbank4_a_level</th>\n",
       "      <th>secondary_cleaner.state.floatbank4_b_air</th>\n",
       "      <th>secondary_cleaner.state.floatbank4_b_level</th>\n",
       "      <th>secondary_cleaner.state.floatbank5_a_air</th>\n",
       "      <th>secondary_cleaner.state.floatbank5_a_level</th>\n",
       "      <th>secondary_cleaner.state.floatbank5_b_air</th>\n",
       "      <th>secondary_cleaner.state.floatbank5_b_level</th>\n",
       "      <th>secondary_cleaner.state.floatbank6_a_air</th>\n",
       "      <th>secondary_cleaner.state.floatbank6_a_level</th>\n",
       "    </tr>\n",
       "  </thead>\n",
       "  <tbody>\n",
       "    <tr>\n",
       "      <th>0</th>\n",
       "      <td>2016-01-15 00:00:00</td>\n",
       "      <td>6.055403</td>\n",
       "      <td>9.889648</td>\n",
       "      <td>5.507324</td>\n",
       "      <td>42.192020</td>\n",
       "      <td>70.541216</td>\n",
       "      <td>10.411962</td>\n",
       "      <td>0.895447</td>\n",
       "      <td>16.904297</td>\n",
       "      <td>2.143149</td>\n",
       "      <td>127.092003</td>\n",
       "      <td>10.128295</td>\n",
       "      <td>7.25</td>\n",
       "      <td>0.988759</td>\n",
       "      <td>8.547551</td>\n",
       "      <td>10.389648</td>\n",
       "      <td>19.529297</td>\n",
       "      <td>34.174427</td>\n",
       "      <td>14.936526</td>\n",
       "      <td>2.534912</td>\n",
       "      <td>7.476074</td>\n",
       "      <td>2.106679</td>\n",
       "      <td>1549.775757</td>\n",
       "      <td>-498.912140</td>\n",
       "      <td>1551.434204</td>\n",
       "      <td>-516.403442</td>\n",
       "      <td>1549.873901</td>\n",
       "      <td>-498.666595</td>\n",
       "      <td>1554.367432</td>\n",
       "      <td>-493.428131</td>\n",
       "      <td>41885.707031</td>\n",
       "      <td>3481.779053</td>\n",
       "      <td>3520.337158</td>\n",
       "      <td>2.838687</td>\n",
       "      <td>6.100378</td>\n",
       "      <td>2.284912</td>\n",
       "      <td>523.546326</td>\n",
       "      <td>55.486599</td>\n",
       "      <td>36.808594</td>\n",
       "      <td>6.486150</td>\n",
       "      <td>11.986616</td>\n",
       "      <td>6.007990</td>\n",
       "      <td>11.836743</td>\n",
       "      <td>6.005818</td>\n",
       "      <td>11.500771</td>\n",
       "      <td>7.101074</td>\n",
       "      <td>28.029297</td>\n",
       "      <td>19.793808</td>\n",
       "      <td>87.107763</td>\n",
       "      <td>5.008018</td>\n",
       "      <td>0.508728</td>\n",
       "      <td>19.154297</td>\n",
       "      <td>1.170244</td>\n",
       "      <td>999.706909</td>\n",
       "      <td>-404.066986</td>\n",
       "      <td>1603.011353</td>\n",
       "      <td>-434.715027</td>\n",
       "      <td>1602.375000</td>\n",
       "      <td>-442.204468</td>\n",
       "      <td>1598.937256</td>\n",
       "      <td>-451.294128</td>\n",
       "      <td>1404.472046</td>\n",
       "      <td>-455.462982</td>\n",
       "      <td>1416.354980</td>\n",
       "      <td>-451.939636</td>\n",
       "      <td>14.500184</td>\n",
       "      <td>4.694824</td>\n",
       "      <td>8.764648</td>\n",
       "      <td>2.606185</td>\n",
       "      <td>25.853109</td>\n",
       "      <td>-498.526489</td>\n",
       "      <td>23.893660</td>\n",
       "      <td>-501.406281</td>\n",
       "      <td>23.961798</td>\n",
       "      <td>-495.262817</td>\n",
       "      <td>21.940409</td>\n",
       "      <td>-499.340973</td>\n",
       "      <td>14.016835</td>\n",
       "      <td>-502.488007</td>\n",
       "      <td>12.099931</td>\n",
       "      <td>-504.715942</td>\n",
       "      <td>9.925633</td>\n",
       "      <td>-498.310211</td>\n",
       "      <td>8.079666</td>\n",
       "      <td>-500.470978</td>\n",
       "      <td>14.151341</td>\n",
       "      <td>-605.841980</td>\n",
       "    </tr>\n",
       "    <tr>\n",
       "      <th>1</th>\n",
       "      <td>2016-01-15 01:00:00</td>\n",
       "      <td>6.029369</td>\n",
       "      <td>9.968944</td>\n",
       "      <td>5.257781</td>\n",
       "      <td>42.701629</td>\n",
       "      <td>69.266198</td>\n",
       "      <td>10.462676</td>\n",
       "      <td>0.927452</td>\n",
       "      <td>16.634514</td>\n",
       "      <td>2.224930</td>\n",
       "      <td>125.629232</td>\n",
       "      <td>10.296251</td>\n",
       "      <td>7.25</td>\n",
       "      <td>1.002663</td>\n",
       "      <td>8.558743</td>\n",
       "      <td>10.497069</td>\n",
       "      <td>19.369147</td>\n",
       "      <td>34.118526</td>\n",
       "      <td>16.250511</td>\n",
       "      <td>3.049646</td>\n",
       "      <td>6.733907</td>\n",
       "      <td>2.353017</td>\n",
       "      <td>1576.166671</td>\n",
       "      <td>-500.904965</td>\n",
       "      <td>1575.950626</td>\n",
       "      <td>-499.865889</td>\n",
       "      <td>1575.994189</td>\n",
       "      <td>-499.315107</td>\n",
       "      <td>1574.479259</td>\n",
       "      <td>-498.931665</td>\n",
       "      <td>42050.861809</td>\n",
       "      <td>3498.370979</td>\n",
       "      <td>3489.981857</td>\n",
       "      <td>2.858998</td>\n",
       "      <td>6.161113</td>\n",
       "      <td>2.266033</td>\n",
       "      <td>525.290581</td>\n",
       "      <td>57.278666</td>\n",
       "      <td>35.753385</td>\n",
       "      <td>6.478583</td>\n",
       "      <td>11.971193</td>\n",
       "      <td>6.005766</td>\n",
       "      <td>11.996163</td>\n",
       "      <td>6.012594</td>\n",
       "      <td>11.615865</td>\n",
       "      <td>7.278807</td>\n",
       "      <td>28.067063</td>\n",
       "      <td>20.050975</td>\n",
       "      <td>86.843261</td>\n",
       "      <td>4.955378</td>\n",
       "      <td>0.536689</td>\n",
       "      <td>18.965234</td>\n",
       "      <td>1.184827</td>\n",
       "      <td>1000.286398</td>\n",
       "      <td>-400.065196</td>\n",
       "      <td>1600.754587</td>\n",
       "      <td>-449.953435</td>\n",
       "      <td>1600.479580</td>\n",
       "      <td>-449.830646</td>\n",
       "      <td>1600.527589</td>\n",
       "      <td>-449.953649</td>\n",
       "      <td>1399.227084</td>\n",
       "      <td>-450.869848</td>\n",
       "      <td>1399.719514</td>\n",
       "      <td>-450.119001</td>\n",
       "      <td>14.265474</td>\n",
       "      <td>4.592547</td>\n",
       "      <td>9.001494</td>\n",
       "      <td>2.488248</td>\n",
       "      <td>25.880539</td>\n",
       "      <td>-499.989656</td>\n",
       "      <td>23.889530</td>\n",
       "      <td>-500.372428</td>\n",
       "      <td>23.970550</td>\n",
       "      <td>-500.085473</td>\n",
       "      <td>22.085714</td>\n",
       "      <td>-499.446897</td>\n",
       "      <td>13.992281</td>\n",
       "      <td>-505.503262</td>\n",
       "      <td>11.950531</td>\n",
       "      <td>-501.331529</td>\n",
       "      <td>10.039245</td>\n",
       "      <td>-500.169983</td>\n",
       "      <td>7.984757</td>\n",
       "      <td>-500.582168</td>\n",
       "      <td>13.998353</td>\n",
       "      <td>-599.787184</td>\n",
       "    </tr>\n",
       "    <tr>\n",
       "      <th>2</th>\n",
       "      <td>2016-01-15 02:00:00</td>\n",
       "      <td>6.055926</td>\n",
       "      <td>10.213995</td>\n",
       "      <td>5.383759</td>\n",
       "      <td>42.657501</td>\n",
       "      <td>68.116445</td>\n",
       "      <td>10.507046</td>\n",
       "      <td>0.953716</td>\n",
       "      <td>16.208849</td>\n",
       "      <td>2.257889</td>\n",
       "      <td>123.819808</td>\n",
       "      <td>11.316280</td>\n",
       "      <td>7.25</td>\n",
       "      <td>0.991265</td>\n",
       "      <td>8.603505</td>\n",
       "      <td>10.354494</td>\n",
       "      <td>19.167579</td>\n",
       "      <td>33.969464</td>\n",
       "      <td>16.491823</td>\n",
       "      <td>3.124664</td>\n",
       "      <td>6.471768</td>\n",
       "      <td>2.416800</td>\n",
       "      <td>1601.556163</td>\n",
       "      <td>-499.997791</td>\n",
       "      <td>1600.386685</td>\n",
       "      <td>-500.607762</td>\n",
       "      <td>1602.003542</td>\n",
       "      <td>-500.870069</td>\n",
       "      <td>1599.541515</td>\n",
       "      <td>-499.827444</td>\n",
       "      <td>42018.101184</td>\n",
       "      <td>3495.348910</td>\n",
       "      <td>3502.359819</td>\n",
       "      <td>2.945989</td>\n",
       "      <td>6.116455</td>\n",
       "      <td>2.159622</td>\n",
       "      <td>530.026610</td>\n",
       "      <td>57.510649</td>\n",
       "      <td>35.971630</td>\n",
       "      <td>6.362222</td>\n",
       "      <td>11.920603</td>\n",
       "      <td>6.197377</td>\n",
       "      <td>11.920305</td>\n",
       "      <td>6.204633</td>\n",
       "      <td>11.695753</td>\n",
       "      <td>7.216833</td>\n",
       "      <td>27.454037</td>\n",
       "      <td>19.737170</td>\n",
       "      <td>86.842308</td>\n",
       "      <td>4.843460</td>\n",
       "      <td>0.546416</td>\n",
       "      <td>18.808533</td>\n",
       "      <td>1.162562</td>\n",
       "      <td>999.719565</td>\n",
       "      <td>-400.074028</td>\n",
       "      <td>1599.337330</td>\n",
       "      <td>-450.008530</td>\n",
       "      <td>1599.672797</td>\n",
       "      <td>-449.954491</td>\n",
       "      <td>1599.849325</td>\n",
       "      <td>-449.954185</td>\n",
       "      <td>1399.180945</td>\n",
       "      <td>-449.937588</td>\n",
       "      <td>1400.316682</td>\n",
       "      <td>-450.527147</td>\n",
       "      <td>14.115662</td>\n",
       "      <td>4.624775</td>\n",
       "      <td>8.842896</td>\n",
       "      <td>2.458187</td>\n",
       "      <td>26.005245</td>\n",
       "      <td>-499.929616</td>\n",
       "      <td>23.886657</td>\n",
       "      <td>-499.951928</td>\n",
       "      <td>23.913535</td>\n",
       "      <td>-499.442343</td>\n",
       "      <td>23.957717</td>\n",
       "      <td>-499.901982</td>\n",
       "      <td>14.015015</td>\n",
       "      <td>-502.520901</td>\n",
       "      <td>11.912783</td>\n",
       "      <td>-501.133383</td>\n",
       "      <td>10.070913</td>\n",
       "      <td>-500.129135</td>\n",
       "      <td>8.013877</td>\n",
       "      <td>-500.517572</td>\n",
       "      <td>14.028663</td>\n",
       "      <td>-601.427363</td>\n",
       "    </tr>\n",
       "    <tr>\n",
       "      <th>3</th>\n",
       "      <td>2016-01-15 03:00:00</td>\n",
       "      <td>6.047977</td>\n",
       "      <td>9.977019</td>\n",
       "      <td>4.858634</td>\n",
       "      <td>42.689819</td>\n",
       "      <td>68.347543</td>\n",
       "      <td>10.422762</td>\n",
       "      <td>0.883763</td>\n",
       "      <td>16.532835</td>\n",
       "      <td>2.146849</td>\n",
       "      <td>122.270188</td>\n",
       "      <td>11.322140</td>\n",
       "      <td>7.25</td>\n",
       "      <td>0.996739</td>\n",
       "      <td>7.221879</td>\n",
       "      <td>8.496563</td>\n",
       "      <td>15.978538</td>\n",
       "      <td>28.260743</td>\n",
       "      <td>16.024359</td>\n",
       "      <td>2.960362</td>\n",
       "      <td>6.843791</td>\n",
       "      <td>2.262051</td>\n",
       "      <td>1599.968720</td>\n",
       "      <td>-500.951778</td>\n",
       "      <td>1600.659236</td>\n",
       "      <td>-499.677094</td>\n",
       "      <td>1600.304144</td>\n",
       "      <td>-500.727997</td>\n",
       "      <td>1600.449520</td>\n",
       "      <td>-500.052575</td>\n",
       "      <td>42029.447991</td>\n",
       "      <td>3498.578313</td>\n",
       "      <td>3499.162912</td>\n",
       "      <td>3.002340</td>\n",
       "      <td>6.043309</td>\n",
       "      <td>2.037807</td>\n",
       "      <td>542.590390</td>\n",
       "      <td>57.792734</td>\n",
       "      <td>36.862241</td>\n",
       "      <td>6.118189</td>\n",
       "      <td>11.630094</td>\n",
       "      <td>6.203177</td>\n",
       "      <td>11.692450</td>\n",
       "      <td>6.196578</td>\n",
       "      <td>11.915047</td>\n",
       "      <td>7.175616</td>\n",
       "      <td>27.341277</td>\n",
       "      <td>19.320810</td>\n",
       "      <td>87.226430</td>\n",
       "      <td>4.655288</td>\n",
       "      <td>0.542525</td>\n",
       "      <td>19.330200</td>\n",
       "      <td>1.079755</td>\n",
       "      <td>999.814770</td>\n",
       "      <td>-400.200179</td>\n",
       "      <td>1600.059442</td>\n",
       "      <td>-450.619948</td>\n",
       "      <td>1600.012842</td>\n",
       "      <td>-449.910497</td>\n",
       "      <td>1597.725177</td>\n",
       "      <td>-450.130127</td>\n",
       "      <td>1400.943157</td>\n",
       "      <td>-450.030142</td>\n",
       "      <td>1400.234743</td>\n",
       "      <td>-449.790835</td>\n",
       "      <td>13.732071</td>\n",
       "      <td>4.482453</td>\n",
       "      <td>9.122857</td>\n",
       "      <td>2.322062</td>\n",
       "      <td>25.942508</td>\n",
       "      <td>-499.176749</td>\n",
       "      <td>23.955516</td>\n",
       "      <td>-499.848796</td>\n",
       "      <td>23.966838</td>\n",
       "      <td>-500.008812</td>\n",
       "      <td>23.954443</td>\n",
       "      <td>-499.944710</td>\n",
       "      <td>14.036510</td>\n",
       "      <td>-500.857308</td>\n",
       "      <td>11.999550</td>\n",
       "      <td>-501.193686</td>\n",
       "      <td>9.970366</td>\n",
       "      <td>-499.201640</td>\n",
       "      <td>7.977324</td>\n",
       "      <td>-500.255908</td>\n",
       "      <td>14.005551</td>\n",
       "      <td>-599.996129</td>\n",
       "    </tr>\n",
       "    <tr>\n",
       "      <th>4</th>\n",
       "      <td>2016-01-15 04:00:00</td>\n",
       "      <td>6.148599</td>\n",
       "      <td>10.142511</td>\n",
       "      <td>4.939416</td>\n",
       "      <td>42.774141</td>\n",
       "      <td>66.927016</td>\n",
       "      <td>10.360302</td>\n",
       "      <td>0.792826</td>\n",
       "      <td>16.525686</td>\n",
       "      <td>2.055292</td>\n",
       "      <td>117.988169</td>\n",
       "      <td>11.913613</td>\n",
       "      <td>7.25</td>\n",
       "      <td>1.009869</td>\n",
       "      <td>9.089428</td>\n",
       "      <td>9.986786</td>\n",
       "      <td>19.199864</td>\n",
       "      <td>33.044932</td>\n",
       "      <td>16.480185</td>\n",
       "      <td>3.112100</td>\n",
       "      <td>6.550154</td>\n",
       "      <td>2.277073</td>\n",
       "      <td>1601.339707</td>\n",
       "      <td>-498.975456</td>\n",
       "      <td>1601.437854</td>\n",
       "      <td>-500.323246</td>\n",
       "      <td>1599.581894</td>\n",
       "      <td>-500.888152</td>\n",
       "      <td>1602.649541</td>\n",
       "      <td>-500.593010</td>\n",
       "      <td>42125.354245</td>\n",
       "      <td>3494.800771</td>\n",
       "      <td>3506.679315</td>\n",
       "      <td>3.169615</td>\n",
       "      <td>6.060915</td>\n",
       "      <td>1.786875</td>\n",
       "      <td>540.531893</td>\n",
       "      <td>56.047189</td>\n",
       "      <td>34.347666</td>\n",
       "      <td>5.663707</td>\n",
       "      <td>10.957755</td>\n",
       "      <td>6.198826</td>\n",
       "      <td>10.960521</td>\n",
       "      <td>6.194897</td>\n",
       "      <td>12.411054</td>\n",
       "      <td>7.240205</td>\n",
       "      <td>27.041023</td>\n",
       "      <td>19.216101</td>\n",
       "      <td>86.688794</td>\n",
       "      <td>4.552800</td>\n",
       "      <td>0.515438</td>\n",
       "      <td>19.267422</td>\n",
       "      <td>1.012642</td>\n",
       "      <td>999.678690</td>\n",
       "      <td>-399.752729</td>\n",
       "      <td>1600.208824</td>\n",
       "      <td>-449.599614</td>\n",
       "      <td>1600.357732</td>\n",
       "      <td>-450.034364</td>\n",
       "      <td>1599.759049</td>\n",
       "      <td>-449.909799</td>\n",
       "      <td>1401.560902</td>\n",
       "      <td>-448.877187</td>\n",
       "      <td>1401.160227</td>\n",
       "      <td>-450.407128</td>\n",
       "      <td>14.079996</td>\n",
       "      <td>4.470737</td>\n",
       "      <td>8.871028</td>\n",
       "      <td>2.330448</td>\n",
       "      <td>26.024787</td>\n",
       "      <td>-500.279091</td>\n",
       "      <td>23.955345</td>\n",
       "      <td>-500.593614</td>\n",
       "      <td>23.985703</td>\n",
       "      <td>-500.083811</td>\n",
       "      <td>23.958945</td>\n",
       "      <td>-499.990309</td>\n",
       "      <td>14.027298</td>\n",
       "      <td>-499.838632</td>\n",
       "      <td>11.953070</td>\n",
       "      <td>-501.053894</td>\n",
       "      <td>9.925709</td>\n",
       "      <td>-501.686727</td>\n",
       "      <td>7.894242</td>\n",
       "      <td>-500.356035</td>\n",
       "      <td>13.996647</td>\n",
       "      <td>-601.496691</td>\n",
       "    </tr>\n",
       "  </tbody>\n",
       "</table>\n",
       "</div>"
      ],
      "text/plain": [
       "                  date  final.output.concentrate_ag  \\\n",
       "0  2016-01-15 00:00:00                     6.055403   \n",
       "1  2016-01-15 01:00:00                     6.029369   \n",
       "2  2016-01-15 02:00:00                     6.055926   \n",
       "3  2016-01-15 03:00:00                     6.047977   \n",
       "4  2016-01-15 04:00:00                     6.148599   \n",
       "\n",
       "   final.output.concentrate_pb  final.output.concentrate_sol  \\\n",
       "0                     9.889648                      5.507324   \n",
       "1                     9.968944                      5.257781   \n",
       "2                    10.213995                      5.383759   \n",
       "3                     9.977019                      4.858634   \n",
       "4                    10.142511                      4.939416   \n",
       "\n",
       "   final.output.concentrate_au  final.output.recovery  final.output.tail_ag  \\\n",
       "0                    42.192020              70.541216             10.411962   \n",
       "1                    42.701629              69.266198             10.462676   \n",
       "2                    42.657501              68.116445             10.507046   \n",
       "3                    42.689819              68.347543             10.422762   \n",
       "4                    42.774141              66.927016             10.360302   \n",
       "\n",
       "   final.output.tail_pb  final.output.tail_sol  final.output.tail_au  \\\n",
       "0              0.895447              16.904297              2.143149   \n",
       "1              0.927452              16.634514              2.224930   \n",
       "2              0.953716              16.208849              2.257889   \n",
       "3              0.883763              16.532835              2.146849   \n",
       "4              0.792826              16.525686              2.055292   \n",
       "\n",
       "   primary_cleaner.input.sulfate  primary_cleaner.input.depressant  \\\n",
       "0                     127.092003                         10.128295   \n",
       "1                     125.629232                         10.296251   \n",
       "2                     123.819808                         11.316280   \n",
       "3                     122.270188                         11.322140   \n",
       "4                     117.988169                         11.913613   \n",
       "\n",
       "   primary_cleaner.input.feed_size  primary_cleaner.input.xanthate  \\\n",
       "0                             7.25                        0.988759   \n",
       "1                             7.25                        1.002663   \n",
       "2                             7.25                        0.991265   \n",
       "3                             7.25                        0.996739   \n",
       "4                             7.25                        1.009869   \n",
       "\n",
       "   primary_cleaner.output.concentrate_ag  \\\n",
       "0                               8.547551   \n",
       "1                               8.558743   \n",
       "2                               8.603505   \n",
       "3                               7.221879   \n",
       "4                               9.089428   \n",
       "\n",
       "   primary_cleaner.output.concentrate_pb  \\\n",
       "0                              10.389648   \n",
       "1                              10.497069   \n",
       "2                              10.354494   \n",
       "3                               8.496563   \n",
       "4                               9.986786   \n",
       "\n",
       "   primary_cleaner.output.concentrate_sol  \\\n",
       "0                               19.529297   \n",
       "1                               19.369147   \n",
       "2                               19.167579   \n",
       "3                               15.978538   \n",
       "4                               19.199864   \n",
       "\n",
       "   primary_cleaner.output.concentrate_au  primary_cleaner.output.tail_ag  \\\n",
       "0                              34.174427                       14.936526   \n",
       "1                              34.118526                       16.250511   \n",
       "2                              33.969464                       16.491823   \n",
       "3                              28.260743                       16.024359   \n",
       "4                              33.044932                       16.480185   \n",
       "\n",
       "   primary_cleaner.output.tail_pb  primary_cleaner.output.tail_sol  \\\n",
       "0                        2.534912                         7.476074   \n",
       "1                        3.049646                         6.733907   \n",
       "2                        3.124664                         6.471768   \n",
       "3                        2.960362                         6.843791   \n",
       "4                        3.112100                         6.550154   \n",
       "\n",
       "   primary_cleaner.output.tail_au  primary_cleaner.state.floatbank8_a_air  \\\n",
       "0                        2.106679                             1549.775757   \n",
       "1                        2.353017                             1576.166671   \n",
       "2                        2.416800                             1601.556163   \n",
       "3                        2.262051                             1599.968720   \n",
       "4                        2.277073                             1601.339707   \n",
       "\n",
       "   primary_cleaner.state.floatbank8_a_level  \\\n",
       "0                               -498.912140   \n",
       "1                               -500.904965   \n",
       "2                               -499.997791   \n",
       "3                               -500.951778   \n",
       "4                               -498.975456   \n",
       "\n",
       "   primary_cleaner.state.floatbank8_b_air  \\\n",
       "0                             1551.434204   \n",
       "1                             1575.950626   \n",
       "2                             1600.386685   \n",
       "3                             1600.659236   \n",
       "4                             1601.437854   \n",
       "\n",
       "   primary_cleaner.state.floatbank8_b_level  \\\n",
       "0                               -516.403442   \n",
       "1                               -499.865889   \n",
       "2                               -500.607762   \n",
       "3                               -499.677094   \n",
       "4                               -500.323246   \n",
       "\n",
       "   primary_cleaner.state.floatbank8_c_air  \\\n",
       "0                             1549.873901   \n",
       "1                             1575.994189   \n",
       "2                             1602.003542   \n",
       "3                             1600.304144   \n",
       "4                             1599.581894   \n",
       "\n",
       "   primary_cleaner.state.floatbank8_c_level  \\\n",
       "0                               -498.666595   \n",
       "1                               -499.315107   \n",
       "2                               -500.870069   \n",
       "3                               -500.727997   \n",
       "4                               -500.888152   \n",
       "\n",
       "   primary_cleaner.state.floatbank8_d_air  \\\n",
       "0                             1554.367432   \n",
       "1                             1574.479259   \n",
       "2                             1599.541515   \n",
       "3                             1600.449520   \n",
       "4                             1602.649541   \n",
       "\n",
       "   primary_cleaner.state.floatbank8_d_level  \\\n",
       "0                               -493.428131   \n",
       "1                               -498.931665   \n",
       "2                               -499.827444   \n",
       "3                               -500.052575   \n",
       "4                               -500.593010   \n",
       "\n",
       "   rougher.calculation.sulfate_to_au_concentrate  \\\n",
       "0                                   41885.707031   \n",
       "1                                   42050.861809   \n",
       "2                                   42018.101184   \n",
       "3                                   42029.447991   \n",
       "4                                   42125.354245   \n",
       "\n",
       "   rougher.calculation.floatbank10_sulfate_to_au_feed  \\\n",
       "0                                        3481.779053    \n",
       "1                                        3498.370979    \n",
       "2                                        3495.348910    \n",
       "3                                        3498.578313    \n",
       "4                                        3494.800771    \n",
       "\n",
       "   rougher.calculation.floatbank11_sulfate_to_au_feed  \\\n",
       "0                                        3520.337158    \n",
       "1                                        3489.981857    \n",
       "2                                        3502.359819    \n",
       "3                                        3499.162912    \n",
       "4                                        3506.679315    \n",
       "\n",
       "   rougher.calculation.au_pb_ratio  rougher.input.feed_ag  \\\n",
       "0                         2.838687               6.100378   \n",
       "1                         2.858998               6.161113   \n",
       "2                         2.945989               6.116455   \n",
       "3                         3.002340               6.043309   \n",
       "4                         3.169615               6.060915   \n",
       "\n",
       "   rougher.input.feed_pb  rougher.input.feed_rate  rougher.input.feed_size  \\\n",
       "0               2.284912               523.546326                55.486599   \n",
       "1               2.266033               525.290581                57.278666   \n",
       "2               2.159622               530.026610                57.510649   \n",
       "3               2.037807               542.590390                57.792734   \n",
       "4               1.786875               540.531893                56.047189   \n",
       "\n",
       "   rougher.input.feed_sol  rougher.input.feed_au  \\\n",
       "0               36.808594               6.486150   \n",
       "1               35.753385               6.478583   \n",
       "2               35.971630               6.362222   \n",
       "3               36.862241               6.118189   \n",
       "4               34.347666               5.663707   \n",
       "\n",
       "   rougher.input.floatbank10_sulfate  rougher.input.floatbank10_xanthate  \\\n",
       "0                          11.986616                            6.007990   \n",
       "1                          11.971193                            6.005766   \n",
       "2                          11.920603                            6.197377   \n",
       "3                          11.630094                            6.203177   \n",
       "4                          10.957755                            6.198826   \n",
       "\n",
       "   rougher.input.floatbank11_sulfate  rougher.input.floatbank11_xanthate  \\\n",
       "0                          11.836743                            6.005818   \n",
       "1                          11.996163                            6.012594   \n",
       "2                          11.920305                            6.204633   \n",
       "3                          11.692450                            6.196578   \n",
       "4                          10.960521                            6.194897   \n",
       "\n",
       "   rougher.output.concentrate_ag  rougher.output.concentrate_pb  \\\n",
       "0                      11.500771                       7.101074   \n",
       "1                      11.615865                       7.278807   \n",
       "2                      11.695753                       7.216833   \n",
       "3                      11.915047                       7.175616   \n",
       "4                      12.411054                       7.240205   \n",
       "\n",
       "   rougher.output.concentrate_sol  rougher.output.concentrate_au  \\\n",
       "0                       28.029297                      19.793808   \n",
       "1                       28.067063                      20.050975   \n",
       "2                       27.454037                      19.737170   \n",
       "3                       27.341277                      19.320810   \n",
       "4                       27.041023                      19.216101   \n",
       "\n",
       "   rougher.output.recovery  rougher.output.tail_ag  rougher.output.tail_pb  \\\n",
       "0                87.107763                5.008018                0.508728   \n",
       "1                86.843261                4.955378                0.536689   \n",
       "2                86.842308                4.843460                0.546416   \n",
       "3                87.226430                4.655288                0.542525   \n",
       "4                86.688794                4.552800                0.515438   \n",
       "\n",
       "   rougher.output.tail_sol  rougher.output.tail_au  \\\n",
       "0                19.154297                1.170244   \n",
       "1                18.965234                1.184827   \n",
       "2                18.808533                1.162562   \n",
       "3                19.330200                1.079755   \n",
       "4                19.267422                1.012642   \n",
       "\n",
       "   rougher.state.floatbank10_a_air  rougher.state.floatbank10_a_level  \\\n",
       "0                       999.706909                        -404.066986   \n",
       "1                      1000.286398                        -400.065196   \n",
       "2                       999.719565                        -400.074028   \n",
       "3                       999.814770                        -400.200179   \n",
       "4                       999.678690                        -399.752729   \n",
       "\n",
       "   rougher.state.floatbank10_b_air  rougher.state.floatbank10_b_level  \\\n",
       "0                      1603.011353                        -434.715027   \n",
       "1                      1600.754587                        -449.953435   \n",
       "2                      1599.337330                        -450.008530   \n",
       "3                      1600.059442                        -450.619948   \n",
       "4                      1600.208824                        -449.599614   \n",
       "\n",
       "   rougher.state.floatbank10_c_air  rougher.state.floatbank10_c_level  \\\n",
       "0                      1602.375000                        -442.204468   \n",
       "1                      1600.479580                        -449.830646   \n",
       "2                      1599.672797                        -449.954491   \n",
       "3                      1600.012842                        -449.910497   \n",
       "4                      1600.357732                        -450.034364   \n",
       "\n",
       "   rougher.state.floatbank10_d_air  rougher.state.floatbank10_d_level  \\\n",
       "0                      1598.937256                        -451.294128   \n",
       "1                      1600.527589                        -449.953649   \n",
       "2                      1599.849325                        -449.954185   \n",
       "3                      1597.725177                        -450.130127   \n",
       "4                      1599.759049                        -449.909799   \n",
       "\n",
       "   rougher.state.floatbank10_e_air  rougher.state.floatbank10_e_level  \\\n",
       "0                      1404.472046                        -455.462982   \n",
       "1                      1399.227084                        -450.869848   \n",
       "2                      1399.180945                        -449.937588   \n",
       "3                      1400.943157                        -450.030142   \n",
       "4                      1401.560902                        -448.877187   \n",
       "\n",
       "   rougher.state.floatbank10_f_air  rougher.state.floatbank10_f_level  \\\n",
       "0                      1416.354980                        -451.939636   \n",
       "1                      1399.719514                        -450.119001   \n",
       "2                      1400.316682                        -450.527147   \n",
       "3                      1400.234743                        -449.790835   \n",
       "4                      1401.160227                        -450.407128   \n",
       "\n",
       "   secondary_cleaner.output.tail_ag  secondary_cleaner.output.tail_pb  \\\n",
       "0                         14.500184                          4.694824   \n",
       "1                         14.265474                          4.592547   \n",
       "2                         14.115662                          4.624775   \n",
       "3                         13.732071                          4.482453   \n",
       "4                         14.079996                          4.470737   \n",
       "\n",
       "   secondary_cleaner.output.tail_sol  secondary_cleaner.output.tail_au  \\\n",
       "0                           8.764648                          2.606185   \n",
       "1                           9.001494                          2.488248   \n",
       "2                           8.842896                          2.458187   \n",
       "3                           9.122857                          2.322062   \n",
       "4                           8.871028                          2.330448   \n",
       "\n",
       "   secondary_cleaner.state.floatbank2_a_air  \\\n",
       "0                                 25.853109   \n",
       "1                                 25.880539   \n",
       "2                                 26.005245   \n",
       "3                                 25.942508   \n",
       "4                                 26.024787   \n",
       "\n",
       "   secondary_cleaner.state.floatbank2_a_level  \\\n",
       "0                                 -498.526489   \n",
       "1                                 -499.989656   \n",
       "2                                 -499.929616   \n",
       "3                                 -499.176749   \n",
       "4                                 -500.279091   \n",
       "\n",
       "   secondary_cleaner.state.floatbank2_b_air  \\\n",
       "0                                 23.893660   \n",
       "1                                 23.889530   \n",
       "2                                 23.886657   \n",
       "3                                 23.955516   \n",
       "4                                 23.955345   \n",
       "\n",
       "   secondary_cleaner.state.floatbank2_b_level  \\\n",
       "0                                 -501.406281   \n",
       "1                                 -500.372428   \n",
       "2                                 -499.951928   \n",
       "3                                 -499.848796   \n",
       "4                                 -500.593614   \n",
       "\n",
       "   secondary_cleaner.state.floatbank3_a_air  \\\n",
       "0                                 23.961798   \n",
       "1                                 23.970550   \n",
       "2                                 23.913535   \n",
       "3                                 23.966838   \n",
       "4                                 23.985703   \n",
       "\n",
       "   secondary_cleaner.state.floatbank3_a_level  \\\n",
       "0                                 -495.262817   \n",
       "1                                 -500.085473   \n",
       "2                                 -499.442343   \n",
       "3                                 -500.008812   \n",
       "4                                 -500.083811   \n",
       "\n",
       "   secondary_cleaner.state.floatbank3_b_air  \\\n",
       "0                                 21.940409   \n",
       "1                                 22.085714   \n",
       "2                                 23.957717   \n",
       "3                                 23.954443   \n",
       "4                                 23.958945   \n",
       "\n",
       "   secondary_cleaner.state.floatbank3_b_level  \\\n",
       "0                                 -499.340973   \n",
       "1                                 -499.446897   \n",
       "2                                 -499.901982   \n",
       "3                                 -499.944710   \n",
       "4                                 -499.990309   \n",
       "\n",
       "   secondary_cleaner.state.floatbank4_a_air  \\\n",
       "0                                 14.016835   \n",
       "1                                 13.992281   \n",
       "2                                 14.015015   \n",
       "3                                 14.036510   \n",
       "4                                 14.027298   \n",
       "\n",
       "   secondary_cleaner.state.floatbank4_a_level  \\\n",
       "0                                 -502.488007   \n",
       "1                                 -505.503262   \n",
       "2                                 -502.520901   \n",
       "3                                 -500.857308   \n",
       "4                                 -499.838632   \n",
       "\n",
       "   secondary_cleaner.state.floatbank4_b_air  \\\n",
       "0                                 12.099931   \n",
       "1                                 11.950531   \n",
       "2                                 11.912783   \n",
       "3                                 11.999550   \n",
       "4                                 11.953070   \n",
       "\n",
       "   secondary_cleaner.state.floatbank4_b_level  \\\n",
       "0                                 -504.715942   \n",
       "1                                 -501.331529   \n",
       "2                                 -501.133383   \n",
       "3                                 -501.193686   \n",
       "4                                 -501.053894   \n",
       "\n",
       "   secondary_cleaner.state.floatbank5_a_air  \\\n",
       "0                                  9.925633   \n",
       "1                                 10.039245   \n",
       "2                                 10.070913   \n",
       "3                                  9.970366   \n",
       "4                                  9.925709   \n",
       "\n",
       "   secondary_cleaner.state.floatbank5_a_level  \\\n",
       "0                                 -498.310211   \n",
       "1                                 -500.169983   \n",
       "2                                 -500.129135   \n",
       "3                                 -499.201640   \n",
       "4                                 -501.686727   \n",
       "\n",
       "   secondary_cleaner.state.floatbank5_b_air  \\\n",
       "0                                  8.079666   \n",
       "1                                  7.984757   \n",
       "2                                  8.013877   \n",
       "3                                  7.977324   \n",
       "4                                  7.894242   \n",
       "\n",
       "   secondary_cleaner.state.floatbank5_b_level  \\\n",
       "0                                 -500.470978   \n",
       "1                                 -500.582168   \n",
       "2                                 -500.517572   \n",
       "3                                 -500.255908   \n",
       "4                                 -500.356035   \n",
       "\n",
       "   secondary_cleaner.state.floatbank6_a_air  \\\n",
       "0                                 14.151341   \n",
       "1                                 13.998353   \n",
       "2                                 14.028663   \n",
       "3                                 14.005551   \n",
       "4                                 13.996647   \n",
       "\n",
       "   secondary_cleaner.state.floatbank6_a_level  \n",
       "0                                 -605.841980  \n",
       "1                                 -599.787184  \n",
       "2                                 -601.427363  \n",
       "3                                 -599.996129  \n",
       "4                                 -601.496691  "
      ]
     },
     "metadata": {},
     "output_type": "display_data"
    },
    {
     "data": {
      "text/html": [
       "<div>\n",
       "<style scoped>\n",
       "    .dataframe tbody tr th:only-of-type {\n",
       "        vertical-align: middle;\n",
       "    }\n",
       "\n",
       "    .dataframe tbody tr th {\n",
       "        vertical-align: top;\n",
       "    }\n",
       "\n",
       "    .dataframe thead th {\n",
       "        text-align: right;\n",
       "    }\n",
       "</style>\n",
       "<table border=\"1\" class=\"dataframe\">\n",
       "  <thead>\n",
       "    <tr style=\"text-align: right;\">\n",
       "      <th></th>\n",
       "      <th>date</th>\n",
       "      <th>final.output.concentrate_ag</th>\n",
       "      <th>final.output.concentrate_pb</th>\n",
       "      <th>final.output.concentrate_sol</th>\n",
       "      <th>final.output.concentrate_au</th>\n",
       "      <th>final.output.recovery</th>\n",
       "      <th>final.output.tail_ag</th>\n",
       "      <th>final.output.tail_pb</th>\n",
       "      <th>final.output.tail_sol</th>\n",
       "      <th>final.output.tail_au</th>\n",
       "      <th>primary_cleaner.input.sulfate</th>\n",
       "      <th>primary_cleaner.input.depressant</th>\n",
       "      <th>primary_cleaner.input.feed_size</th>\n",
       "      <th>primary_cleaner.input.xanthate</th>\n",
       "      <th>primary_cleaner.output.concentrate_ag</th>\n",
       "      <th>primary_cleaner.output.concentrate_pb</th>\n",
       "      <th>primary_cleaner.output.concentrate_sol</th>\n",
       "      <th>primary_cleaner.output.concentrate_au</th>\n",
       "      <th>primary_cleaner.output.tail_ag</th>\n",
       "      <th>primary_cleaner.output.tail_pb</th>\n",
       "      <th>primary_cleaner.output.tail_sol</th>\n",
       "      <th>primary_cleaner.output.tail_au</th>\n",
       "      <th>primary_cleaner.state.floatbank8_a_air</th>\n",
       "      <th>primary_cleaner.state.floatbank8_a_level</th>\n",
       "      <th>primary_cleaner.state.floatbank8_b_air</th>\n",
       "      <th>primary_cleaner.state.floatbank8_b_level</th>\n",
       "      <th>primary_cleaner.state.floatbank8_c_air</th>\n",
       "      <th>primary_cleaner.state.floatbank8_c_level</th>\n",
       "      <th>primary_cleaner.state.floatbank8_d_air</th>\n",
       "      <th>primary_cleaner.state.floatbank8_d_level</th>\n",
       "      <th>rougher.calculation.sulfate_to_au_concentrate</th>\n",
       "      <th>rougher.calculation.floatbank10_sulfate_to_au_feed</th>\n",
       "      <th>rougher.calculation.floatbank11_sulfate_to_au_feed</th>\n",
       "      <th>rougher.calculation.au_pb_ratio</th>\n",
       "      <th>rougher.input.feed_ag</th>\n",
       "      <th>rougher.input.feed_pb</th>\n",
       "      <th>rougher.input.feed_rate</th>\n",
       "      <th>rougher.input.feed_size</th>\n",
       "      <th>rougher.input.feed_sol</th>\n",
       "      <th>rougher.input.feed_au</th>\n",
       "      <th>rougher.input.floatbank10_sulfate</th>\n",
       "      <th>rougher.input.floatbank10_xanthate</th>\n",
       "      <th>rougher.input.floatbank11_sulfate</th>\n",
       "      <th>rougher.input.floatbank11_xanthate</th>\n",
       "      <th>rougher.output.concentrate_ag</th>\n",
       "      <th>rougher.output.concentrate_pb</th>\n",
       "      <th>rougher.output.concentrate_sol</th>\n",
       "      <th>rougher.output.concentrate_au</th>\n",
       "      <th>rougher.output.recovery</th>\n",
       "      <th>rougher.output.tail_ag</th>\n",
       "      <th>rougher.output.tail_pb</th>\n",
       "      <th>rougher.output.tail_sol</th>\n",
       "      <th>rougher.output.tail_au</th>\n",
       "      <th>rougher.state.floatbank10_a_air</th>\n",
       "      <th>rougher.state.floatbank10_a_level</th>\n",
       "      <th>rougher.state.floatbank10_b_air</th>\n",
       "      <th>rougher.state.floatbank10_b_level</th>\n",
       "      <th>rougher.state.floatbank10_c_air</th>\n",
       "      <th>rougher.state.floatbank10_c_level</th>\n",
       "      <th>rougher.state.floatbank10_d_air</th>\n",
       "      <th>rougher.state.floatbank10_d_level</th>\n",
       "      <th>rougher.state.floatbank10_e_air</th>\n",
       "      <th>rougher.state.floatbank10_e_level</th>\n",
       "      <th>rougher.state.floatbank10_f_air</th>\n",
       "      <th>rougher.state.floatbank10_f_level</th>\n",
       "      <th>secondary_cleaner.output.tail_ag</th>\n",
       "      <th>secondary_cleaner.output.tail_pb</th>\n",
       "      <th>secondary_cleaner.output.tail_sol</th>\n",
       "      <th>secondary_cleaner.output.tail_au</th>\n",
       "      <th>secondary_cleaner.state.floatbank2_a_air</th>\n",
       "      <th>secondary_cleaner.state.floatbank2_a_level</th>\n",
       "      <th>secondary_cleaner.state.floatbank2_b_air</th>\n",
       "      <th>secondary_cleaner.state.floatbank2_b_level</th>\n",
       "      <th>secondary_cleaner.state.floatbank3_a_air</th>\n",
       "      <th>secondary_cleaner.state.floatbank3_a_level</th>\n",
       "      <th>secondary_cleaner.state.floatbank3_b_air</th>\n",
       "      <th>secondary_cleaner.state.floatbank3_b_level</th>\n",
       "      <th>secondary_cleaner.state.floatbank4_a_air</th>\n",
       "      <th>secondary_cleaner.state.floatbank4_a_level</th>\n",
       "      <th>secondary_cleaner.state.floatbank4_b_air</th>\n",
       "      <th>secondary_cleaner.state.floatbank4_b_level</th>\n",
       "      <th>secondary_cleaner.state.floatbank5_a_air</th>\n",
       "      <th>secondary_cleaner.state.floatbank5_a_level</th>\n",
       "      <th>secondary_cleaner.state.floatbank5_b_air</th>\n",
       "      <th>secondary_cleaner.state.floatbank5_b_level</th>\n",
       "      <th>secondary_cleaner.state.floatbank6_a_air</th>\n",
       "      <th>secondary_cleaner.state.floatbank6_a_level</th>\n",
       "    </tr>\n",
       "  </thead>\n",
       "  <tbody>\n",
       "    <tr>\n",
       "      <th>0</th>\n",
       "      <td>2016-01-15 00:00:00</td>\n",
       "      <td>6.055403</td>\n",
       "      <td>9.889648</td>\n",
       "      <td>5.507324</td>\n",
       "      <td>42.192020</td>\n",
       "      <td>70.541216</td>\n",
       "      <td>10.411962</td>\n",
       "      <td>0.895447</td>\n",
       "      <td>16.904297</td>\n",
       "      <td>2.143149</td>\n",
       "      <td>127.092003</td>\n",
       "      <td>10.128295</td>\n",
       "      <td>7.25</td>\n",
       "      <td>0.988759</td>\n",
       "      <td>8.547551</td>\n",
       "      <td>10.389648</td>\n",
       "      <td>19.529297</td>\n",
       "      <td>34.174427</td>\n",
       "      <td>14.936526</td>\n",
       "      <td>2.534912</td>\n",
       "      <td>7.476074</td>\n",
       "      <td>2.106679</td>\n",
       "      <td>1549.775757</td>\n",
       "      <td>-498.912140</td>\n",
       "      <td>1551.434204</td>\n",
       "      <td>-516.403442</td>\n",
       "      <td>1549.873901</td>\n",
       "      <td>-498.666595</td>\n",
       "      <td>1554.367432</td>\n",
       "      <td>-493.428131</td>\n",
       "      <td>41885.707031</td>\n",
       "      <td>3481.779053</td>\n",
       "      <td>3520.337158</td>\n",
       "      <td>2.838687</td>\n",
       "      <td>6.100378</td>\n",
       "      <td>2.284912</td>\n",
       "      <td>523.546326</td>\n",
       "      <td>55.486599</td>\n",
       "      <td>36.808594</td>\n",
       "      <td>6.486150</td>\n",
       "      <td>11.986616</td>\n",
       "      <td>6.007990</td>\n",
       "      <td>11.836743</td>\n",
       "      <td>6.005818</td>\n",
       "      <td>11.500771</td>\n",
       "      <td>7.101074</td>\n",
       "      <td>28.029297</td>\n",
       "      <td>19.793808</td>\n",
       "      <td>87.107763</td>\n",
       "      <td>5.008018</td>\n",
       "      <td>0.508728</td>\n",
       "      <td>19.154297</td>\n",
       "      <td>1.170244</td>\n",
       "      <td>999.706909</td>\n",
       "      <td>-404.066986</td>\n",
       "      <td>1603.011353</td>\n",
       "      <td>-434.715027</td>\n",
       "      <td>1602.375000</td>\n",
       "      <td>-442.204468</td>\n",
       "      <td>1598.937256</td>\n",
       "      <td>-451.294128</td>\n",
       "      <td>1404.472046</td>\n",
       "      <td>-455.462982</td>\n",
       "      <td>1416.354980</td>\n",
       "      <td>-451.939636</td>\n",
       "      <td>14.500184</td>\n",
       "      <td>4.694824</td>\n",
       "      <td>8.764648</td>\n",
       "      <td>2.606185</td>\n",
       "      <td>25.853109</td>\n",
       "      <td>-498.526489</td>\n",
       "      <td>23.893660</td>\n",
       "      <td>-501.406281</td>\n",
       "      <td>23.961798</td>\n",
       "      <td>-495.262817</td>\n",
       "      <td>21.940409</td>\n",
       "      <td>-499.340973</td>\n",
       "      <td>14.016835</td>\n",
       "      <td>-502.488007</td>\n",
       "      <td>12.099931</td>\n",
       "      <td>-504.715942</td>\n",
       "      <td>9.925633</td>\n",
       "      <td>-498.310211</td>\n",
       "      <td>8.079666</td>\n",
       "      <td>-500.470978</td>\n",
       "      <td>14.151341</td>\n",
       "      <td>-605.841980</td>\n",
       "    </tr>\n",
       "    <tr>\n",
       "      <th>1</th>\n",
       "      <td>2016-01-15 01:00:00</td>\n",
       "      <td>6.029369</td>\n",
       "      <td>9.968944</td>\n",
       "      <td>5.257781</td>\n",
       "      <td>42.701629</td>\n",
       "      <td>69.266198</td>\n",
       "      <td>10.462676</td>\n",
       "      <td>0.927452</td>\n",
       "      <td>16.634514</td>\n",
       "      <td>2.224930</td>\n",
       "      <td>125.629232</td>\n",
       "      <td>10.296251</td>\n",
       "      <td>7.25</td>\n",
       "      <td>1.002663</td>\n",
       "      <td>8.558743</td>\n",
       "      <td>10.497069</td>\n",
       "      <td>19.369147</td>\n",
       "      <td>34.118526</td>\n",
       "      <td>16.250511</td>\n",
       "      <td>3.049646</td>\n",
       "      <td>6.733907</td>\n",
       "      <td>2.353017</td>\n",
       "      <td>1576.166671</td>\n",
       "      <td>-500.904965</td>\n",
       "      <td>1575.950626</td>\n",
       "      <td>-499.865889</td>\n",
       "      <td>1575.994189</td>\n",
       "      <td>-499.315107</td>\n",
       "      <td>1574.479259</td>\n",
       "      <td>-498.931665</td>\n",
       "      <td>42050.861809</td>\n",
       "      <td>3498.370979</td>\n",
       "      <td>3489.981857</td>\n",
       "      <td>2.858998</td>\n",
       "      <td>6.161113</td>\n",
       "      <td>2.266033</td>\n",
       "      <td>525.290581</td>\n",
       "      <td>57.278666</td>\n",
       "      <td>35.753385</td>\n",
       "      <td>6.478583</td>\n",
       "      <td>11.971193</td>\n",
       "      <td>6.005766</td>\n",
       "      <td>11.996163</td>\n",
       "      <td>6.012594</td>\n",
       "      <td>11.615865</td>\n",
       "      <td>7.278807</td>\n",
       "      <td>28.067063</td>\n",
       "      <td>20.050975</td>\n",
       "      <td>86.843261</td>\n",
       "      <td>4.955378</td>\n",
       "      <td>0.536689</td>\n",
       "      <td>18.965234</td>\n",
       "      <td>1.184827</td>\n",
       "      <td>1000.286398</td>\n",
       "      <td>-400.065196</td>\n",
       "      <td>1600.754587</td>\n",
       "      <td>-449.953435</td>\n",
       "      <td>1600.479580</td>\n",
       "      <td>-449.830646</td>\n",
       "      <td>1600.527589</td>\n",
       "      <td>-449.953649</td>\n",
       "      <td>1399.227084</td>\n",
       "      <td>-450.869848</td>\n",
       "      <td>1399.719514</td>\n",
       "      <td>-450.119001</td>\n",
       "      <td>14.265474</td>\n",
       "      <td>4.592547</td>\n",
       "      <td>9.001494</td>\n",
       "      <td>2.488248</td>\n",
       "      <td>25.880539</td>\n",
       "      <td>-499.989656</td>\n",
       "      <td>23.889530</td>\n",
       "      <td>-500.372428</td>\n",
       "      <td>23.970550</td>\n",
       "      <td>-500.085473</td>\n",
       "      <td>22.085714</td>\n",
       "      <td>-499.446897</td>\n",
       "      <td>13.992281</td>\n",
       "      <td>-505.503262</td>\n",
       "      <td>11.950531</td>\n",
       "      <td>-501.331529</td>\n",
       "      <td>10.039245</td>\n",
       "      <td>-500.169983</td>\n",
       "      <td>7.984757</td>\n",
       "      <td>-500.582168</td>\n",
       "      <td>13.998353</td>\n",
       "      <td>-599.787184</td>\n",
       "    </tr>\n",
       "    <tr>\n",
       "      <th>2</th>\n",
       "      <td>2016-01-15 02:00:00</td>\n",
       "      <td>6.055926</td>\n",
       "      <td>10.213995</td>\n",
       "      <td>5.383759</td>\n",
       "      <td>42.657501</td>\n",
       "      <td>68.116445</td>\n",
       "      <td>10.507046</td>\n",
       "      <td>0.953716</td>\n",
       "      <td>16.208849</td>\n",
       "      <td>2.257889</td>\n",
       "      <td>123.819808</td>\n",
       "      <td>11.316280</td>\n",
       "      <td>7.25</td>\n",
       "      <td>0.991265</td>\n",
       "      <td>8.603505</td>\n",
       "      <td>10.354494</td>\n",
       "      <td>19.167579</td>\n",
       "      <td>33.969464</td>\n",
       "      <td>16.491823</td>\n",
       "      <td>3.124664</td>\n",
       "      <td>6.471768</td>\n",
       "      <td>2.416800</td>\n",
       "      <td>1601.556163</td>\n",
       "      <td>-499.997791</td>\n",
       "      <td>1600.386685</td>\n",
       "      <td>-500.607762</td>\n",
       "      <td>1602.003542</td>\n",
       "      <td>-500.870069</td>\n",
       "      <td>1599.541515</td>\n",
       "      <td>-499.827444</td>\n",
       "      <td>42018.101184</td>\n",
       "      <td>3495.348910</td>\n",
       "      <td>3502.359819</td>\n",
       "      <td>2.945989</td>\n",
       "      <td>6.116455</td>\n",
       "      <td>2.159622</td>\n",
       "      <td>530.026610</td>\n",
       "      <td>57.510649</td>\n",
       "      <td>35.971630</td>\n",
       "      <td>6.362222</td>\n",
       "      <td>11.920603</td>\n",
       "      <td>6.197377</td>\n",
       "      <td>11.920305</td>\n",
       "      <td>6.204633</td>\n",
       "      <td>11.695753</td>\n",
       "      <td>7.216833</td>\n",
       "      <td>27.454037</td>\n",
       "      <td>19.737170</td>\n",
       "      <td>86.842308</td>\n",
       "      <td>4.843460</td>\n",
       "      <td>0.546416</td>\n",
       "      <td>18.808533</td>\n",
       "      <td>1.162562</td>\n",
       "      <td>999.719565</td>\n",
       "      <td>-400.074028</td>\n",
       "      <td>1599.337330</td>\n",
       "      <td>-450.008530</td>\n",
       "      <td>1599.672797</td>\n",
       "      <td>-449.954491</td>\n",
       "      <td>1599.849325</td>\n",
       "      <td>-449.954185</td>\n",
       "      <td>1399.180945</td>\n",
       "      <td>-449.937588</td>\n",
       "      <td>1400.316682</td>\n",
       "      <td>-450.527147</td>\n",
       "      <td>14.115662</td>\n",
       "      <td>4.624775</td>\n",
       "      <td>8.842896</td>\n",
       "      <td>2.458187</td>\n",
       "      <td>26.005245</td>\n",
       "      <td>-499.929616</td>\n",
       "      <td>23.886657</td>\n",
       "      <td>-499.951928</td>\n",
       "      <td>23.913535</td>\n",
       "      <td>-499.442343</td>\n",
       "      <td>23.957717</td>\n",
       "      <td>-499.901982</td>\n",
       "      <td>14.015015</td>\n",
       "      <td>-502.520901</td>\n",
       "      <td>11.912783</td>\n",
       "      <td>-501.133383</td>\n",
       "      <td>10.070913</td>\n",
       "      <td>-500.129135</td>\n",
       "      <td>8.013877</td>\n",
       "      <td>-500.517572</td>\n",
       "      <td>14.028663</td>\n",
       "      <td>-601.427363</td>\n",
       "    </tr>\n",
       "    <tr>\n",
       "      <th>3</th>\n",
       "      <td>2016-01-15 03:00:00</td>\n",
       "      <td>6.047977</td>\n",
       "      <td>9.977019</td>\n",
       "      <td>4.858634</td>\n",
       "      <td>42.689819</td>\n",
       "      <td>68.347543</td>\n",
       "      <td>10.422762</td>\n",
       "      <td>0.883763</td>\n",
       "      <td>16.532835</td>\n",
       "      <td>2.146849</td>\n",
       "      <td>122.270188</td>\n",
       "      <td>11.322140</td>\n",
       "      <td>7.25</td>\n",
       "      <td>0.996739</td>\n",
       "      <td>7.221879</td>\n",
       "      <td>8.496563</td>\n",
       "      <td>15.978538</td>\n",
       "      <td>28.260743</td>\n",
       "      <td>16.024359</td>\n",
       "      <td>2.960362</td>\n",
       "      <td>6.843791</td>\n",
       "      <td>2.262051</td>\n",
       "      <td>1599.968720</td>\n",
       "      <td>-500.951778</td>\n",
       "      <td>1600.659236</td>\n",
       "      <td>-499.677094</td>\n",
       "      <td>1600.304144</td>\n",
       "      <td>-500.727997</td>\n",
       "      <td>1600.449520</td>\n",
       "      <td>-500.052575</td>\n",
       "      <td>42029.447991</td>\n",
       "      <td>3498.578313</td>\n",
       "      <td>3499.162912</td>\n",
       "      <td>3.002340</td>\n",
       "      <td>6.043309</td>\n",
       "      <td>2.037807</td>\n",
       "      <td>542.590390</td>\n",
       "      <td>57.792734</td>\n",
       "      <td>36.862241</td>\n",
       "      <td>6.118189</td>\n",
       "      <td>11.630094</td>\n",
       "      <td>6.203177</td>\n",
       "      <td>11.692450</td>\n",
       "      <td>6.196578</td>\n",
       "      <td>11.915047</td>\n",
       "      <td>7.175616</td>\n",
       "      <td>27.341277</td>\n",
       "      <td>19.320810</td>\n",
       "      <td>87.226430</td>\n",
       "      <td>4.655288</td>\n",
       "      <td>0.542525</td>\n",
       "      <td>19.330200</td>\n",
       "      <td>1.079755</td>\n",
       "      <td>999.814770</td>\n",
       "      <td>-400.200179</td>\n",
       "      <td>1600.059442</td>\n",
       "      <td>-450.619948</td>\n",
       "      <td>1600.012842</td>\n",
       "      <td>-449.910497</td>\n",
       "      <td>1597.725177</td>\n",
       "      <td>-450.130127</td>\n",
       "      <td>1400.943157</td>\n",
       "      <td>-450.030142</td>\n",
       "      <td>1400.234743</td>\n",
       "      <td>-449.790835</td>\n",
       "      <td>13.732071</td>\n",
       "      <td>4.482453</td>\n",
       "      <td>9.122857</td>\n",
       "      <td>2.322062</td>\n",
       "      <td>25.942508</td>\n",
       "      <td>-499.176749</td>\n",
       "      <td>23.955516</td>\n",
       "      <td>-499.848796</td>\n",
       "      <td>23.966838</td>\n",
       "      <td>-500.008812</td>\n",
       "      <td>23.954443</td>\n",
       "      <td>-499.944710</td>\n",
       "      <td>14.036510</td>\n",
       "      <td>-500.857308</td>\n",
       "      <td>11.999550</td>\n",
       "      <td>-501.193686</td>\n",
       "      <td>9.970366</td>\n",
       "      <td>-499.201640</td>\n",
       "      <td>7.977324</td>\n",
       "      <td>-500.255908</td>\n",
       "      <td>14.005551</td>\n",
       "      <td>-599.996129</td>\n",
       "    </tr>\n",
       "    <tr>\n",
       "      <th>4</th>\n",
       "      <td>2016-01-15 04:00:00</td>\n",
       "      <td>6.148599</td>\n",
       "      <td>10.142511</td>\n",
       "      <td>4.939416</td>\n",
       "      <td>42.774141</td>\n",
       "      <td>66.927016</td>\n",
       "      <td>10.360302</td>\n",
       "      <td>0.792826</td>\n",
       "      <td>16.525686</td>\n",
       "      <td>2.055292</td>\n",
       "      <td>117.988169</td>\n",
       "      <td>11.913613</td>\n",
       "      <td>7.25</td>\n",
       "      <td>1.009869</td>\n",
       "      <td>9.089428</td>\n",
       "      <td>9.986786</td>\n",
       "      <td>19.199864</td>\n",
       "      <td>33.044932</td>\n",
       "      <td>16.480185</td>\n",
       "      <td>3.112100</td>\n",
       "      <td>6.550154</td>\n",
       "      <td>2.277073</td>\n",
       "      <td>1601.339707</td>\n",
       "      <td>-498.975456</td>\n",
       "      <td>1601.437854</td>\n",
       "      <td>-500.323246</td>\n",
       "      <td>1599.581894</td>\n",
       "      <td>-500.888152</td>\n",
       "      <td>1602.649541</td>\n",
       "      <td>-500.593010</td>\n",
       "      <td>42125.354245</td>\n",
       "      <td>3494.800771</td>\n",
       "      <td>3506.679315</td>\n",
       "      <td>3.169615</td>\n",
       "      <td>6.060915</td>\n",
       "      <td>1.786875</td>\n",
       "      <td>540.531893</td>\n",
       "      <td>56.047189</td>\n",
       "      <td>34.347666</td>\n",
       "      <td>5.663707</td>\n",
       "      <td>10.957755</td>\n",
       "      <td>6.198826</td>\n",
       "      <td>10.960521</td>\n",
       "      <td>6.194897</td>\n",
       "      <td>12.411054</td>\n",
       "      <td>7.240205</td>\n",
       "      <td>27.041023</td>\n",
       "      <td>19.216101</td>\n",
       "      <td>86.688794</td>\n",
       "      <td>4.552800</td>\n",
       "      <td>0.515438</td>\n",
       "      <td>19.267422</td>\n",
       "      <td>1.012642</td>\n",
       "      <td>999.678690</td>\n",
       "      <td>-399.752729</td>\n",
       "      <td>1600.208824</td>\n",
       "      <td>-449.599614</td>\n",
       "      <td>1600.357732</td>\n",
       "      <td>-450.034364</td>\n",
       "      <td>1599.759049</td>\n",
       "      <td>-449.909799</td>\n",
       "      <td>1401.560902</td>\n",
       "      <td>-448.877187</td>\n",
       "      <td>1401.160227</td>\n",
       "      <td>-450.407128</td>\n",
       "      <td>14.079996</td>\n",
       "      <td>4.470737</td>\n",
       "      <td>8.871028</td>\n",
       "      <td>2.330448</td>\n",
       "      <td>26.024787</td>\n",
       "      <td>-500.279091</td>\n",
       "      <td>23.955345</td>\n",
       "      <td>-500.593614</td>\n",
       "      <td>23.985703</td>\n",
       "      <td>-500.083811</td>\n",
       "      <td>23.958945</td>\n",
       "      <td>-499.990309</td>\n",
       "      <td>14.027298</td>\n",
       "      <td>-499.838632</td>\n",
       "      <td>11.953070</td>\n",
       "      <td>-501.053894</td>\n",
       "      <td>9.925709</td>\n",
       "      <td>-501.686727</td>\n",
       "      <td>7.894242</td>\n",
       "      <td>-500.356035</td>\n",
       "      <td>13.996647</td>\n",
       "      <td>-601.496691</td>\n",
       "    </tr>\n",
       "  </tbody>\n",
       "</table>\n",
       "</div>"
      ],
      "text/plain": [
       "                  date  final.output.concentrate_ag  \\\n",
       "0  2016-01-15 00:00:00                     6.055403   \n",
       "1  2016-01-15 01:00:00                     6.029369   \n",
       "2  2016-01-15 02:00:00                     6.055926   \n",
       "3  2016-01-15 03:00:00                     6.047977   \n",
       "4  2016-01-15 04:00:00                     6.148599   \n",
       "\n",
       "   final.output.concentrate_pb  final.output.concentrate_sol  \\\n",
       "0                     9.889648                      5.507324   \n",
       "1                     9.968944                      5.257781   \n",
       "2                    10.213995                      5.383759   \n",
       "3                     9.977019                      4.858634   \n",
       "4                    10.142511                      4.939416   \n",
       "\n",
       "   final.output.concentrate_au  final.output.recovery  final.output.tail_ag  \\\n",
       "0                    42.192020              70.541216             10.411962   \n",
       "1                    42.701629              69.266198             10.462676   \n",
       "2                    42.657501              68.116445             10.507046   \n",
       "3                    42.689819              68.347543             10.422762   \n",
       "4                    42.774141              66.927016             10.360302   \n",
       "\n",
       "   final.output.tail_pb  final.output.tail_sol  final.output.tail_au  \\\n",
       "0              0.895447              16.904297              2.143149   \n",
       "1              0.927452              16.634514              2.224930   \n",
       "2              0.953716              16.208849              2.257889   \n",
       "3              0.883763              16.532835              2.146849   \n",
       "4              0.792826              16.525686              2.055292   \n",
       "\n",
       "   primary_cleaner.input.sulfate  primary_cleaner.input.depressant  \\\n",
       "0                     127.092003                         10.128295   \n",
       "1                     125.629232                         10.296251   \n",
       "2                     123.819808                         11.316280   \n",
       "3                     122.270188                         11.322140   \n",
       "4                     117.988169                         11.913613   \n",
       "\n",
       "   primary_cleaner.input.feed_size  primary_cleaner.input.xanthate  \\\n",
       "0                             7.25                        0.988759   \n",
       "1                             7.25                        1.002663   \n",
       "2                             7.25                        0.991265   \n",
       "3                             7.25                        0.996739   \n",
       "4                             7.25                        1.009869   \n",
       "\n",
       "   primary_cleaner.output.concentrate_ag  \\\n",
       "0                               8.547551   \n",
       "1                               8.558743   \n",
       "2                               8.603505   \n",
       "3                               7.221879   \n",
       "4                               9.089428   \n",
       "\n",
       "   primary_cleaner.output.concentrate_pb  \\\n",
       "0                              10.389648   \n",
       "1                              10.497069   \n",
       "2                              10.354494   \n",
       "3                               8.496563   \n",
       "4                               9.986786   \n",
       "\n",
       "   primary_cleaner.output.concentrate_sol  \\\n",
       "0                               19.529297   \n",
       "1                               19.369147   \n",
       "2                               19.167579   \n",
       "3                               15.978538   \n",
       "4                               19.199864   \n",
       "\n",
       "   primary_cleaner.output.concentrate_au  primary_cleaner.output.tail_ag  \\\n",
       "0                              34.174427                       14.936526   \n",
       "1                              34.118526                       16.250511   \n",
       "2                              33.969464                       16.491823   \n",
       "3                              28.260743                       16.024359   \n",
       "4                              33.044932                       16.480185   \n",
       "\n",
       "   primary_cleaner.output.tail_pb  primary_cleaner.output.tail_sol  \\\n",
       "0                        2.534912                         7.476074   \n",
       "1                        3.049646                         6.733907   \n",
       "2                        3.124664                         6.471768   \n",
       "3                        2.960362                         6.843791   \n",
       "4                        3.112100                         6.550154   \n",
       "\n",
       "   primary_cleaner.output.tail_au  primary_cleaner.state.floatbank8_a_air  \\\n",
       "0                        2.106679                             1549.775757   \n",
       "1                        2.353017                             1576.166671   \n",
       "2                        2.416800                             1601.556163   \n",
       "3                        2.262051                             1599.968720   \n",
       "4                        2.277073                             1601.339707   \n",
       "\n",
       "   primary_cleaner.state.floatbank8_a_level  \\\n",
       "0                               -498.912140   \n",
       "1                               -500.904965   \n",
       "2                               -499.997791   \n",
       "3                               -500.951778   \n",
       "4                               -498.975456   \n",
       "\n",
       "   primary_cleaner.state.floatbank8_b_air  \\\n",
       "0                             1551.434204   \n",
       "1                             1575.950626   \n",
       "2                             1600.386685   \n",
       "3                             1600.659236   \n",
       "4                             1601.437854   \n",
       "\n",
       "   primary_cleaner.state.floatbank8_b_level  \\\n",
       "0                               -516.403442   \n",
       "1                               -499.865889   \n",
       "2                               -500.607762   \n",
       "3                               -499.677094   \n",
       "4                               -500.323246   \n",
       "\n",
       "   primary_cleaner.state.floatbank8_c_air  \\\n",
       "0                             1549.873901   \n",
       "1                             1575.994189   \n",
       "2                             1602.003542   \n",
       "3                             1600.304144   \n",
       "4                             1599.581894   \n",
       "\n",
       "   primary_cleaner.state.floatbank8_c_level  \\\n",
       "0                               -498.666595   \n",
       "1                               -499.315107   \n",
       "2                               -500.870069   \n",
       "3                               -500.727997   \n",
       "4                               -500.888152   \n",
       "\n",
       "   primary_cleaner.state.floatbank8_d_air  \\\n",
       "0                             1554.367432   \n",
       "1                             1574.479259   \n",
       "2                             1599.541515   \n",
       "3                             1600.449520   \n",
       "4                             1602.649541   \n",
       "\n",
       "   primary_cleaner.state.floatbank8_d_level  \\\n",
       "0                               -493.428131   \n",
       "1                               -498.931665   \n",
       "2                               -499.827444   \n",
       "3                               -500.052575   \n",
       "4                               -500.593010   \n",
       "\n",
       "   rougher.calculation.sulfate_to_au_concentrate  \\\n",
       "0                                   41885.707031   \n",
       "1                                   42050.861809   \n",
       "2                                   42018.101184   \n",
       "3                                   42029.447991   \n",
       "4                                   42125.354245   \n",
       "\n",
       "   rougher.calculation.floatbank10_sulfate_to_au_feed  \\\n",
       "0                                        3481.779053    \n",
       "1                                        3498.370979    \n",
       "2                                        3495.348910    \n",
       "3                                        3498.578313    \n",
       "4                                        3494.800771    \n",
       "\n",
       "   rougher.calculation.floatbank11_sulfate_to_au_feed  \\\n",
       "0                                        3520.337158    \n",
       "1                                        3489.981857    \n",
       "2                                        3502.359819    \n",
       "3                                        3499.162912    \n",
       "4                                        3506.679315    \n",
       "\n",
       "   rougher.calculation.au_pb_ratio  rougher.input.feed_ag  \\\n",
       "0                         2.838687               6.100378   \n",
       "1                         2.858998               6.161113   \n",
       "2                         2.945989               6.116455   \n",
       "3                         3.002340               6.043309   \n",
       "4                         3.169615               6.060915   \n",
       "\n",
       "   rougher.input.feed_pb  rougher.input.feed_rate  rougher.input.feed_size  \\\n",
       "0               2.284912               523.546326                55.486599   \n",
       "1               2.266033               525.290581                57.278666   \n",
       "2               2.159622               530.026610                57.510649   \n",
       "3               2.037807               542.590390                57.792734   \n",
       "4               1.786875               540.531893                56.047189   \n",
       "\n",
       "   rougher.input.feed_sol  rougher.input.feed_au  \\\n",
       "0               36.808594               6.486150   \n",
       "1               35.753385               6.478583   \n",
       "2               35.971630               6.362222   \n",
       "3               36.862241               6.118189   \n",
       "4               34.347666               5.663707   \n",
       "\n",
       "   rougher.input.floatbank10_sulfate  rougher.input.floatbank10_xanthate  \\\n",
       "0                          11.986616                            6.007990   \n",
       "1                          11.971193                            6.005766   \n",
       "2                          11.920603                            6.197377   \n",
       "3                          11.630094                            6.203177   \n",
       "4                          10.957755                            6.198826   \n",
       "\n",
       "   rougher.input.floatbank11_sulfate  rougher.input.floatbank11_xanthate  \\\n",
       "0                          11.836743                            6.005818   \n",
       "1                          11.996163                            6.012594   \n",
       "2                          11.920305                            6.204633   \n",
       "3                          11.692450                            6.196578   \n",
       "4                          10.960521                            6.194897   \n",
       "\n",
       "   rougher.output.concentrate_ag  rougher.output.concentrate_pb  \\\n",
       "0                      11.500771                       7.101074   \n",
       "1                      11.615865                       7.278807   \n",
       "2                      11.695753                       7.216833   \n",
       "3                      11.915047                       7.175616   \n",
       "4                      12.411054                       7.240205   \n",
       "\n",
       "   rougher.output.concentrate_sol  rougher.output.concentrate_au  \\\n",
       "0                       28.029297                      19.793808   \n",
       "1                       28.067063                      20.050975   \n",
       "2                       27.454037                      19.737170   \n",
       "3                       27.341277                      19.320810   \n",
       "4                       27.041023                      19.216101   \n",
       "\n",
       "   rougher.output.recovery  rougher.output.tail_ag  rougher.output.tail_pb  \\\n",
       "0                87.107763                5.008018                0.508728   \n",
       "1                86.843261                4.955378                0.536689   \n",
       "2                86.842308                4.843460                0.546416   \n",
       "3                87.226430                4.655288                0.542525   \n",
       "4                86.688794                4.552800                0.515438   \n",
       "\n",
       "   rougher.output.tail_sol  rougher.output.tail_au  \\\n",
       "0                19.154297                1.170244   \n",
       "1                18.965234                1.184827   \n",
       "2                18.808533                1.162562   \n",
       "3                19.330200                1.079755   \n",
       "4                19.267422                1.012642   \n",
       "\n",
       "   rougher.state.floatbank10_a_air  rougher.state.floatbank10_a_level  \\\n",
       "0                       999.706909                        -404.066986   \n",
       "1                      1000.286398                        -400.065196   \n",
       "2                       999.719565                        -400.074028   \n",
       "3                       999.814770                        -400.200179   \n",
       "4                       999.678690                        -399.752729   \n",
       "\n",
       "   rougher.state.floatbank10_b_air  rougher.state.floatbank10_b_level  \\\n",
       "0                      1603.011353                        -434.715027   \n",
       "1                      1600.754587                        -449.953435   \n",
       "2                      1599.337330                        -450.008530   \n",
       "3                      1600.059442                        -450.619948   \n",
       "4                      1600.208824                        -449.599614   \n",
       "\n",
       "   rougher.state.floatbank10_c_air  rougher.state.floatbank10_c_level  \\\n",
       "0                      1602.375000                        -442.204468   \n",
       "1                      1600.479580                        -449.830646   \n",
       "2                      1599.672797                        -449.954491   \n",
       "3                      1600.012842                        -449.910497   \n",
       "4                      1600.357732                        -450.034364   \n",
       "\n",
       "   rougher.state.floatbank10_d_air  rougher.state.floatbank10_d_level  \\\n",
       "0                      1598.937256                        -451.294128   \n",
       "1                      1600.527589                        -449.953649   \n",
       "2                      1599.849325                        -449.954185   \n",
       "3                      1597.725177                        -450.130127   \n",
       "4                      1599.759049                        -449.909799   \n",
       "\n",
       "   rougher.state.floatbank10_e_air  rougher.state.floatbank10_e_level  \\\n",
       "0                      1404.472046                        -455.462982   \n",
       "1                      1399.227084                        -450.869848   \n",
       "2                      1399.180945                        -449.937588   \n",
       "3                      1400.943157                        -450.030142   \n",
       "4                      1401.560902                        -448.877187   \n",
       "\n",
       "   rougher.state.floatbank10_f_air  rougher.state.floatbank10_f_level  \\\n",
       "0                      1416.354980                        -451.939636   \n",
       "1                      1399.719514                        -450.119001   \n",
       "2                      1400.316682                        -450.527147   \n",
       "3                      1400.234743                        -449.790835   \n",
       "4                      1401.160227                        -450.407128   \n",
       "\n",
       "   secondary_cleaner.output.tail_ag  secondary_cleaner.output.tail_pb  \\\n",
       "0                         14.500184                          4.694824   \n",
       "1                         14.265474                          4.592547   \n",
       "2                         14.115662                          4.624775   \n",
       "3                         13.732071                          4.482453   \n",
       "4                         14.079996                          4.470737   \n",
       "\n",
       "   secondary_cleaner.output.tail_sol  secondary_cleaner.output.tail_au  \\\n",
       "0                           8.764648                          2.606185   \n",
       "1                           9.001494                          2.488248   \n",
       "2                           8.842896                          2.458187   \n",
       "3                           9.122857                          2.322062   \n",
       "4                           8.871028                          2.330448   \n",
       "\n",
       "   secondary_cleaner.state.floatbank2_a_air  \\\n",
       "0                                 25.853109   \n",
       "1                                 25.880539   \n",
       "2                                 26.005245   \n",
       "3                                 25.942508   \n",
       "4                                 26.024787   \n",
       "\n",
       "   secondary_cleaner.state.floatbank2_a_level  \\\n",
       "0                                 -498.526489   \n",
       "1                                 -499.989656   \n",
       "2                                 -499.929616   \n",
       "3                                 -499.176749   \n",
       "4                                 -500.279091   \n",
       "\n",
       "   secondary_cleaner.state.floatbank2_b_air  \\\n",
       "0                                 23.893660   \n",
       "1                                 23.889530   \n",
       "2                                 23.886657   \n",
       "3                                 23.955516   \n",
       "4                                 23.955345   \n",
       "\n",
       "   secondary_cleaner.state.floatbank2_b_level  \\\n",
       "0                                 -501.406281   \n",
       "1                                 -500.372428   \n",
       "2                                 -499.951928   \n",
       "3                                 -499.848796   \n",
       "4                                 -500.593614   \n",
       "\n",
       "   secondary_cleaner.state.floatbank3_a_air  \\\n",
       "0                                 23.961798   \n",
       "1                                 23.970550   \n",
       "2                                 23.913535   \n",
       "3                                 23.966838   \n",
       "4                                 23.985703   \n",
       "\n",
       "   secondary_cleaner.state.floatbank3_a_level  \\\n",
       "0                                 -495.262817   \n",
       "1                                 -500.085473   \n",
       "2                                 -499.442343   \n",
       "3                                 -500.008812   \n",
       "4                                 -500.083811   \n",
       "\n",
       "   secondary_cleaner.state.floatbank3_b_air  \\\n",
       "0                                 21.940409   \n",
       "1                                 22.085714   \n",
       "2                                 23.957717   \n",
       "3                                 23.954443   \n",
       "4                                 23.958945   \n",
       "\n",
       "   secondary_cleaner.state.floatbank3_b_level  \\\n",
       "0                                 -499.340973   \n",
       "1                                 -499.446897   \n",
       "2                                 -499.901982   \n",
       "3                                 -499.944710   \n",
       "4                                 -499.990309   \n",
       "\n",
       "   secondary_cleaner.state.floatbank4_a_air  \\\n",
       "0                                 14.016835   \n",
       "1                                 13.992281   \n",
       "2                                 14.015015   \n",
       "3                                 14.036510   \n",
       "4                                 14.027298   \n",
       "\n",
       "   secondary_cleaner.state.floatbank4_a_level  \\\n",
       "0                                 -502.488007   \n",
       "1                                 -505.503262   \n",
       "2                                 -502.520901   \n",
       "3                                 -500.857308   \n",
       "4                                 -499.838632   \n",
       "\n",
       "   secondary_cleaner.state.floatbank4_b_air  \\\n",
       "0                                 12.099931   \n",
       "1                                 11.950531   \n",
       "2                                 11.912783   \n",
       "3                                 11.999550   \n",
       "4                                 11.953070   \n",
       "\n",
       "   secondary_cleaner.state.floatbank4_b_level  \\\n",
       "0                                 -504.715942   \n",
       "1                                 -501.331529   \n",
       "2                                 -501.133383   \n",
       "3                                 -501.193686   \n",
       "4                                 -501.053894   \n",
       "\n",
       "   secondary_cleaner.state.floatbank5_a_air  \\\n",
       "0                                  9.925633   \n",
       "1                                 10.039245   \n",
       "2                                 10.070913   \n",
       "3                                  9.970366   \n",
       "4                                  9.925709   \n",
       "\n",
       "   secondary_cleaner.state.floatbank5_a_level  \\\n",
       "0                                 -498.310211   \n",
       "1                                 -500.169983   \n",
       "2                                 -500.129135   \n",
       "3                                 -499.201640   \n",
       "4                                 -501.686727   \n",
       "\n",
       "   secondary_cleaner.state.floatbank5_b_air  \\\n",
       "0                                  8.079666   \n",
       "1                                  7.984757   \n",
       "2                                  8.013877   \n",
       "3                                  7.977324   \n",
       "4                                  7.894242   \n",
       "\n",
       "   secondary_cleaner.state.floatbank5_b_level  \\\n",
       "0                                 -500.470978   \n",
       "1                                 -500.582168   \n",
       "2                                 -500.517572   \n",
       "3                                 -500.255908   \n",
       "4                                 -500.356035   \n",
       "\n",
       "   secondary_cleaner.state.floatbank6_a_air  \\\n",
       "0                                 14.151341   \n",
       "1                                 13.998353   \n",
       "2                                 14.028663   \n",
       "3                                 14.005551   \n",
       "4                                 13.996647   \n",
       "\n",
       "   secondary_cleaner.state.floatbank6_a_level  \n",
       "0                                 -605.841980  \n",
       "1                                 -599.787184  \n",
       "2                                 -601.427363  \n",
       "3                                 -599.996129  \n",
       "4                                 -601.496691  "
      ]
     },
     "metadata": {},
     "output_type": "display_data"
    }
   ],
   "source": [
    "pd.set_option('display.max_rows', None)\n",
    "pd.set_option('display.max_columns', None)\n",
    "print ('Размерность первоначальной выборки:',df_full.shape,'\\nРазмерность обучающей выборки:',df_train.shape,'\\nРазмерность тестовой выборки:',df_test.shape)\n",
    "display (df_full.head())\n",
    "display (df_train.head())"
   ]
  },
  {
   "cell_type": "markdown",
   "metadata": {},
   "source": [
    "* Есть пропуски почти во всех столбцах,\n",
    "* Тип столбца date - object\n",
    "* Кол-во признаков на тестовой и обучающей выборки различно!"
   ]
  },
  {
   "cell_type": "code",
   "execution_count": 4,
   "metadata": {},
   "outputs": [],
   "source": [
    "# функция для расчета эффективности обогащения\n",
    "def recovery_efficiency(df): \n",
    "    C = df['rougher.output.concentrate_au']\n",
    "    F=df['rougher.input.feed_au']\n",
    "    T=df['rougher.output.tail_au']\n",
    "    recovery = (C*(F-T))/(F*(C-T))*100\n",
    "    return recovery"
   ]
  },
  {
   "cell_type": "code",
   "execution_count": 5,
   "metadata": {},
   "outputs": [
    {
     "name": "stdout",
     "output_type": "stream",
     "text": [
      "MAE = 9.73512347450521e-15\n"
     ]
    }
   ],
   "source": [
    "# расчитаем отклонение ошибки между расчетным и имеющимся значениями эффективности обогащения\n",
    "print('MAE =', mean_absolute_error(recovery_efficiency(df_train), df_train['rougher.output.recovery']))"
   ]
  },
  {
   "cell_type": "markdown",
   "metadata": {},
   "source": [
    "**Вывод кас-но расчета эффективности обогащения**"
   ]
  },
  {
   "cell_type": "markdown",
   "metadata": {},
   "source": [
    "Средняя квадратичная ошибка практически равна нулю. Это говорит о том, что данные в признаке rougher.output.recovery для обучающей выборки сформированы верно.  \n",
    "Расчеты на основе формулы по расчету эффективности обогащения подтвердили это."
   ]
  },
  {
   "cell_type": "markdown",
   "metadata": {},
   "source": [
    "## Анализ признаков, недоступных в тестовой выборке."
   ]
  },
  {
   "cell_type": "code",
   "execution_count": 6,
   "metadata": {
    "scrolled": false
   },
   "outputs": [
    {
     "name": "stdout",
     "output_type": "stream",
     "text": [
      "Признаки отсутствующие в тестовой выборке:\n"
     ]
    },
    {
     "data": {
      "text/plain": [
       "{'final.output.concentrate_ag',\n",
       " 'final.output.concentrate_au',\n",
       " 'final.output.concentrate_pb',\n",
       " 'final.output.concentrate_sol',\n",
       " 'final.output.recovery',\n",
       " 'final.output.tail_ag',\n",
       " 'final.output.tail_au',\n",
       " 'final.output.tail_pb',\n",
       " 'final.output.tail_sol',\n",
       " 'primary_cleaner.output.concentrate_ag',\n",
       " 'primary_cleaner.output.concentrate_au',\n",
       " 'primary_cleaner.output.concentrate_pb',\n",
       " 'primary_cleaner.output.concentrate_sol',\n",
       " 'primary_cleaner.output.tail_ag',\n",
       " 'primary_cleaner.output.tail_au',\n",
       " 'primary_cleaner.output.tail_pb',\n",
       " 'primary_cleaner.output.tail_sol',\n",
       " 'rougher.calculation.au_pb_ratio',\n",
       " 'rougher.calculation.floatbank10_sulfate_to_au_feed',\n",
       " 'rougher.calculation.floatbank11_sulfate_to_au_feed',\n",
       " 'rougher.calculation.sulfate_to_au_concentrate',\n",
       " 'rougher.output.concentrate_ag',\n",
       " 'rougher.output.concentrate_au',\n",
       " 'rougher.output.concentrate_pb',\n",
       " 'rougher.output.concentrate_sol',\n",
       " 'rougher.output.recovery',\n",
       " 'rougher.output.tail_ag',\n",
       " 'rougher.output.tail_au',\n",
       " 'rougher.output.tail_pb',\n",
       " 'rougher.output.tail_sol',\n",
       " 'secondary_cleaner.output.tail_ag',\n",
       " 'secondary_cleaner.output.tail_au',\n",
       " 'secondary_cleaner.output.tail_pb',\n",
       " 'secondary_cleaner.output.tail_sol'}"
      ]
     },
     "execution_count": 6,
     "metadata": {},
     "output_type": "execute_result"
    }
   ],
   "source": [
    "print ('Признаки отсутствующие в тестовой выборке:') \n",
    "set(df_train.columns)-set(df_test.columns)"
   ]
  },
  {
   "cell_type": "markdown",
   "metadata": {},
   "source": [
    "Проанализируем отсутвующие признаки:\n",
    "\n",
    "\n",
    "- 9 относятся к финальным хар-м, из них:  \n",
    "4 к концентрации выходных эл-тов, 4 к концентрации эл-тов в \"хвостах\" и 1 коэф-т эфф-ти восстановления(!)\n",
    "- 8 к первичной очистке;\n",
    "- 13 к флотации, из них 1 признак содержит данные по эфф-ти восстановления для этапа флотации(!);\n",
    "- 4 к вторичной очистке\n"
   ]
  },
  {
   "cell_type": "markdown",
   "metadata": {},
   "source": [
    "Признаки:  \n",
    "* rougher.output.recovery - эффективность обогащения чернового концентрата\n",
    "* final.output.recovery - эффективность обогащения финального концентрата  \n",
    "  \n",
    "  **очень важные, их обязательно требуется добавить в тестовую выборку**  \n",
    "  \n",
    "Признаки:  \n",
    "final.output.concentrate_ag','final.output.concentrate_au','final.output.concentrate_pb',  \n",
    "'final.output.concentrate_sol','rougher.output.concentrate_ag', 'rougher.output.concentrate_au',  \n",
    "'rougher.output.concentrate_pb', 'rougher.output.concentrate_sol','date'  \n",
    "  \n",
    "  я добавил, для проведения предобработки и очистки тестовой выборки."
   ]
  },
  {
   "cell_type": "code",
   "execution_count": 7,
   "metadata": {},
   "outputs": [],
   "source": [
    "add_columns = (['date', 'rougher.output.recovery', 'final.output.recovery',\n",
    "                'final.output.concentrate_ag','final.output.concentrate_au',\n",
    "                'final.output.concentrate_pb', 'final.output.concentrate_sol',\n",
    "                'rougher.output.concentrate_ag', 'rougher.output.concentrate_au',\n",
    "                'rougher.output.concentrate_pb', 'rougher.output.concentrate_sol'])\n",
    "\n",
    "df_test=df_test.merge(df_full[add_columns],on='date')"
   ]
  },
  {
   "cell_type": "markdown",
   "metadata": {},
   "source": [
    "**Заполнение пропусков**\n",
    "Учитывая, что соседние по времени параметры часто похожи, воспользуемся методом KNNImputer (k-Nearest Neighbors (kNN), идентифицирует соседние точки посредством измерения расстояния, и недостающие значения могут быть оценены с использованием завершенных значений соседних наблюдений)."
   ]
  },
  {
   "cell_type": "code",
   "execution_count": 8,
   "metadata": {},
   "outputs": [],
   "source": [
    "df_train = df_train.drop(columns = 'date',axis = 1)\n",
    "imputer = KNNImputer() \n",
    "df_train = pd.DataFrame(data = imputer.fit_transform(df_train),\n",
    "             columns= df_train.columns,\n",
    "             index = df_train.index)"
   ]
  },
  {
   "cell_type": "code",
   "execution_count": 9,
   "metadata": {},
   "outputs": [],
   "source": [
    "df_test = df_test.drop(columns = 'date',axis = 1)\n",
    "df_test = pd.DataFrame(data = imputer.fit_transform(df_test),\n",
    "             columns= df_test.columns,\n",
    "             index = df_test.index)"
   ]
  },
  {
   "cell_type": "markdown",
   "metadata": {},
   "source": [
    "## Анализ данных"
   ]
  },
  {
   "cell_type": "markdown",
   "metadata": {},
   "source": [
    "### Посмотрим как меняется концентрация металлов (Au, Ag, Pb) на различных этапах очистки."
   ]
  },
  {
   "cell_type": "markdown",
   "metadata": {},
   "source": [
    "Воспользуемся диаграммой размаха, на мой взгляд она наиболее полно отразит изменения в концентрации металлов от этапа к этапу. Любопытства ради, я еще выгрузил информацию по концентрации металлов в отвалах, на разных этапах."
   ]
  },
  {
   "cell_type": "code",
   "execution_count": 10,
   "metadata": {},
   "outputs": [],
   "source": [
    "el = {'GOLD':'au','SILVER':'ag','PLUMBUM':'pb'}"
   ]
  },
  {
   "cell_type": "code",
   "execution_count": 11,
   "metadata": {},
   "outputs": [
    {
     "data": {
      "image/png": "[encoded data removed]",
      "text/plain": [
       "<Figure size 720x360 with 1 Axes>"
      ]
     },
     "metadata": {
      "needs_background": "light"
     },
     "output_type": "display_data"
    },
    {
     "data": {
      "image/png": "[encoded data removed]",
      "text/plain": [
       "<Figure size 720x360 with 1 Axes>"
      ]
     },
     "metadata": {
      "needs_background": "light"
     },
     "output_type": "display_data"
    },
    {
     "data": {
      "image/png": "[encoded data removed]",
      "text/plain": [
       "<Figure size 720x360 with 1 Axes>"
      ]
     },
     "metadata": {
      "needs_background": "light"
     },
     "output_type": "display_data"
    }
   ],
   "source": [
    "for k,v in el.items(): \n",
    "    plt.figure(figsize=(10,5))\n",
    "    plt.title('Диаграмма размаха\\n Концентрация металла {} на разных технологических этапах.'.format(k))\n",
    "    sns.boxplot(data=df_full[['rougher.input.feed_' + v,\n",
    "                           'rougher.output.concentrate_' + v, \n",
    "                           'primary_cleaner.output.concentrate_'+ v, \n",
    "                           'final.output.concentrate_' + v,]])\n",
    "    plt.xticks([0,1,2,3], ['Исходное сырье', 'Флотация', 'Первичная очистка', 'Финальный концентрат'])\n",
    "plt.show()"
   ]
  },
  {
   "cell_type": "code",
   "execution_count": 12,
   "metadata": {
    "scrolled": true
   },
   "outputs": [
    {
     "data": {
      "image/png": "[encoded data removed]",
      "text/plain": [
       "<Figure size 720x360 with 1 Axes>"
      ]
     },
     "metadata": {
      "needs_background": "light"
     },
     "output_type": "display_data"
    },
    {
     "data": {
      "image/png": "[encoded data removed]",
      "text/plain": [
       "<Figure size 720x360 with 1 Axes>"
      ]
     },
     "metadata": {
      "needs_background": "light"
     },
     "output_type": "display_data"
    },
    {
     "data": {
      "image/png": "[encoded data removed]",
      "text/plain": [
       "<Figure size 720x360 with 1 Axes>"
      ]
     },
     "metadata": {
      "needs_background": "light"
     },
     "output_type": "display_data"
    }
   ],
   "source": [
    "for k,v in el.items(): \n",
    "    plt.figure(figsize=(10,5))\n",
    "    plt.title('Диаграмма размаха\\n Концентрация металла {} В ОТВАЛАХ на разных технологических этапах.'.format(k))\n",
    "    sns.boxplot(data=df_full[['rougher.output.tail_' + v,\n",
    "                           'primary_cleaner.output.tail_'+ v, \n",
    "                           'secondary_cleaner.output.tail_' + v,]])\n",
    "    plt.xticks([0,1,2], ['Отвал после Флотации', 'Отвал от первичной очистки', 'Отвал от вторичной очистки'])\n",
    "plt.show()"
   ]
  },
  {
   "cell_type": "markdown",
   "metadata": {},
   "source": [
    "### Выводы кас-но концетрации металлов"
   ]
  },
  {
   "cell_type": "markdown",
   "metadata": {},
   "source": [
    "**ЗОЛОТО**  \n",
    "Ожидаемое (иначе ради чего весь этот процесс по очистке), от этапа к этапу очистки руды, концентрация золота растет. Отмечу, что технология очистки позволяет не допускать потерь золота на этапах очистки, об этом свидетельствуют практически неизменные значения концентрации золота в отвалах (в хвостах). Диаграммы размаха прекрастно демонстрируют как меняется концентрация золота от этапа к этапу.  \n",
    "**СЕРЕБРО**  \n",
    "Ожидал, что Серебро будет \"идти\" вместе с золотом \"до последнего\", но уже на первом же этапе очистки, видим снижение концентрации Серебра в руде (почти в 2 раза), к финильному этапу, концентрация Серебра снижается еще сильнее, мало того, и размах \"усов\" Диаграммы размаха уменьшается, что говорит об эффективности отбора Серебра из оснвной руды. Будем надеястся, что Серебру из отвалов не дадут пропасть, Диаграммы размаха и широкий разброс \"усов\", просто кричат о существенных значениях серебра в \"хвостах\".  \n",
    "**СВИНЕЦ**  \n",
    "Концентрация в основной руде достигает максимума на первичной очистке, немного снижается на финальной, о по прежнему остается высокой (20-25% от концентрации Золота). в Хвостах руды, Свинец после вторичной очиски занимает значительное место, причем с существенным разбросом.  \n",
    "Складывается впечатление, что процесс очистки направлен, на удаление пустой породы и серебра содержащего в ней, т.е. на выходе по факту получаем руду обогащенную золотом и свинцом. \n"
   ]
  },
  {
   "cell_type": "markdown",
   "metadata": {},
   "source": [
    "### Сравнение распределения размеров гранул сырья на обучающей и тестовой выборках."
   ]
  },
  {
   "cell_type": "code",
   "execution_count": 13,
   "metadata": {},
   "outputs": [
    {
     "name": "stdout",
     "output_type": "stream",
     "text": [
      "Медианное значение размера гранул в исходном сырье\n",
      "Обучающая выборка 55.3768585405993\n",
      "Тестовая выборка 50.8468431600362\n"
     ]
    },
    {
     "data": {
      "image/png": "[encoded data removed]",
      "text/plain": [
       "<Figure size 432x288 with 1 Axes>"
      ]
     },
     "metadata": {
      "needs_background": "light"
     },
     "output_type": "display_data"
    }
   ],
   "source": [
    "fig = sns.kdeplot(data=df_train['rougher.input.feed_size'],\n",
    "                  shade=True,color='orange',clip=(10,120),label='Обучающая')\n",
    "fig = sns.kdeplot(data=df_test['rougher.input.feed_size'],\n",
    "                  shade=True,color='lightblue',clip=(10,120),label='Тестовая')\n",
    "\n",
    "fig.figure.suptitle('График размера гранул в исходном сырье', fontsize = 16)\n",
    "plt.legend(prop={'size': 10}, title = 'Выборка')\n",
    "plt.xlabel('Размер гранул', fontsize=12)\n",
    "plt.ylabel('Частота (плотность)', fontsize=12);\n",
    "print ('Медианное значение размера гранул в исходном сырье')\n",
    "print (f'Обучающая выборка',df_train['rougher.input.feed_size'].median())\n",
    "print (f'Тестовая выборка',df_test['rougher.input.feed_size'].median())\n",
    "plt.show()"
   ]
  },
  {
   "cell_type": "markdown",
   "metadata": {},
   "source": [
    "### Вывод, кас-но размеров гранул для выборок"
   ]
  },
  {
   "cell_type": "markdown",
   "metadata": {},
   "source": [
    "Графическая визуализация дает представление, что есть небольшое отличие от размера гранул на тестовой и обучающей выборке. Вычислив медианное значение видим, что разница составляет примерно 10%.\n",
    "Размер гранул на тестовой выборке на 10% меньше чем размер гранул на обучающей выборке. Насколько это критично (10% много это или мало..) мне трудно сказать,здесь необходимо иметь более подробную информацию (технологическую карту) данного процесса.  \n",
    "Для \"успокоения\", проверю, есть ли отличие в размере гранул на выходе.  \n",
    "А на выходе видим полное совпадение размера гранул, правда их размер уменьшился с 50-55 до 7.25. Возможно процесс обогащения руды предполагает дробление породы, о котором в условиях задачи не упомянуто.\n"
   ]
  },
  {
   "cell_type": "code",
   "execution_count": 14,
   "metadata": {},
   "outputs": [
    {
     "name": "stdout",
     "output_type": "stream",
     "text": [
      "Медианное значение размера гранул в сырье после первичой очистки\n",
      "Обучающая выборка 7.289999961853027\n",
      "Тестовая выборка 7.25\n"
     ]
    },
    {
     "data": {
      "image/png": "[encoded data removed]",
      "text/plain": [
       "<Figure size 432x288 with 1 Axes>"
      ]
     },
     "metadata": {
      "needs_background": "light"
     },
     "output_type": "display_data"
    }
   ],
   "source": [
    "fig = sns.kdeplot(data=df_train['primary_cleaner.input.feed_size'],\n",
    "                  shade=True,color='orange',clip=(5,9),label='Обучающая')\n",
    "fig = sns.kdeplot(data=df_test['primary_cleaner.input.feed_size'],\n",
    "                  shade=True,color='lightblue',clip=(5,9),label='Тестовая')\n",
    "\n",
    "fig.figure.suptitle('График размера гранул в исходном сырье', fontsize = 16)\n",
    "plt.legend(prop={'size': 10}, title = 'Выборка')\n",
    "plt.xlabel('Размер гранул', fontsize=12)\n",
    "plt.ylabel('Частота (плотность)', fontsize=12);\n",
    "print ('Медианное значение размера гранул в сырье после первичой очистки')\n",
    "print (f'Обучающая выборка',df_train['primary_cleaner.input.feed_size'].median())\n",
    "print (f'Тестовая выборка',df_test['primary_cleaner.input.feed_size'].median())\n",
    "plt.show()"
   ]
  },
  {
   "cell_type": "markdown",
   "metadata": {},
   "source": [
    "### Исследуем суммарную концентрацию всех веществ на разных стадиях: в сырье, в черновом и финальном концентратах."
   ]
  },
  {
   "cell_type": "markdown",
   "metadata": {},
   "source": [
    "#### Тренировочкая выборка, поиск аномалий."
   ]
  },
  {
   "cell_type": "code",
   "execution_count": 15,
   "metadata": {},
   "outputs": [],
   "source": [
    "#Создадим столбец содержащий сумму всех элементов в исходном сырье\n",
    "df_train['rougher.input.feed_sum'] = df_train['rougher.input.feed_ag'] + df_train['rougher.input.feed_pb'] + df_train['rougher.input.feed_sol'] + df_train['rougher.input.feed_au']\n",
    "#Создадим столбец содержащий сумму всех элементов в сырье после флотации\n",
    "df_train['rougher.output.concentrate_sum'] = df_train['rougher.output.concentrate_ag'] + df_train['rougher.output.concentrate_pb'] + df_train['rougher.output.concentrate_sol'] + df_train['rougher.output.concentrate_au']\n",
    "#Создадим столбец содержащий сумму всех элементов в сырье на выходе\n",
    "df_train['final.output.concentrate_sum'] = df_train['final.output.concentrate_ag'] + df_train['final.output.concentrate_pb'] + df_train['final.output.concentrate_sol'] + df_train['final.output.concentrate_au']"
   ]
  },
  {
   "cell_type": "code",
   "execution_count": 16,
   "metadata": {},
   "outputs": [
    {
     "data": {
      "image/png": "[encoded data removed]",
      "text/plain": [
       "<Figure size 720x360 with 1 Axes>"
      ]
     },
     "metadata": {
      "needs_background": "light"
     },
     "output_type": "display_data"
    }
   ],
   "source": [
    "plt.figure(figsize=(10,5)) \n",
    "plt.title('Диаграмма размаха\\n сумарной концентрации на разных технологических этапах')\n",
    "sns.boxplot(data=df_train[['rougher.input.feed_sum','rougher.output.concentrate_sum', 'final.output.concentrate_sum']])\n",
    "plt.xticks([0,1,2], ['Исходное сырье','Флотация (черн.концентрат)','Финальный концентрат'])\n",
    "plt.show()\n",
    "\n"
   ]
  },
  {
   "cell_type": "markdown",
   "metadata": {},
   "source": [
    "Честно говоря, Диаграмма разброса для данной задачи не информативна, попробуем посмотреть распределение сум.значений элементов на другом виде графиков"
   ]
  },
  {
   "cell_type": "code",
   "execution_count": 17,
   "metadata": {},
   "outputs": [],
   "source": [
    "conc_sum = {'Исходное сырье':'rougher.input.feed_sum','Флотация':'rougher.output.concentrate_sum', 'Финальный концентрат':'final.output.concentrate_sum'}\n",
    "\n",
    "def plot_sum(df):\n",
    "    for k,i in conc_sum.items():\n",
    "        sns.kdeplot(df[i], label=k,shade=True)\n",
    "        print (f'Медианное значение сум.концентрата на этапе {k}',df[i].median())\n",
    "        plt.legend(loc='upper left')\n",
    "    plt.title('График значений суммарного концентрата элементов\\n в зависимости от тех.процесса')\n",
    "    plt.ylabel('Частота (плотность)')\n",
    "    plt.xlabel('Значение суммарного концентрата');\n"
   ]
  },
  {
   "cell_type": "code",
   "execution_count": 18,
   "metadata": {},
   "outputs": [
    {
     "name": "stdout",
     "output_type": "stream",
     "text": [
      "Медианное значение сум.концентрата на этапе Исходное сырье 56.614417545878815\n",
      "Медианное значение сум.концентрата на этапе Флотация 69.17595407880455\n",
      "Медианное значение сум.концентрата на этапе Финальный концентрат 69.1477605318453\n"
     ]
    },
    {
     "data": {
      "image/png": "[encoded data removed]",
      "text/plain": [
       "<Figure size 432x288 with 1 Axes>"
      ]
     },
     "metadata": {
      "needs_background": "light"
     },
     "output_type": "display_data"
    }
   ],
   "source": [
    "plot_sum(df_train)"
   ]
  },
  {
   "cell_type": "markdown",
   "metadata": {},
   "source": [
    "Вот, гораздо лучше. Здесь явно наблюдается аномальные выброс значений в районе 0.  \n",
    "Избавимся от него."
   ]
  },
  {
   "cell_type": "code",
   "execution_count": 19,
   "metadata": {},
   "outputs": [],
   "source": [
    "# Cоздадим функцию, которая будут отбрасывать выбивающиеся значения\n",
    "\n",
    "def deleted_trash(column,df,k1=0.01):\n",
    "    qvarta = df[column].describe()\n",
    "    data_25=qvarta[4]# вытаскиваем значение равное 25%\n",
    "    low_25=k1*data_25 # коф-т k1 задает допустимые значения до 25%, это чтобы совсем все лишнее не отсекать\n",
    "    length = 1\n",
    "    index_del= []\n",
    "    for index, el in enumerate(df[column]): # перебираем индексы столбца и его значения\n",
    "        if low_25 > el: # все что меньше межквартильго размаха с коэффициентом - это выбросы, мусор, который уберем\n",
    "            index_del.extend(df[df[column] == el].index) # формируем индексы на удаление \n",
    "    index_del= set(index_del)\n",
    "    length = len(index_del)\n",
    "    print('Удалено строк: {}.'.format(length)) # информируем результатах\n",
    "    df.drop(index_del,axis=0,inplace=True)"
   ]
  },
  {
   "cell_type": "code",
   "execution_count": 20,
   "metadata": {},
   "outputs": [
    {
     "name": "stdout",
     "output_type": "stream",
     "text": [
      "Удалено строк: 5.\n",
      "Удалено строк: 297.\n",
      "Удалено строк: 58.\n"
     ]
    }
   ],
   "source": [
    "# помним, что conc_sum это словарь содержащий суммарную концентрацию металлов на различных тех.процессах \n",
    "for k, i in conc_sum.items():\n",
    "    deleted_trash (i, df_train)"
   ]
  },
  {
   "cell_type": "code",
   "execution_count": 21,
   "metadata": {},
   "outputs": [],
   "source": [
    "# вернул размер вывода таблиц (чтобы поубористей было)\n",
    "pd.set_option('display.max_rows', 5)\n",
    "pd.set_option('display.max_columns', 10)"
   ]
  },
  {
   "cell_type": "code",
   "execution_count": 22,
   "metadata": {},
   "outputs": [
    {
     "data": {
      "text/html": [
       "<div>\n",
       "<style scoped>\n",
       "    .dataframe tbody tr th:only-of-type {\n",
       "        vertical-align: middle;\n",
       "    }\n",
       "\n",
       "    .dataframe tbody tr th {\n",
       "        vertical-align: top;\n",
       "    }\n",
       "\n",
       "    .dataframe thead th {\n",
       "        text-align: right;\n",
       "    }\n",
       "</style>\n",
       "<table border=\"1\" class=\"dataframe\">\n",
       "  <thead>\n",
       "    <tr style=\"text-align: right;\">\n",
       "      <th></th>\n",
       "      <th>final.output.concentrate_ag</th>\n",
       "      <th>final.output.concentrate_pb</th>\n",
       "      <th>final.output.concentrate_sol</th>\n",
       "      <th>final.output.concentrate_au</th>\n",
       "      <th>final.output.recovery</th>\n",
       "      <th>...</th>\n",
       "      <th>secondary_cleaner.state.floatbank6_a_air</th>\n",
       "      <th>secondary_cleaner.state.floatbank6_a_level</th>\n",
       "      <th>rougher.input.feed_sum</th>\n",
       "      <th>rougher.output.concentrate_sum</th>\n",
       "      <th>final.output.concentrate_sum</th>\n",
       "    </tr>\n",
       "  </thead>\n",
       "  <tbody>\n",
       "    <tr>\n",
       "      <th>0</th>\n",
       "      <td>6.055403</td>\n",
       "      <td>9.889648</td>\n",
       "      <td>5.507324</td>\n",
       "      <td>42.192020</td>\n",
       "      <td>70.541216</td>\n",
       "      <td>...</td>\n",
       "      <td>14.151341</td>\n",
       "      <td>-605.841980</td>\n",
       "      <td>51.680034</td>\n",
       "      <td>66.424950</td>\n",
       "      <td>63.644396</td>\n",
       "    </tr>\n",
       "    <tr>\n",
       "      <th>1</th>\n",
       "      <td>6.029369</td>\n",
       "      <td>9.968944</td>\n",
       "      <td>5.257781</td>\n",
       "      <td>42.701629</td>\n",
       "      <td>69.266198</td>\n",
       "      <td>...</td>\n",
       "      <td>13.998353</td>\n",
       "      <td>-599.787184</td>\n",
       "      <td>50.659114</td>\n",
       "      <td>67.012710</td>\n",
       "      <td>63.957723</td>\n",
       "    </tr>\n",
       "    <tr>\n",
       "      <th>...</th>\n",
       "      <td>...</td>\n",
       "      <td>...</td>\n",
       "      <td>...</td>\n",
       "      <td>...</td>\n",
       "      <td>...</td>\n",
       "      <td>...</td>\n",
       "      <td>...</td>\n",
       "      <td>...</td>\n",
       "      <td>...</td>\n",
       "      <td>...</td>\n",
       "      <td>...</td>\n",
       "    </tr>\n",
       "    <tr>\n",
       "      <th>13787</th>\n",
       "      <td>3.367241</td>\n",
       "      <td>11.625587</td>\n",
       "      <td>6.799433</td>\n",
       "      <td>46.408188</td>\n",
       "      <td>65.523246</td>\n",
       "      <td>...</td>\n",
       "      <td>20.013986</td>\n",
       "      <td>-500.625471</td>\n",
       "      <td>54.027355</td>\n",
       "      <td>69.201689</td>\n",
       "      <td>68.200449</td>\n",
       "    </tr>\n",
       "    <tr>\n",
       "      <th>13788</th>\n",
       "      <td>3.598375</td>\n",
       "      <td>11.737832</td>\n",
       "      <td>6.717509</td>\n",
       "      <td>46.299438</td>\n",
       "      <td>70.281454</td>\n",
       "      <td>...</td>\n",
       "      <td>19.990336</td>\n",
       "      <td>-499.191575</td>\n",
       "      <td>53.535054</td>\n",
       "      <td>69.544003</td>\n",
       "      <td>68.353154</td>\n",
       "    </tr>\n",
       "  </tbody>\n",
       "</table>\n",
       "<p>13789 rows × 89 columns</p>\n",
       "</div>"
      ],
      "text/plain": [
       "       final.output.concentrate_ag  final.output.concentrate_pb  \\\n",
       "0                         6.055403                     9.889648   \n",
       "1                         6.029369                     9.968944   \n",
       "...                            ...                          ...   \n",
       "13787                     3.367241                    11.625587   \n",
       "13788                     3.598375                    11.737832   \n",
       "\n",
       "       final.output.concentrate_sol  final.output.concentrate_au  \\\n",
       "0                          5.507324                    42.192020   \n",
       "1                          5.257781                    42.701629   \n",
       "...                             ...                          ...   \n",
       "13787                      6.799433                    46.408188   \n",
       "13788                      6.717509                    46.299438   \n",
       "\n",
       "       final.output.recovery  ...  secondary_cleaner.state.floatbank6_a_air  \\\n",
       "0                  70.541216  ...                                 14.151341   \n",
       "1                  69.266198  ...                                 13.998353   \n",
       "...                      ...  ...                                       ...   \n",
       "13787              65.523246  ...                                 20.013986   \n",
       "13788              70.281454  ...                                 19.990336   \n",
       "\n",
       "       secondary_cleaner.state.floatbank6_a_level  rougher.input.feed_sum  \\\n",
       "0                                     -605.841980               51.680034   \n",
       "1                                     -599.787184               50.659114   \n",
       "...                                           ...                     ...   \n",
       "13787                                 -500.625471               54.027355   \n",
       "13788                                 -499.191575               53.535054   \n",
       "\n",
       "       rougher.output.concentrate_sum  final.output.concentrate_sum  \n",
       "0                           66.424950                     63.644396  \n",
       "1                           67.012710                     63.957723  \n",
       "...                               ...                           ...  \n",
       "13787                       69.201689                     68.200449  \n",
       "13788                       69.544003                     68.353154  \n",
       "\n",
       "[13789 rows x 89 columns]"
      ]
     },
     "execution_count": 22,
     "metadata": {},
     "output_type": "execute_result"
    }
   ],
   "source": [
    "df_train.reset_index(drop=True)"
   ]
  },
  {
   "cell_type": "markdown",
   "metadata": {},
   "source": [
    "Поммотрим, рез-т очистки:"
   ]
  },
  {
   "cell_type": "code",
   "execution_count": 23,
   "metadata": {
    "scrolled": false
   },
   "outputs": [
    {
     "name": "stdout",
     "output_type": "stream",
     "text": [
      "Медианное значение сум.концентрата на этапе Исходное сырье 56.60851995975422\n",
      "Медианное значение сум.концентрата на этапе Флотация 69.31329962669126\n",
      "Медианное значение сум.концентрата на этапе Финальный концентрат 69.14397317012774\n"
     ]
    },
    {
     "data": {
      "image/png": "[encoded data removed]",
      "text/plain": [
       "<Figure size 432x288 with 1 Axes>"
      ]
     },
     "metadata": {
      "needs_background": "light"
     },
     "output_type": "display_data"
    }
   ],
   "source": [
    "plot_sum(df_train)"
   ]
  },
  {
   "cell_type": "markdown",
   "metadata": {},
   "source": [
    "#### **Тестовая выборка,поиск аномалий**"
   ]
  },
  {
   "cell_type": "code",
   "execution_count": 24,
   "metadata": {},
   "outputs": [],
   "source": [
    "#Создадим столбец содержащий сумму всех элементов в исходном сырье\n",
    "df_test['rougher.input.feed_sum'] = df_test['rougher.input.feed_ag'] + df_test['rougher.input.feed_pb'] + df_test['rougher.input.feed_sol'] + df_test['rougher.input.feed_au']\n",
    "#Создадим столбец содержащий сумму всех элементов в сырье после флотации\n",
    "df_test['rougher.output.concentrate_sum'] = df_test['rougher.output.concentrate_ag'] + df_test['rougher.output.concentrate_pb'] + df_test['rougher.output.concentrate_sol'] + df_test['rougher.output.concentrate_au']\n",
    "#Создадим столбец содержащий сумму всех элементов в сырье на выходе\n",
    "df_test['final.output.concentrate_sum'] = df_test['final.output.concentrate_ag'] + df_test['final.output.concentrate_pb'] + df_test['final.output.concentrate_sol'] + df_test['final.output.concentrate_au']"
   ]
  },
  {
   "cell_type": "code",
   "execution_count": 25,
   "metadata": {},
   "outputs": [
    {
     "name": "stdout",
     "output_type": "stream",
     "text": [
      "Медианное значение сум.концентрата на этапе Исходное сырье 59.99983129904765\n",
      "Медианное значение сум.концентрата на этапе Флотация 72.69188584898401\n",
      "Медианное значение сум.концентрата на этапе Финальный концентрат 70.68858745071958\n"
     ]
    },
    {
     "data": {
      "image/png": "[encoded data removed]",
      "text/plain": [
       "<Figure size 432x288 with 1 Axes>"
      ]
     },
     "metadata": {
      "needs_background": "light"
     },
     "output_type": "display_data"
    }
   ],
   "source": [
    "plot_sum(df_test)"
   ]
  },
  {
   "cell_type": "code",
   "execution_count": 26,
   "metadata": {},
   "outputs": [
    {
     "name": "stdout",
     "output_type": "stream",
     "text": [
      "Удалено строк: 0.\n",
      "Удалено строк: 97.\n",
      "Удалено строк: 39.\n"
     ]
    }
   ],
   "source": [
    "for k, i in conc_sum.items():\n",
    "    deleted_trash (i, df_test)"
   ]
  },
  {
   "cell_type": "markdown",
   "metadata": {},
   "source": [
    "Уберем выбросы..."
   ]
  },
  {
   "cell_type": "code",
   "execution_count": 27,
   "metadata": {
    "scrolled": true
   },
   "outputs": [
    {
     "name": "stdout",
     "output_type": "stream",
     "text": [
      "Медианное значение сум.концентрата на этапе Исходное сырье 60.079961320934075\n",
      "Медианное значение сум.концентрата на этапе Флотация 72.79179087122515\n",
      "Медианное значение сум.концентрата на этапе Финальный концентрат 70.72665556165923\n"
     ]
    },
    {
     "data": {
      "image/png": "[encoded data removed]",
      "text/plain": [
       "<Figure size 432x288 with 1 Axes>"
      ]
     },
     "metadata": {
      "needs_background": "light"
     },
     "output_type": "display_data"
    }
   ],
   "source": [
    "plot_sum(df_test)"
   ]
  },
  {
   "cell_type": "markdown",
   "metadata": {},
   "source": [
    "#### Вывод кас-но данных по сум. концентрации веществ"
   ]
  },
  {
   "cell_type": "markdown",
   "metadata": {},
   "source": [
    "Создав столбцы содержащие информацию о суммарной концентрации веществ в породе и тобразив их графически, было обнаружено, что данные содержат аномальные выбросы данных в \"нулевых\" значениях. Строки содержащие эти аномальные выбросы были удалены из выборок, тем самым, данные были дополнительно очищены."
   ]
  },
  {
   "cell_type": "markdown",
   "metadata": {},
   "source": [
    "## Модель"
   ]
  },
  {
   "cell_type": "markdown",
   "metadata": {},
   "source": [
    "### Функция для вычисления итоговой sMAPE"
   ]
  },
  {
   "cell_type": "code",
   "execution_count": 28,
   "metadata": {},
   "outputs": [],
   "source": [
    "def smape(target, predict):\n",
    "    smape = (np.sum((2 * np.abs(predict - target)) / (np.abs(target) + np.abs(predict))))*100/len(target)\n",
    "    return smape\n",
    "\n",
    "def smape_end(smape_r,smape_f):\n",
    "    smape_end =  ((0.25*(smape_r)) + (0.75*(smape_f)))\n",
    "    return smape_end\n",
    "\n",
    "smape_score = make_scorer(smape, greater_is_better=True)"
   ]
  },
  {
   "cell_type": "code",
   "execution_count": 29,
   "metadata": {},
   "outputs": [],
   "source": [
    "df_train = df_train[df_test.columns] \n",
    "df_train = df_train.reset_index(drop=True)\n",
    "df_test = df_test.reset_index(drop=True)"
   ]
  },
  {
   "cell_type": "code",
   "execution_count": 30,
   "metadata": {},
   "outputs": [],
   "source": [
    "# Данные признаки на мой взгляд излишни, и я их удалял из выборок, в т.ч. чтобы процесс обучения шел быстрее,\n",
    "#но здесь я их оставил, для чистоты эксперимента. чуть ниже drop закоменниторан.\n",
    "\n",
    "drop_columns = ['primary_cleaner.state.floatbank8_a_air',\n",
    "       'primary_cleaner.state.floatbank8_a_level',\n",
    "       'primary_cleaner.state.floatbank8_b_air',\n",
    "       'primary_cleaner.state.floatbank8_b_level',\n",
    "       'primary_cleaner.state.floatbank8_c_air',\n",
    "       'primary_cleaner.state.floatbank8_c_level',\n",
    "       'primary_cleaner.state.floatbank8_d_air',\n",
    "       'primary_cleaner.state.floatbank8_d_level', \n",
    "       'rougher.input.floatbank10_xanthate',\n",
    "       'rougher.input.floatbank11_sulfate',\n",
    "       'rougher.input.floatbank11_xanthate', 'rougher.state.floatbank10_a_air',\n",
    "       'rougher.state.floatbank10_a_level', 'rougher.state.floatbank10_b_air',\n",
    "       'rougher.state.floatbank10_b_level', 'rougher.state.floatbank10_c_air',\n",
    "       'rougher.state.floatbank10_c_level', 'rougher.state.floatbank10_d_air',\n",
    "       'rougher.state.floatbank10_d_level', 'rougher.state.floatbank10_e_air',\n",
    "       'rougher.state.floatbank10_e_level', 'rougher.state.floatbank10_f_air',\n",
    "       'rougher.state.floatbank10_f_level', 'rougher.input.floatbank10_sulfate',\n",
    "       'secondary_cleaner.state.floatbank2_a_air',\n",
    "       'secondary_cleaner.state.floatbank2_a_level',\n",
    "       'secondary_cleaner.state.floatbank2_b_air',\n",
    "       'secondary_cleaner.state.floatbank2_b_level',\n",
    "       'secondary_cleaner.state.floatbank3_a_air',\n",
    "       'secondary_cleaner.state.floatbank3_a_level',\n",
    "       'secondary_cleaner.state.floatbank3_b_air',\n",
    "       'secondary_cleaner.state.floatbank3_b_level',\n",
    "       'secondary_cleaner.state.floatbank4_a_air',\n",
    "       'secondary_cleaner.state.floatbank4_a_level',\n",
    "       'secondary_cleaner.state.floatbank4_b_air',\n",
    "       'secondary_cleaner.state.floatbank4_b_level',\n",
    "       'secondary_cleaner.state.floatbank5_a_air',\n",
    "       'secondary_cleaner.state.floatbank5_a_level',\n",
    "       'secondary_cleaner.state.floatbank5_b_air',\n",
    "       'secondary_cleaner.state.floatbank5_b_level',\n",
    "       'secondary_cleaner.state.floatbank6_a_air',\n",
    "       'secondary_cleaner.state.floatbank6_a_level']\n",
    "\n",
    "#df_train = df_train.drop(columns=drop_columns, axis=1)\n",
    "#df_test = df_test.drop(columns=drop_columns, axis=1)"
   ]
  },
  {
   "cell_type": "code",
   "execution_count": 31,
   "metadata": {},
   "outputs": [
    {
     "name": "stdout",
     "output_type": "stream",
     "text": [
      "(13789, 65) (5154, 65)\n"
     ]
    }
   ],
   "source": [
    "df_train = df_train.astype('int')\n",
    "df_test = df_test.astype('int')\n",
    "print (df_train.shape,df_test.shape)"
   ]
  },
  {
   "cell_type": "markdown",
   "metadata": {},
   "source": [
    "**Выделим целевые признаки**"
   ]
  },
  {
   "cell_type": "code",
   "execution_count": 32,
   "metadata": {},
   "outputs": [],
   "source": [
    "# Для обучающей выборки\n",
    "features_train = df_train.drop(columns =['rougher.output.recovery', 'final.output.recovery'], axis=1)\n",
    "\n",
    "target_train_r = df_train['rougher.output.recovery']\n",
    "target_train_f = df_train['final.output.recovery']"
   ]
  },
  {
   "cell_type": "code",
   "execution_count": 33,
   "metadata": {},
   "outputs": [],
   "source": [
    "# Для тестовой выборки\n",
    "features_test = df_test.drop(['rougher.output.recovery', 'final.output.recovery'], axis=1)\n",
    "\n",
    "target_test_r = df_test['rougher.output.recovery']\n",
    "target_test_f = df_test['final.output.recovery']"
   ]
  },
  {
   "cell_type": "markdown",
   "metadata": {},
   "source": [
    "**Создадим список моделей, выберем по дефолту лучший рез-т,оптимизируем пар-ты для лучшей модели**"
   ]
  },
  {
   "cell_type": "code",
   "execution_count": 34,
   "metadata": {},
   "outputs": [],
   "source": [
    "models = []\n",
    "models.append(LinearRegression())\n",
    "models.append(RandomForestRegressor(random_state=12345))\n",
    "models.append(RandomForestClassifier(random_state=12345))\n",
    "#models.append(SVC())\n",
    "models.append(KNeighborsClassifier())\n",
    "models.append(GaussianNB())\n",
    "models.append(DecisionTreeRegressor(random_state=12345))"
   ]
  },
  {
   "cell_type": "code",
   "execution_count": null,
   "metadata": {},
   "outputs": [
    {
     "name": "stdout",
     "output_type": "stream",
     "text": [
      "\n",
      "sMAPE для модели LinearRegression() на основе кроссвалидации: 9.733790140190473\n",
      "(sMAPE для модели LinearRegression() (расчет через метрику качества sMAPE)): 7.184443221594319)\n"
     ]
    }
   ],
   "source": [
    "for model in models:\n",
    "\n",
    "    model1 = model.fit(features_train, target_train_r)\n",
    "    predict_r = pd.Series(model1.predict(features_train))\n",
    "    smape_r = np.mean(cross_val_score(model, features_train,target_train_r, scoring=smape_score,cv=5, n_jobs=-1))   \n",
    "    smape_r2 = smape(target_train_r,predict_r)\n",
    "    \n",
    "    model2 = model.fit(features_train, target_train_f)\n",
    "    predict_f = pd.Series(model2.predict(features_train))\n",
    "    smape_f = np.mean(cross_val_score(model, features_train,target_train_f, scoring=smape_score,cv=5, n_jobs=-1))   \n",
    "    smape_f2 = smape(target_train_f,predict_f)\n",
    "    \n",
    "    print(f'\\nsMAPE для модели {model} на основе кроссвалидации:',smape_end(smape_r, smape_f))\n",
    "    print(f'(sMAPE для модели {model} (расчет через метрику качества sMAPE)): {smape_end(smape_r2, smape_f2)})')    "
   ]
  },
  {
   "cell_type": "markdown",
   "metadata": {},
   "source": [
    "**Оценив полученные дефолтные значения для различных алгоритмов, остановим свой выбор на алгоритме RandomForestRegressor(), как алгоритме который позволил получить нименьшее значение sMAPE на основе кроссвалидации, равное 9.092474611824889**"
   ]
  },
  {
   "cell_type": "code",
   "execution_count": null,
   "metadata": {},
   "outputs": [],
   "source": [
    "#парметры с диапазоном значений закоменнтировал, иначе обсчет значений затянется на часы...\n",
    "#params = {'n_estimators': np.arange(10, 101, 10),'max_depth': np.arange(1, 11),'random_state':[12345]}\n",
    "params = {'n_estimators': [100],'max_depth': [10],'random_state':[12345]}"
   ]
  },
  {
   "cell_type": "code",
   "execution_count": null,
   "metadata": {},
   "outputs": [],
   "source": [
    "grid_r = GridSearchCV(RandomForestRegressor(),param_grid=params,scoring=smape_score)\n",
    "grid_f = GridSearchCV(RandomForestRegressor(),param_grid=params,scoring=smape_score)"
   ]
  },
  {
   "cell_type": "code",
   "execution_count": null,
   "metadata": {},
   "outputs": [],
   "source": [
    "grid_r.fit(features_train,target_train_r);\n",
    "grid_f.fit(features_train,target_train_f);"
   ]
  },
  {
   "cell_type": "code",
   "execution_count": null,
   "metadata": {},
   "outputs": [],
   "source": [
    "print('Лучшие модели')\n",
    "print('rougher, ',grid_r.best_estimator_)\n",
    "print('final, ',grid_f.best_estimator_)"
   ]
  },
  {
   "cell_type": "code",
   "execution_count": null,
   "metadata": {},
   "outputs": [],
   "source": [
    "print('Лучшие значения')\n",
    "best_score_r = grid_r.best_score_\n",
    "best_score_f = grid_f.best_score_\n",
    "print(best_score_r,best_score_f)"
   ]
  },
  {
   "cell_type": "code",
   "execution_count": null,
   "metadata": {},
   "outputs": [],
   "source": [
    "smape_end(best_score_r,best_score_f)"
   ]
  },
  {
   "cell_type": "markdown",
   "metadata": {},
   "source": [
    "Оптимизировав гиперпараметры у алгоритма RandomForestRegressor, получилось добиться уменьшения значения метрики качества sMAPE с дефолтного значения 9.09 до 8.87."
   ]
  },
  {
   "cell_type": "markdown",
   "metadata": {},
   "source": [
    "### **Проведем прогноз параметров на тестовой выборке и сделаем расчет метрики качества sMAPE**"
   ]
  },
  {
   "cell_type": "code",
   "execution_count": null,
   "metadata": {},
   "outputs": [],
   "source": [
    "predict_test_r = grid_r.predict(features_test)\n",
    "predict_test_f = grid_f.predict(features_test)"
   ]
  },
  {
   "cell_type": "code",
   "execution_count": null,
   "metadata": {},
   "outputs": [],
   "source": [
    "smape_r = smape(target_test_r, predict_test_r)   \n",
    "smape_f = smape(target_test_f, predict_test_f)   \n",
    "print(f'Тестовая выборка \\nsMAPE для модели:',smape_end(smape_r, smape_f))"
   ]
  },
  {
   "cell_type": "markdown",
   "metadata": {},
   "source": [
    "## Общий вывод"
   ]
  },
  {
   "cell_type": "markdown",
   "metadata": {},
   "source": [
    "Очистив данные и подготовив/оптимизировав признаки для обучающей и тестовой выборки, мы можем сделать следующие заключения:  \n",
    "1. Выборка содержит столбец с корректными данными по коэффициенту обогащения. Проверка проводилась с помощью формулы обогащения. Это важный показатель, который учитывает содержания металла на различных технологических процессах.\n",
    "2. Распределения размеров гранул на обучающей и тестовой выборках практически совпадает, это говорит о том, что выборки сформированы корректно.  \n",
    "3. В тестовой выборке отсутвовали ряд важных признаков(rougher.output.recovery,final.output.recovery), которые мы в добавили.  \n",
    "4. Было проведено исследование суммарных концентрации металлов на различных стадиях тез.процесса. Был обнаружен аномальный выброс данных в \"нулевых\" значениях, который был в последствии удален.\n",
    "5. В процессе исследования моделей обучения, была выбрана модель RandomForestRegressor() на основе которой метрика качества  sMAPE(симметричное среднее абсолютное процентное отклонение) показала наименьшие значения по дефолту (9.09), в процессе оптимизации гиперпараметров, значение sMAPE удалось снизить до 8.87.  \n",
    "Проверка данной модели на тестовой базе, показало прекрасный показатель метрики качества sMAPE равным 7.15"
   ]
  }
 ],
 "metadata": {
  "ExecuteTimeLog": [
   {
    "duration": 2373,
    "start_time": "2022-03-21T07:46:57.601Z"
   },
   {
    "duration": 154,
    "start_time": "2022-03-21T07:48:51.410Z"
   },
   {
    "duration": 905,
    "start_time": "2022-03-21T07:48:53.789Z"
   },
   {
    "duration": 39,
    "start_time": "2022-03-21T07:48:55.463Z"
   },
   {
    "duration": 99,
    "start_time": "2022-03-21T07:51:26.649Z"
   },
   {
    "duration": 93,
    "start_time": "2022-03-21T07:52:03.278Z"
   },
   {
    "duration": 94,
    "start_time": "2022-03-21T07:52:11.828Z"
   },
   {
    "duration": 22,
    "start_time": "2022-03-21T07:52:45.776Z"
   },
   {
    "duration": 105,
    "start_time": "2022-03-21T07:52:49.758Z"
   },
   {
    "duration": 101,
    "start_time": "2022-03-21T07:54:18.903Z"
   },
   {
    "duration": 215,
    "start_time": "2022-03-21T07:56:04.285Z"
   },
   {
    "duration": 6,
    "start_time": "2022-03-21T07:56:41.744Z"
   },
   {
    "duration": 104,
    "start_time": "2022-03-21T07:57:11.385Z"
   },
   {
    "duration": 100,
    "start_time": "2022-03-21T07:57:43.225Z"
   },
   {
    "duration": 58,
    "start_time": "2022-03-24T20:40:14.043Z"
   },
   {
    "duration": 1384,
    "start_time": "2022-03-24T20:40:19.335Z"
   },
   {
    "duration": 676,
    "start_time": "2022-03-24T20:40:20.721Z"
   },
   {
    "duration": 114,
    "start_time": "2022-03-24T20:40:21.398Z"
   },
   {
    "duration": 118,
    "start_time": "2022-03-24T20:47:55.728Z"
   },
   {
    "duration": 110,
    "start_time": "2022-03-24T20:48:37.105Z"
   },
   {
    "duration": 1331,
    "start_time": "2022-03-24T20:48:44.613Z"
   },
   {
    "duration": 625,
    "start_time": "2022-03-24T20:48:45.946Z"
   },
   {
    "duration": 125,
    "start_time": "2022-03-24T20:48:46.573Z"
   },
   {
    "duration": 79,
    "start_time": "2022-03-24T21:17:19.215Z"
   },
   {
    "duration": 59,
    "start_time": "2022-03-24T21:25:34.355Z"
   },
   {
    "duration": 70,
    "start_time": "2022-03-24T21:25:37.571Z"
   },
   {
    "duration": 59,
    "start_time": "2022-03-24T21:25:59.188Z"
   },
   {
    "duration": 60,
    "start_time": "2022-03-24T21:26:06.467Z"
   },
   {
    "duration": 3,
    "start_time": "2022-03-24T21:26:37.571Z"
   },
   {
    "duration": 130,
    "start_time": "2022-03-24T21:26:39.387Z"
   },
   {
    "duration": 7,
    "start_time": "2022-03-24T21:26:54.137Z"
   },
   {
    "duration": 7,
    "start_time": "2022-03-24T21:26:57.043Z"
   },
   {
    "duration": 76,
    "start_time": "2022-03-24T21:29:36.042Z"
   },
   {
    "duration": 130,
    "start_time": "2022-03-24T21:29:58.106Z"
   },
   {
    "duration": 107,
    "start_time": "2022-03-24T21:32:45.688Z"
   },
   {
    "duration": 4,
    "start_time": "2022-03-24T21:33:09.687Z"
   },
   {
    "duration": 10,
    "start_time": "2022-03-24T21:33:16.837Z"
   },
   {
    "duration": 7,
    "start_time": "2022-03-24T21:33:26.948Z"
   },
   {
    "duration": 8,
    "start_time": "2022-03-24T21:41:56.318Z"
   },
   {
    "duration": 5,
    "start_time": "2022-03-24T21:42:16.536Z"
   },
   {
    "duration": 3,
    "start_time": "2022-03-24T21:42:45.222Z"
   },
   {
    "duration": 3,
    "start_time": "2022-03-24T21:42:56.272Z"
   },
   {
    "duration": 3,
    "start_time": "2022-03-24T21:43:12.603Z"
   },
   {
    "duration": 9,
    "start_time": "2022-03-24T21:43:33.249Z"
   },
   {
    "duration": 4,
    "start_time": "2022-03-24T21:44:24.568Z"
   },
   {
    "duration": 4,
    "start_time": "2022-03-24T21:44:33.963Z"
   },
   {
    "duration": 4,
    "start_time": "2022-03-24T21:44:37.325Z"
   },
   {
    "duration": 4,
    "start_time": "2022-03-24T21:45:01.090Z"
   },
   {
    "duration": 3,
    "start_time": "2022-03-24T21:45:13.839Z"
   },
   {
    "duration": 5,
    "start_time": "2022-03-24T21:45:37.770Z"
   },
   {
    "duration": 9,
    "start_time": "2022-03-27T22:32:11.545Z"
   },
   {
    "duration": 4,
    "start_time": "2022-03-27T22:32:25.958Z"
   },
   {
    "duration": 1546,
    "start_time": "2022-03-27T22:32:33.215Z"
   },
   {
    "duration": 660,
    "start_time": "2022-03-27T22:32:34.763Z"
   },
   {
    "duration": 137,
    "start_time": "2022-03-27T22:32:35.425Z"
   },
   {
    "duration": 109,
    "start_time": "2022-03-27T22:32:35.563Z"
   },
   {
    "duration": 0,
    "start_time": "2022-03-27T22:32:35.674Z"
   },
   {
    "duration": 0,
    "start_time": "2022-03-27T22:32:35.675Z"
   },
   {
    "duration": 0,
    "start_time": "2022-03-27T22:32:35.676Z"
   },
   {
    "duration": 0,
    "start_time": "2022-03-27T22:32:35.677Z"
   },
   {
    "duration": 4,
    "start_time": "2022-03-27T22:33:11.537Z"
   },
   {
    "duration": 3,
    "start_time": "2022-03-27T22:33:12.852Z"
   },
   {
    "duration": 7,
    "start_time": "2022-03-27T22:33:14.006Z"
   },
   {
    "duration": 5,
    "start_time": "2022-03-27T22:33:16.525Z"
   },
   {
    "duration": 4,
    "start_time": "2022-03-27T22:33:19.230Z"
   },
   {
    "duration": 1953,
    "start_time": "2022-03-27T22:33:42.256Z"
   },
   {
    "duration": 46,
    "start_time": "2022-03-27T22:35:12.114Z"
   },
   {
    "duration": 126,
    "start_time": "2022-03-27T22:45:00.708Z"
   },
   {
    "duration": 110,
    "start_time": "2022-03-27T22:45:29.193Z"
   },
   {
    "duration": 101,
    "start_time": "2022-03-27T22:45:54.357Z"
   },
   {
    "duration": 8,
    "start_time": "2022-03-27T22:49:39.443Z"
   },
   {
    "duration": 14,
    "start_time": "2022-03-27T22:50:10.599Z"
   },
   {
    "duration": 14,
    "start_time": "2022-03-27T22:50:20.221Z"
   },
   {
    "duration": 19,
    "start_time": "2022-03-27T22:50:48.823Z"
   },
   {
    "duration": 18,
    "start_time": "2022-03-27T22:50:56.153Z"
   },
   {
    "duration": 11,
    "start_time": "2022-03-27T22:51:45.103Z"
   },
   {
    "duration": 12,
    "start_time": "2022-03-27T22:53:02.394Z"
   },
   {
    "duration": 9,
    "start_time": "2022-03-27T22:54:41.727Z"
   },
   {
    "duration": 16,
    "start_time": "2022-03-27T22:59:15.080Z"
   },
   {
    "duration": 15295,
    "start_time": "2022-03-27T22:59:35.244Z"
   },
   {
    "duration": 38,
    "start_time": "2022-03-27T22:59:55.983Z"
   },
   {
    "duration": 1331,
    "start_time": "2022-03-27T23:00:07.292Z"
   },
   {
    "duration": 680,
    "start_time": "2022-03-27T23:00:08.625Z"
   },
   {
    "duration": 134,
    "start_time": "2022-03-27T23:00:09.307Z"
   },
   {
    "duration": 5,
    "start_time": "2022-03-27T23:00:09.444Z"
   },
   {
    "duration": 12,
    "start_time": "2022-03-27T23:00:09.451Z"
   },
   {
    "duration": 12,
    "start_time": "2022-03-27T23:00:09.465Z"
   },
   {
    "duration": 6,
    "start_time": "2022-03-27T23:00:09.479Z"
   },
   {
    "duration": 73,
    "start_time": "2022-03-27T23:00:09.487Z"
   },
   {
    "duration": 12,
    "start_time": "2022-03-27T23:00:09.562Z"
   },
   {
    "duration": 36,
    "start_time": "2022-03-27T23:00:09.576Z"
   },
   {
    "duration": 119,
    "start_time": "2022-03-27T23:00:09.633Z"
   },
   {
    "duration": 38,
    "start_time": "2022-03-27T23:00:49.922Z"
   },
   {
    "duration": 1373,
    "start_time": "2022-03-27T23:00:55.335Z"
   },
   {
    "duration": 664,
    "start_time": "2022-03-27T23:00:56.710Z"
   },
   {
    "duration": 114,
    "start_time": "2022-03-27T23:00:57.375Z"
   },
   {
    "duration": 4,
    "start_time": "2022-03-27T23:00:57.491Z"
   },
   {
    "duration": 8,
    "start_time": "2022-03-27T23:00:57.496Z"
   },
   {
    "duration": 10,
    "start_time": "2022-03-27T23:00:57.505Z"
   },
   {
    "duration": 20,
    "start_time": "2022-03-27T23:00:57.516Z"
   },
   {
    "duration": 46,
    "start_time": "2022-03-27T23:00:57.537Z"
   },
   {
    "duration": 10,
    "start_time": "2022-03-27T23:00:57.585Z"
   },
   {
    "duration": 55,
    "start_time": "2022-03-27T23:00:57.598Z"
   },
   {
    "duration": 126,
    "start_time": "2022-03-27T23:00:57.655Z"
   },
   {
    "duration": 0,
    "start_time": "2022-03-27T23:00:57.783Z"
   },
   {
    "duration": 0,
    "start_time": "2022-03-27T23:00:57.784Z"
   },
   {
    "duration": 13,
    "start_time": "2022-03-27T23:01:42.466Z"
   },
   {
    "duration": 6,
    "start_time": "2022-03-27T23:04:58.700Z"
   },
   {
    "duration": 33,
    "start_time": "2022-03-27T23:05:00.090Z"
   },
   {
    "duration": 3885,
    "start_time": "2022-03-27T23:05:05.052Z"
   },
   {
    "duration": 9,
    "start_time": "2022-03-27T23:05:26.721Z"
   },
   {
    "duration": 4,
    "start_time": "2022-03-27T23:05:47.068Z"
   },
   {
    "duration": 15,
    "start_time": "2022-03-27T23:06:58.099Z"
   },
   {
    "duration": 1345,
    "start_time": "2022-03-27T23:07:15.968Z"
   },
   {
    "duration": 652,
    "start_time": "2022-03-27T23:07:17.315Z"
   },
   {
    "duration": 114,
    "start_time": "2022-03-27T23:07:17.969Z"
   },
   {
    "duration": 5,
    "start_time": "2022-03-27T23:07:18.085Z"
   },
   {
    "duration": 8,
    "start_time": "2022-03-27T23:07:18.092Z"
   },
   {
    "duration": 10,
    "start_time": "2022-03-27T23:07:18.101Z"
   },
   {
    "duration": 22,
    "start_time": "2022-03-27T23:07:18.112Z"
   },
   {
    "duration": 46,
    "start_time": "2022-03-27T23:07:18.136Z"
   },
   {
    "duration": 11,
    "start_time": "2022-03-27T23:07:18.184Z"
   },
   {
    "duration": 62,
    "start_time": "2022-03-27T23:07:18.197Z"
   },
   {
    "duration": 6,
    "start_time": "2022-03-27T23:07:18.261Z"
   },
   {
    "duration": 38,
    "start_time": "2022-03-27T23:07:18.269Z"
   },
   {
    "duration": 3858,
    "start_time": "2022-03-27T23:07:18.309Z"
   },
   {
    "duration": 15493,
    "start_time": "2022-03-27T23:07:22.169Z"
   },
   {
    "duration": 104,
    "start_time": "2022-03-27T23:07:39.158Z"
   },
   {
    "duration": 105,
    "start_time": "2022-03-27T23:08:06.181Z"
   },
   {
    "duration": 7,
    "start_time": "2022-03-27T23:08:13.930Z"
   },
   {
    "duration": 51,
    "start_time": "2022-03-28T19:01:05.265Z"
   },
   {
    "duration": 1786,
    "start_time": "2022-03-28T19:01:12.154Z"
   },
   {
    "duration": 727,
    "start_time": "2022-03-28T19:01:13.942Z"
   },
   {
    "duration": 137,
    "start_time": "2022-03-28T19:01:14.671Z"
   },
   {
    "duration": 4,
    "start_time": "2022-03-28T19:01:14.811Z"
   },
   {
    "duration": 3,
    "start_time": "2022-03-28T19:01:14.831Z"
   },
   {
    "duration": 10,
    "start_time": "2022-03-28T19:01:14.837Z"
   },
   {
    "duration": 6,
    "start_time": "2022-03-28T19:01:14.849Z"
   },
   {
    "duration": 81,
    "start_time": "2022-03-28T19:01:14.857Z"
   },
   {
    "duration": 6,
    "start_time": "2022-03-28T19:01:14.940Z"
   },
   {
    "duration": 52,
    "start_time": "2022-03-28T19:01:14.949Z"
   },
   {
    "duration": 9,
    "start_time": "2022-03-28T19:01:15.003Z"
   },
   {
    "duration": 46,
    "start_time": "2022-03-28T19:01:15.033Z"
   },
   {
    "duration": 4247,
    "start_time": "2022-03-28T19:01:15.080Z"
   },
   {
    "duration": 12,
    "start_time": "2022-03-28T19:01:19.329Z"
   },
   {
    "duration": 141,
    "start_time": "2022-03-28T19:03:53.595Z"
   },
   {
    "duration": 219,
    "start_time": "2022-03-28T19:04:46.434Z"
   },
   {
    "duration": 7,
    "start_time": "2022-03-28T19:04:53.090Z"
   },
   {
    "duration": 2,
    "start_time": "2022-03-28T19:08:37.034Z"
   },
   {
    "duration": 12,
    "start_time": "2022-03-28T19:19:57.980Z"
   },
   {
    "duration": 3,
    "start_time": "2022-03-28T19:20:05.114Z"
   },
   {
    "duration": 16,
    "start_time": "2022-03-28T19:20:05.800Z"
   },
   {
    "duration": 3,
    "start_time": "2022-03-28T19:20:24.395Z"
   },
   {
    "duration": 13,
    "start_time": "2022-03-28T19:20:25.305Z"
   },
   {
    "duration": 4,
    "start_time": "2022-03-28T19:24:48.515Z"
   },
   {
    "duration": 172,
    "start_time": "2022-03-28T19:25:54.141Z"
   },
   {
    "duration": 547,
    "start_time": "2022-03-28T19:26:16.697Z"
   },
   {
    "duration": 4,
    "start_time": "2022-03-28T19:28:16.836Z"
   },
   {
    "duration": 596,
    "start_time": "2022-03-28T19:28:23.213Z"
   },
   {
    "duration": 512,
    "start_time": "2022-03-28T19:29:06.981Z"
   },
   {
    "duration": 560,
    "start_time": "2022-03-28T19:29:38.958Z"
   },
   {
    "duration": 13,
    "start_time": "2022-03-28T19:34:24.542Z"
   },
   {
    "duration": 189,
    "start_time": "2022-03-28T19:40:17.956Z"
   },
   {
    "duration": 501,
    "start_time": "2022-03-28T19:41:24.548Z"
   },
   {
    "duration": 11,
    "start_time": "2022-03-28T21:31:58.947Z"
   },
   {
    "duration": 431,
    "start_time": "2022-03-28T21:32:10.528Z"
   },
   {
    "duration": 13,
    "start_time": "2022-03-28T21:34:48.250Z"
   },
   {
    "duration": 266,
    "start_time": "2022-03-28T21:37:35.915Z"
   },
   {
    "duration": 172,
    "start_time": "2022-03-28T21:37:55.718Z"
   },
   {
    "duration": 12,
    "start_time": "2022-03-28T21:41:51.843Z"
   },
   {
    "duration": 12,
    "start_time": "2022-03-28T21:42:07.726Z"
   },
   {
    "duration": 427,
    "start_time": "2022-03-28T21:49:40.896Z"
   },
   {
    "duration": 449,
    "start_time": "2022-03-28T21:50:18.808Z"
   },
   {
    "duration": 329,
    "start_time": "2022-03-28T21:51:45.656Z"
   },
   {
    "duration": 327,
    "start_time": "2022-03-28T21:52:55.875Z"
   },
   {
    "duration": 18,
    "start_time": "2022-03-28T21:53:39.996Z"
   },
   {
    "duration": 452,
    "start_time": "2022-03-28T21:54:00.793Z"
   },
   {
    "duration": 383,
    "start_time": "2022-03-28T21:54:48.250Z"
   },
   {
    "duration": 16,
    "start_time": "2022-03-28T21:57:25.724Z"
   },
   {
    "duration": 17,
    "start_time": "2022-03-28T21:59:48.796Z"
   },
   {
    "duration": 17,
    "start_time": "2022-03-28T22:00:02.268Z"
   },
   {
    "duration": 386,
    "start_time": "2022-03-28T22:00:26.131Z"
   },
   {
    "duration": 448,
    "start_time": "2022-03-28T22:01:00.684Z"
   },
   {
    "duration": 421,
    "start_time": "2022-03-28T22:01:22.221Z"
   },
   {
    "duration": 16,
    "start_time": "2022-03-28T22:05:00.558Z"
   },
   {
    "duration": 16,
    "start_time": "2022-03-28T22:05:49.412Z"
   },
   {
    "duration": 421,
    "start_time": "2022-03-28T22:06:09.127Z"
   },
   {
    "duration": 164,
    "start_time": "2022-03-28T22:06:30.500Z"
   },
   {
    "duration": 1329,
    "start_time": "2022-03-28T22:07:14.246Z"
   },
   {
    "duration": 420,
    "start_time": "2022-03-28T22:07:42.475Z"
   },
   {
    "duration": 1370,
    "start_time": "2022-03-28T22:07:47.632Z"
   },
   {
    "duration": 174,
    "start_time": "2022-03-28T22:08:01.967Z"
   },
   {
    "duration": 139,
    "start_time": "2022-03-28T22:08:50.905Z"
   },
   {
    "duration": 381,
    "start_time": "2022-03-28T22:11:22.360Z"
   },
   {
    "duration": 452,
    "start_time": "2022-03-28T22:12:38.789Z"
   },
   {
    "duration": 163,
    "start_time": "2022-03-28T22:14:55.914Z"
   },
   {
    "duration": 363,
    "start_time": "2022-03-28T22:15:03.513Z"
   },
   {
    "duration": 653,
    "start_time": "2022-03-28T22:18:54.093Z"
   },
   {
    "duration": 1961,
    "start_time": "2022-03-29T15:57:19.385Z"
   },
   {
    "duration": 706,
    "start_time": "2022-03-29T15:57:21.349Z"
   },
   {
    "duration": 137,
    "start_time": "2022-03-29T15:57:22.057Z"
   },
   {
    "duration": 7,
    "start_time": "2022-03-29T15:57:22.202Z"
   },
   {
    "duration": 15,
    "start_time": "2022-03-29T15:57:22.216Z"
   },
   {
    "duration": 13,
    "start_time": "2022-03-29T15:57:22.233Z"
   },
   {
    "duration": 7,
    "start_time": "2022-03-29T15:57:22.247Z"
   },
   {
    "duration": 93,
    "start_time": "2022-03-29T15:57:22.255Z"
   },
   {
    "duration": 21,
    "start_time": "2022-03-29T15:57:22.350Z"
   },
   {
    "duration": 60,
    "start_time": "2022-03-29T15:57:22.374Z"
   },
   {
    "duration": 9,
    "start_time": "2022-03-29T15:57:22.437Z"
   },
   {
    "duration": 69,
    "start_time": "2022-03-29T15:57:22.449Z"
   },
   {
    "duration": 6531,
    "start_time": "2022-03-29T15:57:22.522Z"
   },
   {
    "duration": 284,
    "start_time": "2022-03-29T15:57:29.056Z"
   },
   {
    "duration": 3,
    "start_time": "2022-03-29T15:57:29.343Z"
   },
   {
    "duration": 10,
    "start_time": "2022-03-29T15:57:29.348Z"
   },
   {
    "duration": 610,
    "start_time": "2022-03-29T15:57:29.360Z"
   },
   {
    "duration": 523,
    "start_time": "2022-03-29T15:57:29.972Z"
   },
   {
    "duration": 552,
    "start_time": "2022-03-29T15:57:30.496Z"
   },
   {
    "duration": 1333,
    "start_time": "2022-03-29T15:57:31.050Z"
   },
   {
    "duration": 296,
    "start_time": "2022-03-29T15:57:32.385Z"
   },
   {
    "duration": 0,
    "start_time": "2022-03-29T15:57:32.684Z"
   },
   {
    "duration": 136,
    "start_time": "2022-03-29T15:58:30.902Z"
   },
   {
    "duration": 565,
    "start_time": "2022-03-29T15:58:41.890Z"
   },
   {
    "duration": 541,
    "start_time": "2022-03-29T16:00:39.777Z"
   },
   {
    "duration": 448,
    "start_time": "2022-03-29T16:00:55.160Z"
   },
   {
    "duration": 459,
    "start_time": "2022-03-29T16:01:02.418Z"
   },
   {
    "duration": 453,
    "start_time": "2022-03-29T16:01:39.644Z"
   },
   {
    "duration": 429,
    "start_time": "2022-03-29T16:01:55.874Z"
   },
   {
    "duration": 494,
    "start_time": "2022-03-29T16:03:15.868Z"
   },
   {
    "duration": 12,
    "start_time": "2022-03-29T16:05:00.456Z"
   },
   {
    "duration": 27,
    "start_time": "2022-03-29T16:05:29.882Z"
   },
   {
    "duration": 25,
    "start_time": "2022-03-29T16:06:17.089Z"
   },
   {
    "duration": 13118,
    "start_time": "2022-03-29T16:07:13.284Z"
   },
   {
    "duration": 15785,
    "start_time": "2022-03-29T16:08:22.421Z"
   },
   {
    "duration": 373,
    "start_time": "2022-03-29T16:09:17.887Z"
   },
   {
    "duration": 493,
    "start_time": "2022-03-29T16:09:33.267Z"
   },
   {
    "duration": 464,
    "start_time": "2022-03-29T16:09:47.730Z"
   },
   {
    "duration": 494,
    "start_time": "2022-03-29T16:10:36.907Z"
   },
   {
    "duration": 340,
    "start_time": "2022-03-29T16:10:44.834Z"
   },
   {
    "duration": 489,
    "start_time": "2022-03-29T16:11:24.842Z"
   },
   {
    "duration": 536,
    "start_time": "2022-03-29T16:11:42.163Z"
   },
   {
    "duration": 1635,
    "start_time": "2022-03-29T16:14:22.554Z"
   },
   {
    "duration": 720,
    "start_time": "2022-03-29T16:14:24.191Z"
   },
   {
    "duration": 145,
    "start_time": "2022-03-29T16:14:24.912Z"
   },
   {
    "duration": 5,
    "start_time": "2022-03-29T16:14:25.060Z"
   },
   {
    "duration": 11,
    "start_time": "2022-03-29T16:14:25.067Z"
   },
   {
    "duration": 31,
    "start_time": "2022-03-29T16:14:25.081Z"
   },
   {
    "duration": 9,
    "start_time": "2022-03-29T16:14:25.115Z"
   },
   {
    "duration": 61,
    "start_time": "2022-03-29T16:14:25.126Z"
   },
   {
    "duration": 18,
    "start_time": "2022-03-29T16:14:25.201Z"
   },
   {
    "duration": 76,
    "start_time": "2022-03-29T16:14:25.223Z"
   },
   {
    "duration": 7,
    "start_time": "2022-03-29T16:14:25.301Z"
   },
   {
    "duration": 69,
    "start_time": "2022-03-29T16:14:25.310Z"
   },
   {
    "duration": 10582,
    "start_time": "2022-03-29T16:14:25.381Z"
   },
   {
    "duration": 361,
    "start_time": "2022-03-29T16:14:35.968Z"
   },
   {
    "duration": 2,
    "start_time": "2022-03-29T16:14:36.331Z"
   },
   {
    "duration": 30,
    "start_time": "2022-03-29T16:14:36.336Z"
   },
   {
    "duration": 585,
    "start_time": "2022-03-29T16:14:36.368Z"
   },
   {
    "duration": 588,
    "start_time": "2022-03-29T16:14:36.955Z"
   },
   {
    "duration": 647,
    "start_time": "2022-03-29T16:14:37.545Z"
   },
   {
    "duration": 796,
    "start_time": "2022-03-29T16:14:38.195Z"
   },
   {
    "duration": 0,
    "start_time": "2022-03-29T16:14:38.993Z"
   },
   {
    "duration": 0,
    "start_time": "2022-03-29T16:14:38.995Z"
   },
   {
    "duration": 0,
    "start_time": "2022-03-29T16:14:38.996Z"
   },
   {
    "duration": 535,
    "start_time": "2022-03-29T16:16:39.069Z"
   },
   {
    "duration": 507,
    "start_time": "2022-03-29T16:17:03.685Z"
   },
   {
    "duration": 498,
    "start_time": "2022-03-29T16:17:20.694Z"
   },
   {
    "duration": 532,
    "start_time": "2022-03-29T16:17:25.271Z"
   },
   {
    "duration": 142,
    "start_time": "2022-03-29T16:17:57.932Z"
   },
   {
    "duration": 414,
    "start_time": "2022-03-29T16:18:04.076Z"
   },
   {
    "duration": 419,
    "start_time": "2022-03-29T16:18:41.589Z"
   },
   {
    "duration": 440,
    "start_time": "2022-03-29T16:19:15.502Z"
   },
   {
    "duration": 409,
    "start_time": "2022-03-29T16:19:30.887Z"
   },
   {
    "duration": 501,
    "start_time": "2022-03-29T16:19:45.877Z"
   },
   {
    "duration": 393,
    "start_time": "2022-03-29T16:19:58.885Z"
   },
   {
    "duration": 529,
    "start_time": "2022-03-29T16:20:06.670Z"
   },
   {
    "duration": 379,
    "start_time": "2022-03-29T16:21:43.026Z"
   },
   {
    "duration": 467,
    "start_time": "2022-03-29T16:22:23.448Z"
   },
   {
    "duration": 456,
    "start_time": "2022-03-29T16:22:52.450Z"
   },
   {
    "duration": 478,
    "start_time": "2022-03-29T16:23:09.838Z"
   },
   {
    "duration": 387,
    "start_time": "2022-03-29T16:27:17.816Z"
   },
   {
    "duration": 444,
    "start_time": "2022-03-29T16:27:55.349Z"
   },
   {
    "duration": 95,
    "start_time": "2022-03-29T17:26:02.898Z"
   },
   {
    "duration": 3407,
    "start_time": "2022-03-29T17:26:09.635Z"
   },
   {
    "duration": 804,
    "start_time": "2022-03-29T17:26:13.046Z"
   },
   {
    "duration": 208,
    "start_time": "2022-03-29T17:26:13.852Z"
   },
   {
    "duration": 6,
    "start_time": "2022-03-29T17:26:14.064Z"
   },
   {
    "duration": 9,
    "start_time": "2022-03-29T17:26:14.073Z"
   },
   {
    "duration": 16,
    "start_time": "2022-03-29T17:26:14.085Z"
   },
   {
    "duration": 44,
    "start_time": "2022-03-29T17:26:14.104Z"
   },
   {
    "duration": 96,
    "start_time": "2022-03-29T17:26:14.151Z"
   },
   {
    "duration": 18,
    "start_time": "2022-03-29T17:26:14.251Z"
   },
   {
    "duration": 94,
    "start_time": "2022-03-29T17:26:14.273Z"
   },
   {
    "duration": 8,
    "start_time": "2022-03-29T17:26:14.370Z"
   },
   {
    "duration": 86,
    "start_time": "2022-03-29T17:26:14.381Z"
   },
   {
    "duration": 4868,
    "start_time": "2022-03-29T17:26:14.469Z"
   },
   {
    "duration": 356,
    "start_time": "2022-03-29T17:26:19.343Z"
   },
   {
    "duration": 4,
    "start_time": "2022-03-29T17:26:19.702Z"
   },
   {
    "duration": 12,
    "start_time": "2022-03-29T17:26:19.709Z"
   },
   {
    "duration": 833,
    "start_time": "2022-03-29T17:26:19.725Z"
   },
   {
    "duration": 754,
    "start_time": "2022-03-29T17:26:20.561Z"
   },
   {
    "duration": 869,
    "start_time": "2022-03-29T17:26:21.319Z"
   },
   {
    "duration": 780,
    "start_time": "2022-03-29T17:26:22.192Z"
   },
   {
    "duration": 0,
    "start_time": "2022-03-29T17:26:22.975Z"
   },
   {
    "duration": 0,
    "start_time": "2022-03-29T17:26:22.976Z"
   },
   {
    "duration": 0,
    "start_time": "2022-03-29T17:26:22.977Z"
   },
   {
    "duration": 764,
    "start_time": "2022-03-29T17:28:37.175Z"
   },
   {
    "duration": 555,
    "start_time": "2022-03-29T17:32:33.917Z"
   },
   {
    "duration": 966,
    "start_time": "2022-03-29T17:33:43.560Z"
   },
   {
    "duration": 637,
    "start_time": "2022-03-29T17:35:52.038Z"
   },
   {
    "duration": 567,
    "start_time": "2022-03-29T17:39:53.592Z"
   },
   {
    "duration": 76,
    "start_time": "2022-03-29T18:32:29.051Z"
   },
   {
    "duration": 2155,
    "start_time": "2022-03-29T18:32:36.045Z"
   },
   {
    "duration": 783,
    "start_time": "2022-03-29T18:32:38.202Z"
   },
   {
    "duration": 200,
    "start_time": "2022-03-29T18:32:38.988Z"
   },
   {
    "duration": 6,
    "start_time": "2022-03-29T18:32:39.191Z"
   },
   {
    "duration": 14,
    "start_time": "2022-03-29T18:32:39.199Z"
   },
   {
    "duration": 18,
    "start_time": "2022-03-29T18:32:39.215Z"
   },
   {
    "duration": 7,
    "start_time": "2022-03-29T18:32:39.235Z"
   },
   {
    "duration": 92,
    "start_time": "2022-03-29T18:32:39.244Z"
   },
   {
    "duration": 36,
    "start_time": "2022-03-29T18:32:39.339Z"
   },
   {
    "duration": 59,
    "start_time": "2022-03-29T18:32:39.378Z"
   },
   {
    "duration": 9,
    "start_time": "2022-03-29T18:32:39.439Z"
   },
   {
    "duration": 76,
    "start_time": "2022-03-29T18:32:39.450Z"
   },
   {
    "duration": 4691,
    "start_time": "2022-03-29T18:32:39.529Z"
   },
   {
    "duration": 288,
    "start_time": "2022-03-29T18:32:44.222Z"
   },
   {
    "duration": 4,
    "start_time": "2022-03-29T18:32:44.512Z"
   },
   {
    "duration": 12,
    "start_time": "2022-03-29T18:32:44.518Z"
   },
   {
    "duration": 803,
    "start_time": "2022-03-29T18:32:44.532Z"
   },
   {
    "duration": 732,
    "start_time": "2022-03-29T18:32:45.337Z"
   },
   {
    "duration": 602,
    "start_time": "2022-03-29T18:32:46.071Z"
   },
   {
    "duration": 609,
    "start_time": "2022-03-29T18:32:46.676Z"
   },
   {
    "duration": 733,
    "start_time": "2022-03-29T18:32:47.288Z"
   },
   {
    "duration": 1637,
    "start_time": "2022-03-29T18:32:48.023Z"
   },
   {
    "duration": 5,
    "start_time": "2022-03-29T18:34:59.706Z"
   },
   {
    "duration": 1347,
    "start_time": "2022-03-29T18:35:12.289Z"
   },
   {
    "duration": 1652,
    "start_time": "2022-03-29T18:38:09.223Z"
   },
   {
    "duration": 1924,
    "start_time": "2022-03-29T19:23:22.527Z"
   },
   {
    "duration": 1298,
    "start_time": "2022-03-29T19:23:24.453Z"
   },
   {
    "duration": 273,
    "start_time": "2022-03-29T19:23:25.754Z"
   },
   {
    "duration": 5,
    "start_time": "2022-03-29T19:23:26.032Z"
   },
   {
    "duration": 9,
    "start_time": "2022-03-29T19:23:26.040Z"
   },
   {
    "duration": 22,
    "start_time": "2022-03-29T19:23:26.052Z"
   },
   {
    "duration": 10,
    "start_time": "2022-03-29T19:23:26.077Z"
   },
   {
    "duration": 113,
    "start_time": "2022-03-29T19:23:26.089Z"
   },
   {
    "duration": 4,
    "start_time": "2022-03-29T19:23:26.206Z"
   },
   {
    "duration": 122,
    "start_time": "2022-03-29T19:23:26.215Z"
   },
   {
    "duration": 10,
    "start_time": "2022-03-29T19:23:26.339Z"
   },
   {
    "duration": 128,
    "start_time": "2022-03-29T19:23:26.351Z"
   },
   {
    "duration": 14436,
    "start_time": "2022-03-29T19:23:26.483Z"
   },
   {
    "duration": 288,
    "start_time": "2022-03-29T19:23:40.922Z"
   },
   {
    "duration": 4,
    "start_time": "2022-03-29T19:23:41.212Z"
   },
   {
    "duration": 4,
    "start_time": "2022-03-29T19:23:41.219Z"
   },
   {
    "duration": 1150,
    "start_time": "2022-03-29T19:23:41.226Z"
   },
   {
    "duration": 837,
    "start_time": "2022-03-29T19:23:42.380Z"
   },
   {
    "duration": 656,
    "start_time": "2022-03-29T19:23:43.219Z"
   },
   {
    "duration": 545,
    "start_time": "2022-03-29T19:23:43.878Z"
   },
   {
    "duration": 759,
    "start_time": "2022-03-29T19:23:44.425Z"
   },
   {
    "duration": 6,
    "start_time": "2022-03-29T19:23:45.187Z"
   },
   {
    "duration": 258,
    "start_time": "2022-03-29T19:23:45.196Z"
   },
   {
    "duration": 94,
    "start_time": "2022-03-29T19:23:45.456Z"
   },
   {
    "duration": 0,
    "start_time": "2022-03-29T19:23:45.552Z"
   },
   {
    "duration": 6,
    "start_time": "2022-03-29T19:24:43.664Z"
   },
   {
    "duration": 99,
    "start_time": "2022-03-29T19:24:44.864Z"
   },
   {
    "duration": 332,
    "start_time": "2022-03-29T19:48:12.570Z"
   },
   {
    "duration": 1740,
    "start_time": "2022-03-29T20:02:45.147Z"
   },
   {
    "duration": 695,
    "start_time": "2022-03-29T20:02:46.889Z"
   },
   {
    "duration": 132,
    "start_time": "2022-03-29T20:02:47.586Z"
   },
   {
    "duration": 13,
    "start_time": "2022-03-29T20:02:47.719Z"
   },
   {
    "duration": 6,
    "start_time": "2022-03-29T20:02:47.734Z"
   },
   {
    "duration": 10,
    "start_time": "2022-03-29T20:02:47.741Z"
   },
   {
    "duration": 5,
    "start_time": "2022-03-29T20:02:47.753Z"
   },
   {
    "duration": 74,
    "start_time": "2022-03-29T20:02:47.759Z"
   },
   {
    "duration": 2,
    "start_time": "2022-03-29T20:02:47.835Z"
   },
   {
    "duration": 63,
    "start_time": "2022-03-29T20:02:47.839Z"
   },
   {
    "duration": 9,
    "start_time": "2022-03-29T20:02:47.904Z"
   },
   {
    "duration": 65,
    "start_time": "2022-03-29T20:02:47.932Z"
   },
   {
    "duration": 17208,
    "start_time": "2022-03-29T20:02:47.998Z"
   },
   {
    "duration": 251,
    "start_time": "2022-03-29T20:03:05.208Z"
   },
   {
    "duration": 3,
    "start_time": "2022-03-29T20:03:05.461Z"
   },
   {
    "duration": 39,
    "start_time": "2022-03-29T20:03:05.465Z"
   },
   {
    "duration": 555,
    "start_time": "2022-03-29T20:03:05.506Z"
   },
   {
    "duration": 491,
    "start_time": "2022-03-29T20:03:06.063Z"
   },
   {
    "duration": 471,
    "start_time": "2022-03-29T20:03:06.556Z"
   },
   {
    "duration": 530,
    "start_time": "2022-03-29T20:03:07.031Z"
   },
   {
    "duration": 487,
    "start_time": "2022-03-29T20:03:07.563Z"
   },
   {
    "duration": 5,
    "start_time": "2022-03-29T20:03:08.052Z"
   },
   {
    "duration": 10,
    "start_time": "2022-03-29T20:03:08.059Z"
   },
   {
    "duration": 74,
    "start_time": "2022-03-29T20:03:08.071Z"
   },
   {
    "duration": 158,
    "start_time": "2022-03-29T20:03:08.147Z"
   },
   {
    "duration": 176,
    "start_time": "2022-03-29T20:03:08.306Z"
   },
   {
    "duration": 1111,
    "start_time": "2022-03-29T20:03:34.451Z"
   },
   {
    "duration": 825,
    "start_time": "2022-03-29T20:04:27.177Z"
   },
   {
    "duration": 926,
    "start_time": "2022-03-29T20:04:34.182Z"
   },
   {
    "duration": 893,
    "start_time": "2022-03-29T20:05:07.636Z"
   },
   {
    "duration": 862,
    "start_time": "2022-03-29T20:07:56.845Z"
   },
   {
    "duration": 988,
    "start_time": "2022-03-29T20:08:59.622Z"
   },
   {
    "duration": 883,
    "start_time": "2022-03-29T20:09:48.830Z"
   },
   {
    "duration": 837,
    "start_time": "2022-03-29T20:11:21.688Z"
   },
   {
    "duration": 753,
    "start_time": "2022-03-29T20:12:35.648Z"
   },
   {
    "duration": 911,
    "start_time": "2022-03-29T20:12:45.912Z"
   },
   {
    "duration": 883,
    "start_time": "2022-03-29T20:14:18.936Z"
   },
   {
    "duration": 1574,
    "start_time": "2022-03-29T20:21:08.040Z"
   },
   {
    "duration": 720,
    "start_time": "2022-03-29T20:21:09.616Z"
   },
   {
    "duration": 140,
    "start_time": "2022-03-29T20:21:10.337Z"
   },
   {
    "duration": 5,
    "start_time": "2022-03-29T20:21:10.479Z"
   },
   {
    "duration": 7,
    "start_time": "2022-03-29T20:21:10.485Z"
   },
   {
    "duration": 10,
    "start_time": "2022-03-29T20:21:10.494Z"
   },
   {
    "duration": 5,
    "start_time": "2022-03-29T20:21:10.505Z"
   },
   {
    "duration": 52,
    "start_time": "2022-03-29T20:21:10.532Z"
   },
   {
    "duration": 3,
    "start_time": "2022-03-29T20:21:10.585Z"
   },
   {
    "duration": 82,
    "start_time": "2022-03-29T20:21:10.590Z"
   },
   {
    "duration": 8,
    "start_time": "2022-03-29T20:21:10.674Z"
   },
   {
    "duration": 77,
    "start_time": "2022-03-29T20:21:10.684Z"
   },
   {
    "duration": 14714,
    "start_time": "2022-03-29T20:21:10.763Z"
   },
   {
    "duration": 283,
    "start_time": "2022-03-29T20:21:25.479Z"
   },
   {
    "duration": 3,
    "start_time": "2022-03-29T20:21:25.764Z"
   },
   {
    "duration": 8,
    "start_time": "2022-03-29T20:21:25.768Z"
   },
   {
    "duration": 533,
    "start_time": "2022-03-29T20:21:25.777Z"
   },
   {
    "duration": 501,
    "start_time": "2022-03-29T20:21:26.312Z"
   },
   {
    "duration": 517,
    "start_time": "2022-03-29T20:21:26.814Z"
   },
   {
    "duration": 420,
    "start_time": "2022-03-29T20:21:27.333Z"
   },
   {
    "duration": 477,
    "start_time": "2022-03-29T20:21:27.754Z"
   },
   {
    "duration": 11,
    "start_time": "2022-03-29T20:21:28.233Z"
   },
   {
    "duration": 188,
    "start_time": "2022-03-29T20:21:28.245Z"
   },
   {
    "duration": 880,
    "start_time": "2022-03-29T20:21:28.435Z"
   },
   {
    "duration": 169,
    "start_time": "2022-03-29T20:22:16.671Z"
   },
   {
    "duration": 1113,
    "start_time": "2022-03-29T20:23:08.118Z"
   },
   {
    "duration": 1179,
    "start_time": "2022-03-29T20:24:54.352Z"
   },
   {
    "duration": 110,
    "start_time": "2022-03-29T21:05:50.296Z"
   },
   {
    "duration": 9,
    "start_time": "2022-03-29T21:05:59.053Z"
   },
   {
    "duration": 8,
    "start_time": "2022-03-29T21:06:24.250Z"
   },
   {
    "duration": 4,
    "start_time": "2022-03-29T21:06:45.843Z"
   },
   {
    "duration": 5,
    "start_time": "2022-03-29T21:10:08.178Z"
   },
   {
    "duration": 17,
    "start_time": "2022-03-29T21:10:09.370Z"
   },
   {
    "duration": 2914,
    "start_time": "2022-03-29T21:11:51.651Z"
   },
   {
    "duration": 312,
    "start_time": "2022-03-29T21:12:10.332Z"
   },
   {
    "duration": 1044,
    "start_time": "2022-03-29T21:12:33.291Z"
   },
   {
    "duration": 3032,
    "start_time": "2022-03-30T12:21:37.457Z"
   },
   {
    "duration": 786,
    "start_time": "2022-03-30T12:21:40.493Z"
   },
   {
    "duration": 214,
    "start_time": "2022-03-30T12:21:41.281Z"
   },
   {
    "duration": 7,
    "start_time": "2022-03-30T12:21:41.499Z"
   },
   {
    "duration": 25,
    "start_time": "2022-03-30T12:21:41.508Z"
   },
   {
    "duration": 22,
    "start_time": "2022-03-30T12:21:41.536Z"
   },
   {
    "duration": 22,
    "start_time": "2022-03-30T12:21:41.560Z"
   },
   {
    "duration": 91,
    "start_time": "2022-03-30T12:21:41.586Z"
   },
   {
    "duration": 3,
    "start_time": "2022-03-30T12:21:41.680Z"
   },
   {
    "duration": 123,
    "start_time": "2022-03-30T12:21:41.689Z"
   },
   {
    "duration": 12,
    "start_time": "2022-03-30T12:21:41.815Z"
   },
   {
    "duration": 121,
    "start_time": "2022-03-30T12:21:41.830Z"
   },
   {
    "duration": 13675,
    "start_time": "2022-03-30T12:21:41.954Z"
   },
   {
    "duration": 283,
    "start_time": "2022-03-30T12:21:55.631Z"
   },
   {
    "duration": 4,
    "start_time": "2022-03-30T12:21:55.916Z"
   },
   {
    "duration": 11,
    "start_time": "2022-03-30T12:21:55.922Z"
   },
   {
    "duration": 807,
    "start_time": "2022-03-30T12:21:55.935Z"
   },
   {
    "duration": 739,
    "start_time": "2022-03-30T12:21:56.744Z"
   },
   {
    "duration": 578,
    "start_time": "2022-03-30T12:21:57.486Z"
   },
   {
    "duration": 565,
    "start_time": "2022-03-30T12:21:58.066Z"
   },
   {
    "duration": 751,
    "start_time": "2022-03-30T12:21:58.634Z"
   },
   {
    "duration": 12,
    "start_time": "2022-03-30T12:21:59.388Z"
   },
   {
    "duration": 268,
    "start_time": "2022-03-30T12:21:59.402Z"
   },
   {
    "duration": 1073,
    "start_time": "2022-03-30T12:21:59.672Z"
   },
   {
    "duration": 7,
    "start_time": "2022-03-30T12:22:00.747Z"
   },
   {
    "duration": 355,
    "start_time": "2022-03-30T12:22:00.756Z"
   },
   {
    "duration": 1063,
    "start_time": "2022-03-30T12:22:01.114Z"
   },
   {
    "duration": 1915,
    "start_time": "2022-03-30T12:36:10.309Z"
   },
   {
    "duration": 6,
    "start_time": "2022-03-30T12:42:25.888Z"
   },
   {
    "duration": 1460,
    "start_time": "2022-03-30T12:43:15.876Z"
   },
   {
    "duration": 1529,
    "start_time": "2022-03-30T12:43:33.118Z"
   },
   {
    "duration": 54,
    "start_time": "2022-03-31T06:24:25.614Z"
   },
   {
    "duration": 1815,
    "start_time": "2022-03-31T06:24:33.852Z"
   },
   {
    "duration": 663,
    "start_time": "2022-03-31T06:24:35.670Z"
   },
   {
    "duration": 124,
    "start_time": "2022-03-31T06:24:36.335Z"
   },
   {
    "duration": 4,
    "start_time": "2022-03-31T06:24:36.461Z"
   },
   {
    "duration": 7,
    "start_time": "2022-03-31T06:24:36.467Z"
   },
   {
    "duration": 32,
    "start_time": "2022-03-31T06:24:36.475Z"
   },
   {
    "duration": 6,
    "start_time": "2022-03-31T06:24:36.509Z"
   },
   {
    "duration": 129,
    "start_time": "2022-03-31T06:24:36.516Z"
   },
   {
    "duration": 0,
    "start_time": "2022-03-31T06:24:36.648Z"
   },
   {
    "duration": 0,
    "start_time": "2022-03-31T06:24:36.649Z"
   },
   {
    "duration": 0,
    "start_time": "2022-03-31T06:24:36.651Z"
   },
   {
    "duration": 0,
    "start_time": "2022-03-31T06:24:36.651Z"
   },
   {
    "duration": 0,
    "start_time": "2022-03-31T06:24:36.652Z"
   },
   {
    "duration": 0,
    "start_time": "2022-03-31T06:24:36.653Z"
   },
   {
    "duration": 0,
    "start_time": "2022-03-31T06:24:36.654Z"
   },
   {
    "duration": 0,
    "start_time": "2022-03-31T06:24:36.655Z"
   },
   {
    "duration": 0,
    "start_time": "2022-03-31T06:24:36.656Z"
   },
   {
    "duration": 0,
    "start_time": "2022-03-31T06:24:36.657Z"
   },
   {
    "duration": 0,
    "start_time": "2022-03-31T06:24:36.659Z"
   },
   {
    "duration": 0,
    "start_time": "2022-03-31T06:24:36.660Z"
   },
   {
    "duration": 0,
    "start_time": "2022-03-31T06:24:36.661Z"
   },
   {
    "duration": 0,
    "start_time": "2022-03-31T06:24:36.662Z"
   },
   {
    "duration": 0,
    "start_time": "2022-03-31T06:24:36.663Z"
   },
   {
    "duration": 0,
    "start_time": "2022-03-31T06:24:36.664Z"
   },
   {
    "duration": 0,
    "start_time": "2022-03-31T06:24:36.665Z"
   },
   {
    "duration": 0,
    "start_time": "2022-03-31T06:24:36.667Z"
   },
   {
    "duration": 0,
    "start_time": "2022-03-31T06:24:36.668Z"
   },
   {
    "duration": 0,
    "start_time": "2022-03-31T06:24:36.701Z"
   },
   {
    "duration": 0,
    "start_time": "2022-03-31T06:24:36.703Z"
   },
   {
    "duration": 0,
    "start_time": "2022-03-31T06:24:36.704Z"
   },
   {
    "duration": 55,
    "start_time": "2022-03-31T06:25:12.033Z"
   },
   {
    "duration": 59,
    "start_time": "2022-03-31T06:25:36.715Z"
   },
   {
    "duration": 3,
    "start_time": "2022-03-31T06:25:43.397Z"
   },
   {
    "duration": 8,
    "start_time": "2022-03-31T06:25:44.414Z"
   },
   {
    "duration": 59,
    "start_time": "2022-03-31T06:25:45.934Z"
   },
   {
    "duration": 24861,
    "start_time": "2022-03-31T06:34:32.907Z"
   },
   {
    "duration": 225,
    "start_time": "2022-03-31T06:35:01.714Z"
   },
   {
    "duration": 4,
    "start_time": "2022-03-31T06:35:07.089Z"
   },
   {
    "duration": 509,
    "start_time": "2022-03-31T06:35:07.789Z"
   },
   {
    "duration": 1648,
    "start_time": "2022-03-31T06:36:46.423Z"
   },
   {
    "duration": 667,
    "start_time": "2022-03-31T06:36:48.073Z"
   },
   {
    "duration": 130,
    "start_time": "2022-03-31T06:36:48.742Z"
   },
   {
    "duration": 4,
    "start_time": "2022-03-31T06:36:48.874Z"
   },
   {
    "duration": 5,
    "start_time": "2022-03-31T06:36:48.900Z"
   },
   {
    "duration": 17,
    "start_time": "2022-03-31T06:36:48.907Z"
   },
   {
    "duration": 6,
    "start_time": "2022-03-31T06:36:48.926Z"
   },
   {
    "duration": 67,
    "start_time": "2022-03-31T06:36:48.935Z"
   },
   {
    "duration": 2,
    "start_time": "2022-03-31T06:36:49.005Z"
   },
   {
    "duration": 10,
    "start_time": "2022-03-31T06:36:49.010Z"
   },
   {
    "duration": 8,
    "start_time": "2022-03-31T06:36:49.022Z"
   },
   {
    "duration": 70,
    "start_time": "2022-03-31T06:36:49.032Z"
   },
   {
    "duration": 200,
    "start_time": "2022-03-31T06:36:49.105Z"
   },
   {
    "duration": 0,
    "start_time": "2022-03-31T06:36:49.308Z"
   },
   {
    "duration": 0,
    "start_time": "2022-03-31T06:36:49.309Z"
   },
   {
    "duration": 0,
    "start_time": "2022-03-31T06:36:49.310Z"
   },
   {
    "duration": 0,
    "start_time": "2022-03-31T06:36:49.311Z"
   },
   {
    "duration": 0,
    "start_time": "2022-03-31T06:36:49.313Z"
   },
   {
    "duration": 0,
    "start_time": "2022-03-31T06:36:49.314Z"
   },
   {
    "duration": 0,
    "start_time": "2022-03-31T06:36:49.315Z"
   },
   {
    "duration": 1,
    "start_time": "2022-03-31T06:36:49.315Z"
   },
   {
    "duration": 0,
    "start_time": "2022-03-31T06:36:49.316Z"
   },
   {
    "duration": 0,
    "start_time": "2022-03-31T06:36:49.317Z"
   },
   {
    "duration": 0,
    "start_time": "2022-03-31T06:36:49.318Z"
   },
   {
    "duration": 0,
    "start_time": "2022-03-31T06:36:49.319Z"
   },
   {
    "duration": 0,
    "start_time": "2022-03-31T06:36:49.320Z"
   },
   {
    "duration": 0,
    "start_time": "2022-03-31T06:36:49.322Z"
   },
   {
    "duration": 0,
    "start_time": "2022-03-31T06:36:49.323Z"
   },
   {
    "duration": 0,
    "start_time": "2022-03-31T06:36:49.324Z"
   },
   {
    "duration": 1,
    "start_time": "2022-03-31T06:36:49.324Z"
   },
   {
    "duration": 23960,
    "start_time": "2022-03-31T06:44:07.366Z"
   },
   {
    "duration": 297,
    "start_time": "2022-03-31T06:44:31.329Z"
   },
   {
    "duration": 3,
    "start_time": "2022-03-31T06:44:31.628Z"
   },
   {
    "duration": 513,
    "start_time": "2022-03-31T06:44:31.634Z"
   },
   {
    "duration": 448,
    "start_time": "2022-03-31T06:44:32.149Z"
   },
   {
    "duration": 489,
    "start_time": "2022-03-31T06:44:32.599Z"
   },
   {
    "duration": 427,
    "start_time": "2022-03-31T06:44:33.090Z"
   },
   {
    "duration": 452,
    "start_time": "2022-03-31T06:44:33.519Z"
   },
   {
    "duration": 9,
    "start_time": "2022-03-31T06:44:40.855Z"
   },
   {
    "duration": 149,
    "start_time": "2022-03-31T06:44:46.603Z"
   },
   {
    "duration": 814,
    "start_time": "2022-03-31T06:45:15.273Z"
   },
   {
    "duration": 5,
    "start_time": "2022-03-31T06:47:56.932Z"
   },
   {
    "duration": 213,
    "start_time": "2022-03-31T06:48:02.995Z"
   },
   {
    "duration": 5,
    "start_time": "2022-03-31T06:51:31.710Z"
   },
   {
    "duration": 824,
    "start_time": "2022-03-31T06:51:39.553Z"
   },
   {
    "duration": 748,
    "start_time": "2022-03-31T06:51:59.439Z"
   },
   {
    "duration": 5,
    "start_time": "2022-03-31T06:53:20.493Z"
   },
   {
    "duration": 2194,
    "start_time": "2022-03-31T06:53:39.454Z"
   },
   {
    "duration": 18,
    "start_time": "2022-03-31T06:57:15.419Z"
   },
   {
    "duration": 1558,
    "start_time": "2022-03-31T06:57:38.645Z"
   },
   {
    "duration": 669,
    "start_time": "2022-03-31T06:57:40.205Z"
   },
   {
    "duration": 139,
    "start_time": "2022-03-31T06:57:40.876Z"
   },
   {
    "duration": 4,
    "start_time": "2022-03-31T06:57:41.019Z"
   },
   {
    "duration": 5,
    "start_time": "2022-03-31T06:57:41.026Z"
   },
   {
    "duration": 12,
    "start_time": "2022-03-31T06:57:41.033Z"
   },
   {
    "duration": 7,
    "start_time": "2022-03-31T06:57:41.047Z"
   },
   {
    "duration": 88,
    "start_time": "2022-03-31T06:57:41.056Z"
   },
   {
    "duration": 3,
    "start_time": "2022-03-31T06:57:41.146Z"
   },
   {
    "duration": 4,
    "start_time": "2022-03-31T06:57:41.153Z"
   },
   {
    "duration": 23798,
    "start_time": "2022-03-31T06:57:41.159Z"
   },
   {
    "duration": 272,
    "start_time": "2022-03-31T06:58:04.959Z"
   },
   {
    "duration": 3,
    "start_time": "2022-03-31T06:58:05.233Z"
   },
   {
    "duration": 7,
    "start_time": "2022-03-31T06:58:05.238Z"
   },
   {
    "duration": 518,
    "start_time": "2022-03-31T06:58:05.247Z"
   },
   {
    "duration": 454,
    "start_time": "2022-03-31T06:58:05.767Z"
   },
   {
    "duration": 468,
    "start_time": "2022-03-31T06:58:06.224Z"
   },
   {
    "duration": 410,
    "start_time": "2022-03-31T06:58:06.700Z"
   },
   {
    "duration": 465,
    "start_time": "2022-03-31T06:58:07.112Z"
   },
   {
    "duration": 23,
    "start_time": "2022-03-31T06:58:07.580Z"
   },
   {
    "duration": 165,
    "start_time": "2022-03-31T06:58:07.606Z"
   },
   {
    "duration": 5,
    "start_time": "2022-03-31T06:58:07.773Z"
   },
   {
    "duration": 897,
    "start_time": "2022-03-31T06:58:07.780Z"
   },
   {
    "duration": 6,
    "start_time": "2022-03-31T06:58:08.680Z"
   },
   {
    "duration": 225,
    "start_time": "2022-03-31T06:58:08.700Z"
   },
   {
    "duration": 853,
    "start_time": "2022-03-31T06:58:08.927Z"
   },
   {
    "duration": 19,
    "start_time": "2022-03-31T06:58:09.782Z"
   },
   {
    "duration": 246,
    "start_time": "2022-03-31T07:03:50.863Z"
   },
   {
    "duration": 71,
    "start_time": "2022-03-31T07:04:26.839Z"
   },
   {
    "duration": 253,
    "start_time": "2022-03-31T07:04:52.899Z"
   },
   {
    "duration": 11,
    "start_time": "2022-03-31T07:57:24.250Z"
   },
   {
    "duration": 10,
    "start_time": "2022-03-31T07:57:43.384Z"
   },
   {
    "duration": 114,
    "start_time": "2022-03-31T07:58:12.760Z"
   },
   {
    "duration": 7,
    "start_time": "2022-03-31T07:58:26.714Z"
   },
   {
    "duration": 201,
    "start_time": "2022-03-31T08:36:44.434Z"
   },
   {
    "duration": 138,
    "start_time": "2022-03-31T08:37:01.457Z"
   },
   {
    "duration": 12,
    "start_time": "2022-03-31T08:37:19.141Z"
   },
   {
    "duration": 20,
    "start_time": "2022-03-31T08:38:42.206Z"
   },
   {
    "duration": 5,
    "start_time": "2022-03-31T08:38:51.904Z"
   },
   {
    "duration": 13,
    "start_time": "2022-03-31T08:51:25.849Z"
   },
   {
    "duration": 11,
    "start_time": "2022-03-31T08:51:37.606Z"
   },
   {
    "duration": 6,
    "start_time": "2022-03-31T08:51:57.172Z"
   },
   {
    "duration": 5,
    "start_time": "2022-03-31T08:51:58.523Z"
   },
   {
    "duration": 6,
    "start_time": "2022-03-31T08:52:00.458Z"
   },
   {
    "duration": 3063,
    "start_time": "2022-03-31T08:52:01.440Z"
   },
   {
    "duration": 1519,
    "start_time": "2022-03-31T08:53:59.684Z"
   },
   {
    "duration": 10,
    "start_time": "2022-03-31T08:54:46.459Z"
   },
   {
    "duration": 5,
    "start_time": "2022-03-31T08:55:12.535Z"
   },
   {
    "duration": 1651,
    "start_time": "2022-03-31T08:55:21.955Z"
   },
   {
    "duration": 10,
    "start_time": "2022-03-31T08:56:21.552Z"
   },
   {
    "duration": 6,
    "start_time": "2022-03-31T08:56:30.334Z"
   },
   {
    "duration": 3328,
    "start_time": "2022-03-31T09:04:10.675Z"
   },
   {
    "duration": 1343,
    "start_time": "2022-03-31T09:06:07.660Z"
   },
   {
    "duration": 1533,
    "start_time": "2022-03-31T09:06:13.473Z"
   },
   {
    "duration": 172,
    "start_time": "2022-03-31T09:06:20.869Z"
   },
   {
    "duration": 1501,
    "start_time": "2022-03-31T09:06:23.899Z"
   },
   {
    "duration": 177,
    "start_time": "2022-03-31T09:06:38.481Z"
   },
   {
    "duration": 1496,
    "start_time": "2022-03-31T09:07:46.955Z"
   },
   {
    "duration": 1372,
    "start_time": "2022-03-31T09:08:11.229Z"
   },
   {
    "duration": 3015,
    "start_time": "2022-03-31T09:08:33.492Z"
   },
   {
    "duration": 5,
    "start_time": "2022-03-31T09:09:19.780Z"
   },
   {
    "duration": 9,
    "start_time": "2022-03-31T09:09:50.404Z"
   },
   {
    "duration": 13,
    "start_time": "2022-03-31T09:13:41.788Z"
   },
   {
    "duration": 5,
    "start_time": "2022-03-31T09:13:47.349Z"
   },
   {
    "duration": 423,
    "start_time": "2022-03-31T09:20:08.078Z"
   },
   {
    "duration": 433,
    "start_time": "2022-03-31T09:20:23.670Z"
   },
   {
    "duration": 375,
    "start_time": "2022-03-31T09:20:42.627Z"
   },
   {
    "duration": 350,
    "start_time": "2022-03-31T09:21:03.155Z"
   },
   {
    "duration": 10154,
    "start_time": "2022-03-31T09:24:03.975Z"
   },
   {
    "duration": 3103,
    "start_time": "2022-03-31T09:25:00.299Z"
   },
   {
    "duration": 1561,
    "start_time": "2022-03-31T09:25:13.843Z"
   },
   {
    "duration": 666,
    "start_time": "2022-03-31T09:25:15.406Z"
   },
   {
    "duration": 134,
    "start_time": "2022-03-31T09:25:16.074Z"
   },
   {
    "duration": 4,
    "start_time": "2022-03-31T09:25:16.210Z"
   },
   {
    "duration": 9,
    "start_time": "2022-03-31T09:25:16.215Z"
   },
   {
    "duration": 14,
    "start_time": "2022-03-31T09:25:16.226Z"
   },
   {
    "duration": 6,
    "start_time": "2022-03-31T09:25:16.242Z"
   },
   {
    "duration": 77,
    "start_time": "2022-03-31T09:25:16.250Z"
   },
   {
    "duration": 3,
    "start_time": "2022-03-31T09:25:16.329Z"
   },
   {
    "duration": 12,
    "start_time": "2022-03-31T09:25:16.335Z"
   },
   {
    "duration": 23866,
    "start_time": "2022-03-31T09:25:16.348Z"
   },
   {
    "duration": 213,
    "start_time": "2022-03-31T09:25:40.216Z"
   },
   {
    "duration": 3,
    "start_time": "2022-03-31T09:25:40.431Z"
   },
   {
    "duration": 5,
    "start_time": "2022-03-31T09:25:40.436Z"
   },
   {
    "duration": 530,
    "start_time": "2022-03-31T09:25:40.443Z"
   },
   {
    "duration": 466,
    "start_time": "2022-03-31T09:25:40.975Z"
   },
   {
    "duration": 536,
    "start_time": "2022-03-31T09:25:41.444Z"
   },
   {
    "duration": 426,
    "start_time": "2022-03-31T09:25:41.982Z"
   },
   {
    "duration": 460,
    "start_time": "2022-03-31T09:25:42.410Z"
   },
   {
    "duration": 10,
    "start_time": "2022-03-31T09:25:42.872Z"
   },
   {
    "duration": 163,
    "start_time": "2022-03-31T09:25:42.884Z"
   },
   {
    "duration": 5,
    "start_time": "2022-03-31T09:25:43.049Z"
   },
   {
    "duration": 932,
    "start_time": "2022-03-31T09:25:43.056Z"
   },
   {
    "duration": 14,
    "start_time": "2022-03-31T09:25:43.990Z"
   },
   {
    "duration": 224,
    "start_time": "2022-03-31T09:25:44.006Z"
   },
   {
    "duration": 855,
    "start_time": "2022-03-31T09:25:44.232Z"
   },
   {
    "duration": 17,
    "start_time": "2022-03-31T09:25:45.089Z"
   },
   {
    "duration": 272,
    "start_time": "2022-03-31T09:25:45.111Z"
   },
   {
    "duration": 82,
    "start_time": "2022-03-31T09:25:45.385Z"
   },
   {
    "duration": 258,
    "start_time": "2022-03-31T09:25:45.469Z"
   },
   {
    "duration": 5,
    "start_time": "2022-03-31T09:25:45.729Z"
   },
   {
    "duration": 12,
    "start_time": "2022-03-31T09:25:45.735Z"
   },
   {
    "duration": 8,
    "start_time": "2022-03-31T09:25:45.749Z"
   },
   {
    "duration": 9,
    "start_time": "2022-03-31T09:25:45.759Z"
   },
   {
    "duration": 32,
    "start_time": "2022-03-31T09:25:45.770Z"
   },
   {
    "duration": 15,
    "start_time": "2022-03-31T09:25:45.805Z"
   },
   {
    "duration": 5,
    "start_time": "2022-03-31T09:25:45.822Z"
   },
   {
    "duration": 6,
    "start_time": "2022-03-31T09:25:45.829Z"
   },
   {
    "duration": 1614,
    "start_time": "2022-03-31T09:32:32.049Z"
   },
   {
    "duration": 687,
    "start_time": "2022-03-31T09:32:33.665Z"
   },
   {
    "duration": 131,
    "start_time": "2022-03-31T09:32:34.354Z"
   },
   {
    "duration": 14,
    "start_time": "2022-03-31T09:32:34.488Z"
   },
   {
    "duration": 14,
    "start_time": "2022-03-31T09:32:34.505Z"
   },
   {
    "duration": 18,
    "start_time": "2022-03-31T09:32:34.521Z"
   },
   {
    "duration": 6,
    "start_time": "2022-03-31T09:32:34.541Z"
   },
   {
    "duration": 75,
    "start_time": "2022-03-31T09:32:34.549Z"
   },
   {
    "duration": 3,
    "start_time": "2022-03-31T09:32:34.626Z"
   },
   {
    "duration": 8,
    "start_time": "2022-03-31T09:32:34.632Z"
   },
   {
    "duration": 24352,
    "start_time": "2022-03-31T09:32:34.642Z"
   },
   {
    "duration": 339,
    "start_time": "2022-03-31T09:32:59.000Z"
   },
   {
    "duration": 3,
    "start_time": "2022-03-31T09:32:59.341Z"
   },
   {
    "duration": 7,
    "start_time": "2022-03-31T09:32:59.346Z"
   },
   {
    "duration": 579,
    "start_time": "2022-03-31T09:32:59.355Z"
   },
   {
    "duration": 468,
    "start_time": "2022-03-31T09:32:59.936Z"
   },
   {
    "duration": 590,
    "start_time": "2022-03-31T09:33:00.406Z"
   },
   {
    "duration": 416,
    "start_time": "2022-03-31T09:33:01.001Z"
   },
   {
    "duration": 480,
    "start_time": "2022-03-31T09:33:01.419Z"
   },
   {
    "duration": 11,
    "start_time": "2022-03-31T09:33:01.901Z"
   },
   {
    "duration": 169,
    "start_time": "2022-03-31T09:33:01.913Z"
   },
   {
    "duration": 5,
    "start_time": "2022-03-31T09:33:02.084Z"
   },
   {
    "duration": 905,
    "start_time": "2022-03-31T09:33:02.090Z"
   },
   {
    "duration": 5,
    "start_time": "2022-03-31T09:33:03.002Z"
   },
   {
    "duration": 239,
    "start_time": "2022-03-31T09:33:03.009Z"
   },
   {
    "duration": 951,
    "start_time": "2022-03-31T09:33:03.250Z"
   },
   {
    "duration": 10,
    "start_time": "2022-03-31T09:33:04.203Z"
   },
   {
    "duration": 277,
    "start_time": "2022-03-31T09:33:04.218Z"
   },
   {
    "duration": 79,
    "start_time": "2022-03-31T09:33:04.502Z"
   },
   {
    "duration": 293,
    "start_time": "2022-03-31T09:33:04.583Z"
   },
   {
    "duration": 5,
    "start_time": "2022-03-31T09:33:04.878Z"
   },
   {
    "duration": 7,
    "start_time": "2022-03-31T09:33:04.902Z"
   },
   {
    "duration": 9,
    "start_time": "2022-03-31T09:33:04.912Z"
   },
   {
    "duration": 9,
    "start_time": "2022-03-31T09:33:04.923Z"
   },
   {
    "duration": 7,
    "start_time": "2022-03-31T09:33:04.934Z"
   },
   {
    "duration": 19,
    "start_time": "2022-03-31T09:33:04.943Z"
   },
   {
    "duration": 4,
    "start_time": "2022-03-31T09:33:04.964Z"
   },
   {
    "duration": 5,
    "start_time": "2022-03-31T09:33:05.002Z"
   },
   {
    "duration": 146704,
    "start_time": "2022-03-31T09:33:05.009Z"
   },
   {
    "duration": 0,
    "start_time": "2022-03-31T09:35:31.715Z"
   },
   {
    "duration": 4,
    "start_time": "2022-03-31T09:36:28.672Z"
   },
   {
    "duration": 4,
    "start_time": "2022-03-31T09:36:34.194Z"
   },
   {
    "duration": 5,
    "start_time": "2022-03-31T09:36:37.725Z"
   },
   {
    "duration": 5,
    "start_time": "2022-03-31T09:36:40.175Z"
   },
   {
    "duration": 5,
    "start_time": "2022-03-31T09:36:41.553Z"
   },
   {
    "duration": 2989,
    "start_time": "2022-03-31T09:36:43.821Z"
   },
   {
    "duration": 148,
    "start_time": "2022-03-31T09:37:09.481Z"
   },
   {
    "duration": 1419,
    "start_time": "2022-03-31T09:37:15.182Z"
   },
   {
    "duration": 1877,
    "start_time": "2022-03-31T09:37:23.565Z"
   },
   {
    "duration": 3152,
    "start_time": "2022-03-31T09:38:02.362Z"
   },
   {
    "duration": 1366,
    "start_time": "2022-03-31T09:38:24.439Z"
   },
   {
    "duration": 1425,
    "start_time": "2022-03-31T09:38:45.386Z"
   },
   {
    "duration": 1624,
    "start_time": "2022-03-31T09:38:52.042Z"
   },
   {
    "duration": 1405,
    "start_time": "2022-03-31T09:39:21.388Z"
   },
   {
    "duration": 1564,
    "start_time": "2022-03-31T09:39:35.245Z"
   },
   {
    "duration": 660,
    "start_time": "2022-03-31T09:39:36.811Z"
   },
   {
    "duration": 135,
    "start_time": "2022-03-31T09:39:37.473Z"
   },
   {
    "duration": 4,
    "start_time": "2022-03-31T09:39:37.610Z"
   },
   {
    "duration": 7,
    "start_time": "2022-03-31T09:39:37.615Z"
   },
   {
    "duration": 13,
    "start_time": "2022-03-31T09:39:37.624Z"
   },
   {
    "duration": 7,
    "start_time": "2022-03-31T09:39:37.639Z"
   },
   {
    "duration": 77,
    "start_time": "2022-03-31T09:39:37.648Z"
   },
   {
    "duration": 3,
    "start_time": "2022-03-31T09:39:37.727Z"
   },
   {
    "duration": 8,
    "start_time": "2022-03-31T09:39:37.732Z"
   },
   {
    "duration": 24236,
    "start_time": "2022-03-31T09:39:37.742Z"
   },
   {
    "duration": 257,
    "start_time": "2022-03-31T09:40:01.980Z"
   },
   {
    "duration": 3,
    "start_time": "2022-03-31T09:40:02.240Z"
   },
   {
    "duration": 9,
    "start_time": "2022-03-31T09:40:02.245Z"
   },
   {
    "duration": 518,
    "start_time": "2022-03-31T09:40:02.255Z"
   },
   {
    "duration": 506,
    "start_time": "2022-03-31T09:40:02.775Z"
   },
   {
    "duration": 506,
    "start_time": "2022-03-31T09:40:03.284Z"
   },
   {
    "duration": 419,
    "start_time": "2022-03-31T09:40:03.793Z"
   },
   {
    "duration": 468,
    "start_time": "2022-03-31T09:40:04.215Z"
   },
   {
    "duration": 16,
    "start_time": "2022-03-31T09:40:04.685Z"
   },
   {
    "duration": 159,
    "start_time": "2022-03-31T09:40:04.703Z"
   },
   {
    "duration": 6,
    "start_time": "2022-03-31T09:40:04.863Z"
   },
   {
    "duration": 910,
    "start_time": "2022-03-31T09:40:04.870Z"
   },
   {
    "duration": 6,
    "start_time": "2022-03-31T09:40:05.781Z"
   },
   {
    "duration": 236,
    "start_time": "2022-03-31T09:40:05.788Z"
   },
   {
    "duration": 867,
    "start_time": "2022-03-31T09:40:06.026Z"
   },
   {
    "duration": 14,
    "start_time": "2022-03-31T09:40:06.895Z"
   },
   {
    "duration": 277,
    "start_time": "2022-03-31T09:40:06.913Z"
   },
   {
    "duration": 81,
    "start_time": "2022-03-31T09:40:07.192Z"
   },
   {
    "duration": 273,
    "start_time": "2022-03-31T09:40:07.274Z"
   },
   {
    "duration": 4,
    "start_time": "2022-03-31T09:40:07.549Z"
   },
   {
    "duration": 15,
    "start_time": "2022-03-31T09:40:07.555Z"
   },
   {
    "duration": 15,
    "start_time": "2022-03-31T09:40:07.572Z"
   },
   {
    "duration": 19,
    "start_time": "2022-03-31T09:40:07.589Z"
   },
   {
    "duration": 7,
    "start_time": "2022-03-31T09:40:07.610Z"
   },
   {
    "duration": 13,
    "start_time": "2022-03-31T09:40:07.619Z"
   },
   {
    "duration": 12,
    "start_time": "2022-03-31T09:40:07.634Z"
   },
   {
    "duration": 5,
    "start_time": "2022-03-31T09:40:07.647Z"
   },
   {
    "duration": 6344,
    "start_time": "2022-03-31T09:40:07.654Z"
   },
   {
    "duration": 20325,
    "start_time": "2022-03-31T09:40:14.000Z"
   },
   {
    "duration": 0,
    "start_time": "2022-03-31T09:40:34.327Z"
   },
   {
    "duration": 4,
    "start_time": "2022-03-31T09:41:15.325Z"
   },
   {
    "duration": 5,
    "start_time": "2022-03-31T09:41:16.110Z"
   },
   {
    "duration": 40087,
    "start_time": "2022-03-31T09:41:20.961Z"
   },
   {
    "duration": 11,
    "start_time": "2022-03-31T10:22:15.411Z"
   },
   {
    "duration": 2314,
    "start_time": "2022-03-31T10:22:27.744Z"
   },
   {
    "duration": 819,
    "start_time": "2022-03-31T10:22:30.060Z"
   },
   {
    "duration": 204,
    "start_time": "2022-03-31T10:22:30.881Z"
   },
   {
    "duration": 5,
    "start_time": "2022-03-31T10:22:31.088Z"
   },
   {
    "duration": 35,
    "start_time": "2022-03-31T10:22:31.095Z"
   },
   {
    "duration": 29,
    "start_time": "2022-03-31T10:22:31.132Z"
   },
   {
    "duration": 14,
    "start_time": "2022-03-31T10:22:31.163Z"
   },
   {
    "duration": 103,
    "start_time": "2022-03-31T10:22:31.180Z"
   },
   {
    "duration": 3,
    "start_time": "2022-03-31T10:22:31.285Z"
   },
   {
    "duration": 8,
    "start_time": "2022-03-31T10:22:31.293Z"
   },
   {
    "duration": 12825,
    "start_time": "2022-03-31T10:22:31.303Z"
   },
   {
    "duration": 357,
    "start_time": "2022-03-31T10:22:44.131Z"
   },
   {
    "duration": 3,
    "start_time": "2022-03-31T10:22:44.491Z"
   },
   {
    "duration": 6,
    "start_time": "2022-03-31T10:22:44.496Z"
   },
   {
    "duration": 770,
    "start_time": "2022-03-31T10:22:44.504Z"
   },
   {
    "duration": 717,
    "start_time": "2022-03-31T10:22:45.276Z"
   },
   {
    "duration": 726,
    "start_time": "2022-03-31T10:22:45.995Z"
   },
   {
    "duration": 741,
    "start_time": "2022-03-31T10:22:46.724Z"
   },
   {
    "duration": 731,
    "start_time": "2022-03-31T10:22:47.467Z"
   },
   {
    "duration": 12,
    "start_time": "2022-03-31T10:22:48.201Z"
   },
   {
    "duration": 287,
    "start_time": "2022-03-31T10:22:48.216Z"
   },
   {
    "duration": 6,
    "start_time": "2022-03-31T10:22:48.505Z"
   },
   {
    "duration": 1184,
    "start_time": "2022-03-31T10:22:48.513Z"
   },
   {
    "duration": 7,
    "start_time": "2022-03-31T10:22:49.700Z"
   },
   {
    "duration": 346,
    "start_time": "2022-03-31T10:22:49.710Z"
   },
   {
    "duration": 1148,
    "start_time": "2022-03-31T10:22:50.058Z"
   },
   {
    "duration": 12,
    "start_time": "2022-03-31T10:22:51.209Z"
   },
   {
    "duration": 368,
    "start_time": "2022-03-31T10:22:51.242Z"
   },
   {
    "duration": 120,
    "start_time": "2022-03-31T10:22:51.612Z"
   },
   {
    "duration": 366,
    "start_time": "2022-03-31T10:22:51.742Z"
   },
   {
    "duration": 5,
    "start_time": "2022-03-31T10:22:52.110Z"
   },
   {
    "duration": 28,
    "start_time": "2022-03-31T10:22:52.117Z"
   },
   {
    "duration": 11,
    "start_time": "2022-03-31T10:22:52.147Z"
   },
   {
    "duration": 8,
    "start_time": "2022-03-31T10:22:52.160Z"
   },
   {
    "duration": 9,
    "start_time": "2022-03-31T10:22:52.172Z"
   },
   {
    "duration": 19,
    "start_time": "2022-03-31T10:22:52.183Z"
   },
   {
    "duration": 20,
    "start_time": "2022-03-31T10:22:52.205Z"
   },
   {
    "duration": 24,
    "start_time": "2022-03-31T10:22:52.228Z"
   },
   {
    "duration": 84947,
    "start_time": "2022-03-31T10:22:52.255Z"
   },
   {
    "duration": 35552,
    "start_time": "2022-03-31T10:25:11.529Z"
   },
   {
    "duration": 6,
    "start_time": "2022-03-31T10:26:01.110Z"
   },
   {
    "duration": 11,
    "start_time": "2022-03-31T10:26:09.545Z"
   },
   {
    "duration": 43922,
    "start_time": "2022-03-31T10:28:15.726Z"
   },
   {
    "duration": 2071,
    "start_time": "2022-03-31T10:30:01.690Z"
   },
   {
    "duration": 794,
    "start_time": "2022-03-31T10:30:03.763Z"
   },
   {
    "duration": 193,
    "start_time": "2022-03-31T10:30:04.559Z"
   },
   {
    "duration": 5,
    "start_time": "2022-03-31T10:30:04.755Z"
   },
   {
    "duration": 7,
    "start_time": "2022-03-31T10:30:04.762Z"
   },
   {
    "duration": 18,
    "start_time": "2022-03-31T10:30:04.771Z"
   },
   {
    "duration": 7,
    "start_time": "2022-03-31T10:30:04.791Z"
   },
   {
    "duration": 112,
    "start_time": "2022-03-31T10:30:04.800Z"
   },
   {
    "duration": 3,
    "start_time": "2022-03-31T10:30:04.914Z"
   },
   {
    "duration": 10,
    "start_time": "2022-03-31T10:30:04.920Z"
   },
   {
    "duration": 13685,
    "start_time": "2022-03-31T10:30:04.943Z"
   },
   {
    "duration": 259,
    "start_time": "2022-03-31T10:30:18.630Z"
   },
   {
    "duration": 4,
    "start_time": "2022-03-31T10:30:18.891Z"
   },
   {
    "duration": 15,
    "start_time": "2022-03-31T10:30:18.896Z"
   },
   {
    "duration": 902,
    "start_time": "2022-03-31T10:30:18.913Z"
   },
   {
    "duration": 749,
    "start_time": "2022-03-31T10:30:19.817Z"
   },
   {
    "duration": 661,
    "start_time": "2022-03-31T10:30:20.569Z"
   },
   {
    "duration": 529,
    "start_time": "2022-03-31T10:30:21.232Z"
   },
   {
    "duration": 731,
    "start_time": "2022-03-31T10:30:21.763Z"
   },
   {
    "duration": 11,
    "start_time": "2022-03-31T10:30:22.497Z"
   },
   {
    "duration": 247,
    "start_time": "2022-03-31T10:30:22.510Z"
   },
   {
    "duration": 6,
    "start_time": "2022-03-31T10:30:22.759Z"
   },
   {
    "duration": 1123,
    "start_time": "2022-03-31T10:30:22.768Z"
   },
   {
    "duration": 6,
    "start_time": "2022-03-31T10:30:23.893Z"
   },
   {
    "duration": 317,
    "start_time": "2022-03-31T10:30:23.901Z"
   },
   {
    "duration": 1079,
    "start_time": "2022-03-31T10:30:24.220Z"
   },
   {
    "duration": 13,
    "start_time": "2022-03-31T10:30:25.302Z"
   },
   {
    "duration": 388,
    "start_time": "2022-03-31T10:30:25.321Z"
   },
   {
    "duration": 123,
    "start_time": "2022-03-31T10:30:25.712Z"
   },
   {
    "duration": 381,
    "start_time": "2022-03-31T10:30:25.837Z"
   },
   {
    "duration": 6,
    "start_time": "2022-03-31T10:30:26.221Z"
   },
   {
    "duration": 20,
    "start_time": "2022-03-31T10:30:26.229Z"
   },
   {
    "duration": 9,
    "start_time": "2022-03-31T10:30:26.251Z"
   },
   {
    "duration": 10495,
    "start_time": "2022-03-31T10:30:26.262Z"
   },
   {
    "duration": 372,
    "start_time": "2022-03-31T10:30:36.772Z"
   },
   {
    "duration": 1,
    "start_time": "2022-03-31T10:30:37.146Z"
   },
   {
    "duration": 0,
    "start_time": "2022-03-31T10:30:37.148Z"
   },
   {
    "duration": 0,
    "start_time": "2022-03-31T10:30:37.150Z"
   },
   {
    "duration": 0,
    "start_time": "2022-03-31T10:30:37.151Z"
   },
   {
    "duration": 0,
    "start_time": "2022-03-31T10:30:37.153Z"
   },
   {
    "duration": 0,
    "start_time": "2022-03-31T10:30:37.154Z"
   },
   {
    "duration": 0,
    "start_time": "2022-03-31T10:30:37.156Z"
   },
   {
    "duration": 217,
    "start_time": "2022-03-31T10:31:10.247Z"
   },
   {
    "duration": 3,
    "start_time": "2022-03-31T10:33:31.502Z"
   },
   {
    "duration": 7,
    "start_time": "2022-03-31T10:33:34.676Z"
   },
   {
    "duration": 29,
    "start_time": "2022-03-31T10:33:38.964Z"
   },
   {
    "duration": 23,
    "start_time": "2022-03-31T10:33:58.061Z"
   },
   {
    "duration": 4,
    "start_time": "2022-03-31T10:34:35.230Z"
   },
   {
    "duration": 8,
    "start_time": "2022-03-31T10:34:36.104Z"
   },
   {
    "duration": 10,
    "start_time": "2022-03-31T10:34:41.991Z"
   },
   {
    "duration": 6,
    "start_time": "2022-03-31T10:35:12.220Z"
   },
   {
    "duration": 11,
    "start_time": "2022-03-31T10:35:18.611Z"
   },
   {
    "duration": 11,
    "start_time": "2022-03-31T10:38:10.460Z"
   },
   {
    "duration": 7,
    "start_time": "2022-03-31T10:38:13.894Z"
   },
   {
    "duration": 11,
    "start_time": "2022-03-31T10:38:40.513Z"
   },
   {
    "duration": 11,
    "start_time": "2022-03-31T10:38:52.199Z"
   },
   {
    "duration": 11,
    "start_time": "2022-03-31T10:39:04.936Z"
   },
   {
    "duration": 11,
    "start_time": "2022-03-31T10:40:47.287Z"
   },
   {
    "duration": 2166,
    "start_time": "2022-03-31T10:41:05.448Z"
   },
   {
    "duration": 804,
    "start_time": "2022-03-31T10:41:07.618Z"
   },
   {
    "duration": 201,
    "start_time": "2022-03-31T10:41:08.424Z"
   },
   {
    "duration": 7,
    "start_time": "2022-03-31T10:41:08.642Z"
   },
   {
    "duration": 15,
    "start_time": "2022-03-31T10:41:08.651Z"
   },
   {
    "duration": 26,
    "start_time": "2022-03-31T10:41:08.668Z"
   },
   {
    "duration": 24,
    "start_time": "2022-03-31T10:41:08.696Z"
   },
   {
    "duration": 92,
    "start_time": "2022-03-31T10:41:08.723Z"
   },
   {
    "duration": 4,
    "start_time": "2022-03-31T10:41:08.818Z"
   },
   {
    "duration": 4,
    "start_time": "2022-03-31T10:41:08.843Z"
   },
   {
    "duration": 14054,
    "start_time": "2022-03-31T10:41:08.850Z"
   },
   {
    "duration": 283,
    "start_time": "2022-03-31T10:41:22.906Z"
   },
   {
    "duration": 4,
    "start_time": "2022-03-31T10:41:23.191Z"
   },
   {
    "duration": 9,
    "start_time": "2022-03-31T10:41:23.197Z"
   },
   {
    "duration": 783,
    "start_time": "2022-03-31T10:41:23.208Z"
   },
   {
    "duration": 714,
    "start_time": "2022-03-31T10:41:23.993Z"
   },
   {
    "duration": 605,
    "start_time": "2022-03-31T10:41:24.710Z"
   },
   {
    "duration": 533,
    "start_time": "2022-03-31T10:41:25.317Z"
   },
   {
    "duration": 1159,
    "start_time": "2022-03-31T10:41:25.852Z"
   },
   {
    "duration": 15,
    "start_time": "2022-03-31T10:41:27.013Z"
   },
   {
    "duration": 366,
    "start_time": "2022-03-31T10:41:27.044Z"
   },
   {
    "duration": 8,
    "start_time": "2022-03-31T10:41:27.413Z"
   },
   {
    "duration": 1271,
    "start_time": "2022-03-31T10:41:27.424Z"
   },
   {
    "duration": 8,
    "start_time": "2022-03-31T10:41:28.698Z"
   },
   {
    "duration": 594,
    "start_time": "2022-03-31T10:41:28.708Z"
   },
   {
    "duration": 1092,
    "start_time": "2022-03-31T10:41:29.305Z"
   },
   {
    "duration": 12,
    "start_time": "2022-03-31T10:41:30.399Z"
   },
   {
    "duration": 391,
    "start_time": "2022-03-31T10:41:30.416Z"
   },
   {
    "duration": 124,
    "start_time": "2022-03-31T10:41:30.809Z"
   },
   {
    "duration": 381,
    "start_time": "2022-03-31T10:41:30.935Z"
   },
   {
    "duration": 5,
    "start_time": "2022-03-31T10:41:31.319Z"
   },
   {
    "duration": 23,
    "start_time": "2022-03-31T10:41:31.326Z"
   },
   {
    "duration": 19,
    "start_time": "2022-03-31T10:41:31.352Z"
   },
   {
    "duration": 24,
    "start_time": "2022-03-31T10:41:31.374Z"
   },
   {
    "duration": 26,
    "start_time": "2022-03-31T10:41:31.401Z"
   },
   {
    "duration": 10,
    "start_time": "2022-03-31T10:41:31.429Z"
   },
   {
    "duration": 13,
    "start_time": "2022-03-31T10:41:31.441Z"
   },
   {
    "duration": 19,
    "start_time": "2022-03-31T10:41:31.457Z"
   },
   {
    "duration": 167,
    "start_time": "2022-03-31T10:41:31.478Z"
   },
   {
    "duration": 0,
    "start_time": "2022-03-31T10:41:31.648Z"
   },
   {
    "duration": 0,
    "start_time": "2022-03-31T10:41:31.651Z"
   },
   {
    "duration": 62,
    "start_time": "2022-03-31T10:42:28.393Z"
   },
   {
    "duration": 17,
    "start_time": "2022-03-31T10:43:41.931Z"
   },
   {
    "duration": 13,
    "start_time": "2022-03-31T10:44:32.312Z"
   },
   {
    "duration": 2597,
    "start_time": "2022-03-31T10:55:04.630Z"
   },
   {
    "duration": 871,
    "start_time": "2022-03-31T10:55:07.231Z"
   },
   {
    "duration": 246,
    "start_time": "2022-03-31T10:55:08.104Z"
   },
   {
    "duration": 5,
    "start_time": "2022-03-31T10:55:08.354Z"
   },
   {
    "duration": 13,
    "start_time": "2022-03-31T10:55:08.361Z"
   },
   {
    "duration": 84,
    "start_time": "2022-03-31T10:55:08.377Z"
   },
   {
    "duration": 9,
    "start_time": "2022-03-31T10:55:08.464Z"
   },
   {
    "duration": 119,
    "start_time": "2022-03-31T10:55:08.475Z"
   },
   {
    "duration": 3,
    "start_time": "2022-03-31T10:55:08.596Z"
   },
   {
    "duration": 8,
    "start_time": "2022-03-31T10:55:08.604Z"
   },
   {
    "duration": 13429,
    "start_time": "2022-03-31T10:55:08.615Z"
   },
   {
    "duration": 347,
    "start_time": "2022-03-31T10:55:22.047Z"
   },
   {
    "duration": 4,
    "start_time": "2022-03-31T10:55:22.397Z"
   },
   {
    "duration": 13,
    "start_time": "2022-03-31T10:55:22.403Z"
   },
   {
    "duration": 912,
    "start_time": "2022-03-31T10:55:22.418Z"
   },
   {
    "duration": 748,
    "start_time": "2022-03-31T10:55:23.333Z"
   },
   {
    "duration": 646,
    "start_time": "2022-03-31T10:55:24.083Z"
   },
   {
    "duration": 659,
    "start_time": "2022-03-31T10:55:24.743Z"
   },
   {
    "duration": 716,
    "start_time": "2022-03-31T10:55:25.406Z"
   },
   {
    "duration": 23,
    "start_time": "2022-03-31T10:55:26.124Z"
   },
   {
    "duration": 268,
    "start_time": "2022-03-31T10:55:26.150Z"
   },
   {
    "duration": 6,
    "start_time": "2022-03-31T10:55:26.420Z"
   },
   {
    "duration": 1300,
    "start_time": "2022-03-31T10:55:26.443Z"
   },
   {
    "duration": 10,
    "start_time": "2022-03-31T10:55:27.746Z"
   },
   {
    "duration": 394,
    "start_time": "2022-03-31T10:55:27.758Z"
   },
   {
    "duration": 1157,
    "start_time": "2022-03-31T10:55:28.154Z"
   },
   {
    "duration": 15,
    "start_time": "2022-03-31T10:55:29.314Z"
   },
   {
    "duration": 395,
    "start_time": "2022-03-31T10:55:29.348Z"
   },
   {
    "duration": 133,
    "start_time": "2022-03-31T10:55:29.746Z"
   },
   {
    "duration": 390,
    "start_time": "2022-03-31T10:55:29.882Z"
   },
   {
    "duration": 6,
    "start_time": "2022-03-31T10:55:30.274Z"
   },
   {
    "duration": 20,
    "start_time": "2022-03-31T10:55:30.284Z"
   },
   {
    "duration": 11,
    "start_time": "2022-03-31T10:55:30.307Z"
   },
   {
    "duration": 12,
    "start_time": "2022-03-31T10:55:30.342Z"
   },
   {
    "duration": 198,
    "start_time": "2022-03-31T10:55:30.357Z"
   },
   {
    "duration": 0,
    "start_time": "2022-03-31T10:55:30.557Z"
   },
   {
    "duration": 0,
    "start_time": "2022-03-31T10:55:30.559Z"
   },
   {
    "duration": 0,
    "start_time": "2022-03-31T10:55:30.561Z"
   },
   {
    "duration": 0,
    "start_time": "2022-03-31T10:55:30.563Z"
   },
   {
    "duration": 0,
    "start_time": "2022-03-31T10:55:30.568Z"
   },
   {
    "duration": 0,
    "start_time": "2022-03-31T10:55:30.569Z"
   },
   {
    "duration": 0,
    "start_time": "2022-03-31T10:55:30.571Z"
   },
   {
    "duration": 6,
    "start_time": "2022-03-31T10:56:07.771Z"
   },
   {
    "duration": 15,
    "start_time": "2022-03-31T10:56:09.819Z"
   },
   {
    "duration": 271,
    "start_time": "2022-03-31T10:56:19.476Z"
   },
   {
    "duration": 59,
    "start_time": "2022-03-31T10:56:24.898Z"
   },
   {
    "duration": 11,
    "start_time": "2022-03-31T10:56:26.345Z"
   },
   {
    "duration": 14,
    "start_time": "2022-03-31T10:56:30.025Z"
   },
   {
    "duration": 26263,
    "start_time": "2022-03-31T10:58:55.795Z"
   },
   {
    "duration": 622,
    "start_time": "2022-03-31T10:59:37.032Z"
   },
   {
    "duration": 2042,
    "start_time": "2022-03-31T11:00:32.916Z"
   },
   {
    "duration": 773,
    "start_time": "2022-03-31T11:00:34.961Z"
   },
   {
    "duration": 195,
    "start_time": "2022-03-31T11:00:35.736Z"
   },
   {
    "duration": 5,
    "start_time": "2022-03-31T11:00:35.945Z"
   },
   {
    "duration": 9,
    "start_time": "2022-03-31T11:00:35.953Z"
   },
   {
    "duration": 16,
    "start_time": "2022-03-31T11:00:35.964Z"
   },
   {
    "duration": 8,
    "start_time": "2022-03-31T11:00:35.982Z"
   },
   {
    "duration": 121,
    "start_time": "2022-03-31T11:00:35.993Z"
   },
   {
    "duration": 4,
    "start_time": "2022-03-31T11:00:36.117Z"
   },
   {
    "duration": 3,
    "start_time": "2022-03-31T11:00:36.142Z"
   },
   {
    "duration": 13444,
    "start_time": "2022-03-31T11:00:36.148Z"
   },
   {
    "duration": 289,
    "start_time": "2022-03-31T11:00:49.594Z"
   },
   {
    "duration": 3,
    "start_time": "2022-03-31T11:00:49.885Z"
   },
   {
    "duration": 7,
    "start_time": "2022-03-31T11:00:49.890Z"
   },
   {
    "duration": 756,
    "start_time": "2022-03-31T11:00:49.898Z"
   },
   {
    "duration": 699,
    "start_time": "2022-03-31T11:00:50.656Z"
   },
   {
    "duration": 557,
    "start_time": "2022-03-31T11:00:51.357Z"
   },
   {
    "duration": 551,
    "start_time": "2022-03-31T11:00:51.916Z"
   },
   {
    "duration": 734,
    "start_time": "2022-03-31T11:00:52.469Z"
   },
   {
    "duration": 12,
    "start_time": "2022-03-31T11:00:53.205Z"
   },
   {
    "duration": 257,
    "start_time": "2022-03-31T11:00:53.219Z"
   },
   {
    "duration": 6,
    "start_time": "2022-03-31T11:00:53.479Z"
   },
   {
    "duration": 1137,
    "start_time": "2022-03-31T11:00:53.487Z"
   },
   {
    "duration": 19,
    "start_time": "2022-03-31T11:00:54.627Z"
   },
   {
    "duration": 318,
    "start_time": "2022-03-31T11:00:54.648Z"
   },
   {
    "duration": 1123,
    "start_time": "2022-03-31T11:00:54.968Z"
   },
   {
    "duration": 11,
    "start_time": "2022-03-31T11:00:56.094Z"
   },
   {
    "duration": 372,
    "start_time": "2022-03-31T11:00:56.110Z"
   },
   {
    "duration": 117,
    "start_time": "2022-03-31T11:00:56.484Z"
   },
   {
    "duration": 365,
    "start_time": "2022-03-31T11:00:56.603Z"
   },
   {
    "duration": 5,
    "start_time": "2022-03-31T11:00:56.971Z"
   },
   {
    "duration": 11,
    "start_time": "2022-03-31T11:00:56.978Z"
   },
   {
    "duration": 4,
    "start_time": "2022-03-31T11:00:56.992Z"
   },
   {
    "duration": 12,
    "start_time": "2022-03-31T11:00:56.998Z"
   },
   {
    "duration": 158,
    "start_time": "2022-03-31T11:00:57.044Z"
   },
   {
    "duration": 0,
    "start_time": "2022-03-31T11:00:57.204Z"
   },
   {
    "duration": 0,
    "start_time": "2022-03-31T11:00:57.206Z"
   },
   {
    "duration": 0,
    "start_time": "2022-03-31T11:00:57.208Z"
   },
   {
    "duration": 0,
    "start_time": "2022-03-31T11:00:57.209Z"
   },
   {
    "duration": 0,
    "start_time": "2022-03-31T11:00:57.211Z"
   },
   {
    "duration": 0,
    "start_time": "2022-03-31T11:00:57.212Z"
   },
   {
    "duration": 0,
    "start_time": "2022-03-31T11:00:57.213Z"
   },
   {
    "duration": 5,
    "start_time": "2022-03-31T11:01:21.837Z"
   },
   {
    "duration": 4,
    "start_time": "2022-03-31T11:01:38.312Z"
   },
   {
    "duration": 24206,
    "start_time": "2022-03-31T11:01:43.662Z"
   },
   {
    "duration": 74275,
    "start_time": "2022-03-31T11:02:32.293Z"
   },
   {
    "duration": 16,
    "start_time": "2022-03-31T11:04:36.095Z"
   },
   {
    "duration": 7,
    "start_time": "2022-03-31T11:04:39.299Z"
   },
   {
    "duration": 12,
    "start_time": "2022-03-31T11:07:20.496Z"
   },
   {
    "duration": 5,
    "start_time": "2022-03-31T11:07:23.857Z"
   },
   {
    "duration": 6,
    "start_time": "2022-03-31T11:07:28.922Z"
   },
   {
    "duration": 9,
    "start_time": "2022-03-31T11:07:31.492Z"
   },
   {
    "duration": 5,
    "start_time": "2022-03-31T11:07:38.294Z"
   },
   {
    "duration": 13,
    "start_time": "2022-03-31T11:07:40.792Z"
   },
   {
    "duration": 151786,
    "start_time": "2022-03-31T11:07:52.680Z"
   },
   {
    "duration": 5,
    "start_time": "2022-03-31T11:10:29.909Z"
   },
   {
    "duration": 9,
    "start_time": "2022-03-31T11:10:34.905Z"
   },
   {
    "duration": 4,
    "start_time": "2022-03-31T11:10:37.130Z"
   },
   {
    "duration": 9,
    "start_time": "2022-03-31T11:10:39.649Z"
   },
   {
    "duration": 52848,
    "start_time": "2022-03-31T11:10:45.020Z"
   },
   {
    "duration": 0,
    "start_time": "2022-03-31T11:11:37.871Z"
   },
   {
    "duration": 7,
    "start_time": "2022-03-31T11:11:39.185Z"
   },
   {
    "duration": 6,
    "start_time": "2022-03-31T11:12:16.003Z"
   },
   {
    "duration": 22,
    "start_time": "2022-03-31T11:12:19.595Z"
   },
   {
    "duration": 2021,
    "start_time": "2022-03-31T11:12:25.140Z"
   },
   {
    "duration": 861,
    "start_time": "2022-03-31T11:12:27.165Z"
   },
   {
    "duration": 196,
    "start_time": "2022-03-31T11:12:28.033Z"
   },
   {
    "duration": 6,
    "start_time": "2022-03-31T11:12:28.242Z"
   },
   {
    "duration": 9,
    "start_time": "2022-03-31T11:12:28.250Z"
   },
   {
    "duration": 16,
    "start_time": "2022-03-31T11:12:28.261Z"
   },
   {
    "duration": 7,
    "start_time": "2022-03-31T11:12:28.279Z"
   },
   {
    "duration": 113,
    "start_time": "2022-03-31T11:12:28.289Z"
   },
   {
    "duration": 3,
    "start_time": "2022-03-31T11:12:28.405Z"
   },
   {
    "duration": 6,
    "start_time": "2022-03-31T11:12:28.410Z"
   },
   {
    "duration": 11927,
    "start_time": "2022-03-31T11:12:28.418Z"
   },
   {
    "duration": 333,
    "start_time": "2022-03-31T11:12:40.347Z"
   },
   {
    "duration": 3,
    "start_time": "2022-03-31T11:12:40.682Z"
   },
   {
    "duration": 10,
    "start_time": "2022-03-31T11:12:40.688Z"
   },
   {
    "duration": 909,
    "start_time": "2022-03-31T11:12:40.700Z"
   },
   {
    "duration": 1087,
    "start_time": "2022-03-31T11:12:41.612Z"
   },
   {
    "duration": 643,
    "start_time": "2022-03-31T11:12:42.702Z"
   },
   {
    "duration": 505,
    "start_time": "2022-03-31T11:12:43.348Z"
   },
   {
    "duration": 691,
    "start_time": "2022-03-31T11:12:43.855Z"
   },
   {
    "duration": 11,
    "start_time": "2022-03-31T11:12:44.548Z"
   },
   {
    "duration": 241,
    "start_time": "2022-03-31T11:12:44.561Z"
   },
   {
    "duration": 6,
    "start_time": "2022-03-31T11:12:44.804Z"
   },
   {
    "duration": 1183,
    "start_time": "2022-03-31T11:12:44.812Z"
   },
   {
    "duration": 7,
    "start_time": "2022-03-31T11:12:45.997Z"
   },
   {
    "duration": 328,
    "start_time": "2022-03-31T11:12:46.006Z"
   },
   {
    "duration": 1103,
    "start_time": "2022-03-31T11:12:46.343Z"
   },
   {
    "duration": 11,
    "start_time": "2022-03-31T11:12:47.451Z"
   },
   {
    "duration": 399,
    "start_time": "2022-03-31T11:12:47.465Z"
   },
   {
    "duration": 123,
    "start_time": "2022-03-31T11:12:47.867Z"
   },
   {
    "duration": 413,
    "start_time": "2022-03-31T11:12:47.992Z"
   },
   {
    "duration": 5,
    "start_time": "2022-03-31T11:12:48.408Z"
   },
   {
    "duration": 28,
    "start_time": "2022-03-31T11:12:48.415Z"
   },
   {
    "duration": 8,
    "start_time": "2022-03-31T11:12:48.446Z"
   },
   {
    "duration": 12,
    "start_time": "2022-03-31T11:12:48.457Z"
   },
   {
    "duration": 8,
    "start_time": "2022-03-31T11:12:48.471Z"
   },
   {
    "duration": 9,
    "start_time": "2022-03-31T11:12:48.482Z"
   },
   {
    "duration": 200,
    "start_time": "2022-03-31T11:12:48.493Z"
   },
   {
    "duration": 0,
    "start_time": "2022-03-31T11:12:48.696Z"
   },
   {
    "duration": 0,
    "start_time": "2022-03-31T11:12:48.697Z"
   },
   {
    "duration": 1,
    "start_time": "2022-03-31T11:12:48.698Z"
   },
   {
    "duration": 0,
    "start_time": "2022-03-31T11:12:48.700Z"
   },
   {
    "duration": 1,
    "start_time": "2022-03-31T11:12:48.702Z"
   },
   {
    "duration": 0,
    "start_time": "2022-03-31T11:12:48.705Z"
   },
   {
    "duration": 0,
    "start_time": "2022-03-31T11:12:48.707Z"
   },
   {
    "duration": 0,
    "start_time": "2022-03-31T11:12:48.709Z"
   },
   {
    "duration": 0,
    "start_time": "2022-03-31T11:12:48.711Z"
   },
   {
    "duration": 4,
    "start_time": "2022-03-31T11:12:53.704Z"
   },
   {
    "duration": 6,
    "start_time": "2022-03-31T11:12:57.256Z"
   },
   {
    "duration": 11,
    "start_time": "2022-03-31T11:13:02.535Z"
   },
   {
    "duration": 13,
    "start_time": "2022-03-31T11:13:06.290Z"
   },
   {
    "duration": 60370,
    "start_time": "2022-03-31T11:13:12.721Z"
   },
   {
    "duration": 6,
    "start_time": "2022-03-31T11:14:40.239Z"
   },
   {
    "duration": 62622,
    "start_time": "2022-03-31T11:14:47.751Z"
   },
   {
    "duration": 17,
    "start_time": "2022-03-31T11:17:53.009Z"
   },
   {
    "duration": 13,
    "start_time": "2022-03-31T11:18:21.162Z"
   },
   {
    "duration": 7,
    "start_time": "2022-03-31T11:20:32.698Z"
   },
   {
    "duration": 16,
    "start_time": "2022-03-31T11:20:34.529Z"
   },
   {
    "duration": 169,
    "start_time": "2022-03-31T11:20:40.179Z"
   },
   {
    "duration": 17,
    "start_time": "2022-03-31T11:21:04.263Z"
   },
   {
    "duration": 4,
    "start_time": "2022-03-31T11:21:39.410Z"
   },
   {
    "duration": 17,
    "start_time": "2022-03-31T11:21:40.441Z"
   },
   {
    "duration": 2205,
    "start_time": "2022-03-31T11:21:49.746Z"
   },
   {
    "duration": 879,
    "start_time": "2022-03-31T11:21:51.954Z"
   },
   {
    "duration": 223,
    "start_time": "2022-03-31T11:21:52.835Z"
   },
   {
    "duration": 7,
    "start_time": "2022-03-31T11:21:53.061Z"
   },
   {
    "duration": 6,
    "start_time": "2022-03-31T11:21:53.070Z"
   },
   {
    "duration": 13,
    "start_time": "2022-03-31T11:21:53.079Z"
   },
   {
    "duration": 7,
    "start_time": "2022-03-31T11:21:53.093Z"
   },
   {
    "duration": 122,
    "start_time": "2022-03-31T11:21:53.102Z"
   },
   {
    "duration": 17,
    "start_time": "2022-03-31T11:21:53.226Z"
   },
   {
    "duration": 3,
    "start_time": "2022-03-31T11:21:53.246Z"
   },
   {
    "duration": 14892,
    "start_time": "2022-03-31T11:21:53.251Z"
   },
   {
    "duration": 236,
    "start_time": "2022-03-31T11:22:08.145Z"
   },
   {
    "duration": 4,
    "start_time": "2022-03-31T11:22:08.384Z"
   },
   {
    "duration": 6,
    "start_time": "2022-03-31T11:22:08.390Z"
   },
   {
    "duration": 832,
    "start_time": "2022-03-31T11:22:08.398Z"
   },
   {
    "duration": 732,
    "start_time": "2022-03-31T11:22:09.232Z"
   },
   {
    "duration": 644,
    "start_time": "2022-03-31T11:22:09.967Z"
   },
   {
    "duration": 522,
    "start_time": "2022-03-31T11:22:10.614Z"
   },
   {
    "duration": 678,
    "start_time": "2022-03-31T11:22:11.142Z"
   },
   {
    "duration": 21,
    "start_time": "2022-03-31T11:22:11.823Z"
   },
   {
    "duration": 234,
    "start_time": "2022-03-31T11:22:11.846Z"
   },
   {
    "duration": 6,
    "start_time": "2022-03-31T11:22:12.082Z"
   },
   {
    "duration": 1103,
    "start_time": "2022-03-31T11:22:12.090Z"
   },
   {
    "duration": 6,
    "start_time": "2022-03-31T11:22:13.195Z"
   },
   {
    "duration": 324,
    "start_time": "2022-03-31T11:22:13.203Z"
   },
   {
    "duration": 960,
    "start_time": "2022-03-31T11:22:13.529Z"
   },
   {
    "duration": 11,
    "start_time": "2022-03-31T11:22:14.491Z"
   },
   {
    "duration": 374,
    "start_time": "2022-03-31T11:22:14.507Z"
   },
   {
    "duration": 113,
    "start_time": "2022-03-31T11:22:14.883Z"
   },
   {
    "duration": 388,
    "start_time": "2022-03-31T11:22:14.998Z"
   },
   {
    "duration": 5,
    "start_time": "2022-03-31T11:22:15.388Z"
   },
   {
    "duration": 9,
    "start_time": "2022-03-31T11:22:15.396Z"
   },
   {
    "duration": 5,
    "start_time": "2022-03-31T11:22:15.408Z"
   },
   {
    "duration": 7,
    "start_time": "2022-03-31T11:22:15.443Z"
   },
   {
    "duration": 8,
    "start_time": "2022-03-31T11:22:15.452Z"
   },
   {
    "duration": 8,
    "start_time": "2022-03-31T11:22:15.462Z"
   },
   {
    "duration": 189,
    "start_time": "2022-03-31T11:22:15.472Z"
   },
   {
    "duration": 0,
    "start_time": "2022-03-31T11:22:15.664Z"
   },
   {
    "duration": 0,
    "start_time": "2022-03-31T11:22:15.666Z"
   },
   {
    "duration": 0,
    "start_time": "2022-03-31T11:22:15.667Z"
   },
   {
    "duration": 0,
    "start_time": "2022-03-31T11:22:15.670Z"
   },
   {
    "duration": 0,
    "start_time": "2022-03-31T11:22:15.673Z"
   },
   {
    "duration": 0,
    "start_time": "2022-03-31T11:22:15.674Z"
   },
   {
    "duration": 0,
    "start_time": "2022-03-31T11:22:15.677Z"
   },
   {
    "duration": 0,
    "start_time": "2022-03-31T11:22:15.679Z"
   },
   {
    "duration": 0,
    "start_time": "2022-03-31T11:22:15.681Z"
   },
   {
    "duration": 5,
    "start_time": "2022-03-31T11:22:26.297Z"
   },
   {
    "duration": 5,
    "start_time": "2022-03-31T11:22:27.299Z"
   },
   {
    "duration": 14,
    "start_time": "2022-03-31T11:22:27.993Z"
   },
   {
    "duration": 19,
    "start_time": "2022-03-31T11:22:35.300Z"
   },
   {
    "duration": 64425,
    "start_time": "2022-03-31T11:22:48.411Z"
   },
   {
    "duration": 62707,
    "start_time": "2022-03-31T11:28:56.014Z"
   },
   {
    "duration": 64373,
    "start_time": "2022-03-31T11:31:59.775Z"
   },
   {
    "duration": 7,
    "start_time": "2022-03-31T11:33:34.097Z"
   },
   {
    "duration": 6,
    "start_time": "2022-03-31T11:33:49.571Z"
   },
   {
    "duration": 64274,
    "start_time": "2022-03-31T11:34:35.771Z"
   },
   {
    "duration": 13,
    "start_time": "2022-03-31T11:35:44.340Z"
   },
   {
    "duration": 8,
    "start_time": "2022-03-31T11:36:01.818Z"
   },
   {
    "duration": 7,
    "start_time": "2022-03-31T11:36:12.303Z"
   },
   {
    "duration": 8,
    "start_time": "2022-03-31T11:36:35.412Z"
   },
   {
    "duration": 3941,
    "start_time": "2022-03-31T11:40:17.499Z"
   },
   {
    "duration": 862,
    "start_time": "2022-03-31T11:40:21.443Z"
   },
   {
    "duration": 196,
    "start_time": "2022-03-31T11:40:22.307Z"
   },
   {
    "duration": 6,
    "start_time": "2022-03-31T11:40:22.505Z"
   },
   {
    "duration": 10,
    "start_time": "2022-03-31T11:40:22.513Z"
   },
   {
    "duration": 31,
    "start_time": "2022-03-31T11:40:22.525Z"
   },
   {
    "duration": 8,
    "start_time": "2022-03-31T11:40:22.559Z"
   },
   {
    "duration": 107,
    "start_time": "2022-03-31T11:40:22.569Z"
   },
   {
    "duration": 3,
    "start_time": "2022-03-31T11:40:22.678Z"
   },
   {
    "duration": 5,
    "start_time": "2022-03-31T11:40:22.685Z"
   },
   {
    "duration": 12458,
    "start_time": "2022-03-31T11:40:22.692Z"
   },
   {
    "duration": 341,
    "start_time": "2022-03-31T11:40:35.153Z"
   },
   {
    "duration": 3,
    "start_time": "2022-03-31T11:40:35.497Z"
   },
   {
    "duration": 48,
    "start_time": "2022-03-31T11:40:35.502Z"
   },
   {
    "duration": 793,
    "start_time": "2022-03-31T11:40:35.552Z"
   },
   {
    "duration": 729,
    "start_time": "2022-03-31T11:40:36.348Z"
   },
   {
    "duration": 646,
    "start_time": "2022-03-31T11:40:37.079Z"
   },
   {
    "duration": 536,
    "start_time": "2022-03-31T11:40:37.727Z"
   },
   {
    "duration": 717,
    "start_time": "2022-03-31T11:40:38.265Z"
   },
   {
    "duration": 12,
    "start_time": "2022-03-31T11:40:38.984Z"
   },
   {
    "duration": 254,
    "start_time": "2022-03-31T11:40:38.998Z"
   },
   {
    "duration": 6,
    "start_time": "2022-03-31T11:40:39.255Z"
   },
   {
    "duration": 1139,
    "start_time": "2022-03-31T11:40:39.263Z"
   },
   {
    "duration": 6,
    "start_time": "2022-03-31T11:40:40.405Z"
   },
   {
    "duration": 336,
    "start_time": "2022-03-31T11:40:40.414Z"
   },
   {
    "duration": 949,
    "start_time": "2022-03-31T11:40:40.753Z"
   },
   {
    "duration": 10,
    "start_time": "2022-03-31T11:40:41.705Z"
   },
   {
    "duration": 441,
    "start_time": "2022-03-31T11:40:41.721Z"
   },
   {
    "duration": 139,
    "start_time": "2022-03-31T11:40:42.165Z"
   },
   {
    "duration": 384,
    "start_time": "2022-03-31T11:40:42.306Z"
   },
   {
    "duration": 5,
    "start_time": "2022-03-31T11:40:42.692Z"
   },
   {
    "duration": 15,
    "start_time": "2022-03-31T11:40:42.699Z"
   },
   {
    "duration": 33,
    "start_time": "2022-03-31T11:40:42.717Z"
   },
   {
    "duration": 29,
    "start_time": "2022-03-31T11:40:42.753Z"
   },
   {
    "duration": 21,
    "start_time": "2022-03-31T11:40:42.784Z"
   },
   {
    "duration": 20,
    "start_time": "2022-03-31T11:40:42.807Z"
   },
   {
    "duration": 187,
    "start_time": "2022-03-31T11:40:42.829Z"
   },
   {
    "duration": 0,
    "start_time": "2022-03-31T11:40:43.018Z"
   },
   {
    "duration": 0,
    "start_time": "2022-03-31T11:40:43.020Z"
   },
   {
    "duration": 0,
    "start_time": "2022-03-31T11:40:43.022Z"
   },
   {
    "duration": 0,
    "start_time": "2022-03-31T11:40:43.024Z"
   },
   {
    "duration": 0,
    "start_time": "2022-03-31T11:40:43.025Z"
   },
   {
    "duration": 0,
    "start_time": "2022-03-31T11:40:43.026Z"
   },
   {
    "duration": 0,
    "start_time": "2022-03-31T11:40:43.028Z"
   },
   {
    "duration": 0,
    "start_time": "2022-03-31T11:40:43.042Z"
   },
   {
    "duration": 0,
    "start_time": "2022-03-31T11:40:43.045Z"
   },
   {
    "duration": 0,
    "start_time": "2022-03-31T11:40:43.046Z"
   },
   {
    "duration": 0,
    "start_time": "2022-03-31T11:40:43.050Z"
   },
   {
    "duration": 0,
    "start_time": "2022-03-31T11:40:43.052Z"
   },
   {
    "duration": 0,
    "start_time": "2022-03-31T11:40:43.054Z"
   },
   {
    "duration": 0,
    "start_time": "2022-03-31T11:40:43.055Z"
   },
   {
    "duration": 18,
    "start_time": "2022-03-31T11:41:21.169Z"
   },
   {
    "duration": 8,
    "start_time": "2022-03-31T11:41:38.556Z"
   },
   {
    "duration": 107,
    "start_time": "2022-03-31T11:42:18.956Z"
   },
   {
    "duration": 105,
    "start_time": "2022-03-31T11:42:26.956Z"
   },
   {
    "duration": 16,
    "start_time": "2022-03-31T11:42:34.959Z"
   },
   {
    "duration": 9,
    "start_time": "2022-03-31T11:42:41.449Z"
   },
   {
    "duration": 7,
    "start_time": "2022-03-31T11:42:57.257Z"
   },
   {
    "duration": 17,
    "start_time": "2022-03-31T11:43:41.360Z"
   },
   {
    "duration": 2143,
    "start_time": "2022-03-31T11:50:00.686Z"
   },
   {
    "duration": 867,
    "start_time": "2022-03-31T11:50:02.832Z"
   },
   {
    "duration": 204,
    "start_time": "2022-03-31T11:50:03.701Z"
   },
   {
    "duration": 6,
    "start_time": "2022-03-31T11:50:03.908Z"
   },
   {
    "duration": 8,
    "start_time": "2022-03-31T11:50:03.916Z"
   },
   {
    "duration": 15,
    "start_time": "2022-03-31T11:50:03.942Z"
   },
   {
    "duration": 7,
    "start_time": "2022-03-31T11:50:03.962Z"
   },
   {
    "duration": 109,
    "start_time": "2022-03-31T11:50:03.971Z"
   },
   {
    "duration": 4,
    "start_time": "2022-03-31T11:50:04.082Z"
   },
   {
    "duration": 4,
    "start_time": "2022-03-31T11:50:04.092Z"
   },
   {
    "duration": 15290,
    "start_time": "2022-03-31T11:50:04.098Z"
   },
   {
    "duration": 410,
    "start_time": "2022-03-31T11:50:19.390Z"
   },
   {
    "duration": 3,
    "start_time": "2022-03-31T11:50:19.803Z"
   },
   {
    "duration": 9,
    "start_time": "2022-03-31T11:50:19.808Z"
   },
   {
    "duration": 915,
    "start_time": "2022-03-31T11:50:19.819Z"
   },
   {
    "duration": 764,
    "start_time": "2022-03-31T11:50:20.744Z"
   },
   {
    "duration": 761,
    "start_time": "2022-03-31T11:50:21.511Z"
   },
   {
    "duration": 707,
    "start_time": "2022-03-31T11:50:22.275Z"
   },
   {
    "duration": 763,
    "start_time": "2022-03-31T11:50:22.984Z"
   },
   {
    "duration": 12,
    "start_time": "2022-03-31T11:50:23.750Z"
   },
   {
    "duration": 332,
    "start_time": "2022-03-31T11:50:23.765Z"
   },
   {
    "duration": 5,
    "start_time": "2022-03-31T11:50:24.101Z"
   },
   {
    "duration": 986,
    "start_time": "2022-03-31T11:50:24.109Z"
   },
   {
    "duration": 7,
    "start_time": "2022-03-31T11:50:25.097Z"
   },
   {
    "duration": 347,
    "start_time": "2022-03-31T11:50:25.107Z"
   },
   {
    "duration": 17004,
    "start_time": "2022-03-31T11:50:25.459Z"
   },
   {
    "duration": 0,
    "start_time": "2022-03-31T11:50:42.495Z"
   },
   {
    "duration": 0,
    "start_time": "2022-03-31T11:50:42.498Z"
   },
   {
    "duration": 0,
    "start_time": "2022-03-31T11:50:42.499Z"
   },
   {
    "duration": 0,
    "start_time": "2022-03-31T11:50:42.501Z"
   },
   {
    "duration": 0,
    "start_time": "2022-03-31T11:50:42.502Z"
   },
   {
    "duration": 0,
    "start_time": "2022-03-31T11:50:42.504Z"
   },
   {
    "duration": 0,
    "start_time": "2022-03-31T11:50:42.506Z"
   },
   {
    "duration": 0,
    "start_time": "2022-03-31T11:50:42.507Z"
   },
   {
    "duration": 0,
    "start_time": "2022-03-31T11:50:42.508Z"
   },
   {
    "duration": 0,
    "start_time": "2022-03-31T11:50:42.510Z"
   },
   {
    "duration": 0,
    "start_time": "2022-03-31T11:50:42.512Z"
   },
   {
    "duration": 0,
    "start_time": "2022-03-31T11:50:42.513Z"
   },
   {
    "duration": 0,
    "start_time": "2022-03-31T11:50:42.515Z"
   },
   {
    "duration": 0,
    "start_time": "2022-03-31T11:50:42.516Z"
   },
   {
    "duration": 0,
    "start_time": "2022-03-31T11:50:42.543Z"
   },
   {
    "duration": 0,
    "start_time": "2022-03-31T11:50:42.545Z"
   },
   {
    "duration": 0,
    "start_time": "2022-03-31T11:50:42.547Z"
   },
   {
    "duration": 0,
    "start_time": "2022-03-31T11:50:42.548Z"
   },
   {
    "duration": 1,
    "start_time": "2022-03-31T11:50:42.550Z"
   },
   {
    "duration": 0,
    "start_time": "2022-03-31T11:50:42.555Z"
   },
   {
    "duration": 1,
    "start_time": "2022-03-31T11:50:42.556Z"
   },
   {
    "duration": 0,
    "start_time": "2022-03-31T11:50:42.559Z"
   },
   {
    "duration": 0,
    "start_time": "2022-03-31T11:50:42.561Z"
   },
   {
    "duration": 0,
    "start_time": "2022-03-31T11:50:42.563Z"
   },
   {
    "duration": 0,
    "start_time": "2022-03-31T11:50:42.565Z"
   },
   {
    "duration": 0,
    "start_time": "2022-03-31T11:50:42.567Z"
   },
   {
    "duration": 0,
    "start_time": "2022-03-31T11:50:42.569Z"
   },
   {
    "duration": 0,
    "start_time": "2022-03-31T11:50:42.570Z"
   },
   {
    "duration": 4,
    "start_time": "2022-03-31T11:50:58.904Z"
   },
   {
    "duration": 17,
    "start_time": "2022-03-31T11:50:59.616Z"
   },
   {
    "duration": 22,
    "start_time": "2022-03-31T11:54:36.730Z"
   },
   {
    "duration": 2775,
    "start_time": "2022-03-31T11:55:31.736Z"
   },
   {
    "duration": 906,
    "start_time": "2022-03-31T11:55:34.513Z"
   },
   {
    "duration": 254,
    "start_time": "2022-03-31T11:55:35.421Z"
   },
   {
    "duration": 6,
    "start_time": "2022-03-31T11:55:35.678Z"
   },
   {
    "duration": 16,
    "start_time": "2022-03-31T11:55:35.688Z"
   },
   {
    "duration": 28,
    "start_time": "2022-03-31T11:55:35.707Z"
   },
   {
    "duration": 14,
    "start_time": "2022-03-31T11:55:35.738Z"
   },
   {
    "duration": 108,
    "start_time": "2022-03-31T11:55:35.755Z"
   },
   {
    "duration": 3,
    "start_time": "2022-03-31T11:55:35.866Z"
   },
   {
    "duration": 22,
    "start_time": "2022-03-31T11:55:35.872Z"
   },
   {
    "duration": 19437,
    "start_time": "2022-03-31T11:55:35.897Z"
   },
   {
    "duration": 366,
    "start_time": "2022-03-31T11:55:55.336Z"
   },
   {
    "duration": 3,
    "start_time": "2022-03-31T11:55:55.705Z"
   },
   {
    "duration": 9,
    "start_time": "2022-03-31T11:55:55.713Z"
   },
   {
    "duration": 1066,
    "start_time": "2022-03-31T11:55:55.724Z"
   },
   {
    "duration": 858,
    "start_time": "2022-03-31T11:55:56.792Z"
   },
   {
    "duration": 713,
    "start_time": "2022-03-31T11:55:57.653Z"
   },
   {
    "duration": 652,
    "start_time": "2022-03-31T11:55:58.370Z"
   },
   {
    "duration": 872,
    "start_time": "2022-03-31T11:55:59.024Z"
   },
   {
    "duration": 12,
    "start_time": "2022-03-31T11:55:59.899Z"
   },
   {
    "duration": 306,
    "start_time": "2022-03-31T11:55:59.914Z"
   },
   {
    "duration": 7,
    "start_time": "2022-03-31T11:56:00.223Z"
   },
   {
    "duration": 1212,
    "start_time": "2022-03-31T11:56:00.247Z"
   },
   {
    "duration": 11,
    "start_time": "2022-03-31T11:56:01.467Z"
   },
   {
    "duration": 488,
    "start_time": "2022-03-31T11:56:01.483Z"
   },
   {
    "duration": 10,
    "start_time": "2022-03-31T11:56:01.978Z"
   },
   {
    "duration": 28,
    "start_time": "2022-03-31T11:56:01.991Z"
   },
   {
    "duration": 1147,
    "start_time": "2022-03-31T11:56:02.022Z"
   },
   {
    "duration": 13,
    "start_time": "2022-03-31T11:56:03.172Z"
   },
   {
    "duration": 480,
    "start_time": "2022-03-31T11:56:03.187Z"
   },
   {
    "duration": 146,
    "start_time": "2022-03-31T11:56:03.673Z"
   },
   {
    "duration": 453,
    "start_time": "2022-03-31T11:56:03.821Z"
   },
   {
    "duration": 8,
    "start_time": "2022-03-31T11:56:04.277Z"
   },
   {
    "duration": 11,
    "start_time": "2022-03-31T11:56:04.288Z"
   },
   {
    "duration": 23,
    "start_time": "2022-03-31T11:56:04.303Z"
   },
   {
    "duration": 21,
    "start_time": "2022-03-31T11:56:04.328Z"
   },
   {
    "duration": 30,
    "start_time": "2022-03-31T11:56:04.353Z"
   },
   {
    "duration": 31,
    "start_time": "2022-03-31T11:56:04.385Z"
   },
   {
    "duration": 8,
    "start_time": "2022-03-31T11:56:04.419Z"
   },
   {
    "duration": 219,
    "start_time": "2022-03-31T11:56:04.430Z"
   },
   {
    "duration": 0,
    "start_time": "2022-03-31T11:56:04.662Z"
   },
   {
    "duration": 0,
    "start_time": "2022-03-31T11:56:04.665Z"
   },
   {
    "duration": 0,
    "start_time": "2022-03-31T11:56:04.667Z"
   },
   {
    "duration": 0,
    "start_time": "2022-03-31T11:56:04.670Z"
   },
   {
    "duration": 0,
    "start_time": "2022-03-31T11:56:04.672Z"
   },
   {
    "duration": 0,
    "start_time": "2022-03-31T11:56:04.676Z"
   },
   {
    "duration": 0,
    "start_time": "2022-03-31T11:56:04.679Z"
   },
   {
    "duration": 0,
    "start_time": "2022-03-31T11:56:04.681Z"
   },
   {
    "duration": 0,
    "start_time": "2022-03-31T11:56:04.682Z"
   },
   {
    "duration": 12,
    "start_time": "2022-03-31T11:56:12.454Z"
   },
   {
    "duration": 177,
    "start_time": "2022-03-31T11:56:14.567Z"
   },
   {
    "duration": 16,
    "start_time": "2022-03-31T11:56:15.907Z"
   },
   {
    "duration": 17,
    "start_time": "2022-03-31T11:56:18.035Z"
   },
   {
    "duration": 137,
    "start_time": "2022-03-31T11:56:36.919Z"
   },
   {
    "duration": 310,
    "start_time": "2022-03-31T11:56:52.037Z"
   },
   {
    "duration": 6,
    "start_time": "2022-03-31T11:57:27.628Z"
   },
   {
    "duration": 161,
    "start_time": "2022-03-31T11:58:02.801Z"
   },
   {
    "duration": 158,
    "start_time": "2022-03-31T11:58:11.194Z"
   },
   {
    "duration": 12,
    "start_time": "2022-03-31T11:58:12.178Z"
   },
   {
    "duration": 8,
    "start_time": "2022-03-31T11:58:42.399Z"
   },
   {
    "duration": 8,
    "start_time": "2022-03-31T11:58:50.382Z"
   },
   {
    "duration": 18,
    "start_time": "2022-03-31T11:58:58.778Z"
   },
   {
    "duration": 19,
    "start_time": "2022-03-31T12:01:33.602Z"
   },
   {
    "duration": 2184,
    "start_time": "2022-03-31T12:01:44.249Z"
   },
   {
    "duration": 818,
    "start_time": "2022-03-31T12:01:46.436Z"
   },
   {
    "duration": 233,
    "start_time": "2022-03-31T12:01:47.260Z"
   },
   {
    "duration": 5,
    "start_time": "2022-03-31T12:01:47.496Z"
   },
   {
    "duration": 6,
    "start_time": "2022-03-31T12:01:47.503Z"
   },
   {
    "duration": 15,
    "start_time": "2022-03-31T12:01:47.511Z"
   },
   {
    "duration": 10,
    "start_time": "2022-03-31T12:01:47.543Z"
   },
   {
    "duration": 110,
    "start_time": "2022-03-31T12:01:47.556Z"
   },
   {
    "duration": 3,
    "start_time": "2022-03-31T12:01:47.668Z"
   },
   {
    "duration": 4,
    "start_time": "2022-03-31T12:01:47.676Z"
   },
   {
    "duration": 14420,
    "start_time": "2022-03-31T12:01:47.682Z"
   },
   {
    "duration": 385,
    "start_time": "2022-03-31T12:02:02.104Z"
   },
   {
    "duration": 3,
    "start_time": "2022-03-31T12:02:02.492Z"
   },
   {
    "duration": 6,
    "start_time": "2022-03-31T12:02:02.498Z"
   },
   {
    "duration": 881,
    "start_time": "2022-03-31T12:02:02.506Z"
   },
   {
    "duration": 807,
    "start_time": "2022-03-31T12:02:03.390Z"
   },
   {
    "duration": 774,
    "start_time": "2022-03-31T12:02:04.199Z"
   },
   {
    "duration": 601,
    "start_time": "2022-03-31T12:02:04.979Z"
   },
   {
    "duration": 800,
    "start_time": "2022-03-31T12:02:05.582Z"
   },
   {
    "duration": 11,
    "start_time": "2022-03-31T12:02:06.385Z"
   },
   {
    "duration": 274,
    "start_time": "2022-03-31T12:02:06.398Z"
   },
   {
    "duration": 6,
    "start_time": "2022-03-31T12:02:06.676Z"
   },
   {
    "duration": 1040,
    "start_time": "2022-03-31T12:02:06.684Z"
   },
   {
    "duration": 7,
    "start_time": "2022-03-31T12:02:07.726Z"
   },
   {
    "duration": 359,
    "start_time": "2022-03-31T12:02:07.743Z"
   },
   {
    "duration": 4,
    "start_time": "2022-03-31T12:02:08.104Z"
   },
   {
    "duration": 44,
    "start_time": "2022-03-31T12:02:08.110Z"
   },
   {
    "duration": 1002,
    "start_time": "2022-03-31T12:02:08.165Z"
   },
   {
    "duration": 12,
    "start_time": "2022-03-31T12:02:09.170Z"
   },
   {
    "duration": 434,
    "start_time": "2022-03-31T12:02:09.184Z"
   },
   {
    "duration": 115,
    "start_time": "2022-03-31T12:02:09.620Z"
   },
   {
    "duration": 429,
    "start_time": "2022-03-31T12:02:09.743Z"
   },
   {
    "duration": 5,
    "start_time": "2022-03-31T12:02:10.175Z"
   },
   {
    "duration": 10,
    "start_time": "2022-03-31T12:02:10.183Z"
   },
   {
    "duration": 192,
    "start_time": "2022-03-31T12:02:10.195Z"
   },
   {
    "duration": 0,
    "start_time": "2022-03-31T12:02:10.390Z"
   },
   {
    "duration": 0,
    "start_time": "2022-03-31T12:02:10.392Z"
   },
   {
    "duration": 0,
    "start_time": "2022-03-31T12:02:10.394Z"
   },
   {
    "duration": 0,
    "start_time": "2022-03-31T12:02:10.396Z"
   },
   {
    "duration": 0,
    "start_time": "2022-03-31T12:02:10.397Z"
   },
   {
    "duration": 0,
    "start_time": "2022-03-31T12:02:10.399Z"
   },
   {
    "duration": 0,
    "start_time": "2022-03-31T12:02:10.400Z"
   },
   {
    "duration": 0,
    "start_time": "2022-03-31T12:02:10.401Z"
   },
   {
    "duration": 0,
    "start_time": "2022-03-31T12:02:10.403Z"
   },
   {
    "duration": 0,
    "start_time": "2022-03-31T12:02:10.404Z"
   },
   {
    "duration": 0,
    "start_time": "2022-03-31T12:02:10.407Z"
   },
   {
    "duration": 0,
    "start_time": "2022-03-31T12:02:10.408Z"
   },
   {
    "duration": 0,
    "start_time": "2022-03-31T12:02:10.409Z"
   },
   {
    "duration": 0,
    "start_time": "2022-03-31T12:02:10.411Z"
   },
   {
    "duration": 0,
    "start_time": "2022-03-31T12:02:10.412Z"
   },
   {
    "duration": 0,
    "start_time": "2022-03-31T12:02:10.413Z"
   },
   {
    "duration": 0,
    "start_time": "2022-03-31T12:02:10.415Z"
   },
   {
    "duration": 0,
    "start_time": "2022-03-31T12:02:10.416Z"
   },
   {
    "duration": 17,
    "start_time": "2022-03-31T12:02:22.070Z"
   },
   {
    "duration": 20,
    "start_time": "2022-03-31T12:02:31.764Z"
   },
   {
    "duration": 5,
    "start_time": "2022-03-31T12:02:45.032Z"
   },
   {
    "duration": 34,
    "start_time": "2022-03-31T12:02:52.533Z"
   },
   {
    "duration": 6,
    "start_time": "2022-03-31T12:03:02.398Z"
   },
   {
    "duration": 12,
    "start_time": "2022-03-31T12:03:03.362Z"
   },
   {
    "duration": 7,
    "start_time": "2022-03-31T12:03:10.566Z"
   },
   {
    "duration": 18,
    "start_time": "2022-03-31T12:03:13.621Z"
   },
   {
    "duration": 7,
    "start_time": "2022-03-31T12:03:25.998Z"
   },
   {
    "duration": 4,
    "start_time": "2022-03-31T12:03:31.903Z"
   },
   {
    "duration": 5,
    "start_time": "2022-03-31T12:03:32.501Z"
   },
   {
    "duration": 240,
    "start_time": "2022-03-31T12:03:34.204Z"
   },
   {
    "duration": 9,
    "start_time": "2022-03-31T12:03:36.049Z"
   },
   {
    "duration": 25,
    "start_time": "2022-03-31T12:03:39.693Z"
   },
   {
    "duration": 12,
    "start_time": "2022-03-31T12:03:41.559Z"
   },
   {
    "duration": 414,
    "start_time": "2022-03-31T12:03:47.243Z"
   },
   {
    "duration": 18,
    "start_time": "2022-03-31T12:04:03.022Z"
   },
   {
    "duration": 8,
    "start_time": "2022-03-31T12:04:13.790Z"
   },
   {
    "duration": 17,
    "start_time": "2022-03-31T12:04:21.052Z"
   },
   {
    "duration": 9,
    "start_time": "2022-03-31T12:04:27.926Z"
   },
   {
    "duration": 75,
    "start_time": "2022-03-31T12:04:59.292Z"
   },
   {
    "duration": 11,
    "start_time": "2022-03-31T12:05:00.190Z"
   },
   {
    "duration": 12,
    "start_time": "2022-03-31T12:06:15.662Z"
   },
   {
    "duration": 13,
    "start_time": "2022-03-31T12:06:27.865Z"
   },
   {
    "duration": 7,
    "start_time": "2022-03-31T12:06:39.335Z"
   },
   {
    "duration": 8,
    "start_time": "2022-03-31T12:06:46.942Z"
   },
   {
    "duration": 8,
    "start_time": "2022-03-31T12:07:01.656Z"
   },
   {
    "duration": 8,
    "start_time": "2022-03-31T12:07:17.428Z"
   },
   {
    "duration": 6,
    "start_time": "2022-03-31T12:08:50.919Z"
   },
   {
    "duration": 9,
    "start_time": "2022-03-31T12:09:11.328Z"
   },
   {
    "duration": 66083,
    "start_time": "2022-03-31T12:09:18.091Z"
   },
   {
    "duration": 15,
    "start_time": "2022-03-31T12:10:37.138Z"
   },
   {
    "duration": 5,
    "start_time": "2022-03-31T12:11:20.710Z"
   },
   {
    "duration": 19,
    "start_time": "2022-03-31T12:13:11.529Z"
   },
   {
    "duration": 11,
    "start_time": "2022-03-31T12:13:21.797Z"
   },
   {
    "duration": 12,
    "start_time": "2022-03-31T12:13:30.374Z"
   },
   {
    "duration": 16,
    "start_time": "2022-03-31T12:13:32.540Z"
   },
   {
    "duration": 13,
    "start_time": "2022-03-31T12:13:33.837Z"
   },
   {
    "duration": 12,
    "start_time": "2022-03-31T12:13:34.965Z"
   },
   {
    "duration": 6,
    "start_time": "2022-03-31T12:14:16.656Z"
   },
   {
    "duration": 6,
    "start_time": "2022-03-31T12:14:29.069Z"
   },
   {
    "duration": 11,
    "start_time": "2022-03-31T12:14:44.145Z"
   },
   {
    "duration": 11,
    "start_time": "2022-03-31T12:14:45.880Z"
   },
   {
    "duration": 12,
    "start_time": "2022-03-31T12:14:46.932Z"
   },
   {
    "duration": 10,
    "start_time": "2022-03-31T12:14:50.454Z"
   },
   {
    "duration": 119,
    "start_time": "2022-03-31T12:14:55.137Z"
   },
   {
    "duration": 15,
    "start_time": "2022-03-31T12:14:56.858Z"
   },
   {
    "duration": 12,
    "start_time": "2022-03-31T12:14:57.894Z"
   },
   {
    "duration": 14,
    "start_time": "2022-03-31T12:15:16.549Z"
   },
   {
    "duration": 13,
    "start_time": "2022-03-31T12:15:17.284Z"
   },
   {
    "duration": 7,
    "start_time": "2022-03-31T12:15:29.868Z"
   },
   {
    "duration": 10,
    "start_time": "2022-03-31T12:15:36.054Z"
   },
   {
    "duration": 12,
    "start_time": "2022-03-31T12:15:38.302Z"
   },
   {
    "duration": 10,
    "start_time": "2022-03-31T12:15:39.134Z"
   },
   {
    "duration": 94,
    "start_time": "2022-03-31T12:15:41.666Z"
   },
   {
    "duration": 15,
    "start_time": "2022-03-31T12:15:43.959Z"
   },
   {
    "duration": 12,
    "start_time": "2022-03-31T12:15:46.090Z"
   },
   {
    "duration": 10,
    "start_time": "2022-03-31T12:15:47.206Z"
   },
   {
    "duration": 191,
    "start_time": "2022-03-31T12:15:50.063Z"
   },
   {
    "duration": 11,
    "start_time": "2022-03-31T12:15:52.405Z"
   },
   {
    "duration": 13,
    "start_time": "2022-03-31T12:15:53.869Z"
   },
   {
    "duration": 11,
    "start_time": "2022-03-31T12:15:54.989Z"
   },
   {
    "duration": 67488,
    "start_time": "2022-03-31T12:16:15.690Z"
   },
   {
    "duration": 5,
    "start_time": "2022-03-31T12:19:38.044Z"
   },
   {
    "duration": 414,
    "start_time": "2022-03-31T12:19:43.459Z"
   },
   {
    "duration": 9,
    "start_time": "2022-03-31T12:20:51.601Z"
   },
   {
    "duration": 5,
    "start_time": "2022-03-31T12:21:08.422Z"
   },
   {
    "duration": 389,
    "start_time": "2022-03-31T12:21:13.269Z"
   },
   {
    "duration": 6,
    "start_time": "2022-03-31T12:21:59.188Z"
   },
   {
    "duration": 276,
    "start_time": "2022-03-31T12:22:06.971Z"
   },
   {
    "duration": 4,
    "start_time": "2022-03-31T12:22:22.730Z"
   },
   {
    "duration": 409,
    "start_time": "2022-03-31T12:22:25.956Z"
   },
   {
    "duration": 6,
    "start_time": "2022-03-31T12:23:15.052Z"
   },
   {
    "duration": 262,
    "start_time": "2022-03-31T12:23:26.183Z"
   },
   {
    "duration": 18,
    "start_time": "2022-03-31T12:24:12.812Z"
   },
   {
    "duration": 8,
    "start_time": "2022-03-31T12:24:18.724Z"
   },
   {
    "duration": 4,
    "start_time": "2022-03-31T12:25:30.388Z"
   },
   {
    "duration": 1301,
    "start_time": "2022-03-31T12:25:34.924Z"
   },
   {
    "duration": 19,
    "start_time": "2022-03-31T12:32:18.998Z"
   },
   {
    "duration": 35,
    "start_time": "2022-03-31T12:33:28.244Z"
   },
   {
    "duration": 16,
    "start_time": "2022-03-31T12:38:09.039Z"
   },
   {
    "duration": 211,
    "start_time": "2022-03-31T12:38:22.098Z"
   },
   {
    "duration": 9,
    "start_time": "2022-03-31T12:38:26.645Z"
   },
   {
    "duration": 39,
    "start_time": "2022-03-31T12:38:40.381Z"
   },
   {
    "duration": 13,
    "start_time": "2022-03-31T12:40:00.862Z"
   },
   {
    "duration": 5,
    "start_time": "2022-03-31T12:40:05.003Z"
   },
   {
    "duration": 2295,
    "start_time": "2022-03-31T12:41:02.468Z"
   },
   {
    "duration": 902,
    "start_time": "2022-03-31T12:41:04.768Z"
   },
   {
    "duration": 209,
    "start_time": "2022-03-31T12:41:05.678Z"
   },
   {
    "duration": 5,
    "start_time": "2022-03-31T12:41:05.890Z"
   },
   {
    "duration": 9,
    "start_time": "2022-03-31T12:41:05.897Z"
   },
   {
    "duration": 23,
    "start_time": "2022-03-31T12:41:05.908Z"
   },
   {
    "duration": 18,
    "start_time": "2022-03-31T12:41:05.933Z"
   },
   {
    "duration": 119,
    "start_time": "2022-03-31T12:41:05.954Z"
   },
   {
    "duration": 4,
    "start_time": "2022-03-31T12:41:06.075Z"
   },
   {
    "duration": 7,
    "start_time": "2022-03-31T12:41:06.082Z"
   },
   {
    "duration": 13359,
    "start_time": "2022-03-31T12:41:06.091Z"
   },
   {
    "duration": 304,
    "start_time": "2022-03-31T12:41:19.452Z"
   },
   {
    "duration": 5,
    "start_time": "2022-03-31T12:41:19.765Z"
   },
   {
    "duration": 5,
    "start_time": "2022-03-31T12:41:19.773Z"
   },
   {
    "duration": 804,
    "start_time": "2022-03-31T12:41:19.781Z"
   },
   {
    "duration": 797,
    "start_time": "2022-03-31T12:41:20.588Z"
   },
   {
    "duration": 649,
    "start_time": "2022-03-31T12:41:21.388Z"
   },
   {
    "duration": 530,
    "start_time": "2022-03-31T12:41:22.043Z"
   },
   {
    "duration": 759,
    "start_time": "2022-03-31T12:41:22.576Z"
   },
   {
    "duration": 12,
    "start_time": "2022-03-31T12:41:23.342Z"
   },
   {
    "duration": 266,
    "start_time": "2022-03-31T12:41:23.357Z"
   },
   {
    "duration": 6,
    "start_time": "2022-03-31T12:41:23.625Z"
   },
   {
    "duration": 1077,
    "start_time": "2022-03-31T12:41:23.633Z"
   },
   {
    "duration": 6,
    "start_time": "2022-03-31T12:41:24.712Z"
   },
   {
    "duration": 349,
    "start_time": "2022-03-31T12:41:24.720Z"
   },
   {
    "duration": 4,
    "start_time": "2022-03-31T12:41:25.070Z"
   },
   {
    "duration": 21,
    "start_time": "2022-03-31T12:41:25.077Z"
   },
   {
    "duration": 1033,
    "start_time": "2022-03-31T12:41:25.103Z"
   },
   {
    "duration": 12,
    "start_time": "2022-03-31T12:41:26.139Z"
   },
   {
    "duration": 433,
    "start_time": "2022-03-31T12:41:26.153Z"
   },
   {
    "duration": 129,
    "start_time": "2022-03-31T12:41:26.588Z"
   },
   {
    "duration": 405,
    "start_time": "2022-03-31T12:41:26.719Z"
   },
   {
    "duration": 6,
    "start_time": "2022-03-31T12:41:27.127Z"
   },
   {
    "duration": 12,
    "start_time": "2022-03-31T12:41:27.143Z"
   },
   {
    "duration": 32,
    "start_time": "2022-03-31T12:41:27.157Z"
   },
   {
    "duration": 6,
    "start_time": "2022-03-31T12:41:27.191Z"
   },
   {
    "duration": 13,
    "start_time": "2022-03-31T12:41:27.200Z"
   },
   {
    "duration": 10,
    "start_time": "2022-03-31T12:41:27.215Z"
   },
   {
    "duration": 30,
    "start_time": "2022-03-31T12:41:27.228Z"
   },
   {
    "duration": 15,
    "start_time": "2022-03-31T12:41:27.261Z"
   },
   {
    "duration": 190,
    "start_time": "2022-03-31T12:41:27.279Z"
   },
   {
    "duration": 0,
    "start_time": "2022-03-31T12:41:27.472Z"
   },
   {
    "duration": 0,
    "start_time": "2022-03-31T12:41:27.474Z"
   },
   {
    "duration": 0,
    "start_time": "2022-03-31T12:41:27.476Z"
   },
   {
    "duration": 0,
    "start_time": "2022-03-31T12:41:27.479Z"
   },
   {
    "duration": 1,
    "start_time": "2022-03-31T12:41:27.481Z"
   },
   {
    "duration": 0,
    "start_time": "2022-03-31T12:41:27.484Z"
   },
   {
    "duration": 0,
    "start_time": "2022-03-31T12:41:27.486Z"
   },
   {
    "duration": 0,
    "start_time": "2022-03-31T12:41:27.488Z"
   },
   {
    "duration": 0,
    "start_time": "2022-03-31T12:41:27.490Z"
   },
   {
    "duration": 0,
    "start_time": "2022-03-31T12:41:27.493Z"
   },
   {
    "duration": 0,
    "start_time": "2022-03-31T12:41:27.495Z"
   },
   {
    "duration": 0,
    "start_time": "2022-03-31T12:41:27.497Z"
   },
   {
    "duration": 0,
    "start_time": "2022-03-31T12:41:27.550Z"
   },
   {
    "duration": 13,
    "start_time": "2022-03-31T12:42:23.807Z"
   },
   {
    "duration": 5,
    "start_time": "2022-03-31T12:42:27.250Z"
   },
   {
    "duration": 2369,
    "start_time": "2022-03-31T12:43:45.498Z"
   },
   {
    "duration": 957,
    "start_time": "2022-03-31T12:43:47.871Z"
   },
   {
    "duration": 208,
    "start_time": "2022-03-31T12:43:48.831Z"
   },
   {
    "duration": 11,
    "start_time": "2022-03-31T12:43:49.047Z"
   },
   {
    "duration": 23,
    "start_time": "2022-03-31T12:43:49.060Z"
   },
   {
    "duration": 17,
    "start_time": "2022-03-31T12:43:49.085Z"
   },
   {
    "duration": 8,
    "start_time": "2022-03-31T12:43:49.104Z"
   },
   {
    "duration": 117,
    "start_time": "2022-03-31T12:43:49.119Z"
   },
   {
    "duration": 3,
    "start_time": "2022-03-31T12:43:49.243Z"
   },
   {
    "duration": 27,
    "start_time": "2022-03-31T12:43:49.252Z"
   },
   {
    "duration": 18125,
    "start_time": "2022-03-31T12:43:49.281Z"
   },
   {
    "duration": 285,
    "start_time": "2022-03-31T12:44:07.408Z"
   },
   {
    "duration": 3,
    "start_time": "2022-03-31T12:44:07.696Z"
   },
   {
    "duration": 11,
    "start_time": "2022-03-31T12:44:07.701Z"
   },
   {
    "duration": 1059,
    "start_time": "2022-03-31T12:44:07.714Z"
   },
   {
    "duration": 821,
    "start_time": "2022-03-31T12:44:08.778Z"
   },
   {
    "duration": 656,
    "start_time": "2022-03-31T12:44:09.601Z"
   },
   {
    "duration": 733,
    "start_time": "2022-03-31T12:44:10.264Z"
   },
   {
    "duration": 1081,
    "start_time": "2022-03-31T12:44:11.000Z"
   },
   {
    "duration": 12,
    "start_time": "2022-03-31T12:44:12.083Z"
   },
   {
    "duration": 266,
    "start_time": "2022-03-31T12:44:12.098Z"
   },
   {
    "duration": 10,
    "start_time": "2022-03-31T12:44:12.369Z"
   },
   {
    "duration": 1133,
    "start_time": "2022-03-31T12:44:12.382Z"
   },
   {
    "duration": 7,
    "start_time": "2022-03-31T12:44:13.517Z"
   },
   {
    "duration": 385,
    "start_time": "2022-03-31T12:44:13.527Z"
   },
   {
    "duration": 5,
    "start_time": "2022-03-31T12:44:13.915Z"
   },
   {
    "duration": 44,
    "start_time": "2022-03-31T12:44:13.922Z"
   },
   {
    "duration": 1211,
    "start_time": "2022-03-31T12:44:13.973Z"
   },
   {
    "duration": 11,
    "start_time": "2022-03-31T12:44:15.187Z"
   },
   {
    "duration": 556,
    "start_time": "2022-03-31T12:44:15.201Z"
   },
   {
    "duration": 120,
    "start_time": "2022-03-31T12:44:15.763Z"
   },
   {
    "duration": 426,
    "start_time": "2022-03-31T12:44:15.885Z"
   },
   {
    "duration": 6,
    "start_time": "2022-03-31T12:44:16.313Z"
   },
   {
    "duration": 31,
    "start_time": "2022-03-31T12:44:16.321Z"
   },
   {
    "duration": 25,
    "start_time": "2022-03-31T12:44:16.354Z"
   },
   {
    "duration": 7,
    "start_time": "2022-03-31T12:44:16.381Z"
   },
   {
    "duration": 11,
    "start_time": "2022-03-31T12:44:16.390Z"
   },
   {
    "duration": 8,
    "start_time": "2022-03-31T12:44:16.403Z"
   },
   {
    "duration": 42,
    "start_time": "2022-03-31T12:44:16.413Z"
   },
   {
    "duration": 67,
    "start_time": "2022-03-31T12:44:16.463Z"
   },
   {
    "duration": 185,
    "start_time": "2022-03-31T12:44:16.541Z"
   },
   {
    "duration": 0,
    "start_time": "2022-03-31T12:44:16.728Z"
   },
   {
    "duration": 0,
    "start_time": "2022-03-31T12:44:16.730Z"
   },
   {
    "duration": 1,
    "start_time": "2022-03-31T12:44:16.743Z"
   },
   {
    "duration": 0,
    "start_time": "2022-03-31T12:44:16.745Z"
   },
   {
    "duration": 0,
    "start_time": "2022-03-31T12:44:16.757Z"
   },
   {
    "duration": 0,
    "start_time": "2022-03-31T12:44:16.758Z"
   },
   {
    "duration": 0,
    "start_time": "2022-03-31T12:44:16.760Z"
   },
   {
    "duration": 0,
    "start_time": "2022-03-31T12:44:16.762Z"
   },
   {
    "duration": 0,
    "start_time": "2022-03-31T12:44:16.764Z"
   },
   {
    "duration": 0,
    "start_time": "2022-03-31T12:44:16.765Z"
   },
   {
    "duration": 0,
    "start_time": "2022-03-31T12:44:16.767Z"
   },
   {
    "duration": 0,
    "start_time": "2022-03-31T12:44:16.768Z"
   },
   {
    "duration": 0,
    "start_time": "2022-03-31T12:44:16.769Z"
   },
   {
    "duration": 5,
    "start_time": "2022-03-31T12:44:26.024Z"
   },
   {
    "duration": 16,
    "start_time": "2022-03-31T12:44:33.862Z"
   },
   {
    "duration": 18,
    "start_time": "2022-03-31T12:44:49.870Z"
   },
   {
    "duration": 2145,
    "start_time": "2022-03-31T12:48:46.981Z"
   },
   {
    "duration": 841,
    "start_time": "2022-03-31T12:48:49.129Z"
   },
   {
    "duration": 211,
    "start_time": "2022-03-31T12:48:49.972Z"
   },
   {
    "duration": 6,
    "start_time": "2022-03-31T12:48:50.185Z"
   },
   {
    "duration": 21,
    "start_time": "2022-03-31T12:48:50.193Z"
   },
   {
    "duration": 28,
    "start_time": "2022-03-31T12:48:50.217Z"
   },
   {
    "duration": 27,
    "start_time": "2022-03-31T12:48:50.251Z"
   },
   {
    "duration": 105,
    "start_time": "2022-03-31T12:48:50.280Z"
   },
   {
    "duration": 3,
    "start_time": "2022-03-31T12:48:50.387Z"
   },
   {
    "duration": 23,
    "start_time": "2022-03-31T12:48:50.396Z"
   },
   {
    "duration": 13038,
    "start_time": "2022-03-31T12:48:50.421Z"
   },
   {
    "duration": 341,
    "start_time": "2022-03-31T12:49:03.462Z"
   },
   {
    "duration": 3,
    "start_time": "2022-03-31T12:49:03.805Z"
   },
   {
    "duration": 7,
    "start_time": "2022-03-31T12:49:03.810Z"
   },
   {
    "duration": 810,
    "start_time": "2022-03-31T12:49:03.851Z"
   },
   {
    "duration": 767,
    "start_time": "2022-03-31T12:49:04.664Z"
   },
   {
    "duration": 628,
    "start_time": "2022-03-31T12:49:05.444Z"
   },
   {
    "duration": 616,
    "start_time": "2022-03-31T12:49:06.074Z"
   },
   {
    "duration": 753,
    "start_time": "2022-03-31T12:49:06.692Z"
   },
   {
    "duration": 12,
    "start_time": "2022-03-31T12:49:07.451Z"
   },
   {
    "duration": 256,
    "start_time": "2022-03-31T12:49:07.465Z"
   },
   {
    "duration": 6,
    "start_time": "2022-03-31T12:49:07.723Z"
   },
   {
    "duration": 1088,
    "start_time": "2022-03-31T12:49:07.731Z"
   },
   {
    "duration": 6,
    "start_time": "2022-03-31T12:49:08.822Z"
   },
   {
    "duration": 343,
    "start_time": "2022-03-31T12:49:08.830Z"
   },
   {
    "duration": 5,
    "start_time": "2022-03-31T12:49:09.176Z"
   },
   {
    "duration": 21,
    "start_time": "2022-03-31T12:49:09.183Z"
   },
   {
    "duration": 1097,
    "start_time": "2022-03-31T12:49:09.209Z"
   },
   {
    "duration": 11,
    "start_time": "2022-03-31T12:49:10.308Z"
   },
   {
    "duration": 406,
    "start_time": "2022-03-31T12:49:10.322Z"
   },
   {
    "duration": 145,
    "start_time": "2022-03-31T12:49:10.730Z"
   },
   {
    "duration": 418,
    "start_time": "2022-03-31T12:49:10.877Z"
   },
   {
    "duration": 6,
    "start_time": "2022-03-31T12:49:11.297Z"
   },
   {
    "duration": 8,
    "start_time": "2022-03-31T12:49:11.306Z"
   },
   {
    "duration": 36,
    "start_time": "2022-03-31T12:49:11.316Z"
   },
   {
    "duration": 13,
    "start_time": "2022-03-31T12:49:11.355Z"
   },
   {
    "duration": 15,
    "start_time": "2022-03-31T12:49:11.371Z"
   },
   {
    "duration": 17,
    "start_time": "2022-03-31T12:49:11.388Z"
   },
   {
    "duration": 22,
    "start_time": "2022-03-31T12:49:11.407Z"
   },
   {
    "duration": 19,
    "start_time": "2022-03-31T12:49:11.431Z"
   },
   {
    "duration": 191,
    "start_time": "2022-03-31T12:49:11.454Z"
   },
   {
    "duration": 0,
    "start_time": "2022-03-31T12:49:11.647Z"
   },
   {
    "duration": 0,
    "start_time": "2022-03-31T12:49:11.649Z"
   },
   {
    "duration": 0,
    "start_time": "2022-03-31T12:49:11.650Z"
   },
   {
    "duration": 0,
    "start_time": "2022-03-31T12:49:11.651Z"
   },
   {
    "duration": 0,
    "start_time": "2022-03-31T12:49:11.653Z"
   },
   {
    "duration": 0,
    "start_time": "2022-03-31T12:49:11.655Z"
   },
   {
    "duration": 0,
    "start_time": "2022-03-31T12:49:11.657Z"
   },
   {
    "duration": 0,
    "start_time": "2022-03-31T12:49:11.662Z"
   },
   {
    "duration": 0,
    "start_time": "2022-03-31T12:49:11.664Z"
   },
   {
    "duration": 0,
    "start_time": "2022-03-31T12:49:11.667Z"
   },
   {
    "duration": 0,
    "start_time": "2022-03-31T12:49:11.669Z"
   },
   {
    "duration": 0,
    "start_time": "2022-03-31T12:49:11.672Z"
   },
   {
    "duration": 0,
    "start_time": "2022-03-31T12:49:11.674Z"
   },
   {
    "duration": 0,
    "start_time": "2022-03-31T12:49:11.675Z"
   },
   {
    "duration": 0,
    "start_time": "2022-03-31T12:49:11.677Z"
   },
   {
    "duration": 6,
    "start_time": "2022-03-31T12:49:37.867Z"
   },
   {
    "duration": 10710,
    "start_time": "2022-03-31T12:49:40.314Z"
   },
   {
    "duration": 13,
    "start_time": "2022-03-31T12:51:04.167Z"
   },
   {
    "duration": 16,
    "start_time": "2022-03-31T12:58:26.874Z"
   },
   {
    "duration": 17,
    "start_time": "2022-03-31T12:58:50.591Z"
   },
   {
    "duration": 24,
    "start_time": "2022-03-31T12:58:57.945Z"
   },
   {
    "duration": 2220,
    "start_time": "2022-03-31T12:59:15.473Z"
   },
   {
    "duration": 820,
    "start_time": "2022-03-31T12:59:17.696Z"
   },
   {
    "duration": 199,
    "start_time": "2022-03-31T12:59:18.518Z"
   },
   {
    "duration": 6,
    "start_time": "2022-03-31T12:59:18.720Z"
   },
   {
    "duration": 17,
    "start_time": "2022-03-31T12:59:18.728Z"
   },
   {
    "duration": 21,
    "start_time": "2022-03-31T12:59:18.748Z"
   },
   {
    "duration": 8,
    "start_time": "2022-03-31T12:59:18.771Z"
   },
   {
    "duration": 114,
    "start_time": "2022-03-31T12:59:18.782Z"
   },
   {
    "duration": 3,
    "start_time": "2022-03-31T12:59:18.899Z"
   },
   {
    "duration": 4,
    "start_time": "2022-03-31T12:59:18.906Z"
   },
   {
    "duration": 14282,
    "start_time": "2022-03-31T12:59:18.912Z"
   },
   {
    "duration": 275,
    "start_time": "2022-03-31T12:59:33.197Z"
   },
   {
    "duration": 3,
    "start_time": "2022-03-31T12:59:33.474Z"
   },
   {
    "duration": 18,
    "start_time": "2022-03-31T12:59:33.480Z"
   },
   {
    "duration": 944,
    "start_time": "2022-03-31T12:59:33.501Z"
   },
   {
    "duration": 760,
    "start_time": "2022-03-31T12:59:34.448Z"
   },
   {
    "duration": 713,
    "start_time": "2022-03-31T12:59:35.211Z"
   },
   {
    "duration": 538,
    "start_time": "2022-03-31T12:59:35.926Z"
   },
   {
    "duration": 740,
    "start_time": "2022-03-31T12:59:36.467Z"
   },
   {
    "duration": 12,
    "start_time": "2022-03-31T12:59:37.210Z"
   },
   {
    "duration": 238,
    "start_time": "2022-03-31T12:59:37.244Z"
   },
   {
    "duration": 5,
    "start_time": "2022-03-31T12:59:37.485Z"
   },
   {
    "duration": 1114,
    "start_time": "2022-03-31T12:59:37.493Z"
   },
   {
    "duration": 9,
    "start_time": "2022-03-31T12:59:38.610Z"
   },
   {
    "duration": 443,
    "start_time": "2022-03-31T12:59:38.622Z"
   },
   {
    "duration": 5,
    "start_time": "2022-03-31T12:59:39.067Z"
   },
   {
    "duration": 48,
    "start_time": "2022-03-31T12:59:39.075Z"
   },
   {
    "duration": 1430,
    "start_time": "2022-03-31T12:59:39.132Z"
   },
   {
    "duration": 16,
    "start_time": "2022-03-31T12:59:40.566Z"
   },
   {
    "duration": 615,
    "start_time": "2022-03-31T12:59:40.584Z"
   },
   {
    "duration": 167,
    "start_time": "2022-03-31T12:59:41.202Z"
   },
   {
    "duration": 600,
    "start_time": "2022-03-31T12:59:41.372Z"
   },
   {
    "duration": 9,
    "start_time": "2022-03-31T12:59:41.974Z"
   },
   {
    "duration": 12,
    "start_time": "2022-03-31T12:59:41.985Z"
   },
   {
    "duration": 10,
    "start_time": "2022-03-31T12:59:41.999Z"
   },
   {
    "duration": 38,
    "start_time": "2022-03-31T12:59:42.011Z"
   },
   {
    "duration": 13,
    "start_time": "2022-03-31T12:59:42.052Z"
   },
   {
    "duration": 314,
    "start_time": "2022-03-31T12:59:42.067Z"
   },
   {
    "duration": 0,
    "start_time": "2022-03-31T12:59:42.384Z"
   },
   {
    "duration": 0,
    "start_time": "2022-03-31T12:59:42.387Z"
   },
   {
    "duration": 0,
    "start_time": "2022-03-31T12:59:42.389Z"
   },
   {
    "duration": 0,
    "start_time": "2022-03-31T12:59:42.391Z"
   },
   {
    "duration": 0,
    "start_time": "2022-03-31T12:59:42.392Z"
   },
   {
    "duration": 0,
    "start_time": "2022-03-31T12:59:42.395Z"
   },
   {
    "duration": 0,
    "start_time": "2022-03-31T12:59:42.396Z"
   },
   {
    "duration": 0,
    "start_time": "2022-03-31T12:59:42.399Z"
   },
   {
    "duration": 0,
    "start_time": "2022-03-31T12:59:42.400Z"
   },
   {
    "duration": 0,
    "start_time": "2022-03-31T12:59:42.402Z"
   },
   {
    "duration": 0,
    "start_time": "2022-03-31T12:59:42.405Z"
   },
   {
    "duration": 0,
    "start_time": "2022-03-31T12:59:42.407Z"
   },
   {
    "duration": 0,
    "start_time": "2022-03-31T12:59:42.443Z"
   },
   {
    "duration": 0,
    "start_time": "2022-03-31T12:59:42.446Z"
   },
   {
    "duration": 0,
    "start_time": "2022-03-31T12:59:42.448Z"
   },
   {
    "duration": 0,
    "start_time": "2022-03-31T12:59:42.450Z"
   },
   {
    "duration": 0,
    "start_time": "2022-03-31T12:59:42.452Z"
   },
   {
    "duration": 0,
    "start_time": "2022-03-31T12:59:42.454Z"
   },
   {
    "duration": 0,
    "start_time": "2022-03-31T12:59:42.456Z"
   },
   {
    "duration": 0,
    "start_time": "2022-03-31T12:59:42.458Z"
   },
   {
    "duration": 20,
    "start_time": "2022-03-31T13:00:12.132Z"
   },
   {
    "duration": 18,
    "start_time": "2022-03-31T13:00:22.115Z"
   },
   {
    "duration": 15,
    "start_time": "2022-03-31T13:00:51.121Z"
   },
   {
    "duration": 22,
    "start_time": "2022-03-31T13:01:03.386Z"
   },
   {
    "duration": 22,
    "start_time": "2022-03-31T13:01:20.798Z"
   },
   {
    "duration": 6,
    "start_time": "2022-03-31T13:01:50.764Z"
   },
   {
    "duration": 9,
    "start_time": "2022-03-31T13:01:55.543Z"
   },
   {
    "duration": 22,
    "start_time": "2022-03-31T13:01:58.697Z"
   },
   {
    "duration": 8,
    "start_time": "2022-03-31T13:02:16.444Z"
   },
   {
    "duration": 294823,
    "start_time": "2022-03-31T13:02:38.343Z"
   },
   {
    "duration": 14,
    "start_time": "2022-03-31T13:09:20.390Z"
   },
   {
    "duration": 261,
    "start_time": "2022-03-31T13:09:36.097Z"
   },
   {
    "duration": 2401,
    "start_time": "2022-03-31T13:13:48.027Z"
   },
   {
    "duration": 835,
    "start_time": "2022-03-31T13:13:50.431Z"
   },
   {
    "duration": 235,
    "start_time": "2022-03-31T13:13:51.269Z"
   },
   {
    "duration": 6,
    "start_time": "2022-03-31T13:13:51.507Z"
   },
   {
    "duration": 24,
    "start_time": "2022-03-31T13:13:51.518Z"
   },
   {
    "duration": 30,
    "start_time": "2022-03-31T13:13:51.544Z"
   },
   {
    "duration": 8,
    "start_time": "2022-03-31T13:13:51.576Z"
   },
   {
    "duration": 102,
    "start_time": "2022-03-31T13:13:51.586Z"
   },
   {
    "duration": 3,
    "start_time": "2022-03-31T13:13:51.691Z"
   },
   {
    "duration": 18,
    "start_time": "2022-03-31T13:13:51.697Z"
   },
   {
    "duration": 14675,
    "start_time": "2022-03-31T13:13:51.717Z"
   },
   {
    "duration": 287,
    "start_time": "2022-03-31T13:14:06.394Z"
   },
   {
    "duration": 3,
    "start_time": "2022-03-31T13:14:06.683Z"
   },
   {
    "duration": 14,
    "start_time": "2022-03-31T13:14:06.691Z"
   },
   {
    "duration": 846,
    "start_time": "2022-03-31T13:14:06.707Z"
   },
   {
    "duration": 840,
    "start_time": "2022-03-31T13:14:07.556Z"
   },
   {
    "duration": 626,
    "start_time": "2022-03-31T13:14:08.399Z"
   },
   {
    "duration": 629,
    "start_time": "2022-03-31T13:14:09.027Z"
   },
   {
    "duration": 830,
    "start_time": "2022-03-31T13:14:09.658Z"
   },
   {
    "duration": 15,
    "start_time": "2022-03-31T13:14:10.491Z"
   },
   {
    "duration": 263,
    "start_time": "2022-03-31T13:14:10.508Z"
   },
   {
    "duration": 8,
    "start_time": "2022-03-31T13:14:10.773Z"
   },
   {
    "duration": 1023,
    "start_time": "2022-03-31T13:14:10.783Z"
   },
   {
    "duration": 9,
    "start_time": "2022-03-31T13:14:11.808Z"
   },
   {
    "duration": 348,
    "start_time": "2022-03-31T13:14:11.819Z"
   },
   {
    "duration": 4,
    "start_time": "2022-03-31T13:14:12.170Z"
   },
   {
    "duration": 27,
    "start_time": "2022-03-31T13:14:12.176Z"
   },
   {
    "duration": 1208,
    "start_time": "2022-03-31T13:14:12.206Z"
   },
   {
    "duration": 27,
    "start_time": "2022-03-31T13:14:13.416Z"
   },
   {
    "duration": 470,
    "start_time": "2022-03-31T13:14:13.446Z"
   },
   {
    "duration": 128,
    "start_time": "2022-03-31T13:14:13.918Z"
   },
   {
    "duration": 527,
    "start_time": "2022-03-31T13:14:14.049Z"
   },
   {
    "duration": 7,
    "start_time": "2022-03-31T13:14:14.579Z"
   },
   {
    "duration": 9,
    "start_time": "2022-03-31T13:14:14.591Z"
   },
   {
    "duration": 9,
    "start_time": "2022-03-31T13:14:14.602Z"
   },
   {
    "duration": 6,
    "start_time": "2022-03-31T13:14:14.644Z"
   },
   {
    "duration": 13,
    "start_time": "2022-03-31T13:14:14.652Z"
   },
   {
    "duration": 344,
    "start_time": "2022-03-31T13:14:14.667Z"
   },
   {
    "duration": 0,
    "start_time": "2022-03-31T13:14:15.014Z"
   },
   {
    "duration": 0,
    "start_time": "2022-03-31T13:14:15.016Z"
   },
   {
    "duration": 0,
    "start_time": "2022-03-31T13:14:15.018Z"
   },
   {
    "duration": 1,
    "start_time": "2022-03-31T13:14:15.020Z"
   },
   {
    "duration": 0,
    "start_time": "2022-03-31T13:14:15.023Z"
   },
   {
    "duration": 0,
    "start_time": "2022-03-31T13:14:15.043Z"
   },
   {
    "duration": 0,
    "start_time": "2022-03-31T13:14:15.045Z"
   },
   {
    "duration": 0,
    "start_time": "2022-03-31T13:14:15.047Z"
   },
   {
    "duration": 0,
    "start_time": "2022-03-31T13:14:15.049Z"
   },
   {
    "duration": 0,
    "start_time": "2022-03-31T13:14:15.050Z"
   },
   {
    "duration": 0,
    "start_time": "2022-03-31T13:14:15.052Z"
   },
   {
    "duration": 0,
    "start_time": "2022-03-31T13:14:15.054Z"
   },
   {
    "duration": 5,
    "start_time": "2022-03-31T13:15:37.238Z"
   },
   {
    "duration": 6,
    "start_time": "2022-03-31T13:15:39.399Z"
   },
   {
    "duration": 6,
    "start_time": "2022-03-31T13:16:05.534Z"
   },
   {
    "duration": 4,
    "start_time": "2022-03-31T13:16:10.695Z"
   },
   {
    "duration": 190,
    "start_time": "2022-03-31T13:16:13.354Z"
   },
   {
    "duration": 227,
    "start_time": "2022-03-31T13:16:15.625Z"
   },
   {
    "duration": 150,
    "start_time": "2022-03-31T13:16:47.006Z"
   },
   {
    "duration": 202,
    "start_time": "2022-03-31T13:17:11.053Z"
   },
   {
    "duration": 223,
    "start_time": "2022-03-31T13:17:41.529Z"
   },
   {
    "duration": 6,
    "start_time": "2022-03-31T13:18:26.553Z"
   },
   {
    "duration": 12,
    "start_time": "2022-03-31T13:18:53.275Z"
   },
   {
    "duration": 13,
    "start_time": "2022-03-31T13:18:58.647Z"
   },
   {
    "duration": 11,
    "start_time": "2022-03-31T13:19:03.776Z"
   },
   {
    "duration": 7,
    "start_time": "2022-03-31T13:19:10.280Z"
   },
   {
    "duration": 5,
    "start_time": "2022-03-31T13:19:25.783Z"
   },
   {
    "duration": 6,
    "start_time": "2022-03-31T13:19:26.922Z"
   },
   {
    "duration": 7,
    "start_time": "2022-03-31T13:19:31.173Z"
   },
   {
    "duration": 13,
    "start_time": "2022-03-31T13:19:46.081Z"
   },
   {
    "duration": 6,
    "start_time": "2022-03-31T13:19:52.899Z"
   },
   {
    "duration": 283,
    "start_time": "2022-03-31T13:20:01.406Z"
   },
   {
    "duration": 6,
    "start_time": "2022-03-31T13:20:06.478Z"
   },
   {
    "duration": 4,
    "start_time": "2022-03-31T13:20:39.928Z"
   },
   {
    "duration": 7,
    "start_time": "2022-03-31T13:20:41.288Z"
   },
   {
    "duration": 645,
    "start_time": "2022-03-31T13:20:54.066Z"
   },
   {
    "duration": 5,
    "start_time": "2022-03-31T13:22:26.735Z"
   },
   {
    "duration": 220,
    "start_time": "2022-03-31T13:22:39.630Z"
   },
   {
    "duration": 6,
    "start_time": "2022-03-31T13:24:05.186Z"
   },
   {
    "duration": 182,
    "start_time": "2022-03-31T13:24:15.563Z"
   },
   {
    "duration": 6,
    "start_time": "2022-03-31T13:24:20.856Z"
   },
   {
    "duration": 211,
    "start_time": "2022-03-31T13:24:21.847Z"
   },
   {
    "duration": 5,
    "start_time": "2022-03-31T13:28:41.785Z"
   },
   {
    "duration": 183,
    "start_time": "2022-03-31T13:28:46.264Z"
   },
   {
    "duration": 5,
    "start_time": "2022-03-31T13:29:13.222Z"
   },
   {
    "duration": 318,
    "start_time": "2022-03-31T13:29:13.940Z"
   },
   {
    "duration": 315,
    "start_time": "2022-03-31T13:29:27.835Z"
   },
   {
    "duration": 198,
    "start_time": "2022-03-31T13:30:15.361Z"
   },
   {
    "duration": 209,
    "start_time": "2022-03-31T13:30:31.065Z"
   },
   {
    "duration": 288,
    "start_time": "2022-03-31T13:30:46.768Z"
   },
   {
    "duration": 16,
    "start_time": "2022-03-31T13:30:53.725Z"
   },
   {
    "duration": 16,
    "start_time": "2022-03-31T13:31:07.584Z"
   },
   {
    "duration": 16,
    "start_time": "2022-03-31T13:31:57.644Z"
   },
   {
    "duration": 5,
    "start_time": "2022-03-31T13:33:38.137Z"
   },
   {
    "duration": 389,
    "start_time": "2022-03-31T13:33:53.879Z"
   },
   {
    "duration": 6,
    "start_time": "2022-03-31T13:34:07.595Z"
   },
   {
    "duration": 374,
    "start_time": "2022-03-31T13:34:36.705Z"
   },
   {
    "duration": 5,
    "start_time": "2022-03-31T13:35:08.178Z"
   },
   {
    "duration": 6,
    "start_time": "2022-03-31T13:35:10.538Z"
   },
   {
    "duration": 592,
    "start_time": "2022-03-31T13:35:11.841Z"
   },
   {
    "duration": 6,
    "start_time": "2022-03-31T13:35:26.434Z"
   },
   {
    "duration": 141,
    "start_time": "2022-03-31T13:35:32.603Z"
   },
   {
    "duration": 19,
    "start_time": "2022-03-31T13:36:38.830Z"
   },
   {
    "duration": 387,
    "start_time": "2022-03-31T13:37:03.014Z"
   },
   {
    "duration": 396,
    "start_time": "2022-03-31T13:37:40.998Z"
   },
   {
    "duration": 7,
    "start_time": "2022-03-31T13:37:49.637Z"
   },
   {
    "duration": 403,
    "start_time": "2022-03-31T13:38:04.196Z"
   },
   {
    "duration": 250,
    "start_time": "2022-03-31T13:38:18.724Z"
   },
   {
    "duration": 6,
    "start_time": "2022-03-31T13:38:27.315Z"
   },
   {
    "duration": 399,
    "start_time": "2022-03-31T13:38:28.155Z"
   },
   {
    "duration": 390,
    "start_time": "2022-03-31T13:39:55.767Z"
   },
   {
    "duration": 9,
    "start_time": "2022-03-31T13:40:10.581Z"
   },
   {
    "duration": 383,
    "start_time": "2022-03-31T13:40:11.363Z"
   },
   {
    "duration": 5,
    "start_time": "2022-03-31T13:43:24.826Z"
   },
   {
    "duration": 456,
    "start_time": "2022-03-31T13:43:26.159Z"
   },
   {
    "duration": 6,
    "start_time": "2022-03-31T13:44:37.406Z"
   },
   {
    "duration": 410,
    "start_time": "2022-03-31T13:44:45.687Z"
   },
   {
    "duration": 5,
    "start_time": "2022-03-31T13:44:46.887Z"
   },
   {
    "duration": 5,
    "start_time": "2022-03-31T13:45:47.525Z"
   },
   {
    "duration": 385,
    "start_time": "2022-03-31T13:45:57.451Z"
   },
   {
    "duration": 6,
    "start_time": "2022-03-31T13:48:27.966Z"
   },
   {
    "duration": 399,
    "start_time": "2022-03-31T13:48:34.459Z"
   },
   {
    "duration": 7,
    "start_time": "2022-03-31T13:50:32.249Z"
   },
   {
    "duration": 394,
    "start_time": "2022-03-31T13:50:38.121Z"
   },
   {
    "duration": 5,
    "start_time": "2022-03-31T13:50:45.479Z"
   },
   {
    "duration": 407,
    "start_time": "2022-03-31T13:50:48.257Z"
   },
   {
    "duration": 6,
    "start_time": "2022-03-31T13:54:36.312Z"
   },
   {
    "duration": 401,
    "start_time": "2022-03-31T13:54:42.929Z"
   },
   {
    "duration": 6,
    "start_time": "2022-03-31T13:54:50.057Z"
   },
   {
    "duration": 403,
    "start_time": "2022-03-31T13:54:51.155Z"
   },
   {
    "duration": 714,
    "start_time": "2022-03-31T13:55:23.017Z"
   },
   {
    "duration": 1976,
    "start_time": "2022-03-31T13:56:16.277Z"
   },
   {
    "duration": 799,
    "start_time": "2022-03-31T13:56:18.256Z"
   },
   {
    "duration": 199,
    "start_time": "2022-03-31T13:56:19.057Z"
   },
   {
    "duration": 4,
    "start_time": "2022-03-31T13:56:19.259Z"
   },
   {
    "duration": 8,
    "start_time": "2022-03-31T13:56:19.266Z"
   },
   {
    "duration": 17,
    "start_time": "2022-03-31T13:56:19.276Z"
   },
   {
    "duration": 8,
    "start_time": "2022-03-31T13:56:19.295Z"
   },
   {
    "duration": 120,
    "start_time": "2022-03-31T13:56:19.306Z"
   },
   {
    "duration": 3,
    "start_time": "2022-03-31T13:56:19.444Z"
   },
   {
    "duration": 5,
    "start_time": "2022-03-31T13:56:19.453Z"
   },
   {
    "duration": 12676,
    "start_time": "2022-03-31T13:56:19.460Z"
   },
   {
    "duration": 246,
    "start_time": "2022-03-31T13:56:32.138Z"
   },
   {
    "duration": 4,
    "start_time": "2022-03-31T13:56:32.386Z"
   },
   {
    "duration": 5,
    "start_time": "2022-03-31T13:56:32.444Z"
   },
   {
    "duration": 949,
    "start_time": "2022-03-31T13:56:32.452Z"
   },
   {
    "duration": 1096,
    "start_time": "2022-03-31T13:56:33.404Z"
   },
   {
    "duration": 718,
    "start_time": "2022-03-31T13:56:34.503Z"
   },
   {
    "duration": 539,
    "start_time": "2022-03-31T13:56:35.224Z"
   },
   {
    "duration": 731,
    "start_time": "2022-03-31T13:56:35.766Z"
   },
   {
    "duration": 12,
    "start_time": "2022-03-31T13:56:36.499Z"
   },
   {
    "duration": 247,
    "start_time": "2022-03-31T13:56:36.514Z"
   },
   {
    "duration": 5,
    "start_time": "2022-03-31T13:56:36.764Z"
   },
   {
    "duration": 1145,
    "start_time": "2022-03-31T13:56:36.771Z"
   },
   {
    "duration": 7,
    "start_time": "2022-03-31T13:56:37.918Z"
   },
   {
    "duration": 405,
    "start_time": "2022-03-31T13:56:37.942Z"
   },
   {
    "duration": 4,
    "start_time": "2022-03-31T13:56:38.349Z"
   },
   {
    "duration": 36,
    "start_time": "2022-03-31T13:56:38.355Z"
   },
   {
    "duration": 1108,
    "start_time": "2022-03-31T13:56:38.398Z"
   },
   {
    "duration": 11,
    "start_time": "2022-03-31T13:56:39.509Z"
   },
   {
    "duration": 391,
    "start_time": "2022-03-31T13:56:39.523Z"
   },
   {
    "duration": 117,
    "start_time": "2022-03-31T13:56:39.916Z"
   },
   {
    "duration": 390,
    "start_time": "2022-03-31T13:56:40.035Z"
   },
   {
    "duration": 14,
    "start_time": "2022-03-31T13:56:40.428Z"
   },
   {
    "duration": 8,
    "start_time": "2022-03-31T13:56:40.445Z"
   },
   {
    "duration": 12,
    "start_time": "2022-03-31T13:56:40.455Z"
   },
   {
    "duration": 9,
    "start_time": "2022-03-31T13:56:40.470Z"
   },
   {
    "duration": 18,
    "start_time": "2022-03-31T13:56:40.482Z"
   },
   {
    "duration": 11,
    "start_time": "2022-03-31T13:56:40.502Z"
   },
   {
    "duration": 29,
    "start_time": "2022-03-31T13:56:40.515Z"
   },
   {
    "duration": 7,
    "start_time": "2022-03-31T13:56:40.546Z"
   },
   {
    "duration": 5,
    "start_time": "2022-03-31T13:56:40.556Z"
   },
   {
    "duration": 8,
    "start_time": "2022-03-31T13:56:40.564Z"
   },
   {
    "duration": 447,
    "start_time": "2022-03-31T13:56:40.575Z"
   },
   {
    "duration": 6,
    "start_time": "2022-03-31T13:56:41.024Z"
   },
   {
    "duration": 766,
    "start_time": "2022-03-31T13:56:41.042Z"
   },
   {
    "duration": 170,
    "start_time": "2022-03-31T13:56:41.810Z"
   },
   {
    "duration": 0,
    "start_time": "2022-03-31T13:56:41.982Z"
   },
   {
    "duration": 0,
    "start_time": "2022-03-31T13:56:41.984Z"
   },
   {
    "duration": 0,
    "start_time": "2022-03-31T13:56:41.985Z"
   },
   {
    "duration": 344,
    "start_time": "2022-03-31T13:57:59.901Z"
   },
   {
    "duration": 6,
    "start_time": "2022-03-31T13:59:57.124Z"
   },
   {
    "duration": 412,
    "start_time": "2022-03-31T14:00:23.441Z"
   },
   {
    "duration": 5,
    "start_time": "2022-03-31T14:00:26.358Z"
   },
   {
    "duration": 688,
    "start_time": "2022-03-31T14:00:29.101Z"
   },
   {
    "duration": 219,
    "start_time": "2022-03-31T14:01:06.225Z"
   },
   {
    "duration": 941,
    "start_time": "2022-03-31T14:01:34.033Z"
   },
   {
    "duration": 6,
    "start_time": "2022-03-31T14:04:15.199Z"
   },
   {
    "duration": 369,
    "start_time": "2022-03-31T14:04:21.380Z"
   },
   {
    "duration": 5,
    "start_time": "2022-03-31T14:05:03.881Z"
   },
   {
    "duration": 12352,
    "start_time": "2022-03-31T14:05:08.535Z"
   },
   {
    "duration": 4,
    "start_time": "2022-03-31T14:05:48.793Z"
   },
   {
    "duration": 178708,
    "start_time": "2022-03-31T14:05:53.688Z"
   },
   {
    "duration": 161494,
    "start_time": "2022-03-31T14:09:43.599Z"
   },
   {
    "duration": 5,
    "start_time": "2022-03-31T14:13:34.058Z"
   },
   {
    "duration": 12248,
    "start_time": "2022-03-31T14:13:41.699Z"
   },
   {
    "duration": 219,
    "start_time": "2022-03-31T14:15:15.771Z"
   },
   {
    "duration": 5,
    "start_time": "2022-03-31T14:15:33.783Z"
   },
   {
    "duration": 12450,
    "start_time": "2022-03-31T14:15:39.319Z"
   },
   {
    "duration": 226,
    "start_time": "2022-03-31T14:16:58.223Z"
   },
   {
    "duration": 5,
    "start_time": "2022-03-31T14:19:05.091Z"
   },
   {
    "duration": 2256,
    "start_time": "2022-03-31T14:49:34.794Z"
   },
   {
    "duration": 786,
    "start_time": "2022-03-31T14:49:37.052Z"
   },
   {
    "duration": 192,
    "start_time": "2022-03-31T14:49:37.840Z"
   },
   {
    "duration": 9,
    "start_time": "2022-03-31T14:49:38.034Z"
   },
   {
    "duration": 4,
    "start_time": "2022-03-31T14:49:38.046Z"
   },
   {
    "duration": 16,
    "start_time": "2022-03-31T14:49:38.052Z"
   },
   {
    "duration": 7,
    "start_time": "2022-03-31T14:49:38.070Z"
   },
   {
    "duration": 121,
    "start_time": "2022-03-31T14:49:38.079Z"
   },
   {
    "duration": 3,
    "start_time": "2022-03-31T14:49:38.202Z"
   },
   {
    "duration": 4,
    "start_time": "2022-03-31T14:49:38.207Z"
   },
   {
    "duration": 12232,
    "start_time": "2022-03-31T14:49:38.214Z"
   },
   {
    "duration": 337,
    "start_time": "2022-03-31T14:49:50.448Z"
   },
   {
    "duration": 3,
    "start_time": "2022-03-31T14:49:50.788Z"
   },
   {
    "duration": 10,
    "start_time": "2022-03-31T14:49:50.795Z"
   },
   {
    "duration": 769,
    "start_time": "2022-03-31T14:49:50.807Z"
   },
   {
    "duration": 721,
    "start_time": "2022-03-31T14:49:51.578Z"
   },
   {
    "duration": 620,
    "start_time": "2022-03-31T14:49:52.301Z"
   },
   {
    "duration": 533,
    "start_time": "2022-03-31T14:49:52.923Z"
   },
   {
    "duration": 714,
    "start_time": "2022-03-31T14:49:53.458Z"
   },
   {
    "duration": 13,
    "start_time": "2022-03-31T14:49:54.175Z"
   },
   {
    "duration": 246,
    "start_time": "2022-03-31T14:49:54.190Z"
   },
   {
    "duration": 6,
    "start_time": "2022-03-31T14:49:54.439Z"
   },
   {
    "duration": 1042,
    "start_time": "2022-03-31T14:49:54.448Z"
   },
   {
    "duration": 7,
    "start_time": "2022-03-31T14:49:55.492Z"
   },
   {
    "duration": 363,
    "start_time": "2022-03-31T14:49:55.501Z"
   },
   {
    "duration": 4,
    "start_time": "2022-03-31T14:49:55.866Z"
   },
   {
    "duration": 24,
    "start_time": "2022-03-31T14:49:55.872Z"
   },
   {
    "duration": 1096,
    "start_time": "2022-03-31T14:49:55.898Z"
   },
   {
    "duration": 10,
    "start_time": "2022-03-31T14:49:56.996Z"
   },
   {
    "duration": 384,
    "start_time": "2022-03-31T14:49:57.008Z"
   },
   {
    "duration": 129,
    "start_time": "2022-03-31T14:49:57.393Z"
   },
   {
    "duration": 378,
    "start_time": "2022-03-31T14:49:57.524Z"
   },
   {
    "duration": 6,
    "start_time": "2022-03-31T14:49:57.904Z"
   },
   {
    "duration": 15,
    "start_time": "2022-03-31T14:49:57.912Z"
   },
   {
    "duration": 18,
    "start_time": "2022-03-31T14:49:57.929Z"
   },
   {
    "duration": 6,
    "start_time": "2022-03-31T14:49:57.950Z"
   },
   {
    "duration": 24,
    "start_time": "2022-03-31T14:49:57.957Z"
   },
   {
    "duration": 12,
    "start_time": "2022-03-31T14:49:57.983Z"
   },
   {
    "duration": 15,
    "start_time": "2022-03-31T14:49:57.997Z"
   },
   {
    "duration": 19,
    "start_time": "2022-03-31T14:49:58.014Z"
   },
   {
    "duration": 4,
    "start_time": "2022-03-31T14:49:58.043Z"
   },
   {
    "duration": 15,
    "start_time": "2022-03-31T14:49:58.049Z"
   },
   {
    "duration": 279,
    "start_time": "2022-03-31T14:49:58.067Z"
   },
   {
    "duration": 96,
    "start_time": "2022-03-31T14:49:58.350Z"
   },
   {
    "duration": 403,
    "start_time": "2022-03-31T14:49:58.448Z"
   },
   {
    "duration": 12927,
    "start_time": "2022-03-31T14:49:58.853Z"
   },
   {
    "duration": 160,
    "start_time": "2022-03-31T14:50:11.783Z"
   },
   {
    "duration": 0,
    "start_time": "2022-03-31T14:50:11.945Z"
   },
   {
    "duration": 0,
    "start_time": "2022-03-31T14:50:11.947Z"
   },
   {
    "duration": 0,
    "start_time": "2022-03-31T14:50:11.948Z"
   },
   {
    "duration": 181,
    "start_time": "2022-03-31T14:50:28.940Z"
   },
   {
    "duration": 8,
    "start_time": "2022-03-31T14:51:10.952Z"
   },
   {
    "duration": 182,
    "start_time": "2022-03-31T14:51:12.776Z"
   },
   {
    "duration": 24,
    "start_time": "2022-03-31T14:51:47.879Z"
   },
   {
    "duration": 2072,
    "start_time": "2022-03-31T14:51:53.516Z"
   },
   {
    "duration": 787,
    "start_time": "2022-03-31T14:51:55.590Z"
   },
   {
    "duration": 199,
    "start_time": "2022-03-31T14:51:56.380Z"
   },
   {
    "duration": 5,
    "start_time": "2022-03-31T14:51:56.582Z"
   },
   {
    "duration": 7,
    "start_time": "2022-03-31T14:51:56.589Z"
   },
   {
    "duration": 17,
    "start_time": "2022-03-31T14:51:56.598Z"
   },
   {
    "duration": 27,
    "start_time": "2022-03-31T14:51:56.617Z"
   },
   {
    "duration": 98,
    "start_time": "2022-03-31T14:51:56.646Z"
   },
   {
    "duration": 3,
    "start_time": "2022-03-31T14:51:56.746Z"
   },
   {
    "duration": 4,
    "start_time": "2022-03-31T14:51:56.753Z"
   },
   {
    "duration": 12436,
    "start_time": "2022-03-31T14:51:56.759Z"
   },
   {
    "duration": 284,
    "start_time": "2022-03-31T14:52:09.197Z"
   },
   {
    "duration": 2,
    "start_time": "2022-03-31T14:52:09.484Z"
   },
   {
    "duration": 7,
    "start_time": "2022-03-31T14:52:09.488Z"
   },
   {
    "duration": 780,
    "start_time": "2022-03-31T14:52:09.497Z"
   },
   {
    "duration": 714,
    "start_time": "2022-03-31T14:52:10.279Z"
   },
   {
    "duration": 617,
    "start_time": "2022-03-31T14:52:10.995Z"
   },
   {
    "duration": 541,
    "start_time": "2022-03-31T14:52:11.614Z"
   },
   {
    "duration": 696,
    "start_time": "2022-03-31T14:52:12.157Z"
   },
   {
    "duration": 11,
    "start_time": "2022-03-31T14:52:12.855Z"
   },
   {
    "duration": 246,
    "start_time": "2022-03-31T14:52:12.869Z"
   },
   {
    "duration": 6,
    "start_time": "2022-03-31T14:52:13.117Z"
   },
   {
    "duration": 1065,
    "start_time": "2022-03-31T14:52:13.125Z"
   },
   {
    "duration": 7,
    "start_time": "2022-03-31T14:52:14.192Z"
   },
   {
    "duration": 322,
    "start_time": "2022-03-31T14:52:14.201Z"
   },
   {
    "duration": 4,
    "start_time": "2022-03-31T14:52:14.525Z"
   },
   {
    "duration": 28,
    "start_time": "2022-03-31T14:52:14.531Z"
   },
   {
    "duration": 1131,
    "start_time": "2022-03-31T14:52:14.565Z"
   },
   {
    "duration": 12,
    "start_time": "2022-03-31T14:52:15.698Z"
   },
   {
    "duration": 379,
    "start_time": "2022-03-31T14:52:15.711Z"
   },
   {
    "duration": 120,
    "start_time": "2022-03-31T14:52:16.092Z"
   },
   {
    "duration": 372,
    "start_time": "2022-03-31T14:52:16.214Z"
   },
   {
    "duration": 6,
    "start_time": "2022-03-31T14:52:16.588Z"
   },
   {
    "duration": 10,
    "start_time": "2022-03-31T14:52:16.596Z"
   },
   {
    "duration": 35,
    "start_time": "2022-03-31T14:52:16.608Z"
   },
   {
    "duration": 6,
    "start_time": "2022-03-31T14:52:16.645Z"
   },
   {
    "duration": 16,
    "start_time": "2022-03-31T14:52:16.653Z"
   },
   {
    "duration": 8,
    "start_time": "2022-03-31T14:52:16.671Z"
   },
   {
    "duration": 5,
    "start_time": "2022-03-31T14:52:16.682Z"
   },
   {
    "duration": 8,
    "start_time": "2022-03-31T14:52:16.689Z"
   },
   {
    "duration": 5,
    "start_time": "2022-03-31T14:52:16.699Z"
   },
   {
    "duration": 37,
    "start_time": "2022-03-31T14:52:16.706Z"
   },
   {
    "duration": 402,
    "start_time": "2022-03-31T14:52:16.745Z"
   },
   {
    "duration": 6,
    "start_time": "2022-03-31T14:52:17.149Z"
   },
   {
    "duration": 491,
    "start_time": "2022-03-31T14:52:17.158Z"
   },
   {
    "duration": 12912,
    "start_time": "2022-03-31T14:52:17.652Z"
   },
   {
    "duration": 164,
    "start_time": "2022-03-31T14:52:30.567Z"
   },
   {
    "duration": 0,
    "start_time": "2022-03-31T14:52:30.733Z"
   },
   {
    "duration": 0,
    "start_time": "2022-03-31T14:52:30.743Z"
   },
   {
    "duration": 0,
    "start_time": "2022-03-31T14:52:30.745Z"
   },
   {
    "duration": 0,
    "start_time": "2022-03-31T14:52:30.747Z"
   },
   {
    "duration": 172,
    "start_time": "2022-03-31T14:52:33.586Z"
   },
   {
    "duration": 7,
    "start_time": "2022-03-31T14:53:21.681Z"
   },
   {
    "duration": 195,
    "start_time": "2022-03-31T14:53:26.933Z"
   },
   {
    "duration": 168,
    "start_time": "2022-03-31T14:54:03.254Z"
   },
   {
    "duration": 7,
    "start_time": "2022-03-31T14:54:11.897Z"
   },
   {
    "duration": 165,
    "start_time": "2022-03-31T14:54:21.803Z"
   },
   {
    "duration": 7,
    "start_time": "2022-03-31T14:54:22.654Z"
   },
   {
    "duration": 16,
    "start_time": "2022-03-31T14:54:26.936Z"
   },
   {
    "duration": 7,
    "start_time": "2022-03-31T14:54:52.567Z"
   },
   {
    "duration": 7,
    "start_time": "2022-03-31T14:55:01.484Z"
   },
   {
    "duration": 1970,
    "start_time": "2022-03-31T14:56:44.176Z"
   },
   {
    "duration": 780,
    "start_time": "2022-03-31T14:56:46.149Z"
   },
   {
    "duration": 194,
    "start_time": "2022-03-31T14:56:46.932Z"
   },
   {
    "duration": 13,
    "start_time": "2022-03-31T14:56:47.130Z"
   },
   {
    "duration": 8,
    "start_time": "2022-03-31T14:56:47.146Z"
   },
   {
    "duration": 18,
    "start_time": "2022-03-31T14:56:47.156Z"
   },
   {
    "duration": 6,
    "start_time": "2022-03-31T14:56:47.176Z"
   },
   {
    "duration": 113,
    "start_time": "2022-03-31T14:56:47.184Z"
   },
   {
    "duration": 3,
    "start_time": "2022-03-31T14:56:47.300Z"
   },
   {
    "duration": 12,
    "start_time": "2022-03-31T14:56:47.306Z"
   },
   {
    "duration": 11804,
    "start_time": "2022-03-31T14:56:47.320Z"
   },
   {
    "duration": 265,
    "start_time": "2022-03-31T14:56:59.126Z"
   },
   {
    "duration": 3,
    "start_time": "2022-03-31T14:56:59.393Z"
   },
   {
    "duration": 8,
    "start_time": "2022-03-31T14:56:59.398Z"
   },
   {
    "duration": 770,
    "start_time": "2022-03-31T14:56:59.408Z"
   },
   {
    "duration": 720,
    "start_time": "2022-03-31T14:57:00.180Z"
   },
   {
    "duration": 725,
    "start_time": "2022-03-31T14:57:00.903Z"
   },
   {
    "duration": 524,
    "start_time": "2022-03-31T14:57:01.630Z"
   },
   {
    "duration": 701,
    "start_time": "2022-03-31T14:57:02.156Z"
   },
   {
    "duration": 12,
    "start_time": "2022-03-31T14:57:02.859Z"
   },
   {
    "duration": 243,
    "start_time": "2022-03-31T14:57:02.873Z"
   },
   {
    "duration": 6,
    "start_time": "2022-03-31T14:57:03.118Z"
   },
   {
    "duration": 1063,
    "start_time": "2022-03-31T14:57:03.126Z"
   },
   {
    "duration": 6,
    "start_time": "2022-03-31T14:57:04.191Z"
   },
   {
    "duration": 317,
    "start_time": "2022-03-31T14:57:04.199Z"
   },
   {
    "duration": 4,
    "start_time": "2022-03-31T14:57:04.518Z"
   },
   {
    "duration": 30,
    "start_time": "2022-03-31T14:57:04.524Z"
   },
   {
    "duration": 1032,
    "start_time": "2022-03-31T14:57:04.559Z"
   },
   {
    "duration": 11,
    "start_time": "2022-03-31T14:57:05.593Z"
   },
   {
    "duration": 391,
    "start_time": "2022-03-31T14:57:05.606Z"
   },
   {
    "duration": 117,
    "start_time": "2022-03-31T14:57:06.000Z"
   },
   {
    "duration": 388,
    "start_time": "2022-03-31T14:57:06.120Z"
   },
   {
    "duration": 5,
    "start_time": "2022-03-31T14:57:06.511Z"
   },
   {
    "duration": 26,
    "start_time": "2022-03-31T14:57:06.518Z"
   },
   {
    "duration": 15,
    "start_time": "2022-03-31T14:57:06.546Z"
   },
   {
    "duration": 17,
    "start_time": "2022-03-31T14:57:06.564Z"
   },
   {
    "duration": 13,
    "start_time": "2022-03-31T14:57:06.584Z"
   },
   {
    "duration": 18,
    "start_time": "2022-03-31T14:57:06.599Z"
   },
   {
    "duration": 7,
    "start_time": "2022-03-31T14:57:06.619Z"
   },
   {
    "duration": 22,
    "start_time": "2022-03-31T14:57:06.629Z"
   },
   {
    "duration": 8,
    "start_time": "2022-03-31T14:57:06.654Z"
   },
   {
    "duration": 10,
    "start_time": "2022-03-31T14:57:06.665Z"
   },
   {
    "duration": 276,
    "start_time": "2022-03-31T14:57:06.678Z"
   },
   {
    "duration": 87,
    "start_time": "2022-03-31T14:57:06.957Z"
   },
   {
    "duration": 407,
    "start_time": "2022-03-31T14:57:07.047Z"
   },
   {
    "duration": 12431,
    "start_time": "2022-03-31T14:57:07.456Z"
   },
   {
    "duration": 171,
    "start_time": "2022-03-31T14:57:19.889Z"
   },
   {
    "duration": 0,
    "start_time": "2022-03-31T14:57:20.062Z"
   },
   {
    "duration": 0,
    "start_time": "2022-03-31T14:57:20.064Z"
   },
   {
    "duration": 0,
    "start_time": "2022-03-31T14:57:20.065Z"
   },
   {
    "duration": 0,
    "start_time": "2022-03-31T14:57:20.066Z"
   },
   {
    "duration": 0,
    "start_time": "2022-03-31T14:57:20.068Z"
   },
   {
    "duration": 0,
    "start_time": "2022-03-31T14:57:20.070Z"
   },
   {
    "duration": 165,
    "start_time": "2022-03-31T14:59:38.792Z"
   },
   {
    "duration": 7,
    "start_time": "2022-03-31T14:59:39.759Z"
   },
   {
    "duration": 8,
    "start_time": "2022-03-31T14:59:41.206Z"
   },
   {
    "duration": 23,
    "start_time": "2022-03-31T14:59:44.471Z"
   },
   {
    "duration": 5,
    "start_time": "2022-03-31T15:00:23.207Z"
   },
   {
    "duration": 6,
    "start_time": "2022-03-31T15:00:26.296Z"
   },
   {
    "duration": 24,
    "start_time": "2022-03-31T15:00:26.941Z"
   },
   {
    "duration": 2034,
    "start_time": "2022-03-31T15:00:32.723Z"
   },
   {
    "duration": 790,
    "start_time": "2022-03-31T15:00:34.760Z"
   },
   {
    "duration": 195,
    "start_time": "2022-03-31T15:00:35.553Z"
   },
   {
    "duration": 6,
    "start_time": "2022-03-31T15:00:35.751Z"
   },
   {
    "duration": 8,
    "start_time": "2022-03-31T15:00:35.759Z"
   },
   {
    "duration": 17,
    "start_time": "2022-03-31T15:00:35.769Z"
   },
   {
    "duration": 7,
    "start_time": "2022-03-31T15:00:35.788Z"
   },
   {
    "duration": 120,
    "start_time": "2022-03-31T15:00:35.797Z"
   },
   {
    "duration": 4,
    "start_time": "2022-03-31T15:00:35.919Z"
   },
   {
    "duration": 4,
    "start_time": "2022-03-31T15:00:35.927Z"
   },
   {
    "duration": 11627,
    "start_time": "2022-03-31T15:00:35.944Z"
   },
   {
    "duration": 309,
    "start_time": "2022-03-31T15:00:47.573Z"
   },
   {
    "duration": 4,
    "start_time": "2022-03-31T15:00:47.884Z"
   },
   {
    "duration": 5,
    "start_time": "2022-03-31T15:00:47.890Z"
   },
   {
    "duration": 878,
    "start_time": "2022-03-31T15:00:47.897Z"
   },
   {
    "duration": 698,
    "start_time": "2022-03-31T15:00:48.777Z"
   },
   {
    "duration": 637,
    "start_time": "2022-03-31T15:00:49.477Z"
   },
   {
    "duration": 535,
    "start_time": "2022-03-31T15:00:50.116Z"
   },
   {
    "duration": 696,
    "start_time": "2022-03-31T15:00:50.653Z"
   },
   {
    "duration": 11,
    "start_time": "2022-03-31T15:00:51.352Z"
   },
   {
    "duration": 238,
    "start_time": "2022-03-31T15:00:51.365Z"
   },
   {
    "duration": 6,
    "start_time": "2022-03-31T15:00:51.605Z"
   },
   {
    "duration": 1086,
    "start_time": "2022-03-31T15:00:51.613Z"
   },
   {
    "duration": 6,
    "start_time": "2022-03-31T15:00:52.701Z"
   },
   {
    "duration": 340,
    "start_time": "2022-03-31T15:00:52.710Z"
   },
   {
    "duration": 4,
    "start_time": "2022-03-31T15:00:53.052Z"
   },
   {
    "duration": 26,
    "start_time": "2022-03-31T15:00:53.059Z"
   },
   {
    "duration": 1104,
    "start_time": "2022-03-31T15:00:53.091Z"
   },
   {
    "duration": 11,
    "start_time": "2022-03-31T15:00:54.197Z"
   },
   {
    "duration": 387,
    "start_time": "2022-03-31T15:00:54.210Z"
   },
   {
    "duration": 123,
    "start_time": "2022-03-31T15:00:54.599Z"
   },
   {
    "duration": 384,
    "start_time": "2022-03-31T15:00:54.724Z"
   },
   {
    "duration": 5,
    "start_time": "2022-03-31T15:00:55.110Z"
   },
   {
    "duration": 13,
    "start_time": "2022-03-31T15:00:55.117Z"
   },
   {
    "duration": 8,
    "start_time": "2022-03-31T15:00:55.143Z"
   },
   {
    "duration": 6,
    "start_time": "2022-03-31T15:00:55.153Z"
   },
   {
    "duration": 12,
    "start_time": "2022-03-31T15:00:55.162Z"
   },
   {
    "duration": 10,
    "start_time": "2022-03-31T15:00:55.176Z"
   },
   {
    "duration": 9,
    "start_time": "2022-03-31T15:00:55.188Z"
   },
   {
    "duration": 43,
    "start_time": "2022-03-31T15:00:55.200Z"
   },
   {
    "duration": 9,
    "start_time": "2022-03-31T15:00:55.245Z"
   },
   {
    "duration": 10,
    "start_time": "2022-03-31T15:00:55.256Z"
   },
   {
    "duration": 374,
    "start_time": "2022-03-31T15:00:55.268Z"
   },
   {
    "duration": 6,
    "start_time": "2022-03-31T15:00:55.644Z"
   },
   {
    "duration": 397,
    "start_time": "2022-03-31T15:00:55.653Z"
   },
   {
    "duration": 12653,
    "start_time": "2022-03-31T15:00:56.053Z"
   },
   {
    "duration": 183,
    "start_time": "2022-03-31T15:01:08.709Z"
   },
   {
    "duration": 0,
    "start_time": "2022-03-31T15:01:08.895Z"
   },
   {
    "duration": 0,
    "start_time": "2022-03-31T15:01:08.897Z"
   },
   {
    "duration": 0,
    "start_time": "2022-03-31T15:01:08.899Z"
   },
   {
    "duration": 0,
    "start_time": "2022-03-31T15:01:08.901Z"
   },
   {
    "duration": 0,
    "start_time": "2022-03-31T15:01:08.903Z"
   },
   {
    "duration": 0,
    "start_time": "2022-03-31T15:01:08.905Z"
   },
   {
    "duration": 167,
    "start_time": "2022-03-31T15:01:12.323Z"
   },
   {
    "duration": 8,
    "start_time": "2022-03-31T15:01:13.307Z"
   },
   {
    "duration": 8,
    "start_time": "2022-03-31T15:01:14.407Z"
   },
   {
    "duration": 6,
    "start_time": "2022-03-31T15:01:18.761Z"
   },
   {
    "duration": 10267,
    "start_time": "2022-03-31T15:02:08.662Z"
   },
   {
    "duration": 7,
    "start_time": "2022-03-31T15:02:22.712Z"
   },
   {
    "duration": 8,
    "start_time": "2022-03-31T15:02:23.776Z"
   },
   {
    "duration": 17,
    "start_time": "2022-03-31T15:02:28.129Z"
   },
   {
    "duration": 438,
    "start_time": "2022-03-31T15:05:16.616Z"
   },
   {
    "duration": 13413,
    "start_time": "2022-03-31T15:06:03.136Z"
   },
   {
    "duration": 6,
    "start_time": "2022-03-31T15:06:39.604Z"
   },
   {
    "duration": 35293,
    "start_time": "2022-03-31T15:06:44.107Z"
   },
   {
    "duration": 10478,
    "start_time": "2022-03-31T15:08:48.910Z"
   },
   {
    "duration": 8,
    "start_time": "2022-03-31T15:08:59.391Z"
   },
   {
    "duration": 7,
    "start_time": "2022-03-31T15:08:59.401Z"
   },
   {
    "duration": 6,
    "start_time": "2022-03-31T15:09:06.113Z"
   },
   {
    "duration": 218,
    "start_time": "2022-03-31T15:23:12.269Z"
   },
   {
    "duration": 35555,
    "start_time": "2022-03-31T15:23:28.892Z"
   },
   {
    "duration": 34519,
    "start_time": "2022-03-31T15:24:42.439Z"
   },
   {
    "duration": 359,
    "start_time": "2022-03-31T15:29:29.715Z"
   },
   {
    "duration": 23078,
    "start_time": "2022-03-31T15:30:37.418Z"
   },
   {
    "duration": 15,
    "start_time": "2022-03-31T15:36:02.456Z"
   },
   {
    "duration": 8,
    "start_time": "2022-03-31T15:36:29.716Z"
   },
   {
    "duration": 15,
    "start_time": "2022-03-31T15:36:39.335Z"
   },
   {
    "duration": 565,
    "start_time": "2022-03-31T15:36:57.154Z"
   },
   {
    "duration": 488,
    "start_time": "2022-03-31T15:37:57.343Z"
   },
   {
    "duration": 6,
    "start_time": "2022-03-31T15:47:09.249Z"
   },
   {
    "duration": 6,
    "start_time": "2022-03-31T15:47:36.754Z"
   },
   {
    "duration": 47710,
    "start_time": "2022-03-31T15:47:43.417Z"
   },
   {
    "duration": 11946,
    "start_time": "2022-03-31T15:48:54.631Z"
   },
   {
    "duration": 4,
    "start_time": "2022-03-31T15:52:33.920Z"
   },
   {
    "duration": 11,
    "start_time": "2022-03-31T15:52:38.301Z"
   },
   {
    "duration": 23928,
    "start_time": "2022-03-31T15:53:11.723Z"
   },
   {
    "duration": 0,
    "start_time": "2022-03-31T15:53:35.654Z"
   },
   {
    "duration": 71,
    "start_time": "2022-03-31T15:54:42.575Z"
   },
   {
    "duration": 2137,
    "start_time": "2022-03-31T15:54:49.357Z"
   },
   {
    "duration": 811,
    "start_time": "2022-03-31T15:54:51.498Z"
   },
   {
    "duration": 215,
    "start_time": "2022-03-31T15:54:52.312Z"
   },
   {
    "duration": 15,
    "start_time": "2022-03-31T15:54:52.529Z"
   },
   {
    "duration": 7,
    "start_time": "2022-03-31T15:54:52.547Z"
   },
   {
    "duration": 27,
    "start_time": "2022-03-31T15:54:52.556Z"
   },
   {
    "duration": 7,
    "start_time": "2022-03-31T15:54:52.585Z"
   },
   {
    "duration": 109,
    "start_time": "2022-03-31T15:54:52.594Z"
   },
   {
    "duration": 4,
    "start_time": "2022-03-31T15:54:52.705Z"
   },
   {
    "duration": 5,
    "start_time": "2022-03-31T15:54:52.711Z"
   },
   {
    "duration": 12162,
    "start_time": "2022-03-31T15:54:52.718Z"
   },
   {
    "duration": 301,
    "start_time": "2022-03-31T15:55:04.883Z"
   },
   {
    "duration": 3,
    "start_time": "2022-03-31T15:55:05.186Z"
   },
   {
    "duration": 4,
    "start_time": "2022-03-31T15:55:05.195Z"
   },
   {
    "duration": 813,
    "start_time": "2022-03-31T15:55:05.202Z"
   },
   {
    "duration": 737,
    "start_time": "2022-03-31T15:55:06.018Z"
   },
   {
    "duration": 657,
    "start_time": "2022-03-31T15:55:06.757Z"
   },
   {
    "duration": 537,
    "start_time": "2022-03-31T15:55:07.417Z"
   },
   {
    "duration": 709,
    "start_time": "2022-03-31T15:55:07.956Z"
   },
   {
    "duration": 13,
    "start_time": "2022-03-31T15:55:08.667Z"
   },
   {
    "duration": 245,
    "start_time": "2022-03-31T15:55:08.683Z"
   },
   {
    "duration": 14,
    "start_time": "2022-03-31T15:55:08.930Z"
   },
   {
    "duration": 1052,
    "start_time": "2022-03-31T15:55:08.946Z"
   },
   {
    "duration": 8,
    "start_time": "2022-03-31T15:55:10.001Z"
   },
   {
    "duration": 336,
    "start_time": "2022-03-31T15:55:10.011Z"
   },
   {
    "duration": 4,
    "start_time": "2022-03-31T15:55:10.349Z"
   },
   {
    "duration": 21,
    "start_time": "2022-03-31T15:55:10.355Z"
   },
   {
    "duration": 1126,
    "start_time": "2022-03-31T15:55:10.379Z"
   },
   {
    "duration": 12,
    "start_time": "2022-03-31T15:55:11.507Z"
   },
   {
    "duration": 400,
    "start_time": "2022-03-31T15:55:11.522Z"
   },
   {
    "duration": 138,
    "start_time": "2022-03-31T15:55:11.924Z"
   },
   {
    "duration": 380,
    "start_time": "2022-03-31T15:55:12.065Z"
   },
   {
    "duration": 6,
    "start_time": "2022-03-31T15:55:12.448Z"
   },
   {
    "duration": 11,
    "start_time": "2022-03-31T15:55:12.456Z"
   },
   {
    "duration": 6,
    "start_time": "2022-03-31T15:55:12.470Z"
   },
   {
    "duration": 12,
    "start_time": "2022-03-31T15:55:12.478Z"
   },
   {
    "duration": 7,
    "start_time": "2022-03-31T15:55:12.493Z"
   },
   {
    "duration": 214,
    "start_time": "2022-03-31T15:55:12.502Z"
   },
   {
    "duration": 0,
    "start_time": "2022-03-31T15:55:12.719Z"
   },
   {
    "duration": 0,
    "start_time": "2022-03-31T15:55:12.720Z"
   },
   {
    "duration": 0,
    "start_time": "2022-03-31T15:55:12.722Z"
   },
   {
    "duration": 0,
    "start_time": "2022-03-31T15:55:12.724Z"
   },
   {
    "duration": 0,
    "start_time": "2022-03-31T15:55:12.725Z"
   },
   {
    "duration": 0,
    "start_time": "2022-03-31T15:55:12.726Z"
   },
   {
    "duration": 0,
    "start_time": "2022-03-31T15:55:12.727Z"
   },
   {
    "duration": 0,
    "start_time": "2022-03-31T15:55:12.729Z"
   },
   {
    "duration": 0,
    "start_time": "2022-03-31T15:55:12.743Z"
   },
   {
    "duration": 0,
    "start_time": "2022-03-31T15:55:12.744Z"
   },
   {
    "duration": 0,
    "start_time": "2022-03-31T15:55:12.745Z"
   },
   {
    "duration": 7,
    "start_time": "2022-03-31T15:56:04.770Z"
   },
   {
    "duration": 5,
    "start_time": "2022-03-31T15:56:07.105Z"
   },
   {
    "duration": 49353,
    "start_time": "2022-03-31T15:56:10.074Z"
   },
   {
    "duration": 5,
    "start_time": "2022-03-31T15:56:59.429Z"
   },
   {
    "duration": 12883,
    "start_time": "2022-03-31T15:58:43.490Z"
   },
   {
    "duration": 7,
    "start_time": "2022-03-31T15:59:09.394Z"
   },
   {
    "duration": 7,
    "start_time": "2022-03-31T15:59:25.716Z"
   },
   {
    "duration": 4,
    "start_time": "2022-03-31T15:59:59.384Z"
   },
   {
    "duration": 5,
    "start_time": "2022-03-31T16:00:09.639Z"
   },
   {
    "duration": 5,
    "start_time": "2022-03-31T16:00:19.504Z"
   },
   {
    "duration": 6,
    "start_time": "2022-03-31T16:04:16.672Z"
   },
   {
    "duration": 4,
    "start_time": "2022-03-31T16:05:05.969Z"
   },
   {
    "duration": 23,
    "start_time": "2022-03-31T16:05:50.151Z"
   },
   {
    "duration": 6365,
    "start_time": "2022-03-31T16:06:12.715Z"
   },
   {
    "duration": 4,
    "start_time": "2022-03-31T16:07:02.647Z"
   },
   {
    "duration": 7,
    "start_time": "2022-03-31T16:07:06.173Z"
   },
   {
    "duration": 44,
    "start_time": "2022-03-31T16:07:07.164Z"
   },
   {
    "duration": 4,
    "start_time": "2022-03-31T16:08:52.800Z"
   },
   {
    "duration": 28602,
    "start_time": "2022-03-31T16:08:53.712Z"
   },
   {
    "duration": 2229,
    "start_time": "2022-03-31T16:12:14.970Z"
   },
   {
    "duration": 861,
    "start_time": "2022-03-31T16:12:17.202Z"
   },
   {
    "duration": 210,
    "start_time": "2022-03-31T16:12:18.066Z"
   },
   {
    "duration": 5,
    "start_time": "2022-03-31T16:12:18.278Z"
   },
   {
    "duration": 5,
    "start_time": "2022-03-31T16:12:18.286Z"
   },
   {
    "duration": 15,
    "start_time": "2022-03-31T16:12:18.293Z"
   },
   {
    "duration": 34,
    "start_time": "2022-03-31T16:12:18.310Z"
   },
   {
    "duration": 117,
    "start_time": "2022-03-31T16:12:18.348Z"
   },
   {
    "duration": 3,
    "start_time": "2022-03-31T16:12:18.467Z"
   },
   {
    "duration": 6,
    "start_time": "2022-03-31T16:12:18.473Z"
   },
   {
    "duration": 13394,
    "start_time": "2022-03-31T16:12:18.481Z"
   },
   {
    "duration": 306,
    "start_time": "2022-03-31T16:12:31.877Z"
   },
   {
    "duration": 4,
    "start_time": "2022-03-31T16:12:32.185Z"
   },
   {
    "duration": 4,
    "start_time": "2022-03-31T16:12:32.194Z"
   },
   {
    "duration": 797,
    "start_time": "2022-03-31T16:12:32.200Z"
   },
   {
    "duration": 771,
    "start_time": "2022-03-31T16:12:33.000Z"
   },
   {
    "duration": 763,
    "start_time": "2022-03-31T16:12:33.774Z"
   },
   {
    "duration": 640,
    "start_time": "2022-03-31T16:12:34.545Z"
   },
   {
    "duration": 751,
    "start_time": "2022-03-31T16:12:35.187Z"
   },
   {
    "duration": 15,
    "start_time": "2022-03-31T16:12:35.940Z"
   },
   {
    "duration": 252,
    "start_time": "2022-03-31T16:12:35.958Z"
   },
   {
    "duration": 7,
    "start_time": "2022-03-31T16:12:36.213Z"
   },
   {
    "duration": 1011,
    "start_time": "2022-03-31T16:12:36.223Z"
   },
   {
    "duration": 13,
    "start_time": "2022-03-31T16:12:37.236Z"
   },
   {
    "duration": 363,
    "start_time": "2022-03-31T16:12:37.255Z"
   },
   {
    "duration": 3,
    "start_time": "2022-03-31T16:12:37.621Z"
   },
   {
    "duration": 37,
    "start_time": "2022-03-31T16:12:37.627Z"
   },
   {
    "duration": 1253,
    "start_time": "2022-03-31T16:12:37.667Z"
   },
   {
    "duration": 22,
    "start_time": "2022-03-31T16:12:38.923Z"
   },
   {
    "duration": 419,
    "start_time": "2022-03-31T16:12:38.947Z"
   },
   {
    "duration": 116,
    "start_time": "2022-03-31T16:12:39.369Z"
   },
   {
    "duration": 410,
    "start_time": "2022-03-31T16:12:39.487Z"
   },
   {
    "duration": 5,
    "start_time": "2022-03-31T16:12:39.900Z"
   },
   {
    "duration": 12,
    "start_time": "2022-03-31T16:12:39.908Z"
   },
   {
    "duration": 24,
    "start_time": "2022-03-31T16:12:39.923Z"
   },
   {
    "duration": 26,
    "start_time": "2022-03-31T16:12:39.950Z"
   },
   {
    "duration": 6,
    "start_time": "2022-03-31T16:12:39.978Z"
   },
   {
    "duration": 12,
    "start_time": "2022-03-31T16:12:39.987Z"
   },
   {
    "duration": 13,
    "start_time": "2022-03-31T16:12:40.002Z"
   },
   {
    "duration": 50156,
    "start_time": "2022-03-31T16:12:40.018Z"
   },
   {
    "duration": 171,
    "start_time": "2022-03-31T16:13:30.179Z"
   },
   {
    "duration": 0,
    "start_time": "2022-03-31T16:13:30.352Z"
   },
   {
    "duration": 0,
    "start_time": "2022-03-31T16:13:30.354Z"
   },
   {
    "duration": 0,
    "start_time": "2022-03-31T16:13:30.356Z"
   },
   {
    "duration": 0,
    "start_time": "2022-03-31T16:13:30.357Z"
   },
   {
    "duration": 0,
    "start_time": "2022-03-31T16:13:30.358Z"
   },
   {
    "duration": 0,
    "start_time": "2022-03-31T16:13:30.360Z"
   },
   {
    "duration": 0,
    "start_time": "2022-03-31T16:13:30.361Z"
   },
   {
    "duration": 0,
    "start_time": "2022-03-31T16:13:30.362Z"
   },
   {
    "duration": 0,
    "start_time": "2022-03-31T16:13:30.364Z"
   },
   {
    "duration": 0,
    "start_time": "2022-03-31T16:13:30.365Z"
   },
   {
    "duration": 0,
    "start_time": "2022-03-31T16:13:30.366Z"
   },
   {
    "duration": 1,
    "start_time": "2022-03-31T16:13:30.367Z"
   },
   {
    "duration": 0,
    "start_time": "2022-03-31T16:13:30.369Z"
   },
   {
    "duration": 12230,
    "start_time": "2022-03-31T16:14:23.201Z"
   },
   {
    "duration": 5085,
    "start_time": "2022-03-31T16:15:31.451Z"
   },
   {
    "duration": 7499,
    "start_time": "2022-03-31T16:15:49.148Z"
   },
   {
    "duration": 5131,
    "start_time": "2022-03-31T16:16:15.037Z"
   },
   {
    "duration": 4900,
    "start_time": "2022-03-31T16:16:34.979Z"
   },
   {
    "duration": 9916,
    "start_time": "2022-03-31T16:16:59.130Z"
   },
   {
    "duration": 10433,
    "start_time": "2022-03-31T16:17:54.728Z"
   },
   {
    "duration": 4686,
    "start_time": "2022-03-31T16:18:21.843Z"
   },
   {
    "duration": 2532,
    "start_time": "2022-03-31T16:18:35.354Z"
   },
   {
    "duration": 10673,
    "start_time": "2022-03-31T16:21:57.870Z"
   },
   {
    "duration": 26446,
    "start_time": "2022-03-31T16:22:15.837Z"
   },
   {
    "duration": 2049,
    "start_time": "2022-03-31T16:26:48.055Z"
   },
   {
    "duration": 808,
    "start_time": "2022-03-31T16:26:50.106Z"
   },
   {
    "duration": 186,
    "start_time": "2022-03-31T16:26:50.916Z"
   },
   {
    "duration": 5,
    "start_time": "2022-03-31T16:26:51.105Z"
   },
   {
    "duration": 8,
    "start_time": "2022-03-31T16:26:51.112Z"
   },
   {
    "duration": 29,
    "start_time": "2022-03-31T16:26:51.122Z"
   },
   {
    "duration": 7,
    "start_time": "2022-03-31T16:26:51.153Z"
   },
   {
    "duration": 103,
    "start_time": "2022-03-31T16:26:51.162Z"
   },
   {
    "duration": 3,
    "start_time": "2022-03-31T16:26:51.267Z"
   },
   {
    "duration": 14,
    "start_time": "2022-03-31T16:26:51.274Z"
   },
   {
    "duration": 12343,
    "start_time": "2022-03-31T16:26:51.290Z"
   },
   {
    "duration": 344,
    "start_time": "2022-03-31T16:27:03.636Z"
   },
   {
    "duration": 3,
    "start_time": "2022-03-31T16:27:03.983Z"
   },
   {
    "duration": 6,
    "start_time": "2022-03-31T16:27:03.988Z"
   },
   {
    "duration": 766,
    "start_time": "2022-03-31T16:27:03.996Z"
   },
   {
    "duration": 711,
    "start_time": "2022-03-31T16:27:04.764Z"
   },
   {
    "duration": 656,
    "start_time": "2022-03-31T16:27:05.476Z"
   },
   {
    "duration": 521,
    "start_time": "2022-03-31T16:27:06.134Z"
   },
   {
    "duration": 703,
    "start_time": "2022-03-31T16:27:06.657Z"
   },
   {
    "duration": 13,
    "start_time": "2022-03-31T16:27:07.363Z"
   },
   {
    "duration": 248,
    "start_time": "2022-03-31T16:27:07.379Z"
   },
   {
    "duration": 15,
    "start_time": "2022-03-31T16:27:07.630Z"
   },
   {
    "duration": 1154,
    "start_time": "2022-03-31T16:27:07.648Z"
   },
   {
    "duration": 8,
    "start_time": "2022-03-31T16:27:08.804Z"
   },
   {
    "duration": 328,
    "start_time": "2022-03-31T16:27:08.815Z"
   },
   {
    "duration": 5,
    "start_time": "2022-03-31T16:27:09.145Z"
   },
   {
    "duration": 21,
    "start_time": "2022-03-31T16:27:09.152Z"
   },
   {
    "duration": 1120,
    "start_time": "2022-03-31T16:27:09.178Z"
   },
   {
    "duration": 11,
    "start_time": "2022-03-31T16:27:10.300Z"
   },
   {
    "duration": 378,
    "start_time": "2022-03-31T16:27:10.313Z"
   },
   {
    "duration": 110,
    "start_time": "2022-03-31T16:27:10.694Z"
   },
   {
    "duration": 387,
    "start_time": "2022-03-31T16:27:10.806Z"
   },
   {
    "duration": 6,
    "start_time": "2022-03-31T16:27:11.196Z"
   },
   {
    "duration": 12,
    "start_time": "2022-03-31T16:27:11.205Z"
   },
   {
    "duration": 27,
    "start_time": "2022-03-31T16:27:11.219Z"
   },
   {
    "duration": 14,
    "start_time": "2022-03-31T16:27:11.249Z"
   },
   {
    "duration": 14,
    "start_time": "2022-03-31T16:27:11.266Z"
   },
   {
    "duration": 8,
    "start_time": "2022-03-31T16:27:11.282Z"
   },
   {
    "duration": 8,
    "start_time": "2022-03-31T16:27:11.292Z"
   },
   {
    "duration": 196460,
    "start_time": "2022-03-31T16:27:11.302Z"
   },
   {
    "duration": 5,
    "start_time": "2022-03-31T16:30:27.765Z"
   },
   {
    "duration": 6,
    "start_time": "2022-03-31T16:30:27.772Z"
   },
   {
    "duration": 27603,
    "start_time": "2022-03-31T16:30:27.780Z"
   },
   {
    "duration": 2405,
    "start_time": "2022-03-31T16:30:55.386Z"
   },
   {
    "duration": 8,
    "start_time": "2022-03-31T16:30:57.793Z"
   },
   {
    "duration": 7,
    "start_time": "2022-03-31T16:30:57.804Z"
   },
   {
    "duration": 171,
    "start_time": "2022-03-31T16:30:57.844Z"
   },
   {
    "duration": 0,
    "start_time": "2022-03-31T16:30:58.018Z"
   },
   {
    "duration": 14,
    "start_time": "2022-03-31T16:41:16.202Z"
   },
   {
    "duration": 7,
    "start_time": "2022-03-31T16:41:45.233Z"
   },
   {
    "duration": 6,
    "start_time": "2022-03-31T16:41:51.558Z"
   },
   {
    "duration": 6,
    "start_time": "2022-03-31T16:41:59.473Z"
   },
   {
    "duration": 1899,
    "start_time": "2022-03-31T16:50:29.345Z"
   },
   {
    "duration": 5,
    "start_time": "2022-03-31T16:50:32.297Z"
   },
   {
    "duration": 2004,
    "start_time": "2022-03-31T16:50:38.639Z"
   },
   {
    "duration": 6,
    "start_time": "2022-03-31T16:50:41.375Z"
   },
   {
    "duration": 5,
    "start_time": "2022-03-31T16:50:56.082Z"
   },
   {
    "duration": 1927,
    "start_time": "2022-03-31T16:50:58.816Z"
   },
   {
    "duration": 6,
    "start_time": "2022-03-31T16:51:03.913Z"
   },
   {
    "duration": 2257,
    "start_time": "2022-03-31T16:57:42.094Z"
   },
   {
    "duration": 1247,
    "start_time": "2022-03-31T16:57:44.355Z"
   },
   {
    "duration": 302,
    "start_time": "2022-03-31T16:57:45.604Z"
   },
   {
    "duration": 7,
    "start_time": "2022-03-31T16:57:45.911Z"
   },
   {
    "duration": 28,
    "start_time": "2022-03-31T16:57:45.920Z"
   },
   {
    "duration": 18,
    "start_time": "2022-03-31T16:57:45.951Z"
   },
   {
    "duration": 10,
    "start_time": "2022-03-31T16:57:45.972Z"
   },
   {
    "duration": 161,
    "start_time": "2022-03-31T16:57:45.984Z"
   },
   {
    "duration": 4,
    "start_time": "2022-03-31T16:57:46.147Z"
   },
   {
    "duration": 6,
    "start_time": "2022-03-31T16:57:46.156Z"
   },
   {
    "duration": 23788,
    "start_time": "2022-03-31T16:57:46.164Z"
   },
   {
    "duration": 330,
    "start_time": "2022-03-31T16:58:09.955Z"
   },
   {
    "duration": 4,
    "start_time": "2022-03-31T16:58:10.287Z"
   },
   {
    "duration": 6,
    "start_time": "2022-03-31T16:58:10.294Z"
   },
   {
    "duration": 1207,
    "start_time": "2022-03-31T16:58:10.304Z"
   },
   {
    "duration": 1280,
    "start_time": "2022-03-31T16:58:11.515Z"
   },
   {
    "duration": 672,
    "start_time": "2022-03-31T16:58:12.798Z"
   },
   {
    "duration": 590,
    "start_time": "2022-03-31T16:58:13.473Z"
   },
   {
    "duration": 737,
    "start_time": "2022-03-31T16:58:14.065Z"
   },
   {
    "duration": 13,
    "start_time": "2022-03-31T16:58:14.804Z"
   },
   {
    "duration": 255,
    "start_time": "2022-03-31T16:58:14.819Z"
   },
   {
    "duration": 6,
    "start_time": "2022-03-31T16:58:15.077Z"
   },
   {
    "duration": 1107,
    "start_time": "2022-03-31T16:58:15.086Z"
   },
   {
    "duration": 7,
    "start_time": "2022-03-31T16:58:16.195Z"
   },
   {
    "duration": 340,
    "start_time": "2022-03-31T16:58:16.205Z"
   },
   {
    "duration": 4,
    "start_time": "2022-03-31T16:58:16.548Z"
   },
   {
    "duration": 22,
    "start_time": "2022-03-31T16:58:16.555Z"
   },
   {
    "duration": 1126,
    "start_time": "2022-03-31T16:58:16.584Z"
   },
   {
    "duration": 12,
    "start_time": "2022-03-31T16:58:17.712Z"
   },
   {
    "duration": 399,
    "start_time": "2022-03-31T16:58:17.726Z"
   },
   {
    "duration": 145,
    "start_time": "2022-03-31T16:58:18.143Z"
   },
   {
    "duration": 415,
    "start_time": "2022-03-31T16:58:18.291Z"
   },
   {
    "duration": 5,
    "start_time": "2022-03-31T16:58:18.709Z"
   },
   {
    "duration": 29,
    "start_time": "2022-03-31T16:58:18.717Z"
   },
   {
    "duration": 6,
    "start_time": "2022-03-31T16:58:18.748Z"
   },
   {
    "duration": 16,
    "start_time": "2022-03-31T16:58:18.756Z"
   },
   {
    "duration": 11,
    "start_time": "2022-03-31T16:58:18.775Z"
   },
   {
    "duration": 8,
    "start_time": "2022-03-31T16:58:18.788Z"
   },
   {
    "duration": 10,
    "start_time": "2022-03-31T16:58:18.798Z"
   },
   {
    "duration": 169,
    "start_time": "2022-03-31T16:58:18.844Z"
   },
   {
    "duration": 0,
    "start_time": "2022-03-31T16:58:19.016Z"
   },
   {
    "duration": 0,
    "start_time": "2022-03-31T16:58:19.018Z"
   },
   {
    "duration": 0,
    "start_time": "2022-03-31T16:58:19.020Z"
   },
   {
    "duration": 0,
    "start_time": "2022-03-31T16:58:19.021Z"
   },
   {
    "duration": 0,
    "start_time": "2022-03-31T16:58:19.023Z"
   },
   {
    "duration": 0,
    "start_time": "2022-03-31T16:58:19.024Z"
   },
   {
    "duration": 0,
    "start_time": "2022-03-31T16:58:19.043Z"
   },
   {
    "duration": 0,
    "start_time": "2022-03-31T16:58:19.045Z"
   },
   {
    "duration": 0,
    "start_time": "2022-03-31T16:58:19.047Z"
   },
   {
    "duration": 0,
    "start_time": "2022-03-31T16:58:19.049Z"
   },
   {
    "duration": 196579,
    "start_time": "2022-03-31T16:58:43.530Z"
   },
   {
    "duration": 4,
    "start_time": "2022-03-31T17:12:39.962Z"
   },
   {
    "duration": 2105,
    "start_time": "2022-03-31T17:13:19.029Z"
   },
   {
    "duration": 840,
    "start_time": "2022-03-31T17:13:21.137Z"
   },
   {
    "duration": 190,
    "start_time": "2022-03-31T17:13:21.979Z"
   },
   {
    "duration": 6,
    "start_time": "2022-03-31T17:13:22.172Z"
   },
   {
    "duration": 9,
    "start_time": "2022-03-31T17:13:22.180Z"
   },
   {
    "duration": 14,
    "start_time": "2022-03-31T17:13:22.191Z"
   },
   {
    "duration": 7,
    "start_time": "2022-03-31T17:13:22.207Z"
   },
   {
    "duration": 84,
    "start_time": "2022-03-31T17:13:22.243Z"
   },
   {
    "duration": 15,
    "start_time": "2022-03-31T17:13:22.329Z"
   },
   {
    "duration": 5,
    "start_time": "2022-03-31T17:13:22.348Z"
   },
   {
    "duration": 15464,
    "start_time": "2022-03-31T17:13:22.355Z"
   },
   {
    "duration": 356,
    "start_time": "2022-03-31T17:13:37.822Z"
   },
   {
    "duration": 3,
    "start_time": "2022-03-31T17:13:38.181Z"
   },
   {
    "duration": 5,
    "start_time": "2022-03-31T17:13:38.187Z"
   },
   {
    "duration": 1066,
    "start_time": "2022-03-31T17:13:38.194Z"
   },
   {
    "duration": 737,
    "start_time": "2022-03-31T17:13:39.263Z"
   },
   {
    "duration": 629,
    "start_time": "2022-03-31T17:13:40.003Z"
   },
   {
    "duration": 525,
    "start_time": "2022-03-31T17:13:40.635Z"
   },
   {
    "duration": 714,
    "start_time": "2022-03-31T17:13:41.162Z"
   },
   {
    "duration": 12,
    "start_time": "2022-03-31T17:13:41.878Z"
   },
   {
    "duration": 248,
    "start_time": "2022-03-31T17:13:41.892Z"
   },
   {
    "duration": 6,
    "start_time": "2022-03-31T17:13:42.143Z"
   },
   {
    "duration": 1249,
    "start_time": "2022-03-31T17:13:42.152Z"
   },
   {
    "duration": 7,
    "start_time": "2022-03-31T17:13:43.403Z"
   },
   {
    "duration": 492,
    "start_time": "2022-03-31T17:13:43.413Z"
   },
   {
    "duration": 5,
    "start_time": "2022-03-31T17:13:43.908Z"
   },
   {
    "duration": 35,
    "start_time": "2022-03-31T17:13:43.915Z"
   },
   {
    "duration": 1149,
    "start_time": "2022-03-31T17:13:43.955Z"
   },
   {
    "duration": 11,
    "start_time": "2022-03-31T17:13:45.107Z"
   },
   {
    "duration": 396,
    "start_time": "2022-03-31T17:13:45.120Z"
   },
   {
    "duration": 121,
    "start_time": "2022-03-31T17:13:45.518Z"
   },
   {
    "duration": 382,
    "start_time": "2022-03-31T17:13:45.641Z"
   },
   {
    "duration": 18,
    "start_time": "2022-03-31T17:13:46.026Z"
   },
   {
    "duration": 14,
    "start_time": "2022-03-31T17:13:46.047Z"
   },
   {
    "duration": 7,
    "start_time": "2022-03-31T17:13:46.064Z"
   },
   {
    "duration": 14,
    "start_time": "2022-03-31T17:13:46.073Z"
   },
   {
    "duration": 7,
    "start_time": "2022-03-31T17:13:46.090Z"
   },
   {
    "duration": 8,
    "start_time": "2022-03-31T17:13:46.099Z"
   },
   {
    "duration": 7,
    "start_time": "2022-03-31T17:13:46.143Z"
   },
   {
    "duration": 202294,
    "start_time": "2022-03-31T17:13:46.152Z"
   },
   {
    "duration": 176,
    "start_time": "2022-03-31T17:17:08.448Z"
   },
   {
    "duration": 0,
    "start_time": "2022-03-31T17:17:08.626Z"
   },
   {
    "duration": 0,
    "start_time": "2022-03-31T17:17:08.628Z"
   },
   {
    "duration": 1,
    "start_time": "2022-03-31T17:17:08.629Z"
   },
   {
    "duration": 0,
    "start_time": "2022-03-31T17:17:08.643Z"
   },
   {
    "duration": 0,
    "start_time": "2022-03-31T17:17:08.645Z"
   },
   {
    "duration": 5,
    "start_time": "2022-03-31T17:26:36.260Z"
   },
   {
    "duration": 4,
    "start_time": "2022-03-31T17:26:38.796Z"
   },
   {
    "duration": 64819,
    "start_time": "2022-03-31T17:26:51.204Z"
   },
   {
    "duration": 4,
    "start_time": "2022-03-31T17:59:32.884Z"
   },
   {
    "duration": 11,
    "start_time": "2022-03-31T17:59:34.185Z"
   },
   {
    "duration": 11,
    "start_time": "2022-03-31T17:59:53.718Z"
   },
   {
    "duration": 20340,
    "start_time": "2022-03-31T18:00:09.458Z"
   },
   {
    "duration": 5,
    "start_time": "2022-03-31T18:00:49.809Z"
   },
   {
    "duration": 266320,
    "start_time": "2022-03-31T18:00:50.947Z"
   },
   {
    "duration": 2258,
    "start_time": "2022-03-31T18:05:38.743Z"
   },
   {
    "duration": 829,
    "start_time": "2022-03-31T18:05:41.005Z"
   },
   {
    "duration": 209,
    "start_time": "2022-03-31T18:05:41.836Z"
   },
   {
    "duration": 6,
    "start_time": "2022-03-31T18:05:42.047Z"
   },
   {
    "duration": 5,
    "start_time": "2022-03-31T18:05:42.056Z"
   },
   {
    "duration": 14,
    "start_time": "2022-03-31T18:05:42.063Z"
   },
   {
    "duration": 8,
    "start_time": "2022-03-31T18:05:42.080Z"
   },
   {
    "duration": 123,
    "start_time": "2022-03-31T18:05:42.090Z"
   },
   {
    "duration": 4,
    "start_time": "2022-03-31T18:05:42.215Z"
   },
   {
    "duration": 9,
    "start_time": "2022-03-31T18:05:42.221Z"
   },
   {
    "duration": 12314,
    "start_time": "2022-03-31T18:05:42.242Z"
   },
   {
    "duration": 334,
    "start_time": "2022-03-31T18:05:54.559Z"
   },
   {
    "duration": 4,
    "start_time": "2022-03-31T18:05:54.896Z"
   },
   {
    "duration": 6,
    "start_time": "2022-03-31T18:05:54.906Z"
   },
   {
    "duration": 829,
    "start_time": "2022-03-31T18:05:54.914Z"
   },
   {
    "duration": 700,
    "start_time": "2022-03-31T18:05:55.745Z"
   },
   {
    "duration": 558,
    "start_time": "2022-03-31T18:05:56.447Z"
   },
   {
    "duration": 539,
    "start_time": "2022-03-31T18:05:57.007Z"
   },
   {
    "duration": 678,
    "start_time": "2022-03-31T18:05:57.549Z"
   },
   {
    "duration": 19,
    "start_time": "2022-03-31T18:05:58.230Z"
   },
   {
    "duration": 233,
    "start_time": "2022-03-31T18:05:58.251Z"
   },
   {
    "duration": 6,
    "start_time": "2022-03-31T18:05:58.487Z"
   },
   {
    "duration": 1095,
    "start_time": "2022-03-31T18:05:58.495Z"
   },
   {
    "duration": 6,
    "start_time": "2022-03-31T18:05:59.593Z"
   },
   {
    "duration": 317,
    "start_time": "2022-03-31T18:05:59.602Z"
   },
   {
    "duration": 3,
    "start_time": "2022-03-31T18:05:59.922Z"
   },
   {
    "duration": 32,
    "start_time": "2022-03-31T18:05:59.928Z"
   },
   {
    "duration": 1130,
    "start_time": "2022-03-31T18:05:59.962Z"
   },
   {
    "duration": 12,
    "start_time": "2022-03-31T18:06:01.094Z"
   },
   {
    "duration": 408,
    "start_time": "2022-03-31T18:06:01.108Z"
   },
   {
    "duration": 141,
    "start_time": "2022-03-31T18:06:01.518Z"
   },
   {
    "duration": 370,
    "start_time": "2022-03-31T18:06:01.661Z"
   },
   {
    "duration": 14,
    "start_time": "2022-03-31T18:06:02.034Z"
   },
   {
    "duration": 56,
    "start_time": "2022-03-31T18:06:02.050Z"
   },
   {
    "duration": 14,
    "start_time": "2022-03-31T18:06:02.109Z"
   },
   {
    "duration": 39,
    "start_time": "2022-03-31T18:06:02.125Z"
   },
   {
    "duration": 18,
    "start_time": "2022-03-31T18:06:02.166Z"
   },
   {
    "duration": 13,
    "start_time": "2022-03-31T18:06:02.186Z"
   },
   {
    "duration": 19,
    "start_time": "2022-03-31T18:06:02.201Z"
   },
   {
    "duration": 202626,
    "start_time": "2022-03-31T18:06:02.222Z"
   },
   {
    "duration": 5,
    "start_time": "2022-03-31T18:09:24.855Z"
   },
   {
    "duration": 6,
    "start_time": "2022-03-31T18:09:24.863Z"
   },
   {
    "duration": 136789,
    "start_time": "2022-03-31T18:09:24.870Z"
   },
   {
    "duration": 5,
    "start_time": "2022-03-31T18:11:41.661Z"
   },
   {
    "duration": 271341,
    "start_time": "2022-03-31T18:11:41.668Z"
   },
   {
    "duration": 6,
    "start_time": "2022-03-31T18:16:13.012Z"
   },
   {
    "duration": 24,
    "start_time": "2022-03-31T18:16:13.019Z"
   },
   {
    "duration": 2534,
    "start_time": "2022-03-31T18:16:13.045Z"
   },
   {
    "duration": 5,
    "start_time": "2022-03-31T18:17:58.930Z"
   },
   {
    "duration": 5,
    "start_time": "2022-03-31T18:18:05.427Z"
   },
   {
    "duration": 5,
    "start_time": "2022-03-31T18:22:53.262Z"
   },
   {
    "duration": 6,
    "start_time": "2022-03-31T18:22:57.988Z"
   },
   {
    "duration": 6,
    "start_time": "2022-03-31T18:24:17.051Z"
   },
   {
    "duration": 390761,
    "start_time": "2022-03-31T18:24:18.972Z"
   },
   {
    "duration": 207,
    "start_time": "2022-03-31T18:33:32.833Z"
   },
   {
    "duration": 6,
    "start_time": "2022-03-31T18:33:50.421Z"
   },
   {
    "duration": 4,
    "start_time": "2022-03-31T18:33:57.446Z"
   },
   {
    "duration": 5,
    "start_time": "2022-03-31T18:33:59.781Z"
   },
   {
    "duration": 6,
    "start_time": "2022-03-31T18:34:00.863Z"
   },
   {
    "duration": 6,
    "start_time": "2022-03-31T18:34:05.519Z"
   },
   {
    "duration": 6,
    "start_time": "2022-03-31T18:36:38.703Z"
   },
   {
    "duration": 10,
    "start_time": "2022-03-31T18:36:44.648Z"
   },
   {
    "duration": 6,
    "start_time": "2022-03-31T18:40:06.820Z"
   },
   {
    "duration": 2137,
    "start_time": "2022-03-31T18:57:15.737Z"
   },
   {
    "duration": 836,
    "start_time": "2022-03-31T18:57:17.877Z"
   },
   {
    "duration": 199,
    "start_time": "2022-03-31T18:57:18.716Z"
   },
   {
    "duration": 6,
    "start_time": "2022-03-31T18:57:18.919Z"
   },
   {
    "duration": 7,
    "start_time": "2022-03-31T18:57:18.944Z"
   },
   {
    "duration": 19,
    "start_time": "2022-03-31T18:57:18.954Z"
   },
   {
    "duration": 9,
    "start_time": "2022-03-31T18:57:18.976Z"
   },
   {
    "duration": 121,
    "start_time": "2022-03-31T18:57:18.988Z"
   },
   {
    "duration": 3,
    "start_time": "2022-03-31T18:57:19.111Z"
   },
   {
    "duration": 29,
    "start_time": "2022-03-31T18:57:19.120Z"
   },
   {
    "duration": 14048,
    "start_time": "2022-03-31T18:57:19.152Z"
   },
   {
    "duration": 287,
    "start_time": "2022-03-31T18:57:33.202Z"
   },
   {
    "duration": 4,
    "start_time": "2022-03-31T18:57:33.491Z"
   },
   {
    "duration": 8,
    "start_time": "2022-03-31T18:57:33.497Z"
   },
   {
    "duration": 999,
    "start_time": "2022-03-31T18:57:33.507Z"
   },
   {
    "duration": 710,
    "start_time": "2022-03-31T18:57:34.508Z"
   },
   {
    "duration": 853,
    "start_time": "2022-03-31T18:57:35.221Z"
   },
   {
    "duration": 686,
    "start_time": "2022-03-31T18:57:36.077Z"
   },
   {
    "duration": 751,
    "start_time": "2022-03-31T18:57:36.765Z"
   },
   {
    "duration": 26,
    "start_time": "2022-03-31T18:57:37.520Z"
   },
   {
    "duration": 240,
    "start_time": "2022-03-31T18:57:37.548Z"
   },
   {
    "duration": 6,
    "start_time": "2022-03-31T18:57:37.791Z"
   },
   {
    "duration": 1097,
    "start_time": "2022-03-31T18:57:37.799Z"
   },
   {
    "duration": 6,
    "start_time": "2022-03-31T18:57:38.899Z"
   },
   {
    "duration": 331,
    "start_time": "2022-03-31T18:57:38.907Z"
   },
   {
    "duration": 4,
    "start_time": "2022-03-31T18:57:39.240Z"
   },
   {
    "duration": 25,
    "start_time": "2022-03-31T18:57:39.246Z"
   },
   {
    "duration": 1252,
    "start_time": "2022-03-31T18:57:39.276Z"
   },
   {
    "duration": 19,
    "start_time": "2022-03-31T18:57:40.531Z"
   },
   {
    "duration": 498,
    "start_time": "2022-03-31T18:57:40.553Z"
   },
   {
    "duration": 132,
    "start_time": "2022-03-31T18:57:41.053Z"
   },
   {
    "duration": 386,
    "start_time": "2022-03-31T18:57:41.187Z"
   },
   {
    "duration": 6,
    "start_time": "2022-03-31T18:57:41.574Z"
   },
   {
    "duration": 18,
    "start_time": "2022-03-31T18:57:41.582Z"
   },
   {
    "duration": 13,
    "start_time": "2022-03-31T18:57:41.602Z"
   },
   {
    "duration": 14,
    "start_time": "2022-03-31T18:57:41.617Z"
   },
   {
    "duration": 13,
    "start_time": "2022-03-31T18:57:41.643Z"
   },
   {
    "duration": 6,
    "start_time": "2022-03-31T18:57:41.658Z"
   },
   {
    "duration": 11,
    "start_time": "2022-03-31T18:57:41.666Z"
   },
   {
    "duration": 215196,
    "start_time": "2022-03-31T18:57:41.679Z"
   },
   {
    "duration": 5,
    "start_time": "2022-03-31T19:01:16.877Z"
   },
   {
    "duration": 20,
    "start_time": "2022-03-31T19:01:16.884Z"
   },
   {
    "duration": 239544,
    "start_time": "2022-03-31T19:01:16.906Z"
   },
   {
    "duration": 0,
    "start_time": "2022-03-31T19:05:16.454Z"
   },
   {
    "duration": 0,
    "start_time": "2022-03-31T19:05:16.457Z"
   },
   {
    "duration": 0,
    "start_time": "2022-03-31T19:05:16.459Z"
   },
   {
    "duration": 0,
    "start_time": "2022-03-31T19:05:16.461Z"
   },
   {
    "duration": 0,
    "start_time": "2022-03-31T19:05:16.463Z"
   },
   {
    "duration": 0,
    "start_time": "2022-03-31T19:05:16.466Z"
   },
   {
    "duration": 0,
    "start_time": "2022-03-31T19:05:16.468Z"
   },
   {
    "duration": 0,
    "start_time": "2022-03-31T19:05:16.470Z"
   },
   {
    "duration": 0,
    "start_time": "2022-03-31T19:05:16.474Z"
   },
   {
    "duration": 0,
    "start_time": "2022-03-31T19:05:16.476Z"
   },
   {
    "duration": 0,
    "start_time": "2022-03-31T19:05:16.477Z"
   },
   {
    "duration": 5,
    "start_time": "2022-03-31T19:05:45.324Z"
   },
   {
    "duration": 29593,
    "start_time": "2022-03-31T19:05:46.259Z"
   },
   {
    "duration": 5,
    "start_time": "2022-03-31T19:06:24.502Z"
   },
   {
    "duration": 59007,
    "start_time": "2022-03-31T19:06:31.661Z"
   },
   {
    "duration": 7,
    "start_time": "2022-03-31T19:07:30.671Z"
   },
   {
    "duration": 12,
    "start_time": "2022-03-31T19:07:30.681Z"
   },
   {
    "duration": 36,
    "start_time": "2022-03-31T19:07:30.695Z"
   },
   {
    "duration": 30,
    "start_time": "2022-03-31T19:07:30.733Z"
   },
   {
    "duration": 18,
    "start_time": "2022-03-31T19:07:30.766Z"
   },
   {
    "duration": 24,
    "start_time": "2022-03-31T19:10:42.656Z"
   },
   {
    "duration": 8,
    "start_time": "2022-03-31T19:11:22.122Z"
   },
   {
    "duration": 8,
    "start_time": "2022-03-31T19:11:44.206Z"
   },
   {
    "duration": 8,
    "start_time": "2022-03-31T19:12:41.056Z"
   },
   {
    "duration": 104,
    "start_time": "2022-03-31T19:14:22.694Z"
   },
   {
    "duration": 9,
    "start_time": "2022-03-31T19:14:24.531Z"
   },
   {
    "duration": 18,
    "start_time": "2022-03-31T19:20:46.481Z"
   },
   {
    "duration": 15,
    "start_time": "2022-03-31T19:23:19.708Z"
   },
   {
    "duration": 15,
    "start_time": "2022-03-31T19:23:29.758Z"
   },
   {
    "duration": 14,
    "start_time": "2022-03-31T19:25:37.524Z"
   },
   {
    "duration": 7,
    "start_time": "2022-03-31T19:27:36.085Z"
   },
   {
    "duration": 5,
    "start_time": "2022-03-31T19:27:38.345Z"
   },
   {
    "duration": 19,
    "start_time": "2022-03-31T19:27:39.640Z"
   },
   {
    "duration": 8,
    "start_time": "2022-03-31T19:28:19.969Z"
   },
   {
    "duration": 17,
    "start_time": "2022-03-31T19:28:35.652Z"
   },
   {
    "duration": 31,
    "start_time": "2022-03-31T19:28:51.731Z"
   },
   {
    "duration": 7,
    "start_time": "2022-03-31T19:29:50.284Z"
   },
   {
    "duration": 5,
    "start_time": "2022-03-31T19:29:50.880Z"
   },
   {
    "duration": 26,
    "start_time": "2022-03-31T19:29:51.412Z"
   },
   {
    "duration": 6,
    "start_time": "2022-03-31T19:30:16.803Z"
   },
   {
    "duration": 6,
    "start_time": "2022-03-31T19:30:42.052Z"
   },
   {
    "duration": 15,
    "start_time": "2022-03-31T19:30:42.849Z"
   },
   {
    "duration": 40,
    "start_time": "2022-03-31T19:30:44.031Z"
   },
   {
    "duration": 9,
    "start_time": "2022-03-31T19:32:22.419Z"
   },
   {
    "duration": 11,
    "start_time": "2022-03-31T19:32:31.100Z"
   },
   {
    "duration": 8,
    "start_time": "2022-03-31T19:48:36.169Z"
   },
   {
    "duration": 6,
    "start_time": "2022-03-31T19:49:37.793Z"
   },
   {
    "duration": 4,
    "start_time": "2022-03-31T19:49:38.498Z"
   },
   {
    "duration": 7,
    "start_time": "2022-03-31T19:49:39.190Z"
   },
   {
    "duration": 8,
    "start_time": "2022-03-31T19:49:49.193Z"
   },
   {
    "duration": 12,
    "start_time": "2022-03-31T19:50:11.646Z"
   },
   {
    "duration": 7,
    "start_time": "2022-03-31T20:00:57.133Z"
   },
   {
    "duration": 1086,
    "start_time": "2022-03-31T20:01:01.123Z"
   },
   {
    "duration": 27,
    "start_time": "2022-03-31T20:12:32.866Z"
   },
   {
    "duration": 12,
    "start_time": "2022-03-31T20:13:30.416Z"
   },
   {
    "duration": 5362,
    "start_time": "2022-03-31T20:32:35.872Z"
   },
   {
    "duration": 1085,
    "start_time": "2022-03-31T20:33:01.393Z"
   },
   {
    "duration": 22517,
    "start_time": "2022-03-31T20:33:28.349Z"
   },
   {
    "duration": 323,
    "start_time": "2022-03-31T20:34:37.016Z"
   },
   {
    "duration": 20044,
    "start_time": "2022-03-31T20:35:10.321Z"
   },
   {
    "duration": 14922,
    "start_time": "2022-03-31T20:35:47.258Z"
   },
   {
    "duration": 18,
    "start_time": "2022-03-31T20:36:46.314Z"
   },
   {
    "duration": 321,
    "start_time": "2022-03-31T20:36:54.650Z"
   },
   {
    "duration": 6,
    "start_time": "2022-03-31T20:37:28.172Z"
   },
   {
    "duration": 305,
    "start_time": "2022-03-31T20:37:34.474Z"
   },
   {
    "duration": 2447,
    "start_time": "2022-03-31T20:47:29.134Z"
   },
   {
    "duration": 885,
    "start_time": "2022-03-31T20:47:31.584Z"
   },
   {
    "duration": 223,
    "start_time": "2022-03-31T20:47:32.472Z"
   },
   {
    "duration": 4,
    "start_time": "2022-03-31T20:47:32.699Z"
   },
   {
    "duration": 14,
    "start_time": "2022-03-31T20:47:32.705Z"
   },
   {
    "duration": 31,
    "start_time": "2022-03-31T20:47:32.721Z"
   },
   {
    "duration": 36,
    "start_time": "2022-03-31T20:47:32.756Z"
   },
   {
    "duration": 19714,
    "start_time": "2022-03-31T20:47:32.795Z"
   },
   {
    "duration": 411,
    "start_time": "2022-03-31T20:47:52.513Z"
   },
   {
    "duration": 4,
    "start_time": "2022-03-31T20:47:52.930Z"
   },
   {
    "duration": 1086,
    "start_time": "2022-03-31T20:47:52.937Z"
   },
   {
    "duration": 1020,
    "start_time": "2022-03-31T20:47:54.026Z"
   },
   {
    "duration": 694,
    "start_time": "2022-03-31T20:47:55.049Z"
   },
   {
    "duration": 527,
    "start_time": "2022-03-31T20:47:55.745Z"
   },
   {
    "duration": 12,
    "start_time": "2022-03-31T20:47:56.274Z"
   },
   {
    "duration": 277,
    "start_time": "2022-03-31T20:47:56.288Z"
   },
   {
    "duration": 6,
    "start_time": "2022-03-31T20:47:56.567Z"
   },
   {
    "duration": 1057,
    "start_time": "2022-03-31T20:47:56.575Z"
   },
   {
    "duration": 11,
    "start_time": "2022-03-31T20:47:57.643Z"
   },
   {
    "duration": 352,
    "start_time": "2022-03-31T20:47:57.657Z"
   },
   {
    "duration": 4,
    "start_time": "2022-03-31T20:47:58.012Z"
   },
   {
    "duration": 50,
    "start_time": "2022-03-31T20:47:58.018Z"
   },
   {
    "duration": 1066,
    "start_time": "2022-03-31T20:47:58.071Z"
   },
   {
    "duration": 12,
    "start_time": "2022-03-31T20:47:59.144Z"
   },
   {
    "duration": 410,
    "start_time": "2022-03-31T20:47:59.158Z"
   },
   {
    "duration": 121,
    "start_time": "2022-03-31T20:47:59.570Z"
   },
   {
    "duration": 403,
    "start_time": "2022-03-31T20:47:59.693Z"
   },
   {
    "duration": 5,
    "start_time": "2022-03-31T20:48:00.104Z"
   },
   {
    "duration": 39,
    "start_time": "2022-03-31T20:48:00.111Z"
   },
   {
    "duration": 8,
    "start_time": "2022-03-31T20:48:00.152Z"
   },
   {
    "duration": 16,
    "start_time": "2022-03-31T20:48:00.163Z"
   },
   {
    "duration": 12,
    "start_time": "2022-03-31T20:48:00.183Z"
   },
   {
    "duration": 14,
    "start_time": "2022-03-31T20:48:00.199Z"
   },
   {
    "duration": 17,
    "start_time": "2022-03-31T20:48:00.215Z"
   },
   {
    "duration": 83,
    "start_time": "2022-03-31T20:48:37.330Z"
   },
   {
    "duration": 2450,
    "start_time": "2022-03-31T20:48:42.672Z"
   },
   {
    "duration": 6330,
    "start_time": "2022-03-31T20:48:45.124Z"
   },
   {
    "duration": 0,
    "start_time": "2022-03-31T20:48:51.461Z"
   },
   {
    "duration": 0,
    "start_time": "2022-03-31T20:48:51.463Z"
   },
   {
    "duration": 0,
    "start_time": "2022-03-31T20:48:51.466Z"
   },
   {
    "duration": 0,
    "start_time": "2022-03-31T20:48:51.468Z"
   },
   {
    "duration": 0,
    "start_time": "2022-03-31T20:48:51.470Z"
   },
   {
    "duration": 0,
    "start_time": "2022-03-31T20:48:51.471Z"
   },
   {
    "duration": 0,
    "start_time": "2022-03-31T20:48:51.474Z"
   },
   {
    "duration": 0,
    "start_time": "2022-03-31T20:48:51.477Z"
   },
   {
    "duration": 0,
    "start_time": "2022-03-31T20:48:51.482Z"
   },
   {
    "duration": 0,
    "start_time": "2022-03-31T20:48:51.485Z"
   },
   {
    "duration": 0,
    "start_time": "2022-03-31T20:48:51.486Z"
   },
   {
    "duration": 0,
    "start_time": "2022-03-31T20:48:51.488Z"
   },
   {
    "duration": 0,
    "start_time": "2022-03-31T20:48:51.489Z"
   },
   {
    "duration": 0,
    "start_time": "2022-03-31T20:48:51.491Z"
   },
   {
    "duration": 0,
    "start_time": "2022-03-31T20:48:51.493Z"
   },
   {
    "duration": 0,
    "start_time": "2022-03-31T20:48:51.494Z"
   },
   {
    "duration": 0,
    "start_time": "2022-03-31T20:48:51.495Z"
   },
   {
    "duration": 0,
    "start_time": "2022-03-31T20:48:51.497Z"
   },
   {
    "duration": 0,
    "start_time": "2022-03-31T20:48:51.499Z"
   },
   {
    "duration": 0,
    "start_time": "2022-03-31T20:48:51.500Z"
   },
   {
    "duration": 0,
    "start_time": "2022-03-31T20:48:51.542Z"
   },
   {
    "duration": 0,
    "start_time": "2022-03-31T20:48:51.545Z"
   },
   {
    "duration": 0,
    "start_time": "2022-03-31T20:48:51.547Z"
   },
   {
    "duration": 0,
    "start_time": "2022-03-31T20:48:51.550Z"
   },
   {
    "duration": 1,
    "start_time": "2022-03-31T20:48:51.551Z"
   },
   {
    "duration": 0,
    "start_time": "2022-03-31T20:48:51.555Z"
   },
   {
    "duration": 0,
    "start_time": "2022-03-31T20:48:51.556Z"
   },
   {
    "duration": 0,
    "start_time": "2022-03-31T20:48:51.558Z"
   },
   {
    "duration": 0,
    "start_time": "2022-03-31T20:48:51.559Z"
   },
   {
    "duration": 0,
    "start_time": "2022-03-31T20:48:51.562Z"
   },
   {
    "duration": 0,
    "start_time": "2022-03-31T20:48:51.564Z"
   },
   {
    "duration": 0,
    "start_time": "2022-03-31T20:48:51.566Z"
   },
   {
    "duration": 0,
    "start_time": "2022-03-31T20:48:51.567Z"
   },
   {
    "duration": 0,
    "start_time": "2022-03-31T20:48:51.569Z"
   },
   {
    "duration": 0,
    "start_time": "2022-03-31T20:48:51.571Z"
   },
   {
    "duration": 0,
    "start_time": "2022-03-31T20:48:51.572Z"
   },
   {
    "duration": 0,
    "start_time": "2022-03-31T20:48:51.574Z"
   },
   {
    "duration": 0,
    "start_time": "2022-03-31T20:48:51.575Z"
   },
   {
    "duration": 0,
    "start_time": "2022-03-31T20:48:51.577Z"
   },
   {
    "duration": 0,
    "start_time": "2022-03-31T20:48:51.578Z"
   },
   {
    "duration": 0,
    "start_time": "2022-03-31T20:48:51.580Z"
   },
   {
    "duration": 0,
    "start_time": "2022-03-31T20:48:51.581Z"
   },
   {
    "duration": 0,
    "start_time": "2022-03-31T20:48:51.583Z"
   },
   {
    "duration": 0,
    "start_time": "2022-03-31T20:48:51.584Z"
   },
   {
    "duration": 1,
    "start_time": "2022-03-31T20:48:51.585Z"
   },
   {
    "duration": 0,
    "start_time": "2022-03-31T20:48:51.588Z"
   },
   {
    "duration": 0,
    "start_time": "2022-03-31T20:48:51.642Z"
   },
   {
    "duration": 0,
    "start_time": "2022-03-31T20:48:51.645Z"
   },
   {
    "duration": 0,
    "start_time": "2022-03-31T20:48:51.650Z"
   },
   {
    "duration": 0,
    "start_time": "2022-03-31T20:48:51.654Z"
   },
   {
    "duration": 0,
    "start_time": "2022-03-31T20:48:51.657Z"
   },
   {
    "duration": 0,
    "start_time": "2022-03-31T20:48:51.658Z"
   },
   {
    "duration": 2311,
    "start_time": "2022-03-31T20:49:22.318Z"
   },
   {
    "duration": 880,
    "start_time": "2022-03-31T20:49:24.632Z"
   },
   {
    "duration": 215,
    "start_time": "2022-03-31T20:49:25.514Z"
   },
   {
    "duration": 14,
    "start_time": "2022-03-31T20:49:25.732Z"
   },
   {
    "duration": 18,
    "start_time": "2022-03-31T20:49:25.749Z"
   },
   {
    "duration": 14,
    "start_time": "2022-03-31T20:49:25.769Z"
   },
   {
    "duration": 24,
    "start_time": "2022-03-31T20:49:25.786Z"
   },
   {
    "duration": 13838,
    "start_time": "2022-03-31T20:49:25.812Z"
   },
   {
    "duration": 334,
    "start_time": "2022-03-31T20:49:39.655Z"
   },
   {
    "duration": 3,
    "start_time": "2022-03-31T20:49:39.994Z"
   },
   {
    "duration": 810,
    "start_time": "2022-03-31T20:49:39.999Z"
   },
   {
    "duration": 753,
    "start_time": "2022-03-31T20:49:40.811Z"
   },
   {
    "duration": 652,
    "start_time": "2022-03-31T20:49:41.568Z"
   },
   {
    "duration": 648,
    "start_time": "2022-03-31T20:49:42.223Z"
   },
   {
    "duration": 10,
    "start_time": "2022-03-31T20:49:42.874Z"
   },
   {
    "duration": 258,
    "start_time": "2022-03-31T20:49:42.887Z"
   },
   {
    "duration": 9,
    "start_time": "2022-03-31T20:49:43.148Z"
   },
   {
    "duration": 1166,
    "start_time": "2022-03-31T20:49:43.160Z"
   },
   {
    "duration": 21,
    "start_time": "2022-03-31T20:49:44.328Z"
   },
   {
    "duration": 343,
    "start_time": "2022-03-31T20:49:44.351Z"
   },
   {
    "duration": 4,
    "start_time": "2022-03-31T20:49:44.698Z"
   },
   {
    "duration": 46,
    "start_time": "2022-03-31T20:49:44.705Z"
   },
   {
    "duration": 1134,
    "start_time": "2022-03-31T20:49:44.755Z"
   },
   {
    "duration": 11,
    "start_time": "2022-03-31T20:49:45.891Z"
   },
   {
    "duration": 451,
    "start_time": "2022-03-31T20:49:45.904Z"
   },
   {
    "duration": 140,
    "start_time": "2022-03-31T20:49:46.358Z"
   },
   {
    "duration": 414,
    "start_time": "2022-03-31T20:49:46.501Z"
   },
   {
    "duration": 6,
    "start_time": "2022-03-31T20:49:46.922Z"
   },
   {
    "duration": 22,
    "start_time": "2022-03-31T20:49:46.930Z"
   },
   {
    "duration": 9,
    "start_time": "2022-03-31T20:49:46.960Z"
   },
   {
    "duration": 14,
    "start_time": "2022-03-31T20:49:46.971Z"
   },
   {
    "duration": 8,
    "start_time": "2022-03-31T20:49:46.987Z"
   },
   {
    "duration": 7,
    "start_time": "2022-03-31T20:49:46.998Z"
   },
   {
    "duration": 38,
    "start_time": "2022-03-31T20:49:47.008Z"
   },
   {
    "duration": 2221,
    "start_time": "2022-03-31T20:52:43.912Z"
   },
   {
    "duration": 854,
    "start_time": "2022-03-31T20:52:46.136Z"
   },
   {
    "duration": 205,
    "start_time": "2022-03-31T20:52:46.992Z"
   },
   {
    "duration": 4,
    "start_time": "2022-03-31T20:52:47.201Z"
   },
   {
    "duration": 26,
    "start_time": "2022-03-31T20:52:47.207Z"
   },
   {
    "duration": 28,
    "start_time": "2022-03-31T20:52:47.235Z"
   },
   {
    "duration": 25,
    "start_time": "2022-03-31T20:52:47.265Z"
   },
   {
    "duration": 12869,
    "start_time": "2022-03-31T20:52:47.292Z"
   },
   {
    "duration": 334,
    "start_time": "2022-03-31T20:53:00.164Z"
   },
   {
    "duration": 4,
    "start_time": "2022-03-31T20:53:00.502Z"
   },
   {
    "duration": 821,
    "start_time": "2022-03-31T20:53:00.508Z"
   },
   {
    "duration": 761,
    "start_time": "2022-03-31T20:53:01.331Z"
   },
   {
    "duration": 649,
    "start_time": "2022-03-31T20:53:02.094Z"
   },
   {
    "duration": 524,
    "start_time": "2022-03-31T20:53:02.746Z"
   },
   {
    "duration": 11,
    "start_time": "2022-03-31T20:53:03.272Z"
   },
   {
    "duration": 266,
    "start_time": "2022-03-31T20:53:03.286Z"
   },
   {
    "duration": 7,
    "start_time": "2022-03-31T20:53:03.555Z"
   },
   {
    "duration": 1155,
    "start_time": "2022-03-31T20:53:03.565Z"
   },
   {
    "duration": 6,
    "start_time": "2022-03-31T20:53:04.723Z"
   },
   {
    "duration": 324,
    "start_time": "2022-03-31T20:53:04.743Z"
   },
   {
    "duration": 4,
    "start_time": "2022-03-31T20:53:05.069Z"
   },
   {
    "duration": 55,
    "start_time": "2022-03-31T20:53:05.075Z"
   },
   {
    "duration": 1184,
    "start_time": "2022-03-31T20:53:05.133Z"
   },
   {
    "duration": 11,
    "start_time": "2022-03-31T20:53:06.319Z"
   },
   {
    "duration": 493,
    "start_time": "2022-03-31T20:53:06.343Z"
   },
   {
    "duration": 144,
    "start_time": "2022-03-31T20:53:06.838Z"
   },
   {
    "duration": 514,
    "start_time": "2022-03-31T20:53:06.984Z"
   },
   {
    "duration": 6,
    "start_time": "2022-03-31T20:53:07.504Z"
   },
   {
    "duration": 32,
    "start_time": "2022-03-31T20:53:07.513Z"
   },
   {
    "duration": 19,
    "start_time": "2022-03-31T20:53:07.548Z"
   },
   {
    "duration": 17,
    "start_time": "2022-03-31T20:53:07.569Z"
   },
   {
    "duration": 7,
    "start_time": "2022-03-31T20:53:07.589Z"
   },
   {
    "duration": 7,
    "start_time": "2022-03-31T20:53:07.599Z"
   },
   {
    "duration": 7,
    "start_time": "2022-03-31T20:53:07.608Z"
   },
   {
    "duration": 532404,
    "start_time": "2022-03-31T20:53:07.617Z"
   },
   {
    "duration": 5,
    "start_time": "2022-03-31T21:02:00.023Z"
   },
   {
    "duration": 9,
    "start_time": "2022-03-31T21:02:00.042Z"
   },
   {
    "duration": 94258,
    "start_time": "2022-03-31T21:02:00.053Z"
   },
   {
    "duration": 3,
    "start_time": "2022-03-31T21:03:34.314Z"
   },
   {
    "duration": 185956,
    "start_time": "2022-03-31T21:03:34.319Z"
   },
   {
    "duration": 6,
    "start_time": "2022-03-31T21:06:40.277Z"
   },
   {
    "duration": 4,
    "start_time": "2022-03-31T21:06:40.286Z"
   },
   {
    "duration": 8,
    "start_time": "2022-03-31T21:06:40.292Z"
   },
   {
    "duration": 5,
    "start_time": "2022-03-31T21:06:40.302Z"
   },
   {
    "duration": 8,
    "start_time": "2022-03-31T21:06:40.346Z"
   },
   {
    "duration": 8,
    "start_time": "2022-03-31T21:06:40.356Z"
   },
   {
    "duration": 10,
    "start_time": "2022-03-31T21:06:40.367Z"
   },
   {
    "duration": 124,
    "start_time": "2022-03-31T21:06:40.379Z"
   },
   {
    "duration": 10,
    "start_time": "2022-03-31T21:06:40.505Z"
   },
   {
    "duration": 7,
    "start_time": "2022-03-31T21:06:40.518Z"
   },
   {
    "duration": 22,
    "start_time": "2022-03-31T21:06:40.527Z"
   },
   {
    "duration": 13,
    "start_time": "2022-03-31T21:06:40.556Z"
   },
   {
    "duration": 6,
    "start_time": "2022-03-31T21:06:40.571Z"
   },
   {
    "duration": 11,
    "start_time": "2022-03-31T21:06:40.579Z"
   },
   {
    "duration": 6,
    "start_time": "2022-03-31T21:07:03.170Z"
   },
   {
    "duration": 10,
    "start_time": "2022-03-31T21:12:55.640Z"
   },
   {
    "duration": 180,
    "start_time": "2022-03-31T21:13:20.513Z"
   },
   {
    "duration": 14,
    "start_time": "2022-03-31T21:13:48.085Z"
   },
   {
    "duration": 7,
    "start_time": "2022-03-31T21:13:53.156Z"
   },
   {
    "duration": 5,
    "start_time": "2022-03-31T21:13:54.519Z"
   },
   {
    "duration": 7,
    "start_time": "2022-03-31T21:13:55.423Z"
   },
   {
    "duration": 2831,
    "start_time": "2022-03-31T21:20:54.413Z"
   },
   {
    "duration": 2915,
    "start_time": "2022-03-31T21:21:12.957Z"
   },
   {
    "duration": 1443,
    "start_time": "2022-03-31T21:21:44.326Z"
   },
   {
    "duration": 7,
    "start_time": "2022-03-31T21:21:51.430Z"
   },
   {
    "duration": 7,
    "start_time": "2022-03-31T21:22:03.124Z"
   },
   {
    "duration": 7,
    "start_time": "2022-03-31T21:22:11.253Z"
   },
   {
    "duration": 927,
    "start_time": "2022-03-31T21:26:19.892Z"
   },
   {
    "duration": 6,
    "start_time": "2022-03-31T21:27:45.667Z"
   },
   {
    "duration": 4,
    "start_time": "2022-03-31T21:27:54.801Z"
   },
   {
    "duration": 1010,
    "start_time": "2022-03-31T21:27:59.001Z"
   },
   {
    "duration": 6,
    "start_time": "2022-03-31T21:28:06.973Z"
   },
   {
    "duration": 10,
    "start_time": "2022-03-31T21:28:27.276Z"
   },
   {
    "duration": 17,
    "start_time": "2022-03-31T21:52:08.387Z"
   },
   {
    "duration": 15,
    "start_time": "2022-03-31T21:52:18.204Z"
   },
   {
    "duration": 8,
    "start_time": "2022-03-31T21:52:24.940Z"
   },
   {
    "duration": 2244,
    "start_time": "2022-03-31T21:57:58.541Z"
   },
   {
    "duration": 1038,
    "start_time": "2022-03-31T21:58:00.788Z"
   },
   {
    "duration": 215,
    "start_time": "2022-03-31T21:58:01.828Z"
   },
   {
    "duration": 6,
    "start_time": "2022-03-31T21:58:02.046Z"
   },
   {
    "duration": 22,
    "start_time": "2022-03-31T21:58:02.054Z"
   },
   {
    "duration": 9,
    "start_time": "2022-03-31T21:58:02.079Z"
   },
   {
    "duration": 45,
    "start_time": "2022-03-31T21:58:02.090Z"
   },
   {
    "duration": 13213,
    "start_time": "2022-03-31T21:58:02.137Z"
   },
   {
    "duration": 324,
    "start_time": "2022-03-31T21:58:15.353Z"
   },
   {
    "duration": 4,
    "start_time": "2022-03-31T21:58:15.682Z"
   },
   {
    "duration": 802,
    "start_time": "2022-03-31T21:58:15.689Z"
   },
   {
    "duration": 761,
    "start_time": "2022-03-31T21:58:16.494Z"
   },
   {
    "duration": 706,
    "start_time": "2022-03-31T21:58:17.258Z"
   },
   {
    "duration": 603,
    "start_time": "2022-03-31T21:58:17.966Z"
   },
   {
    "duration": 13,
    "start_time": "2022-03-31T21:58:18.571Z"
   },
   {
    "duration": 260,
    "start_time": "2022-03-31T21:58:18.586Z"
   },
   {
    "duration": 10,
    "start_time": "2022-03-31T21:58:18.848Z"
   },
   {
    "duration": 1255,
    "start_time": "2022-03-31T21:58:18.860Z"
   },
   {
    "duration": 6,
    "start_time": "2022-03-31T21:58:20.117Z"
   },
   {
    "duration": 398,
    "start_time": "2022-03-31T21:58:20.125Z"
   },
   {
    "duration": 4,
    "start_time": "2022-03-31T21:58:20.526Z"
   },
   {
    "duration": 37,
    "start_time": "2022-03-31T21:58:20.542Z"
   },
   {
    "duration": 1216,
    "start_time": "2022-03-31T21:58:20.582Z"
   },
   {
    "duration": 10,
    "start_time": "2022-03-31T21:58:21.800Z"
   },
   {
    "duration": 437,
    "start_time": "2022-03-31T21:58:21.813Z"
   },
   {
    "duration": 132,
    "start_time": "2022-03-31T21:58:22.253Z"
   },
   {
    "duration": 431,
    "start_time": "2022-03-31T21:58:22.387Z"
   },
   {
    "duration": 6,
    "start_time": "2022-03-31T21:58:22.823Z"
   },
   {
    "duration": 13,
    "start_time": "2022-03-31T21:58:22.842Z"
   },
   {
    "duration": 13,
    "start_time": "2022-03-31T21:58:22.861Z"
   },
   {
    "duration": 14,
    "start_time": "2022-03-31T21:58:22.876Z"
   },
   {
    "duration": 9,
    "start_time": "2022-03-31T21:58:22.893Z"
   },
   {
    "duration": 40,
    "start_time": "2022-03-31T21:58:22.905Z"
   },
   {
    "duration": 17,
    "start_time": "2022-03-31T21:58:22.947Z"
   },
   {
    "duration": 500285,
    "start_time": "2022-03-31T21:58:22.967Z"
   },
   {
    "duration": 9,
    "start_time": "2022-03-31T22:06:43.254Z"
   },
   {
    "duration": 15,
    "start_time": "2022-03-31T22:06:43.264Z"
   },
   {
    "duration": 188657,
    "start_time": "2022-03-31T22:06:43.281Z"
   },
   {
    "duration": 8,
    "start_time": "2022-03-31T22:09:51.940Z"
   },
   {
    "duration": 6,
    "start_time": "2022-03-31T22:09:51.951Z"
   },
   {
    "duration": 9,
    "start_time": "2022-03-31T22:09:51.961Z"
   },
   {
    "duration": 133,
    "start_time": "2022-03-31T22:09:51.972Z"
   },
   {
    "duration": 10,
    "start_time": "2022-03-31T22:09:52.108Z"
   },
   {
    "duration": 2270,
    "start_time": "2022-03-31T22:10:26.224Z"
   },
   {
    "duration": 834,
    "start_time": "2022-03-31T22:10:28.497Z"
   },
   {
    "duration": 197,
    "start_time": "2022-03-31T22:10:29.333Z"
   },
   {
    "duration": 4,
    "start_time": "2022-03-31T22:10:29.543Z"
   },
   {
    "duration": 16,
    "start_time": "2022-03-31T22:10:29.549Z"
   },
   {
    "duration": 7,
    "start_time": "2022-03-31T22:10:29.567Z"
   },
   {
    "duration": 20,
    "start_time": "2022-03-31T22:10:29.577Z"
   },
   {
    "duration": 13990,
    "start_time": "2022-03-31T22:10:29.600Z"
   },
   {
    "duration": 386,
    "start_time": "2022-03-31T22:10:43.595Z"
   },
   {
    "duration": 4,
    "start_time": "2022-03-31T22:10:43.985Z"
   },
   {
    "duration": 817,
    "start_time": "2022-03-31T22:10:43.991Z"
   },
   {
    "duration": 733,
    "start_time": "2022-03-31T22:10:44.810Z"
   },
   {
    "duration": 677,
    "start_time": "2022-03-31T22:10:45.545Z"
   },
   {
    "duration": 708,
    "start_time": "2022-03-31T22:10:46.224Z"
   },
   {
    "duration": 16,
    "start_time": "2022-03-31T22:10:46.935Z"
   },
   {
    "duration": 340,
    "start_time": "2022-03-31T22:10:46.954Z"
   },
   {
    "duration": 8,
    "start_time": "2022-03-31T22:10:47.297Z"
   },
   {
    "duration": 1195,
    "start_time": "2022-03-31T22:10:47.307Z"
   },
   {
    "duration": 8,
    "start_time": "2022-03-31T22:10:48.504Z"
   },
   {
    "duration": 339,
    "start_time": "2022-03-31T22:10:48.514Z"
   },
   {
    "duration": 4,
    "start_time": "2022-03-31T22:10:48.855Z"
   },
   {
    "duration": 47,
    "start_time": "2022-03-31T22:10:48.864Z"
   },
   {
    "duration": 1195,
    "start_time": "2022-03-31T22:10:48.913Z"
   },
   {
    "duration": 12,
    "start_time": "2022-03-31T22:10:50.110Z"
   },
   {
    "duration": 399,
    "start_time": "2022-03-31T22:10:50.124Z"
   },
   {
    "duration": 136,
    "start_time": "2022-03-31T22:10:50.525Z"
   },
   {
    "duration": 389,
    "start_time": "2022-03-31T22:10:50.664Z"
   },
   {
    "duration": 6,
    "start_time": "2022-03-31T22:10:51.060Z"
   },
   {
    "duration": 13,
    "start_time": "2022-03-31T22:10:51.068Z"
   },
   {
    "duration": 8,
    "start_time": "2022-03-31T22:10:51.083Z"
   },
   {
    "duration": 18,
    "start_time": "2022-03-31T22:10:51.094Z"
   },
   {
    "duration": 9,
    "start_time": "2022-03-31T22:10:51.142Z"
   },
   {
    "duration": 9,
    "start_time": "2022-03-31T22:10:51.153Z"
   },
   {
    "duration": 6,
    "start_time": "2022-03-31T22:10:51.164Z"
   }
  ],
  "kernelspec": {
   "display_name": "Python 3 (ipykernel)",
   "language": "python",
   "name": "python3"
  },
  "language_info": {
   "codemirror_mode": {
    "name": "ipython",
    "version": 3
   },
   "file_extension": ".py",
   "mimetype": "text/x-python",
   "name": "python",
   "nbconvert_exporter": "python",
   "pygments_lexer": "ipython3",
   "version": "3.8.10"
  },
  "toc": {
   "base_numbering": 1,
   "nav_menu": {},
   "number_sections": true,
   "sideBar": true,
   "skip_h1_title": true,
   "title_cell": "Содержание",
   "title_sidebar": "Contents",
   "toc_cell": true,
   "toc_position": {},
   "toc_section_display": true,
   "toc_window_display": true
  }
 },
 "nbformat": 4,
 "nbformat_minor": 2
}
